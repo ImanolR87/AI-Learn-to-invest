{
 "cells": [
  {
   "cell_type": "markdown",
   "metadata": {
    "id": "83Xb7oH8HWwz"
   },
   "source": [
    "# 0.   Packages and Functions"
   ]
  },
  {
   "cell_type": "code",
   "execution_count": 1,
   "metadata": {
    "colab": {
     "base_uri": "https://localhost:8080/"
    },
    "executionInfo": {
     "elapsed": 2951,
     "status": "ok",
     "timestamp": 1609188894652,
     "user": {
      "displayName": "Daniel Dabdub",
      "photoUrl": "https://lh6.googleusercontent.com/-qKoV5H3Fw5M/AAAAAAAAAAI/AAAAAAAAZro/jARb9IjBWek/s64/photo.jpg",
      "userId": "06642504652143825936"
     },
     "user_tz": 360
    },
    "id": "0vFVdOUuHWw9",
    "outputId": "1bbddc3b-1bde-4bbe-f587-111640ff716b"
   },
   "outputs": [
    {
     "name": "stdout",
     "output_type": "stream",
     "text": [
      "Collecting pandas_datareader\n",
      "  Downloading pandas_datareader-0.9.0-py3-none-any.whl (107 kB)\n",
      "Requirement already satisfied: pandas>=0.23 in c:\\users\\danieldabdub\\anaconda3\\lib\\site-packages (from pandas_datareader) (1.0.5)\n",
      "Requirement already satisfied: lxml in c:\\users\\danieldabdub\\anaconda3\\lib\\site-packages (from pandas_datareader) (4.5.2)\n",
      "Requirement already satisfied: requests>=2.19.0 in c:\\users\\danieldabdub\\anaconda3\\lib\\site-packages (from pandas_datareader) (2.24.0)\n",
      "Requirement already satisfied: python-dateutil>=2.6.1 in c:\\users\\danieldabdub\\anaconda3\\lib\\site-packages (from pandas>=0.23->pandas_datareader) (2.8.1)\n",
      "Requirement already satisfied: numpy>=1.13.3 in c:\\users\\danieldabdub\\anaconda3\\lib\\site-packages (from pandas>=0.23->pandas_datareader) (1.18.5)\n",
      "Requirement already satisfied: pytz>=2017.2 in c:\\users\\danieldabdub\\anaconda3\\lib\\site-packages (from pandas>=0.23->pandas_datareader) (2020.1)\n",
      "Requirement already satisfied: idna<3,>=2.5 in c:\\users\\danieldabdub\\anaconda3\\lib\\site-packages (from requests>=2.19.0->pandas_datareader) (2.10)\n",
      "Requirement already satisfied: urllib3!=1.25.0,!=1.25.1,<1.26,>=1.21.1 in c:\\users\\danieldabdub\\anaconda3\\lib\\site-packages (from requests>=2.19.0->pandas_datareader) (1.25.9)\n",
      "Requirement already satisfied: chardet<4,>=3.0.2 in c:\\users\\danieldabdub\\anaconda3\\lib\\site-packages (from requests>=2.19.0->pandas_datareader) (3.0.4)\n",
      "Requirement already satisfied: certifi>=2017.4.17 in c:\\users\\danieldabdub\\anaconda3\\lib\\site-packages (from requests>=2.19.0->pandas_datareader) (2020.6.20)\n",
      "Requirement already satisfied: six>=1.5 in c:\\users\\danieldabdub\\anaconda3\\lib\\site-packages (from python-dateutil>=2.6.1->pandas>=0.23->pandas_datareader) (1.15.0)\n",
      "Installing collected packages: pandas-datareader\n",
      "Successfully installed pandas-datareader-0.9.0\n"
     ]
    }
   ],
   "source": [
    "!pip install pandas_datareader"
   ]
  },
  {
   "cell_type": "code",
   "execution_count": 2,
   "metadata": {
    "executionInfo": {
     "elapsed": 2941,
     "status": "ok",
     "timestamp": 1609188894655,
     "user": {
      "displayName": "Daniel Dabdub",
      "photoUrl": "https://lh6.googleusercontent.com/-qKoV5H3Fw5M/AAAAAAAAAAI/AAAAAAAAZro/jARb9IjBWek/s64/photo.jpg",
      "userId": "06642504652143825936"
     },
     "user_tz": 360
    },
    "id": "XBk9WVJUHWw_"
   },
   "outputs": [],
   "source": [
    "\n",
    "#general\n",
    "import pandas as pd\n",
    "import numpy as np\n",
    "\n",
    "#for dates and times\n",
    "import random\n",
    "import time\n",
    "import datetime\n",
    "from pandas.tseries.holiday import USFederalHolidayCalendar\n",
    "\n",
    "#prices\n",
    "import pandas_datareader as web\n"
   ]
  },
  {
   "cell_type": "code",
   "execution_count": 3,
   "metadata": {
    "executionInfo": {
     "elapsed": 2935,
     "status": "ok",
     "timestamp": 1609188894656,
     "user": {
      "displayName": "Daniel Dabdub",
      "photoUrl": "https://lh6.googleusercontent.com/-qKoV5H3Fw5M/AAAAAAAAAAI/AAAAAAAAZro/jARb9IjBWek/s64/photo.jpg",
      "userId": "06642504652143825936"
     },
     "user_tz": 360
    },
    "id": "Q_FfFBRPHWxA"
   },
   "outputs": [],
   "source": [
    "\n",
    "\n",
    "def str_time_prop(start, end, format, prop):\n",
    "    \"\"\"Get a time at a proportion of a range of two formatted times.\n",
    "\n",
    "    start and end should be strings specifying times formated in the\n",
    "    given format (strftime-style), giving an interval [start, end].\n",
    "    prop specifies how a proportion of the interval to be taken after\n",
    "    start.  The returned time will be in the specified format.\n",
    "    \"\"\"\n",
    "\n",
    "    stime = time.mktime(time.strptime(start, format))\n",
    "    etime = time.mktime(time.strptime(end, format))\n",
    "\n",
    "    ptime = stime + prop * (etime - stime)\n",
    "\n",
    "    return time.strftime(format, time.localtime(ptime))\n",
    "\n",
    "\n",
    "def random_date(start, end, prop):\n",
    "    return str_time_prop(start, end, '%Y-%m-%d', prop)"
   ]
  },
  {
   "cell_type": "code",
   "execution_count": 4,
   "metadata": {
    "executionInfo": {
     "elapsed": 2931,
     "status": "ok",
     "timestamp": 1609188894656,
     "user": {
      "displayName": "Daniel Dabdub",
      "photoUrl": "https://lh6.googleusercontent.com/-qKoV5H3Fw5M/AAAAAAAAAAI/AAAAAAAAZro/jARb9IjBWek/s64/photo.jpg",
      "userId": "06642504652143825936"
     },
     "user_tz": 360
    },
    "id": "LWzVUjCMuqtA"
   },
   "outputs": [],
   "source": [
    "def weekend2weekday (transactions, col_date, col_day):\n",
    "\n",
    "\n",
    "  dates2_BUY=list()\n",
    "  days2_BUY=list()\n",
    "\n",
    "  for index,row in transactions.iterrows():\n",
    "    buy_date = datetime.datetime.strptime(row[col_date], \"%Y-%m-%d\")\n",
    "    if row[col_day]=='Sat':\n",
    "      buy_date2 = buy_date - datetime.timedelta(1)\n",
    "      dates2_BUY.append(buy_date2)\n",
    "\n",
    "      buy_day2='Fri'\n",
    "      days2_BUY.append(buy_day2)\n",
    "    elif row[col_day]=='Sun':\n",
    "      buy_date = datetime.datetime.strptime(row[col_day], \"%Y-%m-%d\")\n",
    "      buy_date2 = buy_date + datetime.timedelta(1)\n",
    "      dates2_BUY.append(buy_date2)\n",
    "\n",
    "      buy_day2='Mon'\n",
    "      days2_BUY.append(buy_day2)\n",
    "    else:\n",
    "      buy_date2=row[col_date]\n",
    "      dates2_BUY.append(buy_date2)\n",
    "      buy_day2=row[col_day]\n",
    "      days2_BUY.append(buy_day2)\n",
    "\n",
    "    transactions['date_BUY_fix']=dates2_BUY\n",
    "    transactions['day_BUY_fix']=days2_BUY\n",
    "\n",
    "\n",
    "  return transactions"
   ]
  },
  {
   "cell_type": "markdown",
   "metadata": {
    "id": "Pvb9migKHWxB"
   },
   "source": [
    "# 1. Setting investment parameters"
   ]
  },
  {
   "cell_type": "markdown",
   "metadata": {
    "id": "eUVjdqFBHWxC"
   },
   "source": [
    "## Temporal horizons\n",
    " In number of days\n",
    " - 1 day to 2 years"
   ]
  },
  {
   "cell_type": "code",
   "execution_count": 5,
   "metadata": {
    "executionInfo": {
     "elapsed": 2926,
     "status": "ok",
     "timestamp": 1609188894657,
     "user": {
      "displayName": "Daniel Dabdub",
      "photoUrl": "https://lh6.googleusercontent.com/-qKoV5H3Fw5M/AAAAAAAAAAI/AAAAAAAAZro/jARb9IjBWek/s64/photo.jpg",
      "userId": "06642504652143825936"
     },
     "user_tz": 360
    },
    "id": "tq4RiMLqHWxF"
   },
   "outputs": [],
   "source": [
    "horizons=[1,2,3,4,5,6,7,10,15,20,30,40,50,60,70,80,90,100,120,150,180,210,240,270,300,330,360,420,480,540,600,660,720]\n"
   ]
  },
  {
   "cell_type": "markdown",
   "metadata": {
    "id": "u14ARLWFHWxG"
   },
   "source": [
    "## Amounts in dollars\n",
    " - 50 to 50,000 dollars"
   ]
  },
  {
   "cell_type": "code",
   "execution_count": 6,
   "metadata": {
    "executionInfo": {
     "elapsed": 2920,
     "status": "ok",
     "timestamp": 1609188894657,
     "user": {
      "displayName": "Daniel Dabdub",
      "photoUrl": "https://lh6.googleusercontent.com/-qKoV5H3Fw5M/AAAAAAAAAAI/AAAAAAAAZro/jARb9IjBWek/s64/photo.jpg",
      "userId": "06642504652143825936"
     },
     "user_tz": 360
    },
    "id": "JO64rZAfHWxI"
   },
   "outputs": [],
   "source": [
    "amounts=[50,100,200,300,400,500,1000,1500,2000,3000,4000,5000,10000,15000,20000,25000,50000]"
   ]
  },
  {
   "cell_type": "markdown",
   "metadata": {
    "id": "PRO9Gv5XHWxJ"
   },
   "source": [
    "# 2. Data extraction"
   ]
  },
  {
   "cell_type": "markdown",
   "metadata": {
    "id": "OizEc3VRHWxK"
   },
   "source": [
    "## Companies' stock prices"
   ]
  },
  {
   "cell_type": "code",
   "execution_count": 7,
   "metadata": {
    "executionInfo": {
     "elapsed": 2915,
     "status": "ok",
     "timestamp": 1609188894658,
     "user": {
      "displayName": "Daniel Dabdub",
      "photoUrl": "https://lh6.googleusercontent.com/-qKoV5H3Fw5M/AAAAAAAAAAI/AAAAAAAAZro/jARb9IjBWek/s64/photo.jpg",
      "userId": "06642504652143825936"
     },
     "user_tz": 360
    },
    "id": "BKv-SEm-HWxN"
   },
   "outputs": [],
   "source": [
    "#Selecting a list of companies we are interested in analyzing:\n",
    "companies = ['AAPL',\n",
    "            'AMZN',\n",
    "            'MSFT',\n",
    "            'GOOG',\n",
    "            'FB',\n",
    "            'VISA',\n",
    "            'NVDA',\n",
    "            'PG',\n",
    "            'TSLA']"
   ]
  },
  {
   "cell_type": "markdown",
   "metadata": {
    "id": "avte3T6hHWxO"
   },
   "source": [
    "We are going to extract info from 10 years from the companies selected"
   ]
  },
  {
   "cell_type": "code",
   "execution_count": 8,
   "metadata": {
    "colab": {
     "base_uri": "https://localhost:8080/"
    },
    "executionInfo": {
     "elapsed": 7984,
     "status": "ok",
     "timestamp": 1609188899736,
     "user": {
      "displayName": "Daniel Dabdub",
      "photoUrl": "https://lh6.googleusercontent.com/-qKoV5H3Fw5M/AAAAAAAAAAI/AAAAAAAAZro/jARb9IjBWek/s64/photo.jpg",
      "userId": "06642504652143825936"
     },
     "user_tz": 360
    },
    "id": "QjIPhDKXHWxO",
    "outputId": "6976a38b-befa-4db3-b589-6df7a493c043"
   },
   "outputs": [
    {
     "name": "stdout",
     "output_type": "stream",
     "text": [
      "AAPL\n",
      "AMZN\n",
      "MSFT\n",
      "GOOG\n",
      "FB\n",
      "There were  errors when extracting data of   VISA\n",
      "NVDA\n",
      "PG\n",
      "TSLA\n"
     ]
    }
   ],
   "source": [
    "#Collecting the data of each company in a list\n",
    "l_companies_prices=list()\n",
    "error_companies=list()\n",
    "\n",
    "for company in companies:\n",
    "    try:\n",
    "        prices= web.DataReader(company, data_source='yahoo', start='2010-10-10', end='2020-10-10')\n",
    "        l_companies_prices.append(prices)\n",
    "        print(company)\n",
    "    \n",
    "    except :\n",
    "        print('There were  errors when extracting data of  ', company)\n",
    "        #elimino de la lista esa empresa que no se consiguieron datos.\n",
    "        error_companies.append(company)\n",
    "\n",
    "for c in error_companies:\n",
    "  companies.remove(c)\n",
    "    "
   ]
  },
  {
   "cell_type": "code",
   "execution_count": 9,
   "metadata": {
    "colab": {
     "base_uri": "https://localhost:8080/"
    },
    "executionInfo": {
     "elapsed": 7978,
     "status": "ok",
     "timestamp": 1609188899739,
     "user": {
      "displayName": "Daniel Dabdub",
      "photoUrl": "https://lh6.googleusercontent.com/-qKoV5H3Fw5M/AAAAAAAAAAI/AAAAAAAAZro/jARb9IjBWek/s64/photo.jpg",
      "userId": "06642504652143825936"
     },
     "user_tz": 360
    },
    "id": "xFMTSlZWHWxP",
    "outputId": "269f9899-0726-48c4-d4c7-bfdd9aeed622"
   },
   "outputs": [
    {
     "data": {
      "text/plain": [
       "['AAPL', 'AMZN', 'MSFT', 'GOOG', 'FB', 'NVDA', 'PG', 'TSLA']"
      ]
     },
     "execution_count": 9,
     "metadata": {},
     "output_type": "execute_result"
    }
   ],
   "source": [
    "companies"
   ]
  },
  {
   "cell_type": "code",
   "execution_count": 10,
   "metadata": {
    "colab": {
     "base_uri": "https://localhost:8080/"
    },
    "executionInfo": {
     "elapsed": 7967,
     "status": "ok",
     "timestamp": 1609188899740,
     "user": {
      "displayName": "Daniel Dabdub",
      "photoUrl": "https://lh6.googleusercontent.com/-qKoV5H3Fw5M/AAAAAAAAAAI/AAAAAAAAZro/jARb9IjBWek/s64/photo.jpg",
      "userId": "06642504652143825936"
     },
     "user_tz": 360
    },
    "id": "iUYZrKXLmbF5",
    "outputId": "ae0e562e-ede0-4b88-9cde-8b44ec3036dc"
   },
   "outputs": [
    {
     "data": {
      "text/plain": [
       "8"
      ]
     },
     "execution_count": 10,
     "metadata": {},
     "output_type": "execute_result"
    }
   ],
   "source": [
    "len(l_companies_prices)"
   ]
  },
  {
   "cell_type": "code",
   "execution_count": 11,
   "metadata": {
    "colab": {
     "base_uri": "https://localhost:8080/"
    },
    "executionInfo": {
     "elapsed": 7958,
     "status": "ok",
     "timestamp": 1609188899741,
     "user": {
      "displayName": "Daniel Dabdub",
      "photoUrl": "https://lh6.googleusercontent.com/-qKoV5H3Fw5M/AAAAAAAAAAI/AAAAAAAAZro/jARb9IjBWek/s64/photo.jpg",
      "userId": "06642504652143825936"
     },
     "user_tz": 360
    },
    "id": "sbDmjtWSmpmX",
    "outputId": "1de4229f-0e8d-4b5b-ba9d-a8f0ccd77586"
   },
   "outputs": [
    {
     "data": {
      "text/plain": [
       "8"
      ]
     },
     "execution_count": 11,
     "metadata": {},
     "output_type": "execute_result"
    }
   ],
   "source": [
    "len(companies)"
   ]
  },
  {
   "cell_type": "code",
   "execution_count": 12,
   "metadata": {
    "colab": {
     "base_uri": "https://localhost:8080/"
    },
    "executionInfo": {
     "elapsed": 7945,
     "status": "ok",
     "timestamp": 1609188899741,
     "user": {
      "displayName": "Daniel Dabdub",
      "photoUrl": "https://lh6.googleusercontent.com/-qKoV5H3Fw5M/AAAAAAAAAAI/AAAAAAAAZro/jARb9IjBWek/s64/photo.jpg",
      "userId": "06642504652143825936"
     },
     "user_tz": 360
    },
    "id": "53lX5l0UHWxR",
    "outputId": "79d68dc5-603e-4741-a4bb-bd617fe8256f"
   },
   "outputs": [
    {
     "name": "stdout",
     "output_type": "stream",
     "text": [
      "AAPL\n"
     ]
    },
    {
     "data": {
      "text/plain": [
       "Index(['High', 'Low', 'Open', 'Close', 'Volume', 'Adj Close'], dtype='object')"
      ]
     },
     "execution_count": 12,
     "metadata": {},
     "output_type": "execute_result"
    }
   ],
   "source": [
    "print(companies[0])\n",
    "l_companies_prices[0].columns"
   ]
  },
  {
   "cell_type": "code",
   "execution_count": 13,
   "metadata": {
    "colab": {
     "base_uri": "https://localhost:8080/"
    },
    "executionInfo": {
     "elapsed": 7935,
     "status": "ok",
     "timestamp": 1609188899742,
     "user": {
      "displayName": "Daniel Dabdub",
      "photoUrl": "https://lh6.googleusercontent.com/-qKoV5H3Fw5M/AAAAAAAAAAI/AAAAAAAAZro/jARb9IjBWek/s64/photo.jpg",
      "userId": "06642504652143825936"
     },
     "user_tz": 360
    },
    "id": "oaXmsayOOdmD",
    "outputId": "819b4b7b-52ba-4d3d-f602-d46b112d751f"
   },
   "outputs": [
    {
     "data": {
      "text/plain": [
       "10.548571586608887"
      ]
     },
     "execution_count": 13,
     "metadata": {},
     "output_type": "execute_result"
    }
   ],
   "source": [
    "company_pos=companies.index(\"AAPL\")\n",
    "l_companies_prices[company_pos].loc['2010-10-11','Close']"
   ]
  },
  {
   "cell_type": "code",
   "execution_count": 14,
   "metadata": {
    "executionInfo": {
     "elapsed": 7925,
     "status": "ok",
     "timestamp": 1609188899742,
     "user": {
      "displayName": "Daniel Dabdub",
      "photoUrl": "https://lh6.googleusercontent.com/-qKoV5H3Fw5M/AAAAAAAAAAI/AAAAAAAAZro/jARb9IjBWek/s64/photo.jpg",
      "userId": "06642504652143825936"
     },
     "user_tz": 360
    },
    "id": "iGKoZRi7cQxV"
   },
   "outputs": [],
   "source": [
    "l_companies_prices[7].to_csv('PG_prices.csv')"
   ]
  },
  {
   "cell_type": "code",
   "execution_count": 15,
   "metadata": {
    "colab": {
     "base_uri": "https://localhost:8080/",
     "height": 436
    },
    "executionInfo": {
     "elapsed": 496,
     "status": "ok",
     "timestamp": 1609189323938,
     "user": {
      "displayName": "Daniel Dabdub",
      "photoUrl": "https://lh6.googleusercontent.com/-qKoV5H3Fw5M/AAAAAAAAAAI/AAAAAAAAZro/jARb9IjBWek/s64/photo.jpg",
      "userId": "06642504652143825936"
     },
     "user_tz": 360
    },
    "id": "lsHnv0HrKFsH",
    "outputId": "9891dc7f-91a3-4e4b-b4b9-e67aececbc01"
   },
   "outputs": [
    {
     "data": {
      "text/html": [
       "<div>\n",
       "<style scoped>\n",
       "    .dataframe tbody tr th:only-of-type {\n",
       "        vertical-align: middle;\n",
       "    }\n",
       "\n",
       "    .dataframe tbody tr th {\n",
       "        vertical-align: top;\n",
       "    }\n",
       "\n",
       "    .dataframe thead th {\n",
       "        text-align: right;\n",
       "    }\n",
       "</style>\n",
       "<table border=\"1\" class=\"dataframe\">\n",
       "  <thead>\n",
       "    <tr style=\"text-align: right;\">\n",
       "      <th></th>\n",
       "      <th>High</th>\n",
       "      <th>Low</th>\n",
       "      <th>Open</th>\n",
       "      <th>Close</th>\n",
       "      <th>Volume</th>\n",
       "      <th>Adj Close</th>\n",
       "    </tr>\n",
       "    <tr>\n",
       "      <th>Date</th>\n",
       "      <th></th>\n",
       "      <th></th>\n",
       "      <th></th>\n",
       "      <th></th>\n",
       "      <th></th>\n",
       "      <th></th>\n",
       "    </tr>\n",
       "  </thead>\n",
       "  <tbody>\n",
       "    <tr>\n",
       "      <th>2010-10-11</th>\n",
       "      <td>4.140000</td>\n",
       "      <td>4.014000</td>\n",
       "      <td>4.088000</td>\n",
       "      <td>4.048000</td>\n",
       "      <td>856000.0</td>\n",
       "      <td>4.048000</td>\n",
       "    </tr>\n",
       "    <tr>\n",
       "      <th>2010-10-12</th>\n",
       "      <td>4.056000</td>\n",
       "      <td>4.006000</td>\n",
       "      <td>4.040000</td>\n",
       "      <td>4.048000</td>\n",
       "      <td>1220000.0</td>\n",
       "      <td>4.048000</td>\n",
       "    </tr>\n",
       "    <tr>\n",
       "      <th>2010-10-13</th>\n",
       "      <td>4.170000</td>\n",
       "      <td>4.072000</td>\n",
       "      <td>4.128000</td>\n",
       "      <td>4.108000</td>\n",
       "      <td>1591000.0</td>\n",
       "      <td>4.108000</td>\n",
       "    </tr>\n",
       "    <tr>\n",
       "      <th>2010-10-14</th>\n",
       "      <td>4.206000</td>\n",
       "      <td>4.080000</td>\n",
       "      <td>4.200000</td>\n",
       "      <td>4.150000</td>\n",
       "      <td>1474000.0</td>\n",
       "      <td>4.150000</td>\n",
       "    </tr>\n",
       "    <tr>\n",
       "      <th>2010-10-15</th>\n",
       "      <td>4.180000</td>\n",
       "      <td>4.050000</td>\n",
       "      <td>4.178000</td>\n",
       "      <td>4.108000</td>\n",
       "      <td>1423500.0</td>\n",
       "      <td>4.108000</td>\n",
       "    </tr>\n",
       "    <tr>\n",
       "      <th>...</th>\n",
       "      <td>...</td>\n",
       "      <td>...</td>\n",
       "      <td>...</td>\n",
       "      <td>...</td>\n",
       "      <td>...</td>\n",
       "      <td>...</td>\n",
       "    </tr>\n",
       "    <tr>\n",
       "      <th>2020-10-05</th>\n",
       "      <td>433.640015</td>\n",
       "      <td>419.329987</td>\n",
       "      <td>423.350006</td>\n",
       "      <td>425.679993</td>\n",
       "      <td>44722800.0</td>\n",
       "      <td>425.679993</td>\n",
       "    </tr>\n",
       "    <tr>\n",
       "      <th>2020-10-06</th>\n",
       "      <td>428.779999</td>\n",
       "      <td>406.049988</td>\n",
       "      <td>423.790009</td>\n",
       "      <td>413.980011</td>\n",
       "      <td>49146300.0</td>\n",
       "      <td>413.980011</td>\n",
       "    </tr>\n",
       "    <tr>\n",
       "      <th>2020-10-07</th>\n",
       "      <td>429.899994</td>\n",
       "      <td>413.850006</td>\n",
       "      <td>419.869995</td>\n",
       "      <td>425.299988</td>\n",
       "      <td>43127700.0</td>\n",
       "      <td>425.299988</td>\n",
       "    </tr>\n",
       "    <tr>\n",
       "      <th>2020-10-08</th>\n",
       "      <td>439.000000</td>\n",
       "      <td>425.299988</td>\n",
       "      <td>438.440002</td>\n",
       "      <td>425.920013</td>\n",
       "      <td>40421100.0</td>\n",
       "      <td>425.920013</td>\n",
       "    </tr>\n",
       "    <tr>\n",
       "      <th>2020-10-09</th>\n",
       "      <td>434.589996</td>\n",
       "      <td>426.459991</td>\n",
       "      <td>430.130005</td>\n",
       "      <td>434.000000</td>\n",
       "      <td>28925700.0</td>\n",
       "      <td>434.000000</td>\n",
       "    </tr>\n",
       "  </tbody>\n",
       "</table>\n",
       "<p>2518 rows × 6 columns</p>\n",
       "</div>"
      ],
      "text/plain": [
       "                  High         Low        Open       Close      Volume  \\\n",
       "Date                                                                     \n",
       "2010-10-11    4.140000    4.014000    4.088000    4.048000    856000.0   \n",
       "2010-10-12    4.056000    4.006000    4.040000    4.048000   1220000.0   \n",
       "2010-10-13    4.170000    4.072000    4.128000    4.108000   1591000.0   \n",
       "2010-10-14    4.206000    4.080000    4.200000    4.150000   1474000.0   \n",
       "2010-10-15    4.180000    4.050000    4.178000    4.108000   1423500.0   \n",
       "...                ...         ...         ...         ...         ...   \n",
       "2020-10-05  433.640015  419.329987  423.350006  425.679993  44722800.0   \n",
       "2020-10-06  428.779999  406.049988  423.790009  413.980011  49146300.0   \n",
       "2020-10-07  429.899994  413.850006  419.869995  425.299988  43127700.0   \n",
       "2020-10-08  439.000000  425.299988  438.440002  425.920013  40421100.0   \n",
       "2020-10-09  434.589996  426.459991  430.130005  434.000000  28925700.0   \n",
       "\n",
       "             Adj Close  \n",
       "Date                    \n",
       "2010-10-11    4.048000  \n",
       "2010-10-12    4.048000  \n",
       "2010-10-13    4.108000  \n",
       "2010-10-14    4.150000  \n",
       "2010-10-15    4.108000  \n",
       "...                ...  \n",
       "2020-10-05  425.679993  \n",
       "2020-10-06  413.980011  \n",
       "2020-10-07  425.299988  \n",
       "2020-10-08  425.920013  \n",
       "2020-10-09  434.000000  \n",
       "\n",
       "[2518 rows x 6 columns]"
      ]
     },
     "execution_count": 15,
     "metadata": {},
     "output_type": "execute_result"
    }
   ],
   "source": [
    "l_companies_prices[7]"
   ]
  },
  {
   "cell_type": "markdown",
   "metadata": {
    "id": "QXM6dTYrHWxS"
   },
   "source": [
    "# 3. Random transactions"
   ]
  },
  {
   "cell_type": "code",
   "execution_count": 16,
   "metadata": {
    "executionInfo": {
     "elapsed": 7921,
     "status": "ok",
     "timestamp": 1609188899743,
     "user": {
      "displayName": "Daniel Dabdub",
      "photoUrl": "https://lh6.googleusercontent.com/-qKoV5H3Fw5M/AAAAAAAAAAI/AAAAAAAAZro/jARb9IjBWek/s64/photo.jpg",
      "userId": "06642504652143825936"
     },
     "user_tz": 360
    },
    "id": "FbTbstE2HWxS"
   },
   "outputs": [],
   "source": [
    "transactions=pd.DataFrame()\n",
    "#we do 40,000 initial transactions\n",
    "\n",
    "#id\n",
    "transactions['id']=range(1,40001)"
   ]
  },
  {
   "cell_type": "markdown",
   "metadata": {
    "id": "CGxBin49ynt1"
   },
   "source": [
    "## Companies"
   ]
  },
  {
   "cell_type": "code",
   "execution_count": 17,
   "metadata": {
    "executionInfo": {
     "elapsed": 7916,
     "status": "ok",
     "timestamp": 1609188899743,
     "user": {
      "displayName": "Daniel Dabdub",
      "photoUrl": "https://lh6.googleusercontent.com/-qKoV5H3Fw5M/AAAAAAAAAAI/AAAAAAAAZro/jARb9IjBWek/s64/photo.jpg",
      "userId": "06642504652143825936"
     },
     "user_tz": 360
    },
    "id": "gO_r1eihN4N3"
   },
   "outputs": [],
   "source": [
    "#random company\n",
    "transactions[\"company\"]=np.random.choice(companies, size=len(transactions))"
   ]
  },
  {
   "cell_type": "markdown",
   "metadata": {
    "id": "f6D5TbzNyrCA"
   },
   "source": [
    "## Horizons"
   ]
  },
  {
   "cell_type": "code",
   "execution_count": 18,
   "metadata": {
    "executionInfo": {
     "elapsed": 7910,
     "status": "ok",
     "timestamp": 1609188899744,
     "user": {
      "displayName": "Daniel Dabdub",
      "photoUrl": "https://lh6.googleusercontent.com/-qKoV5H3Fw5M/AAAAAAAAAAI/AAAAAAAAZro/jARb9IjBWek/s64/photo.jpg",
      "userId": "06642504652143825936"
     },
     "user_tz": 360
    },
    "id": "3DbTtrTOHWxS"
   },
   "outputs": [],
   "source": [
    "#random horizon\n",
    "transactions[\"horizon\"] = np.random.choice(horizons, size=len(transactions))\n"
   ]
  },
  {
   "cell_type": "markdown",
   "metadata": {
    "id": "7CXrQ57wys5U"
   },
   "source": [
    "## Investment Amounts"
   ]
  },
  {
   "cell_type": "code",
   "execution_count": 19,
   "metadata": {
    "executionInfo": {
     "elapsed": 7905,
     "status": "ok",
     "timestamp": 1609188899744,
     "user": {
      "displayName": "Daniel Dabdub",
      "photoUrl": "https://lh6.googleusercontent.com/-qKoV5H3Fw5M/AAAAAAAAAAI/AAAAAAAAZro/jARb9IjBWek/s64/photo.jpg",
      "userId": "06642504652143825936"
     },
     "user_tz": 360
    },
    "id": "MqIDjNcSHWxT"
   },
   "outputs": [],
   "source": [
    "#random investment amount\n",
    "transactions[\"amount\"] = np.random.choice(amounts, size=len(transactions))\n"
   ]
  },
  {
   "cell_type": "markdown",
   "metadata": {
    "id": "yDG5pNzSywY2"
   },
   "source": [
    "## Dates - BUY"
   ]
  },
  {
   "cell_type": "code",
   "execution_count": 20,
   "metadata": {
    "colab": {
     "base_uri": "https://localhost:8080/"
    },
    "executionInfo": {
     "elapsed": 9142,
     "status": "ok",
     "timestamp": 1609188900988,
     "user": {
      "displayName": "Daniel Dabdub",
      "photoUrl": "https://lh6.googleusercontent.com/-qKoV5H3Fw5M/AAAAAAAAAAI/AAAAAAAAZro/jARb9IjBWek/s64/photo.jpg",
      "userId": "06642504652143825936"
     },
     "user_tz": 360
    },
    "id": "BeY0oDYhHWxU",
    "outputId": "a7ef2eee-0ddd-402a-a699-65a7bc91ae16"
   },
   "outputs": [
    {
     "name": "stdout",
     "output_type": "stream",
     "text": [
      "40000\n"
     ]
    }
   ],
   "source": [
    "#random buy date\n",
    "start='2013-10-10'\n",
    "end='2018-10-10'\n",
    "\n",
    "dates_buy=list()\n",
    "\n",
    "for i in range(0, transactions.shape[0]):\n",
    "    r_date=random_date(start,end,random.random())\n",
    "    dates_buy.append(r_date)\n",
    "\n",
    "\n",
    "print(len(dates_buy))\n",
    "transactions['date_BUY']=dates_buy"
   ]
  },
  {
   "cell_type": "markdown",
   "metadata": {
    "id": "MF9tblAlsNBo"
   },
   "source": [
    "### Fixing dates (BUY)"
   ]
  },
  {
   "cell_type": "code",
   "execution_count": 21,
   "metadata": {
    "executionInfo": {
     "elapsed": 9631,
     "status": "ok",
     "timestamp": 1609188901489,
     "user": {
      "displayName": "Daniel Dabdub",
      "photoUrl": "https://lh6.googleusercontent.com/-qKoV5H3Fw5M/AAAAAAAAAAI/AAAAAAAAZro/jARb9IjBWek/s64/photo.jpg",
      "userId": "06642504652143825936"
     },
     "user_tz": 360
    },
    "id": "MOlu1a8keq2i"
   },
   "outputs": [],
   "source": [
    "day_names=list()\n",
    "\n",
    "for d in dates_buy:\n",
    "\n",
    "  dt = datetime.datetime.strptime(d, '%Y-%m-%d')\n",
    "  weekno=dt.weekday()\n",
    "\n",
    "  if weekno == 0:\n",
    "    dia='Mon'\n",
    "    day_names.append(dia)\n",
    "  elif weekno==1:\n",
    "    dia='Tue'\n",
    "    day_names.append(dia)\n",
    "  elif weekno==2:\n",
    "    dia='Wed'\n",
    "    day_names.append(dia)\n",
    "  elif weekno==3:\n",
    "    dia='Thu'\n",
    "    day_names.append(dia)\n",
    "  elif weekno==4:\n",
    "    dia='Fri'\n",
    "    day_names.append(dia)\n",
    "  elif weekno==5:\n",
    "    dia='Sat'\n",
    "    day_names.append(dia)\n",
    "  elif weekno==6:\n",
    "    dia='Sun'\n",
    "    day_names.append(dia)\n",
    "\n",
    "transactions['day_BUY']=day_names\n"
   ]
  },
  {
   "cell_type": "code",
   "execution_count": 22,
   "metadata": {
    "executionInfo": {
     "elapsed": 14271,
     "status": "ok",
     "timestamp": 1609188906134,
     "user": {
      "displayName": "Daniel Dabdub",
      "photoUrl": "https://lh6.googleusercontent.com/-qKoV5H3Fw5M/AAAAAAAAAAI/AAAAAAAAZro/jARb9IjBWek/s64/photo.jpg",
      "userId": "06642504652143825936"
     },
     "user_tz": 360
    },
    "id": "AHJh4vQagUyg"
   },
   "outputs": [],
   "source": [
    "dates2_BUY=list()\n",
    "days2_BUY=list()\n",
    "\n",
    "#if date is saturday, we are going to push it to friday\n",
    "#if date is sunday, we are going to push it to monday\n",
    "\n",
    "for index,row in transactions.iterrows():\n",
    "  buy_date = datetime.datetime.strptime(row['date_BUY'], \"%Y-%m-%d\")\n",
    "  if row['day_BUY']=='Sat':\n",
    "    buy_date2 = buy_date - datetime.timedelta(1)\n",
    "    dates2_BUY.append(buy_date2)\n",
    "\n",
    "    buy_day2='Fri'\n",
    "    days2_BUY.append(buy_day2)\n",
    "  elif row['day_BUY']=='Sun':\n",
    "    buy_date = datetime.datetime.strptime(row['date_BUY'], \"%Y-%m-%d\")\n",
    "    buy_date2 = buy_date + datetime.timedelta(1)\n",
    "    dates2_BUY.append(buy_date2)\n",
    "\n",
    "    buy_day2='Mon'\n",
    "    days2_BUY.append(buy_day2)\n",
    "  else:\n",
    "    buy_date2=buy_date\n",
    "    dates2_BUY.append(buy_date2)\n",
    "    buy_day2=row['day_BUY']\n",
    "    days2_BUY.append(buy_day2)\n",
    "\n",
    "\n",
    "transactions['date_BUY_fix']=dates2_BUY\n",
    "transactions['day_BUY_fix']=days2_BUY\n",
    "\n",
    "# transactions=weekend2weekday(transactions,'date_BUY','day_BUY' )"
   ]
  },
  {
   "cell_type": "code",
   "execution_count": 23,
   "metadata": {
    "executionInfo": {
     "elapsed": 14467,
     "status": "ok",
     "timestamp": 1609188906337,
     "user": {
      "displayName": "Daniel Dabdub",
      "photoUrl": "https://lh6.googleusercontent.com/-qKoV5H3Fw5M/AAAAAAAAAAI/AAAAAAAAZro/jARb9IjBWek/s64/photo.jpg",
      "userId": "06642504652143825936"
     },
     "user_tz": 360
    },
    "id": "qHx_n2n2kHjz"
   },
   "outputs": [],
   "source": [
    "#checking for holidays (NYSE is closed)\n",
    "\n",
    "cal = USFederalHolidayCalendar()\n",
    "holidays = cal.holidays(start='2010-10-10', end='2020-10-10').to_pydatetime()\n",
    "# if datetime.datetime(2014,01,01) in holidays:\n",
    "#     print True \n",
    "\n",
    "l_holidays=list()\n",
    "for d in dates2_BUY:\n",
    "  if d in holidays:\n",
    "    holiday='Holiday'\n",
    "    l_holidays.append(holiday)\n",
    "\n",
    "  else:\n",
    "    holiday=''\n",
    "    l_holidays.append(holiday)\n",
    "\n",
    "transactions['holiday_BUY']=l_holidays"
   ]
  },
  {
   "cell_type": "code",
   "execution_count": 24,
   "metadata": {
    "executionInfo": {
     "elapsed": 14463,
     "status": "ok",
     "timestamp": 1609188906338,
     "user": {
      "displayName": "Daniel Dabdub",
      "photoUrl": "https://lh6.googleusercontent.com/-qKoV5H3Fw5M/AAAAAAAAAAI/AAAAAAAAZro/jARb9IjBWek/s64/photo.jpg",
      "userId": "06642504652143825936"
     },
     "user_tz": 360
    },
    "id": "haV7AfcMitbi"
   },
   "outputs": [],
   "source": [
    "transactions_h=transactions[transactions.holiday_BUY=='Holiday']\n",
    "\n",
    "transactions=transactions[transactions.holiday_BUY!='Holiday']"
   ]
  },
  {
   "cell_type": "markdown",
   "metadata": {
    "id": "9EVjuyTwybFN"
   },
   "source": [
    "## Prices - BUY"
   ]
  },
  {
   "cell_type": "code",
   "execution_count": 25,
   "metadata": {
    "executionInfo": {
     "elapsed": 18975,
     "status": "ok",
     "timestamp": 1609188910857,
     "user": {
      "displayName": "Daniel Dabdub",
      "photoUrl": "https://lh6.googleusercontent.com/-qKoV5H3Fw5M/AAAAAAAAAAI/AAAAAAAAZro/jARb9IjBWek/s64/photo.jpg",
      "userId": "06642504652143825936"
     },
     "user_tz": 360
    },
    "id": "kyz9eVdWOHiz"
   },
   "outputs": [],
   "source": [
    "#price when bought\n",
    "\n",
    "l_buy_prices=list()\n",
    "for index,row in transactions.iterrows():\n",
    "  comp=row['company']\n",
    "  buy_date=row['date_BUY_fix']\n",
    "  company_pos=companies.index(comp)\n",
    "  try:\n",
    "    price=l_companies_prices[company_pos].loc[buy_date,'Adj Close']\n",
    "  except :\n",
    "    price=0\n",
    "\n",
    "  l_buy_prices.append(price)\n",
    "\n",
    "transactions['price_BUY']=l_buy_prices\n"
   ]
  },
  {
   "cell_type": "markdown",
   "metadata": {
    "id": "SN8AKEpjzWON"
   },
   "source": [
    "## Dates - SELL"
   ]
  },
  {
   "cell_type": "code",
   "execution_count": 26,
   "metadata": {
    "executionInfo": {
     "elapsed": 22996,
     "status": "ok",
     "timestamp": 1609188914886,
     "user": {
      "displayName": "Daniel Dabdub",
      "photoUrl": "https://lh6.googleusercontent.com/-qKoV5H3Fw5M/AAAAAAAAAAI/AAAAAAAAZro/jARb9IjBWek/s64/photo.jpg",
      "userId": "06642504652143825936"
     },
     "user_tz": 360
    },
    "id": "q7tjX_-KHWxc"
   },
   "outputs": [],
   "source": [
    "#random sell date\n",
    "dates_SELL=list()\n",
    "\n",
    "for index,row in transactions.iterrows():\n",
    "\n",
    "  buy_date = row['date_BUY_fix']\n",
    "  sell_date = buy_date + datetime.timedelta(row['horizon'])\n",
    "  \n",
    "  dates_SELL.append(sell_date)\n",
    "\n",
    "transactions['date_SELL']=dates_SELL"
   ]
  },
  {
   "cell_type": "markdown",
   "metadata": {
    "id": "tBEde7euzZOO"
   },
   "source": [
    "### Fixing dates (SELL)"
   ]
  },
  {
   "cell_type": "code",
   "execution_count": 27,
   "metadata": {
    "executionInfo": {
     "elapsed": 22991,
     "status": "ok",
     "timestamp": 1609188914889,
     "user": {
      "displayName": "Daniel Dabdub",
      "photoUrl": "https://lh6.googleusercontent.com/-qKoV5H3Fw5M/AAAAAAAAAAI/AAAAAAAAZro/jARb9IjBWek/s64/photo.jpg",
      "userId": "06642504652143825936"
     },
     "user_tz": 360
    },
    "id": "8xQv21va0AGb"
   },
   "outputs": [],
   "source": [
    "day_names=list()\n",
    "\n",
    "\n",
    "\n",
    "for d in dates_SELL:\n",
    "\n",
    "  # dt = datetime.datetime.strptime(d, '%Y-%m-%d')\n",
    "  weekno=d.weekday()\n",
    "\n",
    "  if weekno == 0:\n",
    "    dia='Mon'\n",
    "    day_names.append(dia)\n",
    "  elif weekno==1:\n",
    "    dia='Tue'\n",
    "    day_names.append(dia)\n",
    "  elif weekno==2:\n",
    "    dia='Wed'\n",
    "    day_names.append(dia)\n",
    "  elif weekno==3:\n",
    "    dia='Thu'\n",
    "    day_names.append(dia)\n",
    "  elif weekno==4:\n",
    "    dia='Fri'\n",
    "    day_names.append(dia)\n",
    "  elif weekno==5:\n",
    "    dia='Sat'\n",
    "    day_names.append(dia)\n",
    "  elif weekno==6:\n",
    "    dia='Sun'\n",
    "    day_names.append(dia)\n",
    "\n",
    "transactions['day_SELL']=day_names\n"
   ]
  },
  {
   "cell_type": "code",
   "execution_count": 28,
   "metadata": {
    "executionInfo": {
     "elapsed": 27213,
     "status": "ok",
     "timestamp": 1609188919119,
     "user": {
      "displayName": "Daniel Dabdub",
      "photoUrl": "https://lh6.googleusercontent.com/-qKoV5H3Fw5M/AAAAAAAAAAI/AAAAAAAAZro/jARb9IjBWek/s64/photo.jpg",
      "userId": "06642504652143825936"
     },
     "user_tz": 360
    },
    "id": "rKB4tani0AGc"
   },
   "outputs": [],
   "source": [
    "dates2_SELL=list()\n",
    "days2_SELL=list()\n",
    "\n",
    "#if date is saturday, we are going to push it to friday\n",
    "#if date is sunday, we are going to push it to monday\n",
    "\n",
    "for index,row in transactions.iterrows():\n",
    "  SELL_date = row['date_SELL']\n",
    "  if row['day_SELL']=='Sat':\n",
    "    SELL_date2 = SELL_date - datetime.timedelta(1)\n",
    "    dates2_SELL.append(SELL_date2)\n",
    "\n",
    "    SELL_day2='Fri'\n",
    "    days2_SELL.append(SELL_day2)\n",
    "  elif row['day_SELL']=='Sun':\n",
    "    SELL_date = row['date_SELL']\n",
    "    SELL_date2 = SELL_date + datetime.timedelta(1)\n",
    "    dates2_SELL.append(SELL_date2)\n",
    "\n",
    "    SELL_day2='Mon'\n",
    "    days2_SELL.append(SELL_day2)\n",
    "  else:\n",
    "    SELL_date2=SELL_date\n",
    "    dates2_SELL.append(SELL_date2)\n",
    "    SELL_day2=row['day_SELL']\n",
    "    days2_SELL.append(SELL_day2)\n",
    "\n",
    "\n",
    "transactions['date_SELL_fix']=dates2_SELL\n",
    "transactions['day_SELL_fix']=days2_SELL\n",
    "\n",
    "# transactions=weekend2weekday(transactions,'date_BUY','day_BUY' )"
   ]
  },
  {
   "cell_type": "code",
   "execution_count": 29,
   "metadata": {
    "colab": {
     "base_uri": "https://localhost:8080/",
     "height": 406
    },
    "executionInfo": {
     "elapsed": 27202,
     "status": "ok",
     "timestamp": 1609188919124,
     "user": {
      "displayName": "Daniel Dabdub",
      "photoUrl": "https://lh6.googleusercontent.com/-qKoV5H3Fw5M/AAAAAAAAAAI/AAAAAAAAZro/jARb9IjBWek/s64/photo.jpg",
      "userId": "06642504652143825936"
     },
     "user_tz": 360
    },
    "id": "NtAyWy_J1GcZ",
    "outputId": "e6899ca2-ed34-4404-c08c-9b3378b7502d"
   },
   "outputs": [
    {
     "data": {
      "text/html": [
       "<div>\n",
       "<style scoped>\n",
       "    .dataframe tbody tr th:only-of-type {\n",
       "        vertical-align: middle;\n",
       "    }\n",
       "\n",
       "    .dataframe tbody tr th {\n",
       "        vertical-align: top;\n",
       "    }\n",
       "\n",
       "    .dataframe thead th {\n",
       "        text-align: right;\n",
       "    }\n",
       "</style>\n",
       "<table border=\"1\" class=\"dataframe\">\n",
       "  <thead>\n",
       "    <tr style=\"text-align: right;\">\n",
       "      <th></th>\n",
       "      <th>id</th>\n",
       "      <th>company</th>\n",
       "      <th>horizon</th>\n",
       "      <th>amount</th>\n",
       "      <th>date_BUY</th>\n",
       "      <th>day_BUY</th>\n",
       "      <th>date_BUY_fix</th>\n",
       "      <th>day_BUY_fix</th>\n",
       "      <th>holiday_BUY</th>\n",
       "      <th>price_BUY</th>\n",
       "      <th>date_SELL</th>\n",
       "      <th>day_SELL</th>\n",
       "      <th>date_SELL_fix</th>\n",
       "      <th>day_SELL_fix</th>\n",
       "    </tr>\n",
       "  </thead>\n",
       "  <tbody>\n",
       "    <tr>\n",
       "      <th>0</th>\n",
       "      <td>1</td>\n",
       "      <td>AMZN</td>\n",
       "      <td>600</td>\n",
       "      <td>400</td>\n",
       "      <td>2016-04-02</td>\n",
       "      <td>Sat</td>\n",
       "      <td>2016-04-01</td>\n",
       "      <td>Fri</td>\n",
       "      <td></td>\n",
       "      <td>598.500000</td>\n",
       "      <td>2017-11-22</td>\n",
       "      <td>Wed</td>\n",
       "      <td>2017-11-22</td>\n",
       "      <td>Wed</td>\n",
       "    </tr>\n",
       "    <tr>\n",
       "      <th>1</th>\n",
       "      <td>2</td>\n",
       "      <td>NVDA</td>\n",
       "      <td>120</td>\n",
       "      <td>1500</td>\n",
       "      <td>2017-11-24</td>\n",
       "      <td>Fri</td>\n",
       "      <td>2017-11-24</td>\n",
       "      <td>Fri</td>\n",
       "      <td></td>\n",
       "      <td>215.159576</td>\n",
       "      <td>2018-03-24</td>\n",
       "      <td>Sat</td>\n",
       "      <td>2018-03-23</td>\n",
       "      <td>Fri</td>\n",
       "    </tr>\n",
       "    <tr>\n",
       "      <th>2</th>\n",
       "      <td>3</td>\n",
       "      <td>PG</td>\n",
       "      <td>90</td>\n",
       "      <td>500</td>\n",
       "      <td>2018-08-11</td>\n",
       "      <td>Sat</td>\n",
       "      <td>2018-08-10</td>\n",
       "      <td>Fri</td>\n",
       "      <td></td>\n",
       "      <td>76.616516</td>\n",
       "      <td>2018-11-08</td>\n",
       "      <td>Thu</td>\n",
       "      <td>2018-11-08</td>\n",
       "      <td>Thu</td>\n",
       "    </tr>\n",
       "    <tr>\n",
       "      <th>3</th>\n",
       "      <td>4</td>\n",
       "      <td>TSLA</td>\n",
       "      <td>5</td>\n",
       "      <td>200</td>\n",
       "      <td>2016-10-14</td>\n",
       "      <td>Fri</td>\n",
       "      <td>2016-10-14</td>\n",
       "      <td>Fri</td>\n",
       "      <td></td>\n",
       "      <td>39.301998</td>\n",
       "      <td>2016-10-19</td>\n",
       "      <td>Wed</td>\n",
       "      <td>2016-10-19</td>\n",
       "      <td>Wed</td>\n",
       "    </tr>\n",
       "    <tr>\n",
       "      <th>4</th>\n",
       "      <td>5</td>\n",
       "      <td>FB</td>\n",
       "      <td>5</td>\n",
       "      <td>20000</td>\n",
       "      <td>2014-02-07</td>\n",
       "      <td>Fri</td>\n",
       "      <td>2014-02-07</td>\n",
       "      <td>Fri</td>\n",
       "      <td></td>\n",
       "      <td>64.320000</td>\n",
       "      <td>2014-02-12</td>\n",
       "      <td>Wed</td>\n",
       "      <td>2014-02-12</td>\n",
       "      <td>Wed</td>\n",
       "    </tr>\n",
       "    <tr>\n",
       "      <th>...</th>\n",
       "      <td>...</td>\n",
       "      <td>...</td>\n",
       "      <td>...</td>\n",
       "      <td>...</td>\n",
       "      <td>...</td>\n",
       "      <td>...</td>\n",
       "      <td>...</td>\n",
       "      <td>...</td>\n",
       "      <td>...</td>\n",
       "      <td>...</td>\n",
       "      <td>...</td>\n",
       "      <td>...</td>\n",
       "      <td>...</td>\n",
       "      <td>...</td>\n",
       "    </tr>\n",
       "    <tr>\n",
       "      <th>39995</th>\n",
       "      <td>39996</td>\n",
       "      <td>FB</td>\n",
       "      <td>720</td>\n",
       "      <td>500</td>\n",
       "      <td>2016-02-02</td>\n",
       "      <td>Tue</td>\n",
       "      <td>2016-02-02</td>\n",
       "      <td>Tue</td>\n",
       "      <td></td>\n",
       "      <td>114.610001</td>\n",
       "      <td>2018-01-22</td>\n",
       "      <td>Mon</td>\n",
       "      <td>2018-01-22</td>\n",
       "      <td>Mon</td>\n",
       "    </tr>\n",
       "    <tr>\n",
       "      <th>39996</th>\n",
       "      <td>39997</td>\n",
       "      <td>AAPL</td>\n",
       "      <td>720</td>\n",
       "      <td>300</td>\n",
       "      <td>2017-05-17</td>\n",
       "      <td>Wed</td>\n",
       "      <td>2017-05-17</td>\n",
       "      <td>Wed</td>\n",
       "      <td></td>\n",
       "      <td>35.876579</td>\n",
       "      <td>2019-05-07</td>\n",
       "      <td>Tue</td>\n",
       "      <td>2019-05-07</td>\n",
       "      <td>Tue</td>\n",
       "    </tr>\n",
       "    <tr>\n",
       "      <th>39997</th>\n",
       "      <td>39998</td>\n",
       "      <td>NVDA</td>\n",
       "      <td>300</td>\n",
       "      <td>300</td>\n",
       "      <td>2015-04-02</td>\n",
       "      <td>Thu</td>\n",
       "      <td>2015-04-02</td>\n",
       "      <td>Thu</td>\n",
       "      <td></td>\n",
       "      <td>20.347946</td>\n",
       "      <td>2016-01-27</td>\n",
       "      <td>Wed</td>\n",
       "      <td>2016-01-27</td>\n",
       "      <td>Wed</td>\n",
       "    </tr>\n",
       "    <tr>\n",
       "      <th>39998</th>\n",
       "      <td>39999</td>\n",
       "      <td>PG</td>\n",
       "      <td>20</td>\n",
       "      <td>200</td>\n",
       "      <td>2015-07-05</td>\n",
       "      <td>Sun</td>\n",
       "      <td>2015-07-06</td>\n",
       "      <td>Mon</td>\n",
       "      <td></td>\n",
       "      <td>67.737602</td>\n",
       "      <td>2015-07-26</td>\n",
       "      <td>Sun</td>\n",
       "      <td>2015-07-27</td>\n",
       "      <td>Mon</td>\n",
       "    </tr>\n",
       "    <tr>\n",
       "      <th>39999</th>\n",
       "      <td>40000</td>\n",
       "      <td>MSFT</td>\n",
       "      <td>270</td>\n",
       "      <td>5000</td>\n",
       "      <td>2014-08-27</td>\n",
       "      <td>Wed</td>\n",
       "      <td>2014-08-27</td>\n",
       "      <td>Wed</td>\n",
       "      <td></td>\n",
       "      <td>39.610332</td>\n",
       "      <td>2015-05-24</td>\n",
       "      <td>Sun</td>\n",
       "      <td>2015-05-25</td>\n",
       "      <td>Mon</td>\n",
       "    </tr>\n",
       "  </tbody>\n",
       "</table>\n",
       "<p>38075 rows × 14 columns</p>\n",
       "</div>"
      ],
      "text/plain": [
       "          id company  horizon  amount    date_BUY day_BUY date_BUY_fix  \\\n",
       "0          1    AMZN      600     400  2016-04-02     Sat   2016-04-01   \n",
       "1          2    NVDA      120    1500  2017-11-24     Fri   2017-11-24   \n",
       "2          3      PG       90     500  2018-08-11     Sat   2018-08-10   \n",
       "3          4    TSLA        5     200  2016-10-14     Fri   2016-10-14   \n",
       "4          5      FB        5   20000  2014-02-07     Fri   2014-02-07   \n",
       "...      ...     ...      ...     ...         ...     ...          ...   \n",
       "39995  39996      FB      720     500  2016-02-02     Tue   2016-02-02   \n",
       "39996  39997    AAPL      720     300  2017-05-17     Wed   2017-05-17   \n",
       "39997  39998    NVDA      300     300  2015-04-02     Thu   2015-04-02   \n",
       "39998  39999      PG       20     200  2015-07-05     Sun   2015-07-06   \n",
       "39999  40000    MSFT      270    5000  2014-08-27     Wed   2014-08-27   \n",
       "\n",
       "      day_BUY_fix holiday_BUY   price_BUY  date_SELL day_SELL date_SELL_fix  \\\n",
       "0             Fri              598.500000 2017-11-22      Wed    2017-11-22   \n",
       "1             Fri              215.159576 2018-03-24      Sat    2018-03-23   \n",
       "2             Fri               76.616516 2018-11-08      Thu    2018-11-08   \n",
       "3             Fri               39.301998 2016-10-19      Wed    2016-10-19   \n",
       "4             Fri               64.320000 2014-02-12      Wed    2014-02-12   \n",
       "...           ...         ...         ...        ...      ...           ...   \n",
       "39995         Tue              114.610001 2018-01-22      Mon    2018-01-22   \n",
       "39996         Wed               35.876579 2019-05-07      Tue    2019-05-07   \n",
       "39997         Thu               20.347946 2016-01-27      Wed    2016-01-27   \n",
       "39998         Mon               67.737602 2015-07-26      Sun    2015-07-27   \n",
       "39999         Wed               39.610332 2015-05-24      Sun    2015-05-25   \n",
       "\n",
       "      day_SELL_fix  \n",
       "0              Wed  \n",
       "1              Fri  \n",
       "2              Thu  \n",
       "3              Wed  \n",
       "4              Wed  \n",
       "...            ...  \n",
       "39995          Mon  \n",
       "39996          Tue  \n",
       "39997          Wed  \n",
       "39998          Mon  \n",
       "39999          Mon  \n",
       "\n",
       "[38075 rows x 14 columns]"
      ]
     },
     "execution_count": 29,
     "metadata": {},
     "output_type": "execute_result"
    }
   ],
   "source": [
    "transactions"
   ]
  },
  {
   "cell_type": "code",
   "execution_count": 30,
   "metadata": {
    "executionInfo": {
     "elapsed": 29566,
     "status": "ok",
     "timestamp": 1609188921500,
     "user": {
      "displayName": "Daniel Dabdub",
      "photoUrl": "https://lh6.googleusercontent.com/-qKoV5H3Fw5M/AAAAAAAAAAI/AAAAAAAAZro/jARb9IjBWek/s64/photo.jpg",
      "userId": "06642504652143825936"
     },
     "user_tz": 360
    },
    "id": "eeaj5M8p0AGd"
   },
   "outputs": [],
   "source": [
    "#checking for holidays (NYSE is closed)\n",
    "cal = USFederalHolidayCalendar()\n",
    "holidays = cal.holidays(start='2010-10-10', end='2020-10-10').to_pydatetime()\n",
    "# if datetime.datetime(2014,01,01) in holidays:\n",
    "#     print True \n",
    "\n",
    "l_holidays=list()\n",
    "for d in dates2_SELL:\n",
    "  if d in holidays:\n",
    "    holiday='Holiday'\n",
    "    l_holidays.append(holiday)\n",
    "\n",
    "  else:\n",
    "    holiday=''\n",
    "    l_holidays.append(holiday)\n",
    "\n",
    "transactions['holiday_SELL']=l_holidays"
   ]
  },
  {
   "cell_type": "markdown",
   "metadata": {
    "id": "dPCAZSku2UZv"
   },
   "source": [
    "## Prices - SELL"
   ]
  },
  {
   "cell_type": "code",
   "execution_count": 31,
   "metadata": {
    "executionInfo": {
     "elapsed": 34374,
     "status": "ok",
     "timestamp": 1609188926315,
     "user": {
      "displayName": "Daniel Dabdub",
      "photoUrl": "https://lh6.googleusercontent.com/-qKoV5H3Fw5M/AAAAAAAAAAI/AAAAAAAAZro/jARb9IjBWek/s64/photo.jpg",
      "userId": "06642504652143825936"
     },
     "user_tz": 360
    },
    "id": "aiHO2dB-2UZy"
   },
   "outputs": [],
   "source": [
    "#price when sold\n",
    "\n",
    "l_sell_prices=list()\n",
    "for index,row in transactions.iterrows():\n",
    "  comp=row['company']\n",
    "  sell_date=row['date_SELL_fix']\n",
    "  company_pos=companies.index(comp)\n",
    "  try:\n",
    "    price=l_companies_prices[company_pos].loc[sell_date,'Adj Close']\n",
    "  except :\n",
    "    price=0\n",
    "\n",
    "  l_sell_prices.append(price)\n",
    "\n",
    "transactions['price_SELL']=l_sell_prices\n"
   ]
  },
  {
   "cell_type": "code",
   "execution_count": 32,
   "metadata": {
    "executionInfo": {
     "elapsed": 34374,
     "status": "ok",
     "timestamp": 1609188926324,
     "user": {
      "displayName": "Daniel Dabdub",
      "photoUrl": "https://lh6.googleusercontent.com/-qKoV5H3Fw5M/AAAAAAAAAAI/AAAAAAAAZro/jARb9IjBWek/s64/photo.jpg",
      "userId": "06642504652143825936"
     },
     "user_tz": 360
    },
    "id": "ris0TnWH0AGf"
   },
   "outputs": [],
   "source": [
    "transactions_h=transactions[transactions.holiday_SELL=='Holiday']\n",
    "\n",
    "transactions=transactions[transactions.holiday_SELL!='Holiday']"
   ]
  },
  {
   "cell_type": "code",
   "execution_count": 33,
   "metadata": {
    "colab": {
     "base_uri": "https://localhost:8080/",
     "height": 593
    },
    "executionInfo": {
     "elapsed": 34363,
     "status": "ok",
     "timestamp": 1609188926326,
     "user": {
      "displayName": "Daniel Dabdub",
      "photoUrl": "https://lh6.googleusercontent.com/-qKoV5H3Fw5M/AAAAAAAAAAI/AAAAAAAAZro/jARb9IjBWek/s64/photo.jpg",
      "userId": "06642504652143825936"
     },
     "user_tz": 360
    },
    "id": "NGLjROHC1p0r",
    "outputId": "ecaa5c8a-6142-445a-83d2-7647546f4f0a"
   },
   "outputs": [
    {
     "data": {
      "text/html": [
       "<div>\n",
       "<style scoped>\n",
       "    .dataframe tbody tr th:only-of-type {\n",
       "        vertical-align: middle;\n",
       "    }\n",
       "\n",
       "    .dataframe tbody tr th {\n",
       "        vertical-align: top;\n",
       "    }\n",
       "\n",
       "    .dataframe thead th {\n",
       "        text-align: right;\n",
       "    }\n",
       "</style>\n",
       "<table border=\"1\" class=\"dataframe\">\n",
       "  <thead>\n",
       "    <tr style=\"text-align: right;\">\n",
       "      <th></th>\n",
       "      <th>id</th>\n",
       "      <th>company</th>\n",
       "      <th>horizon</th>\n",
       "      <th>amount</th>\n",
       "      <th>date_BUY</th>\n",
       "      <th>day_BUY</th>\n",
       "      <th>date_BUY_fix</th>\n",
       "      <th>day_BUY_fix</th>\n",
       "      <th>holiday_BUY</th>\n",
       "      <th>price_BUY</th>\n",
       "      <th>date_SELL</th>\n",
       "      <th>day_SELL</th>\n",
       "      <th>date_SELL_fix</th>\n",
       "      <th>day_SELL_fix</th>\n",
       "      <th>holiday_SELL</th>\n",
       "      <th>price_SELL</th>\n",
       "    </tr>\n",
       "  </thead>\n",
       "  <tbody>\n",
       "    <tr>\n",
       "      <th>0</th>\n",
       "      <td>1</td>\n",
       "      <td>AMZN</td>\n",
       "      <td>600</td>\n",
       "      <td>400</td>\n",
       "      <td>2016-04-02</td>\n",
       "      <td>Sat</td>\n",
       "      <td>2016-04-01</td>\n",
       "      <td>Fri</td>\n",
       "      <td></td>\n",
       "      <td>598.500000</td>\n",
       "      <td>2017-11-22</td>\n",
       "      <td>Wed</td>\n",
       "      <td>2017-11-22</td>\n",
       "      <td>Wed</td>\n",
       "      <td></td>\n",
       "      <td>1156.160034</td>\n",
       "    </tr>\n",
       "    <tr>\n",
       "      <th>1</th>\n",
       "      <td>2</td>\n",
       "      <td>NVDA</td>\n",
       "      <td>120</td>\n",
       "      <td>1500</td>\n",
       "      <td>2017-11-24</td>\n",
       "      <td>Fri</td>\n",
       "      <td>2017-11-24</td>\n",
       "      <td>Fri</td>\n",
       "      <td></td>\n",
       "      <td>215.159576</td>\n",
       "      <td>2018-03-24</td>\n",
       "      <td>Sat</td>\n",
       "      <td>2018-03-23</td>\n",
       "      <td>Fri</td>\n",
       "      <td></td>\n",
       "      <td>231.180344</td>\n",
       "    </tr>\n",
       "    <tr>\n",
       "      <th>2</th>\n",
       "      <td>3</td>\n",
       "      <td>PG</td>\n",
       "      <td>90</td>\n",
       "      <td>500</td>\n",
       "      <td>2018-08-11</td>\n",
       "      <td>Sat</td>\n",
       "      <td>2018-08-10</td>\n",
       "      <td>Fri</td>\n",
       "      <td></td>\n",
       "      <td>76.616516</td>\n",
       "      <td>2018-11-08</td>\n",
       "      <td>Thu</td>\n",
       "      <td>2018-11-08</td>\n",
       "      <td>Thu</td>\n",
       "      <td></td>\n",
       "      <td>86.719101</td>\n",
       "    </tr>\n",
       "    <tr>\n",
       "      <th>3</th>\n",
       "      <td>4</td>\n",
       "      <td>TSLA</td>\n",
       "      <td>5</td>\n",
       "      <td>200</td>\n",
       "      <td>2016-10-14</td>\n",
       "      <td>Fri</td>\n",
       "      <td>2016-10-14</td>\n",
       "      <td>Fri</td>\n",
       "      <td></td>\n",
       "      <td>39.301998</td>\n",
       "      <td>2016-10-19</td>\n",
       "      <td>Wed</td>\n",
       "      <td>2016-10-19</td>\n",
       "      <td>Wed</td>\n",
       "      <td></td>\n",
       "      <td>40.712002</td>\n",
       "    </tr>\n",
       "    <tr>\n",
       "      <th>4</th>\n",
       "      <td>5</td>\n",
       "      <td>FB</td>\n",
       "      <td>5</td>\n",
       "      <td>20000</td>\n",
       "      <td>2014-02-07</td>\n",
       "      <td>Fri</td>\n",
       "      <td>2014-02-07</td>\n",
       "      <td>Fri</td>\n",
       "      <td></td>\n",
       "      <td>64.320000</td>\n",
       "      <td>2014-02-12</td>\n",
       "      <td>Wed</td>\n",
       "      <td>2014-02-12</td>\n",
       "      <td>Wed</td>\n",
       "      <td></td>\n",
       "      <td>64.449997</td>\n",
       "    </tr>\n",
       "    <tr>\n",
       "      <th>...</th>\n",
       "      <td>...</td>\n",
       "      <td>...</td>\n",
       "      <td>...</td>\n",
       "      <td>...</td>\n",
       "      <td>...</td>\n",
       "      <td>...</td>\n",
       "      <td>...</td>\n",
       "      <td>...</td>\n",
       "      <td>...</td>\n",
       "      <td>...</td>\n",
       "      <td>...</td>\n",
       "      <td>...</td>\n",
       "      <td>...</td>\n",
       "      <td>...</td>\n",
       "      <td>...</td>\n",
       "      <td>...</td>\n",
       "    </tr>\n",
       "    <tr>\n",
       "      <th>39994</th>\n",
       "      <td>39995</td>\n",
       "      <td>NVDA</td>\n",
       "      <td>210</td>\n",
       "      <td>100</td>\n",
       "      <td>2015-02-05</td>\n",
       "      <td>Thu</td>\n",
       "      <td>2015-02-05</td>\n",
       "      <td>Thu</td>\n",
       "      <td></td>\n",
       "      <td>19.721281</td>\n",
       "      <td>2015-09-03</td>\n",
       "      <td>Thu</td>\n",
       "      <td>2015-09-03</td>\n",
       "      <td>Thu</td>\n",
       "      <td></td>\n",
       "      <td>21.707588</td>\n",
       "    </tr>\n",
       "    <tr>\n",
       "      <th>39995</th>\n",
       "      <td>39996</td>\n",
       "      <td>FB</td>\n",
       "      <td>720</td>\n",
       "      <td>500</td>\n",
       "      <td>2016-02-02</td>\n",
       "      <td>Tue</td>\n",
       "      <td>2016-02-02</td>\n",
       "      <td>Tue</td>\n",
       "      <td></td>\n",
       "      <td>114.610001</td>\n",
       "      <td>2018-01-22</td>\n",
       "      <td>Mon</td>\n",
       "      <td>2018-01-22</td>\n",
       "      <td>Mon</td>\n",
       "      <td></td>\n",
       "      <td>185.369995</td>\n",
       "    </tr>\n",
       "    <tr>\n",
       "      <th>39996</th>\n",
       "      <td>39997</td>\n",
       "      <td>AAPL</td>\n",
       "      <td>720</td>\n",
       "      <td>300</td>\n",
       "      <td>2017-05-17</td>\n",
       "      <td>Wed</td>\n",
       "      <td>2017-05-17</td>\n",
       "      <td>Wed</td>\n",
       "      <td></td>\n",
       "      <td>35.876579</td>\n",
       "      <td>2019-05-07</td>\n",
       "      <td>Tue</td>\n",
       "      <td>2019-05-07</td>\n",
       "      <td>Tue</td>\n",
       "      <td></td>\n",
       "      <td>49.748940</td>\n",
       "    </tr>\n",
       "    <tr>\n",
       "      <th>39997</th>\n",
       "      <td>39998</td>\n",
       "      <td>NVDA</td>\n",
       "      <td>300</td>\n",
       "      <td>300</td>\n",
       "      <td>2015-04-02</td>\n",
       "      <td>Thu</td>\n",
       "      <td>2015-04-02</td>\n",
       "      <td>Thu</td>\n",
       "      <td></td>\n",
       "      <td>20.347946</td>\n",
       "      <td>2016-01-27</td>\n",
       "      <td>Wed</td>\n",
       "      <td>2016-01-27</td>\n",
       "      <td>Wed</td>\n",
       "      <td></td>\n",
       "      <td>27.748758</td>\n",
       "    </tr>\n",
       "    <tr>\n",
       "      <th>39998</th>\n",
       "      <td>39999</td>\n",
       "      <td>PG</td>\n",
       "      <td>20</td>\n",
       "      <td>200</td>\n",
       "      <td>2015-07-05</td>\n",
       "      <td>Sun</td>\n",
       "      <td>2015-07-06</td>\n",
       "      <td>Mon</td>\n",
       "      <td></td>\n",
       "      <td>67.737602</td>\n",
       "      <td>2015-07-26</td>\n",
       "      <td>Sun</td>\n",
       "      <td>2015-07-27</td>\n",
       "      <td>Mon</td>\n",
       "      <td></td>\n",
       "      <td>68.224007</td>\n",
       "    </tr>\n",
       "  </tbody>\n",
       "</table>\n",
       "<p>36238 rows × 16 columns</p>\n",
       "</div>"
      ],
      "text/plain": [
       "          id company  horizon  amount    date_BUY day_BUY date_BUY_fix  \\\n",
       "0          1    AMZN      600     400  2016-04-02     Sat   2016-04-01   \n",
       "1          2    NVDA      120    1500  2017-11-24     Fri   2017-11-24   \n",
       "2          3      PG       90     500  2018-08-11     Sat   2018-08-10   \n",
       "3          4    TSLA        5     200  2016-10-14     Fri   2016-10-14   \n",
       "4          5      FB        5   20000  2014-02-07     Fri   2014-02-07   \n",
       "...      ...     ...      ...     ...         ...     ...          ...   \n",
       "39994  39995    NVDA      210     100  2015-02-05     Thu   2015-02-05   \n",
       "39995  39996      FB      720     500  2016-02-02     Tue   2016-02-02   \n",
       "39996  39997    AAPL      720     300  2017-05-17     Wed   2017-05-17   \n",
       "39997  39998    NVDA      300     300  2015-04-02     Thu   2015-04-02   \n",
       "39998  39999      PG       20     200  2015-07-05     Sun   2015-07-06   \n",
       "\n",
       "      day_BUY_fix holiday_BUY   price_BUY  date_SELL day_SELL date_SELL_fix  \\\n",
       "0             Fri              598.500000 2017-11-22      Wed    2017-11-22   \n",
       "1             Fri              215.159576 2018-03-24      Sat    2018-03-23   \n",
       "2             Fri               76.616516 2018-11-08      Thu    2018-11-08   \n",
       "3             Fri               39.301998 2016-10-19      Wed    2016-10-19   \n",
       "4             Fri               64.320000 2014-02-12      Wed    2014-02-12   \n",
       "...           ...         ...         ...        ...      ...           ...   \n",
       "39994         Thu               19.721281 2015-09-03      Thu    2015-09-03   \n",
       "39995         Tue              114.610001 2018-01-22      Mon    2018-01-22   \n",
       "39996         Wed               35.876579 2019-05-07      Tue    2019-05-07   \n",
       "39997         Thu               20.347946 2016-01-27      Wed    2016-01-27   \n",
       "39998         Mon               67.737602 2015-07-26      Sun    2015-07-27   \n",
       "\n",
       "      day_SELL_fix holiday_SELL   price_SELL  \n",
       "0              Wed               1156.160034  \n",
       "1              Fri                231.180344  \n",
       "2              Thu                 86.719101  \n",
       "3              Wed                 40.712002  \n",
       "4              Wed                 64.449997  \n",
       "...            ...          ...          ...  \n",
       "39994          Thu                 21.707588  \n",
       "39995          Mon                185.369995  \n",
       "39996          Tue                 49.748940  \n",
       "39997          Wed                 27.748758  \n",
       "39998          Mon                 68.224007  \n",
       "\n",
       "[36238 rows x 16 columns]"
      ]
     },
     "execution_count": 33,
     "metadata": {},
     "output_type": "execute_result"
    }
   ],
   "source": [
    "transactions"
   ]
  },
  {
   "cell_type": "code",
   "execution_count": 34,
   "metadata": {
    "executionInfo": {
     "elapsed": 34353,
     "status": "ok",
     "timestamp": 1609188926328,
     "user": {
      "displayName": "Daniel Dabdub",
      "photoUrl": "https://lh6.googleusercontent.com/-qKoV5H3Fw5M/AAAAAAAAAAI/AAAAAAAAZro/jARb9IjBWek/s64/photo.jpg",
      "userId": "06642504652143825936"
     },
     "user_tz": 360
    },
    "id": "b4g2aZUK1s10"
   },
   "outputs": [],
   "source": [
    "transactions_ready=transactions[['company','horizon','amount','date_BUY_fix','date_SELL_fix','price_BUY','price_SELL']]"
   ]
  },
  {
   "cell_type": "code",
   "execution_count": 35,
   "metadata": {
    "colab": {
     "base_uri": "https://localhost:8080/",
     "height": 406
    },
    "executionInfo": {
     "elapsed": 34339,
     "status": "ok",
     "timestamp": 1609188926329,
     "user": {
      "displayName": "Daniel Dabdub",
      "photoUrl": "https://lh6.googleusercontent.com/-qKoV5H3Fw5M/AAAAAAAAAAI/AAAAAAAAZro/jARb9IjBWek/s64/photo.jpg",
      "userId": "06642504652143825936"
     },
     "user_tz": 360
    },
    "id": "SUxoiReY2iyP",
    "outputId": "b5cada1c-a704-48cb-d012-dc7967105e65"
   },
   "outputs": [
    {
     "data": {
      "text/html": [
       "<div>\n",
       "<style scoped>\n",
       "    .dataframe tbody tr th:only-of-type {\n",
       "        vertical-align: middle;\n",
       "    }\n",
       "\n",
       "    .dataframe tbody tr th {\n",
       "        vertical-align: top;\n",
       "    }\n",
       "\n",
       "    .dataframe thead th {\n",
       "        text-align: right;\n",
       "    }\n",
       "</style>\n",
       "<table border=\"1\" class=\"dataframe\">\n",
       "  <thead>\n",
       "    <tr style=\"text-align: right;\">\n",
       "      <th></th>\n",
       "      <th>company</th>\n",
       "      <th>horizon</th>\n",
       "      <th>amount</th>\n",
       "      <th>date_BUY_fix</th>\n",
       "      <th>date_SELL_fix</th>\n",
       "      <th>price_BUY</th>\n",
       "      <th>price_SELL</th>\n",
       "    </tr>\n",
       "  </thead>\n",
       "  <tbody>\n",
       "    <tr>\n",
       "      <th>0</th>\n",
       "      <td>AMZN</td>\n",
       "      <td>600</td>\n",
       "      <td>400</td>\n",
       "      <td>2016-04-01</td>\n",
       "      <td>2017-11-22</td>\n",
       "      <td>598.500000</td>\n",
       "      <td>1156.160034</td>\n",
       "    </tr>\n",
       "    <tr>\n",
       "      <th>1</th>\n",
       "      <td>NVDA</td>\n",
       "      <td>120</td>\n",
       "      <td>1500</td>\n",
       "      <td>2017-11-24</td>\n",
       "      <td>2018-03-23</td>\n",
       "      <td>215.159576</td>\n",
       "      <td>231.180344</td>\n",
       "    </tr>\n",
       "    <tr>\n",
       "      <th>2</th>\n",
       "      <td>PG</td>\n",
       "      <td>90</td>\n",
       "      <td>500</td>\n",
       "      <td>2018-08-10</td>\n",
       "      <td>2018-11-08</td>\n",
       "      <td>76.616516</td>\n",
       "      <td>86.719101</td>\n",
       "    </tr>\n",
       "    <tr>\n",
       "      <th>3</th>\n",
       "      <td>TSLA</td>\n",
       "      <td>5</td>\n",
       "      <td>200</td>\n",
       "      <td>2016-10-14</td>\n",
       "      <td>2016-10-19</td>\n",
       "      <td>39.301998</td>\n",
       "      <td>40.712002</td>\n",
       "    </tr>\n",
       "    <tr>\n",
       "      <th>4</th>\n",
       "      <td>FB</td>\n",
       "      <td>5</td>\n",
       "      <td>20000</td>\n",
       "      <td>2014-02-07</td>\n",
       "      <td>2014-02-12</td>\n",
       "      <td>64.320000</td>\n",
       "      <td>64.449997</td>\n",
       "    </tr>\n",
       "    <tr>\n",
       "      <th>...</th>\n",
       "      <td>...</td>\n",
       "      <td>...</td>\n",
       "      <td>...</td>\n",
       "      <td>...</td>\n",
       "      <td>...</td>\n",
       "      <td>...</td>\n",
       "      <td>...</td>\n",
       "    </tr>\n",
       "    <tr>\n",
       "      <th>39994</th>\n",
       "      <td>NVDA</td>\n",
       "      <td>210</td>\n",
       "      <td>100</td>\n",
       "      <td>2015-02-05</td>\n",
       "      <td>2015-09-03</td>\n",
       "      <td>19.721281</td>\n",
       "      <td>21.707588</td>\n",
       "    </tr>\n",
       "    <tr>\n",
       "      <th>39995</th>\n",
       "      <td>FB</td>\n",
       "      <td>720</td>\n",
       "      <td>500</td>\n",
       "      <td>2016-02-02</td>\n",
       "      <td>2018-01-22</td>\n",
       "      <td>114.610001</td>\n",
       "      <td>185.369995</td>\n",
       "    </tr>\n",
       "    <tr>\n",
       "      <th>39996</th>\n",
       "      <td>AAPL</td>\n",
       "      <td>720</td>\n",
       "      <td>300</td>\n",
       "      <td>2017-05-17</td>\n",
       "      <td>2019-05-07</td>\n",
       "      <td>35.876579</td>\n",
       "      <td>49.748940</td>\n",
       "    </tr>\n",
       "    <tr>\n",
       "      <th>39997</th>\n",
       "      <td>NVDA</td>\n",
       "      <td>300</td>\n",
       "      <td>300</td>\n",
       "      <td>2015-04-02</td>\n",
       "      <td>2016-01-27</td>\n",
       "      <td>20.347946</td>\n",
       "      <td>27.748758</td>\n",
       "    </tr>\n",
       "    <tr>\n",
       "      <th>39998</th>\n",
       "      <td>PG</td>\n",
       "      <td>20</td>\n",
       "      <td>200</td>\n",
       "      <td>2015-07-06</td>\n",
       "      <td>2015-07-27</td>\n",
       "      <td>67.737602</td>\n",
       "      <td>68.224007</td>\n",
       "    </tr>\n",
       "  </tbody>\n",
       "</table>\n",
       "<p>36238 rows × 7 columns</p>\n",
       "</div>"
      ],
      "text/plain": [
       "      company  horizon  amount date_BUY_fix date_SELL_fix   price_BUY  \\\n",
       "0        AMZN      600     400   2016-04-01    2017-11-22  598.500000   \n",
       "1        NVDA      120    1500   2017-11-24    2018-03-23  215.159576   \n",
       "2          PG       90     500   2018-08-10    2018-11-08   76.616516   \n",
       "3        TSLA        5     200   2016-10-14    2016-10-19   39.301998   \n",
       "4          FB        5   20000   2014-02-07    2014-02-12   64.320000   \n",
       "...       ...      ...     ...          ...           ...         ...   \n",
       "39994    NVDA      210     100   2015-02-05    2015-09-03   19.721281   \n",
       "39995      FB      720     500   2016-02-02    2018-01-22  114.610001   \n",
       "39996    AAPL      720     300   2017-05-17    2019-05-07   35.876579   \n",
       "39997    NVDA      300     300   2015-04-02    2016-01-27   20.347946   \n",
       "39998      PG       20     200   2015-07-06    2015-07-27   67.737602   \n",
       "\n",
       "        price_SELL  \n",
       "0      1156.160034  \n",
       "1       231.180344  \n",
       "2        86.719101  \n",
       "3        40.712002  \n",
       "4        64.449997  \n",
       "...            ...  \n",
       "39994    21.707588  \n",
       "39995   185.369995  \n",
       "39996    49.748940  \n",
       "39997    27.748758  \n",
       "39998    68.224007  \n",
       "\n",
       "[36238 rows x 7 columns]"
      ]
     },
     "execution_count": 35,
     "metadata": {},
     "output_type": "execute_result"
    }
   ],
   "source": [
    "transactions_ready"
   ]
  },
  {
   "cell_type": "markdown",
   "metadata": {
    "id": "7FdvBxuO6sDy"
   },
   "source": [
    "## Filtering transactions with error (Price = 0)"
   ]
  },
  {
   "cell_type": "code",
   "execution_count": 36,
   "metadata": {
    "colab": {
     "base_uri": "https://localhost:8080/"
    },
    "executionInfo": {
     "elapsed": 34329,
     "status": "ok",
     "timestamp": 1609188926330,
     "user": {
      "displayName": "Daniel Dabdub",
      "photoUrl": "https://lh6.googleusercontent.com/-qKoV5H3Fw5M/AAAAAAAAAAI/AAAAAAAAZro/jARb9IjBWek/s64/photo.jpg",
      "userId": "06642504652143825936"
     },
     "user_tz": 360
    },
    "id": "4pTs7UX44YW-",
    "outputId": "e06df0fd-bdbd-4760-faf9-aa7f0a8c1c0f"
   },
   "outputs": [
    {
     "name": "stdout",
     "output_type": "stream",
     "text": [
      "with errors:  (437, 7)\n",
      "(36238, 7)\n",
      "(35553, 7)\n"
     ]
    }
   ],
   "source": [
    "price_error=transactions_ready[(transactions_ready.price_BUY==0) | (transactions_ready.price_SELL==0)]\n",
    "print('with errors: ', price_error.shape)\n",
    "print(transactions_ready.shape)\n",
    "\n",
    "transactions_ready=pd.concat([transactions_ready, price_error, price_error]).drop_duplicates(keep=False)\n",
    "print(transactions_ready.shape)"
   ]
  },
  {
   "cell_type": "markdown",
   "metadata": {
    "id": "TCtM8tNYNmYm"
   },
   "source": [
    "# Real Profit/Loss (Rentabilidad Real)"
   ]
  },
  {
   "cell_type": "code",
   "execution_count": 37,
   "metadata": {
    "executionInfo": {
     "elapsed": 34319,
     "status": "ok",
     "timestamp": 1609188926331,
     "user": {
      "displayName": "Daniel Dabdub",
      "photoUrl": "https://lh6.googleusercontent.com/-qKoV5H3Fw5M/AAAAAAAAAAI/AAAAAAAAZro/jARb9IjBWek/s64/photo.jpg",
      "userId": "06642504652143825936"
     },
     "user_tz": 360
    },
    "id": "pI9ZvEawJOzF"
   },
   "outputs": [],
   "source": [
    "transactions_ready['nominal_return']=(transactions_ready['price_SELL']-transactions_ready['price_BUY'])/transactions_ready['price_BUY']"
   ]
  },
  {
   "cell_type": "code",
   "execution_count": 38,
   "metadata": {
    "colab": {
     "base_uri": "https://localhost:8080/",
     "height": 406
    },
    "executionInfo": {
     "elapsed": 34576,
     "status": "ok",
     "timestamp": 1609188926600,
     "user": {
      "displayName": "Daniel Dabdub",
      "photoUrl": "https://lh6.googleusercontent.com/-qKoV5H3Fw5M/AAAAAAAAAAI/AAAAAAAAZro/jARb9IjBWek/s64/photo.jpg",
      "userId": "06642504652143825936"
     },
     "user_tz": 360
    },
    "id": "HfBIf6V73S-r",
    "outputId": "fd9882ac-b239-4b3f-95c0-d15c8271e882"
   },
   "outputs": [
    {
     "data": {
      "text/html": [
       "<div>\n",
       "<style scoped>\n",
       "    .dataframe tbody tr th:only-of-type {\n",
       "        vertical-align: middle;\n",
       "    }\n",
       "\n",
       "    .dataframe tbody tr th {\n",
       "        vertical-align: top;\n",
       "    }\n",
       "\n",
       "    .dataframe thead th {\n",
       "        text-align: right;\n",
       "    }\n",
       "</style>\n",
       "<table border=\"1\" class=\"dataframe\">\n",
       "  <thead>\n",
       "    <tr style=\"text-align: right;\">\n",
       "      <th></th>\n",
       "      <th>company</th>\n",
       "      <th>horizon</th>\n",
       "      <th>amount</th>\n",
       "      <th>date_BUY_fix</th>\n",
       "      <th>date_SELL_fix</th>\n",
       "      <th>price_BUY</th>\n",
       "      <th>price_SELL</th>\n",
       "      <th>nominal_return</th>\n",
       "    </tr>\n",
       "  </thead>\n",
       "  <tbody>\n",
       "    <tr>\n",
       "      <th>0</th>\n",
       "      <td>AMZN</td>\n",
       "      <td>600</td>\n",
       "      <td>400</td>\n",
       "      <td>2016-04-01</td>\n",
       "      <td>2017-11-22</td>\n",
       "      <td>598.500000</td>\n",
       "      <td>1156.160034</td>\n",
       "      <td>0.931763</td>\n",
       "    </tr>\n",
       "    <tr>\n",
       "      <th>1</th>\n",
       "      <td>NVDA</td>\n",
       "      <td>120</td>\n",
       "      <td>1500</td>\n",
       "      <td>2017-11-24</td>\n",
       "      <td>2018-03-23</td>\n",
       "      <td>215.159576</td>\n",
       "      <td>231.180344</td>\n",
       "      <td>0.074460</td>\n",
       "    </tr>\n",
       "    <tr>\n",
       "      <th>2</th>\n",
       "      <td>PG</td>\n",
       "      <td>90</td>\n",
       "      <td>500</td>\n",
       "      <td>2018-08-10</td>\n",
       "      <td>2018-11-08</td>\n",
       "      <td>76.616516</td>\n",
       "      <td>86.719101</td>\n",
       "      <td>0.131859</td>\n",
       "    </tr>\n",
       "    <tr>\n",
       "      <th>3</th>\n",
       "      <td>TSLA</td>\n",
       "      <td>5</td>\n",
       "      <td>200</td>\n",
       "      <td>2016-10-14</td>\n",
       "      <td>2016-10-19</td>\n",
       "      <td>39.301998</td>\n",
       "      <td>40.712002</td>\n",
       "      <td>0.035876</td>\n",
       "    </tr>\n",
       "    <tr>\n",
       "      <th>4</th>\n",
       "      <td>FB</td>\n",
       "      <td>5</td>\n",
       "      <td>20000</td>\n",
       "      <td>2014-02-07</td>\n",
       "      <td>2014-02-12</td>\n",
       "      <td>64.320000</td>\n",
       "      <td>64.449997</td>\n",
       "      <td>0.002021</td>\n",
       "    </tr>\n",
       "    <tr>\n",
       "      <th>...</th>\n",
       "      <td>...</td>\n",
       "      <td>...</td>\n",
       "      <td>...</td>\n",
       "      <td>...</td>\n",
       "      <td>...</td>\n",
       "      <td>...</td>\n",
       "      <td>...</td>\n",
       "      <td>...</td>\n",
       "    </tr>\n",
       "    <tr>\n",
       "      <th>39994</th>\n",
       "      <td>NVDA</td>\n",
       "      <td>210</td>\n",
       "      <td>100</td>\n",
       "      <td>2015-02-05</td>\n",
       "      <td>2015-09-03</td>\n",
       "      <td>19.721281</td>\n",
       "      <td>21.707588</td>\n",
       "      <td>0.100719</td>\n",
       "    </tr>\n",
       "    <tr>\n",
       "      <th>39995</th>\n",
       "      <td>FB</td>\n",
       "      <td>720</td>\n",
       "      <td>500</td>\n",
       "      <td>2016-02-02</td>\n",
       "      <td>2018-01-22</td>\n",
       "      <td>114.610001</td>\n",
       "      <td>185.369995</td>\n",
       "      <td>0.617398</td>\n",
       "    </tr>\n",
       "    <tr>\n",
       "      <th>39996</th>\n",
       "      <td>AAPL</td>\n",
       "      <td>720</td>\n",
       "      <td>300</td>\n",
       "      <td>2017-05-17</td>\n",
       "      <td>2019-05-07</td>\n",
       "      <td>35.876579</td>\n",
       "      <td>49.748940</td>\n",
       "      <td>0.386669</td>\n",
       "    </tr>\n",
       "    <tr>\n",
       "      <th>39997</th>\n",
       "      <td>NVDA</td>\n",
       "      <td>300</td>\n",
       "      <td>300</td>\n",
       "      <td>2015-04-02</td>\n",
       "      <td>2016-01-27</td>\n",
       "      <td>20.347946</td>\n",
       "      <td>27.748758</td>\n",
       "      <td>0.363713</td>\n",
       "    </tr>\n",
       "    <tr>\n",
       "      <th>39998</th>\n",
       "      <td>PG</td>\n",
       "      <td>20</td>\n",
       "      <td>200</td>\n",
       "      <td>2015-07-06</td>\n",
       "      <td>2015-07-27</td>\n",
       "      <td>67.737602</td>\n",
       "      <td>68.224007</td>\n",
       "      <td>0.007181</td>\n",
       "    </tr>\n",
       "  </tbody>\n",
       "</table>\n",
       "<p>35553 rows × 8 columns</p>\n",
       "</div>"
      ],
      "text/plain": [
       "      company  horizon  amount date_BUY_fix date_SELL_fix   price_BUY  \\\n",
       "0        AMZN      600     400   2016-04-01    2017-11-22  598.500000   \n",
       "1        NVDA      120    1500   2017-11-24    2018-03-23  215.159576   \n",
       "2          PG       90     500   2018-08-10    2018-11-08   76.616516   \n",
       "3        TSLA        5     200   2016-10-14    2016-10-19   39.301998   \n",
       "4          FB        5   20000   2014-02-07    2014-02-12   64.320000   \n",
       "...       ...      ...     ...          ...           ...         ...   \n",
       "39994    NVDA      210     100   2015-02-05    2015-09-03   19.721281   \n",
       "39995      FB      720     500   2016-02-02    2018-01-22  114.610001   \n",
       "39996    AAPL      720     300   2017-05-17    2019-05-07   35.876579   \n",
       "39997    NVDA      300     300   2015-04-02    2016-01-27   20.347946   \n",
       "39998      PG       20     200   2015-07-06    2015-07-27   67.737602   \n",
       "\n",
       "        price_SELL  nominal_return  \n",
       "0      1156.160034        0.931763  \n",
       "1       231.180344        0.074460  \n",
       "2        86.719101        0.131859  \n",
       "3        40.712002        0.035876  \n",
       "4        64.449997        0.002021  \n",
       "...            ...             ...  \n",
       "39994    21.707588        0.100719  \n",
       "39995   185.369995        0.617398  \n",
       "39996    49.748940        0.386669  \n",
       "39997    27.748758        0.363713  \n",
       "39998    68.224007        0.007181  \n",
       "\n",
       "[35553 rows x 8 columns]"
      ]
     },
     "execution_count": 38,
     "metadata": {},
     "output_type": "execute_result"
    }
   ],
   "source": [
    "transactions_ready"
   ]
  },
  {
   "cell_type": "code",
   "execution_count": 39,
   "metadata": {
    "executionInfo": {
     "elapsed": 37970,
     "status": "ok",
     "timestamp": 1609188930005,
     "user": {
      "displayName": "Daniel Dabdub",
      "photoUrl": "https://lh6.googleusercontent.com/-qKoV5H3Fw5M/AAAAAAAAAAI/AAAAAAAAZro/jARb9IjBWek/s64/photo.jpg",
      "userId": "06642504652143825936"
     },
     "user_tz": 360
    },
    "id": "oMPPkBF43WS6"
   },
   "outputs": [],
   "source": [
    "transactions_ready['investment']=''\n",
    "investments=list()\n",
    "for index, row in transactions_ready.iterrows():\n",
    "  if row['nominal_return']>0:\n",
    "    inv='GOOD'\n",
    "    investments.append(inv)\n",
    "  elif row['nominal_return']<0:\n",
    "    inv='BAD'\n",
    "    investments.append(inv)\n",
    "  else:\n",
    "    inv='0'\n",
    "    investments.append(inv)\n",
    "\n",
    "transactions_ready['investment']=investments"
   ]
  },
  {
   "cell_type": "code",
   "execution_count": 40,
   "metadata": {
    "colab": {
     "base_uri": "https://localhost:8080/"
    },
    "executionInfo": {
     "elapsed": 37970,
     "status": "ok",
     "timestamp": 1609188930010,
     "user": {
      "displayName": "Daniel Dabdub",
      "photoUrl": "https://lh6.googleusercontent.com/-qKoV5H3Fw5M/AAAAAAAAAAI/AAAAAAAAZro/jARb9IjBWek/s64/photo.jpg",
      "userId": "06642504652143825936"
     },
     "user_tz": 360
    },
    "id": "HLxLIHoC7hdq",
    "outputId": "12a5a09a-6740-431c-bd45-1102248559df"
   },
   "outputs": [
    {
     "data": {
      "text/plain": [
       "(35553, 9)"
      ]
     },
     "execution_count": 40,
     "metadata": {},
     "output_type": "execute_result"
    }
   ],
   "source": [
    "transactions_ready.shape"
   ]
  },
  {
   "cell_type": "code",
   "execution_count": 41,
   "metadata": {
    "colab": {
     "base_uri": "https://localhost:8080/",
     "height": 406
    },
    "executionInfo": {
     "elapsed": 37962,
     "status": "ok",
     "timestamp": 1609188930012,
     "user": {
      "displayName": "Daniel Dabdub",
      "photoUrl": "https://lh6.googleusercontent.com/-qKoV5H3Fw5M/AAAAAAAAAAI/AAAAAAAAZro/jARb9IjBWek/s64/photo.jpg",
      "userId": "06642504652143825936"
     },
     "user_tz": 360
    },
    "id": "KuB-l84A5UBj",
    "outputId": "c10c22e3-1d19-4cfb-f88a-339746337716"
   },
   "outputs": [
    {
     "data": {
      "text/html": [
       "<div>\n",
       "<style scoped>\n",
       "    .dataframe tbody tr th:only-of-type {\n",
       "        vertical-align: middle;\n",
       "    }\n",
       "\n",
       "    .dataframe tbody tr th {\n",
       "        vertical-align: top;\n",
       "    }\n",
       "\n",
       "    .dataframe thead th {\n",
       "        text-align: right;\n",
       "    }\n",
       "</style>\n",
       "<table border=\"1\" class=\"dataframe\">\n",
       "  <thead>\n",
       "    <tr style=\"text-align: right;\">\n",
       "      <th></th>\n",
       "      <th>company</th>\n",
       "      <th>horizon</th>\n",
       "      <th>amount</th>\n",
       "      <th>date_BUY_fix</th>\n",
       "      <th>date_SELL_fix</th>\n",
       "      <th>price_BUY</th>\n",
       "      <th>price_SELL</th>\n",
       "      <th>nominal_return</th>\n",
       "      <th>investment</th>\n",
       "    </tr>\n",
       "  </thead>\n",
       "  <tbody>\n",
       "    <tr>\n",
       "      <th>0</th>\n",
       "      <td>AMZN</td>\n",
       "      <td>600</td>\n",
       "      <td>400</td>\n",
       "      <td>2016-04-01</td>\n",
       "      <td>2017-11-22</td>\n",
       "      <td>598.500000</td>\n",
       "      <td>1156.160034</td>\n",
       "      <td>0.931763</td>\n",
       "      <td>GOOD</td>\n",
       "    </tr>\n",
       "    <tr>\n",
       "      <th>1</th>\n",
       "      <td>NVDA</td>\n",
       "      <td>120</td>\n",
       "      <td>1500</td>\n",
       "      <td>2017-11-24</td>\n",
       "      <td>2018-03-23</td>\n",
       "      <td>215.159576</td>\n",
       "      <td>231.180344</td>\n",
       "      <td>0.074460</td>\n",
       "      <td>GOOD</td>\n",
       "    </tr>\n",
       "    <tr>\n",
       "      <th>2</th>\n",
       "      <td>PG</td>\n",
       "      <td>90</td>\n",
       "      <td>500</td>\n",
       "      <td>2018-08-10</td>\n",
       "      <td>2018-11-08</td>\n",
       "      <td>76.616516</td>\n",
       "      <td>86.719101</td>\n",
       "      <td>0.131859</td>\n",
       "      <td>GOOD</td>\n",
       "    </tr>\n",
       "    <tr>\n",
       "      <th>3</th>\n",
       "      <td>TSLA</td>\n",
       "      <td>5</td>\n",
       "      <td>200</td>\n",
       "      <td>2016-10-14</td>\n",
       "      <td>2016-10-19</td>\n",
       "      <td>39.301998</td>\n",
       "      <td>40.712002</td>\n",
       "      <td>0.035876</td>\n",
       "      <td>GOOD</td>\n",
       "    </tr>\n",
       "    <tr>\n",
       "      <th>4</th>\n",
       "      <td>FB</td>\n",
       "      <td>5</td>\n",
       "      <td>20000</td>\n",
       "      <td>2014-02-07</td>\n",
       "      <td>2014-02-12</td>\n",
       "      <td>64.320000</td>\n",
       "      <td>64.449997</td>\n",
       "      <td>0.002021</td>\n",
       "      <td>GOOD</td>\n",
       "    </tr>\n",
       "    <tr>\n",
       "      <th>...</th>\n",
       "      <td>...</td>\n",
       "      <td>...</td>\n",
       "      <td>...</td>\n",
       "      <td>...</td>\n",
       "      <td>...</td>\n",
       "      <td>...</td>\n",
       "      <td>...</td>\n",
       "      <td>...</td>\n",
       "      <td>...</td>\n",
       "    </tr>\n",
       "    <tr>\n",
       "      <th>39994</th>\n",
       "      <td>NVDA</td>\n",
       "      <td>210</td>\n",
       "      <td>100</td>\n",
       "      <td>2015-02-05</td>\n",
       "      <td>2015-09-03</td>\n",
       "      <td>19.721281</td>\n",
       "      <td>21.707588</td>\n",
       "      <td>0.100719</td>\n",
       "      <td>GOOD</td>\n",
       "    </tr>\n",
       "    <tr>\n",
       "      <th>39995</th>\n",
       "      <td>FB</td>\n",
       "      <td>720</td>\n",
       "      <td>500</td>\n",
       "      <td>2016-02-02</td>\n",
       "      <td>2018-01-22</td>\n",
       "      <td>114.610001</td>\n",
       "      <td>185.369995</td>\n",
       "      <td>0.617398</td>\n",
       "      <td>GOOD</td>\n",
       "    </tr>\n",
       "    <tr>\n",
       "      <th>39996</th>\n",
       "      <td>AAPL</td>\n",
       "      <td>720</td>\n",
       "      <td>300</td>\n",
       "      <td>2017-05-17</td>\n",
       "      <td>2019-05-07</td>\n",
       "      <td>35.876579</td>\n",
       "      <td>49.748940</td>\n",
       "      <td>0.386669</td>\n",
       "      <td>GOOD</td>\n",
       "    </tr>\n",
       "    <tr>\n",
       "      <th>39997</th>\n",
       "      <td>NVDA</td>\n",
       "      <td>300</td>\n",
       "      <td>300</td>\n",
       "      <td>2015-04-02</td>\n",
       "      <td>2016-01-27</td>\n",
       "      <td>20.347946</td>\n",
       "      <td>27.748758</td>\n",
       "      <td>0.363713</td>\n",
       "      <td>GOOD</td>\n",
       "    </tr>\n",
       "    <tr>\n",
       "      <th>39998</th>\n",
       "      <td>PG</td>\n",
       "      <td>20</td>\n",
       "      <td>200</td>\n",
       "      <td>2015-07-06</td>\n",
       "      <td>2015-07-27</td>\n",
       "      <td>67.737602</td>\n",
       "      <td>68.224007</td>\n",
       "      <td>0.007181</td>\n",
       "      <td>GOOD</td>\n",
       "    </tr>\n",
       "  </tbody>\n",
       "</table>\n",
       "<p>35553 rows × 9 columns</p>\n",
       "</div>"
      ],
      "text/plain": [
       "      company  horizon  amount date_BUY_fix date_SELL_fix   price_BUY  \\\n",
       "0        AMZN      600     400   2016-04-01    2017-11-22  598.500000   \n",
       "1        NVDA      120    1500   2017-11-24    2018-03-23  215.159576   \n",
       "2          PG       90     500   2018-08-10    2018-11-08   76.616516   \n",
       "3        TSLA        5     200   2016-10-14    2016-10-19   39.301998   \n",
       "4          FB        5   20000   2014-02-07    2014-02-12   64.320000   \n",
       "...       ...      ...     ...          ...           ...         ...   \n",
       "39994    NVDA      210     100   2015-02-05    2015-09-03   19.721281   \n",
       "39995      FB      720     500   2016-02-02    2018-01-22  114.610001   \n",
       "39996    AAPL      720     300   2017-05-17    2019-05-07   35.876579   \n",
       "39997    NVDA      300     300   2015-04-02    2016-01-27   20.347946   \n",
       "39998      PG       20     200   2015-07-06    2015-07-27   67.737602   \n",
       "\n",
       "        price_SELL  nominal_return investment  \n",
       "0      1156.160034        0.931763       GOOD  \n",
       "1       231.180344        0.074460       GOOD  \n",
       "2        86.719101        0.131859       GOOD  \n",
       "3        40.712002        0.035876       GOOD  \n",
       "4        64.449997        0.002021       GOOD  \n",
       "...            ...             ...        ...  \n",
       "39994    21.707588        0.100719       GOOD  \n",
       "39995   185.369995        0.617398       GOOD  \n",
       "39996    49.748940        0.386669       GOOD  \n",
       "39997    27.748758        0.363713       GOOD  \n",
       "39998    68.224007        0.007181       GOOD  \n",
       "\n",
       "[35553 rows x 9 columns]"
      ]
     },
     "execution_count": 41,
     "metadata": {},
     "output_type": "execute_result"
    }
   ],
   "source": [
    "transactions_ready"
   ]
  },
  {
   "cell_type": "code",
   "execution_count": 42,
   "metadata": {
    "colab": {
     "base_uri": "https://localhost:8080/"
    },
    "executionInfo": {
     "elapsed": 37954,
     "status": "ok",
     "timestamp": 1609188930014,
     "user": {
      "displayName": "Daniel Dabdub",
      "photoUrl": "https://lh6.googleusercontent.com/-qKoV5H3Fw5M/AAAAAAAAAAI/AAAAAAAAZro/jARb9IjBWek/s64/photo.jpg",
      "userId": "06642504652143825936"
     },
     "user_tz": 360
    },
    "id": "LRm2-G1j5vDK",
    "outputId": "9a0958f9-29a5-425f-937c-f682b59a0b56"
   },
   "outputs": [
    {
     "data": {
      "text/plain": [
       "GOOD    24660\n",
       "BAD     10502\n",
       "0         391\n",
       "Name: investment, dtype: int64"
      ]
     },
     "execution_count": 42,
     "metadata": {},
     "output_type": "execute_result"
    }
   ],
   "source": [
    "transactions_ready.investment.value_counts()"
   ]
  },
  {
   "cell_type": "markdown",
   "metadata": {
    "id": "Q3McOeD8JLcv"
   },
   "source": [
    "## Variables calculation"
   ]
  },
  {
   "cell_type": "markdown",
   "metadata": {
    "id": "v5VFtr8AJRvq"
   },
   "source": [
    "### Expected return"
   ]
  },
  {
   "cell_type": "code",
   "execution_count": 43,
   "metadata": {
    "executionInfo": {
     "elapsed": 556,
     "status": "ok",
     "timestamp": 1609192363656,
     "user": {
      "displayName": "Daniel Dabdub",
      "photoUrl": "https://lh6.googleusercontent.com/-qKoV5H3Fw5M/AAAAAAAAAAI/AAAAAAAAZro/jARb9IjBWek/s64/photo.jpg",
      "userId": "06642504652143825936"
     },
     "user_tz": 360
    },
    "id": "-VJny-2zSzBZ"
   },
   "outputs": [],
   "source": [
    "l_returns=list()\n",
    "l_stdDev=list()\n",
    "\n",
    "for company in companies:\n",
    "  company_pos=companies.index(company)\n",
    "  prices_r=l_companies_prices[company_pos]['Adj Close']\n",
    "\n",
    "  # Calculting log returns and std deviation\n",
    "  percent_change = prices_r.pct_change()\n",
    "  returns = np.log(1+percent_change)\n",
    "\n",
    "  meanReturn_daily = returns.mean()\n",
    "  stdDev_daily = returns.std()    \n",
    "\n",
    "  meanReturn_year= meanReturn_daily * 365\n",
    "  stdDev_year= stdDev_daily *stdDev_daily* 365\n",
    "\n",
    "  l_returns.append(meanReturn_year)\n",
    "  l_stdDev.append(stdDev_year)\n",
    "  \n"
   ]
  },
  {
   "cell_type": "code",
   "execution_count": 44,
   "metadata": {
    "executionInfo": {
     "elapsed": 602,
     "status": "ok",
     "timestamp": 1609192364316,
     "user": {
      "displayName": "Daniel Dabdub",
      "photoUrl": "https://lh6.googleusercontent.com/-qKoV5H3Fw5M/AAAAAAAAAAI/AAAAAAAAZro/jARb9IjBWek/s64/photo.jpg",
      "userId": "06642504652143825936"
     },
     "user_tz": 360
    },
    "id": "mdmSmRePVFWy"
   },
   "outputs": [],
   "source": [
    "companies_returns=list(zip(companies,l_returns))\n",
    "companies_stddev=list(zip(companies,l_stdDev))"
   ]
  },
  {
   "cell_type": "code",
   "execution_count": 45,
   "metadata": {
    "colab": {
     "base_uri": "https://localhost:8080/"
    },
    "executionInfo": {
     "elapsed": 259,
     "status": "ok",
     "timestamp": 1609192364530,
     "user": {
      "displayName": "Daniel Dabdub",
      "photoUrl": "https://lh6.googleusercontent.com/-qKoV5H3Fw5M/AAAAAAAAAAI/AAAAAAAAZro/jARb9IjBWek/s64/photo.jpg",
      "userId": "06642504652143825936"
     },
     "user_tz": 360
    },
    "id": "lTAjPhVOVJcS",
    "outputId": "decefc9b-0af2-4a73-cb48-e99a3261730d"
   },
   "outputs": [
    {
     "data": {
      "text/plain": [
       "[('AAPL', 0.3700680379142373),\n",
       " ('AMZN', 0.4447562102652766),\n",
       " ('MSFT', 0.34874318892447237),\n",
       " ('GOOG', 0.25098799000287664),\n",
       " ('FB', 0.33424316922218367),\n",
       " ('NVDA', 0.582100040715823),\n",
       " ('PG', 0.16589283819663966),\n",
       " ('TSLA', 0.6779141428282532)]"
      ]
     },
     "execution_count": 45,
     "metadata": {},
     "output_type": "execute_result"
    }
   ],
   "source": [
    "companies_returns"
   ]
  },
  {
   "cell_type": "code",
   "execution_count": 46,
   "metadata": {
    "id": "obTRwkhIVW9c"
   },
   "outputs": [],
   "source": [
    "#prueba de modificacion desde jupyter notebook."
   ]
  },
  {
   "cell_type": "code",
   "execution_count": null,
   "metadata": {},
   "outputs": [],
   "source": []
  }
 ],
 "metadata": {
  "colab": {
   "collapsed_sections": [],
   "name": "Dataset_Transacciones.ipynb",
   "provenance": []
  },
  "kernelspec": {
   "display_name": "Python 3",
   "language": "python",
   "name": "python3"
  },
  "language_info": {
   "codemirror_mode": {
    "name": "ipython",
    "version": 3
   },
   "file_extension": ".py",
   "mimetype": "text/x-python",
   "name": "python",
   "nbconvert_exporter": "python",
   "pygments_lexer": "ipython3",
   "version": "3.8.3"
  }
 },
 "nbformat": 4,
 "nbformat_minor": 1
}
