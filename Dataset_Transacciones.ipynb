{
 "cells": [
  {
   "cell_type": "markdown",
   "metadata": {
    "id": "83Xb7oH8HWwz"
   },
   "source": [
    "# 0.   Packages and Functions"
   ]
  },
  {
   "cell_type": "code",
   "execution_count": 1,
   "metadata": {
    "colab": {
     "base_uri": "https://localhost:8080/"
    },
    "executionInfo": {
     "elapsed": 2951,
     "status": "ok",
     "timestamp": 1609188894652,
     "user": {
      "displayName": "Daniel Dabdub",
      "photoUrl": "https://lh6.googleusercontent.com/-qKoV5H3Fw5M/AAAAAAAAAAI/AAAAAAAAZro/jARb9IjBWek/s64/photo.jpg",
      "userId": "06642504652143825936"
     },
     "user_tz": 360
    },
    "id": "0vFVdOUuHWw9",
    "outputId": "1bbddc3b-1bde-4bbe-f587-111640ff716b"
   },
   "outputs": [
    {
     "output_type": "stream",
     "name": "stdout",
     "text": [
      "Requirement already satisfied: pandas_datareader in d:\\programdata\\anaconda3\\lib\\site-packages (0.9.0)\nRequirement already satisfied: lxml in d:\\programdata\\anaconda3\\lib\\site-packages (from pandas_datareader) (4.5.2)\nRequirement already satisfied: pandas>=0.23 in d:\\programdata\\anaconda3\\lib\\site-packages (from pandas_datareader) (1.0.5)\nRequirement already satisfied: requests>=2.19.0 in d:\\programdata\\anaconda3\\lib\\site-packages (from pandas_datareader) (2.24.0)\nRequirement already satisfied: numpy>=1.13.3 in d:\\programdata\\anaconda3\\lib\\site-packages (from pandas>=0.23->pandas_datareader) (1.18.5)\nRequirement already satisfied: python-dateutil>=2.6.1 in d:\\programdata\\anaconda3\\lib\\site-packages (from pandas>=0.23->pandas_datareader) (2.8.1)\nRequirement already satisfied: pytz>=2017.2 in d:\\programdata\\anaconda3\\lib\\site-packages (from pandas>=0.23->pandas_datareader) (2020.1)\nRequirement already satisfied: chardet<4,>=3.0.2 in d:\\programdata\\anaconda3\\lib\\site-packages (from requests>=2.19.0->pandas_datareader) (3.0.4)\nRequirement already satisfied: idna<3,>=2.5 in d:\\programdata\\anaconda3\\lib\\site-packages (from requests>=2.19.0->pandas_datareader) (2.10)\nRequirement already satisfied: certifi>=2017.4.17 in d:\\programdata\\anaconda3\\lib\\site-packages (from requests>=2.19.0->pandas_datareader) (2020.6.20)\nRequirement already satisfied: urllib3!=1.25.0,!=1.25.1,<1.26,>=1.21.1 in d:\\programdata\\anaconda3\\lib\\site-packages (from requests>=2.19.0->pandas_datareader) (1.25.9)\nRequirement already satisfied: six>=1.5 in c:\\users\\imanr\\appdata\\roaming\\python\\python38\\site-packages (from python-dateutil>=2.6.1->pandas>=0.23->pandas_datareader) (1.15.0)\n"
     ]
    }
   ],
   "source": [
    "!pip install pandas_datareader"
   ]
  },
  {
   "cell_type": "code",
   "execution_count": 2,
   "metadata": {
    "executionInfo": {
     "elapsed": 2941,
     "status": "ok",
     "timestamp": 1609188894655,
     "user": {
      "displayName": "Daniel Dabdub",
      "photoUrl": "https://lh6.googleusercontent.com/-qKoV5H3Fw5M/AAAAAAAAAAI/AAAAAAAAZro/jARb9IjBWek/s64/photo.jpg",
      "userId": "06642504652143825936"
     },
     "user_tz": 360
    },
    "id": "XBk9WVJUHWw_"
   },
   "outputs": [],
   "source": [
    "\n",
    "#general\n",
    "import pandas as pd\n",
    "import numpy as np\n",
    "\n",
    "#for dates and times\n",
    "import random\n",
    "import time\n",
    "import datetime\n",
    "from pandas.tseries.holiday import USFederalHolidayCalendar\n",
    "\n",
    "#prices\n",
    "import pandas_datareader as web\n"
   ]
  },
  {
   "cell_type": "code",
   "execution_count": 3,
   "metadata": {
    "executionInfo": {
     "elapsed": 2935,
     "status": "ok",
     "timestamp": 1609188894656,
     "user": {
      "displayName": "Daniel Dabdub",
      "photoUrl": "https://lh6.googleusercontent.com/-qKoV5H3Fw5M/AAAAAAAAAAI/AAAAAAAAZro/jARb9IjBWek/s64/photo.jpg",
      "userId": "06642504652143825936"
     },
     "user_tz": 360
    },
    "id": "Q_FfFBRPHWxA"
   },
   "outputs": [],
   "source": [
    "\n",
    "\n",
    "def str_time_prop(start, end, format, prop):\n",
    "    \"\"\"Get a time at a proportion of a range of two formatted times.\n",
    "\n",
    "    start and end should be strings specifying times formated in the\n",
    "    given format (strftime-style), giving an interval [start, end].\n",
    "    prop specifies how a proportion of the interval to be taken after\n",
    "    start.  The returned time will be in the specified format.\n",
    "    \"\"\"\n",
    "\n",
    "    stime = time.mktime(time.strptime(start, format))\n",
    "    etime = time.mktime(time.strptime(end, format))\n",
    "\n",
    "    ptime = stime + prop * (etime - stime)\n",
    "\n",
    "    return time.strftime(format, time.localtime(ptime))\n",
    "\n",
    "\n",
    "def random_date(start, end, prop):\n",
    "    return str_time_prop(start, end, '%Y-%m-%d', prop)"
   ]
  },
  {
   "cell_type": "code",
   "execution_count": 4,
   "metadata": {
    "executionInfo": {
     "elapsed": 2931,
     "status": "ok",
     "timestamp": 1609188894656,
     "user": {
      "displayName": "Daniel Dabdub",
      "photoUrl": "https://lh6.googleusercontent.com/-qKoV5H3Fw5M/AAAAAAAAAAI/AAAAAAAAZro/jARb9IjBWek/s64/photo.jpg",
      "userId": "06642504652143825936"
     },
     "user_tz": 360
    },
    "id": "LWzVUjCMuqtA"
   },
   "outputs": [],
   "source": [
    "def weekend2weekday (transactions, col_date, col_day):\n",
    "\n",
    "\n",
    "  dates2_BUY=list()\n",
    "  days2_BUY=list()\n",
    "\n",
    "  for index,row in transactions.iterrows():\n",
    "    buy_date = datetime.datetime.strptime(row[col_date], \"%Y-%m-%d\")\n",
    "    if row[col_day]=='Sat':\n",
    "      buy_date2 = buy_date - datetime.timedelta(1)\n",
    "      dates2_BUY.append(buy_date2)\n",
    "\n",
    "      buy_day2='Fri'\n",
    "      days2_BUY.append(buy_day2)\n",
    "    elif row[col_day]=='Sun':\n",
    "      buy_date = datetime.datetime.strptime(row[col_day], \"%Y-%m-%d\")\n",
    "      buy_date2 = buy_date + datetime.timedelta(1)\n",
    "      dates2_BUY.append(buy_date2)\n",
    "\n",
    "      buy_day2='Mon'\n",
    "      days2_BUY.append(buy_day2)\n",
    "    else:\n",
    "      buy_date2=row[col_date]\n",
    "      dates2_BUY.append(buy_date2)\n",
    "      buy_day2=row[col_day]\n",
    "      days2_BUY.append(buy_day2)\n",
    "\n",
    "    transactions['date_BUY_fix']=dates2_BUY\n",
    "    transactions['day_BUY_fix']=days2_BUY\n",
    "\n",
    "\n",
    "  return transactions"
   ]
  },
  {
   "cell_type": "markdown",
   "metadata": {
    "id": "Pvb9migKHWxB"
   },
   "source": [
    "# 1. Setting investment parameters"
   ]
  },
  {
   "cell_type": "markdown",
   "metadata": {
    "id": "eUVjdqFBHWxC"
   },
   "source": [
    "## Temporal horizons\n",
    " In number of days\n",
    " - 1 day to 2 years"
   ]
  },
  {
   "cell_type": "code",
   "execution_count": 5,
   "metadata": {
    "executionInfo": {
     "elapsed": 2926,
     "status": "ok",
     "timestamp": 1609188894657,
     "user": {
      "displayName": "Daniel Dabdub",
      "photoUrl": "https://lh6.googleusercontent.com/-qKoV5H3Fw5M/AAAAAAAAAAI/AAAAAAAAZro/jARb9IjBWek/s64/photo.jpg",
      "userId": "06642504652143825936"
     },
     "user_tz": 360
    },
    "id": "tq4RiMLqHWxF"
   },
   "outputs": [],
   "source": [
    "horizons=[1,2,3,4,5,6,7,10,15,20,30,40,50,60,70,80,90,100,120,150,180,210,240,270,300,330,360,420,480,540,600,660,720]\n"
   ]
  },
  {
   "cell_type": "markdown",
   "metadata": {
    "id": "u14ARLWFHWxG"
   },
   "source": [
    "## Amounts in dollars\n",
    " - 50 to 50,000 dollars"
   ]
  },
  {
   "cell_type": "code",
   "execution_count": 6,
   "metadata": {
    "executionInfo": {
     "elapsed": 2920,
     "status": "ok",
     "timestamp": 1609188894657,
     "user": {
      "displayName": "Daniel Dabdub",
      "photoUrl": "https://lh6.googleusercontent.com/-qKoV5H3Fw5M/AAAAAAAAAAI/AAAAAAAAZro/jARb9IjBWek/s64/photo.jpg",
      "userId": "06642504652143825936"
     },
     "user_tz": 360
    },
    "id": "JO64rZAfHWxI"
   },
   "outputs": [],
   "source": [
    "amounts=[50,100,200,300,400,500,1000,1500,2000,3000,4000,5000,10000,15000,20000,25000,50000]"
   ]
  },
  {
   "cell_type": "markdown",
   "metadata": {
    "id": "PRO9Gv5XHWxJ"
   },
   "source": [
    "# 2. Data extraction"
   ]
  },
  {
   "cell_type": "markdown",
   "metadata": {
    "id": "OizEc3VRHWxK"
   },
   "source": [
    "## Companies' stock prices"
   ]
  },
  {
   "cell_type": "code",
   "execution_count": 7,
   "metadata": {
    "executionInfo": {
     "elapsed": 2915,
     "status": "ok",
     "timestamp": 1609188894658,
     "user": {
      "displayName": "Daniel Dabdub",
      "photoUrl": "https://lh6.googleusercontent.com/-qKoV5H3Fw5M/AAAAAAAAAAI/AAAAAAAAZro/jARb9IjBWek/s64/photo.jpg",
      "userId": "06642504652143825936"
     },
     "user_tz": 360
    },
    "id": "BKv-SEm-HWxN"
   },
   "outputs": [],
   "source": [
    "#Selecting a list of companies we are interested in analyzing:\n",
    "companies = ['AAPL',\n",
    "            'AMZN',\n",
    "            'MSFT',\n",
    "            'GOOG',\n",
    "            'FB',\n",
    "            'VISA',\n",
    "            'NVDA',\n",
    "            'PG',\n",
    "            'TSLA']"
   ]
  },
  {
   "cell_type": "markdown",
   "metadata": {
    "id": "avte3T6hHWxO"
   },
   "source": [
    "We are going to extract info from 10 years from the companies selected"
   ]
  },
  {
   "cell_type": "code",
   "execution_count": 8,
   "metadata": {
    "colab": {
     "base_uri": "https://localhost:8080/"
    },
    "executionInfo": {
     "elapsed": 7984,
     "status": "ok",
     "timestamp": 1609188899736,
     "user": {
      "displayName": "Daniel Dabdub",
      "photoUrl": "https://lh6.googleusercontent.com/-qKoV5H3Fw5M/AAAAAAAAAAI/AAAAAAAAZro/jARb9IjBWek/s64/photo.jpg",
      "userId": "06642504652143825936"
     },
     "user_tz": 360
    },
    "id": "QjIPhDKXHWxO",
    "outputId": "6976a38b-befa-4db3-b589-6df7a493c043"
   },
   "outputs": [
    {
     "output_type": "stream",
     "name": "stdout",
     "text": [
      "AAPL\n",
      "AMZN\n",
      "MSFT\n",
      "GOOG\n",
      "FB\n",
      "There were  errors when extracting data of   VISA\n",
      "NVDA\n",
      "PG\n",
      "TSLA\n"
     ]
    }
   ],
   "source": [
    "#Collecting the data of each company in a list\n",
    "l_companies_prices=list()\n",
    "error_companies=list()\n",
    "\n",
    "for company in companies:\n",
    "    try:\n",
    "        prices= web.DataReader(company, data_source='yahoo', start='2010-10-10', end='2020-10-10')\n",
    "        l_companies_prices.append(prices)\n",
    "        print(company)\n",
    "    \n",
    "    except :\n",
    "        print('There were  errors when extracting data of  ', company)\n",
    "        #elimino de la lista esa empresa que no se consiguieron datos.\n",
    "        error_companies.append(company)\n",
    "\n",
    "for c in error_companies:\n",
    "  companies.remove(c)\n",
    "    "
   ]
  },
  {
   "cell_type": "code",
   "execution_count": 9,
   "metadata": {
    "colab": {
     "base_uri": "https://localhost:8080/"
    },
    "executionInfo": {
     "elapsed": 7978,
     "status": "ok",
     "timestamp": 1609188899739,
     "user": {
      "displayName": "Daniel Dabdub",
      "photoUrl": "https://lh6.googleusercontent.com/-qKoV5H3Fw5M/AAAAAAAAAAI/AAAAAAAAZro/jARb9IjBWek/s64/photo.jpg",
      "userId": "06642504652143825936"
     },
     "user_tz": 360
    },
    "id": "xFMTSlZWHWxP",
    "outputId": "269f9899-0726-48c4-d4c7-bfdd9aeed622"
   },
   "outputs": [
    {
     "output_type": "execute_result",
     "data": {
      "text/plain": [
       "['AAPL', 'AMZN', 'MSFT', 'GOOG', 'FB', 'NVDA', 'PG', 'TSLA']"
      ]
     },
     "metadata": {},
     "execution_count": 9
    }
   ],
   "source": [
    "companies"
   ]
  },
  {
   "cell_type": "code",
   "execution_count": 10,
   "metadata": {
    "colab": {
     "base_uri": "https://localhost:8080/"
    },
    "executionInfo": {
     "elapsed": 7967,
     "status": "ok",
     "timestamp": 1609188899740,
     "user": {
      "displayName": "Daniel Dabdub",
      "photoUrl": "https://lh6.googleusercontent.com/-qKoV5H3Fw5M/AAAAAAAAAAI/AAAAAAAAZro/jARb9IjBWek/s64/photo.jpg",
      "userId": "06642504652143825936"
     },
     "user_tz": 360
    },
    "id": "iUYZrKXLmbF5",
    "outputId": "ae0e562e-ede0-4b88-9cde-8b44ec3036dc"
   },
   "outputs": [
    {
     "output_type": "execute_result",
     "data": {
      "text/plain": [
       "8"
      ]
     },
     "metadata": {},
     "execution_count": 10
    }
   ],
   "source": [
    "len(l_companies_prices)"
   ]
  },
  {
   "cell_type": "code",
   "execution_count": 11,
   "metadata": {
    "colab": {
     "base_uri": "https://localhost:8080/"
    },
    "executionInfo": {
     "elapsed": 7958,
     "status": "ok",
     "timestamp": 1609188899741,
     "user": {
      "displayName": "Daniel Dabdub",
      "photoUrl": "https://lh6.googleusercontent.com/-qKoV5H3Fw5M/AAAAAAAAAAI/AAAAAAAAZro/jARb9IjBWek/s64/photo.jpg",
      "userId": "06642504652143825936"
     },
     "user_tz": 360
    },
    "id": "sbDmjtWSmpmX",
    "outputId": "1de4229f-0e8d-4b5b-ba9d-a8f0ccd77586"
   },
   "outputs": [
    {
     "output_type": "execute_result",
     "data": {
      "text/plain": [
       "8"
      ]
     },
     "metadata": {},
     "execution_count": 11
    }
   ],
   "source": [
    "len(companies)"
   ]
  },
  {
   "cell_type": "code",
   "execution_count": 12,
   "metadata": {
    "colab": {
     "base_uri": "https://localhost:8080/"
    },
    "executionInfo": {
     "elapsed": 7945,
     "status": "ok",
     "timestamp": 1609188899741,
     "user": {
      "displayName": "Daniel Dabdub",
      "photoUrl": "https://lh6.googleusercontent.com/-qKoV5H3Fw5M/AAAAAAAAAAI/AAAAAAAAZro/jARb9IjBWek/s64/photo.jpg",
      "userId": "06642504652143825936"
     },
     "user_tz": 360
    },
    "id": "53lX5l0UHWxR",
    "outputId": "79d68dc5-603e-4741-a4bb-bd617fe8256f"
   },
   "outputs": [
    {
     "output_type": "stream",
     "name": "stdout",
     "text": [
      "AAPL\n"
     ]
    },
    {
     "output_type": "execute_result",
     "data": {
      "text/plain": [
       "Index(['High', 'Low', 'Open', 'Close', 'Volume', 'Adj Close'], dtype='object')"
      ]
     },
     "metadata": {},
     "execution_count": 12
    }
   ],
   "source": [
    "print(companies[0])\n",
    "l_companies_prices[0].columns"
   ]
  },
  {
   "cell_type": "code",
   "execution_count": 13,
   "metadata": {
    "colab": {
     "base_uri": "https://localhost:8080/"
    },
    "executionInfo": {
     "elapsed": 7935,
     "status": "ok",
     "timestamp": 1609188899742,
     "user": {
      "displayName": "Daniel Dabdub",
      "photoUrl": "https://lh6.googleusercontent.com/-qKoV5H3Fw5M/AAAAAAAAAAI/AAAAAAAAZro/jARb9IjBWek/s64/photo.jpg",
      "userId": "06642504652143825936"
     },
     "user_tz": 360
    },
    "id": "oaXmsayOOdmD",
    "outputId": "819b4b7b-52ba-4d3d-f602-d46b112d751f"
   },
   "outputs": [
    {
     "output_type": "execute_result",
     "data": {
      "text/plain": [
       "10.54857063293457"
      ]
     },
     "metadata": {},
     "execution_count": 13
    }
   ],
   "source": [
    "company_pos=companies.index(\"AAPL\")\n",
    "l_companies_prices[company_pos].loc['2010-10-11','Close']"
   ]
  },
  {
   "cell_type": "code",
   "execution_count": 14,
   "metadata": {
    "executionInfo": {
     "elapsed": 7925,
     "status": "ok",
     "timestamp": 1609188899742,
     "user": {
      "displayName": "Daniel Dabdub",
      "photoUrl": "https://lh6.googleusercontent.com/-qKoV5H3Fw5M/AAAAAAAAAAI/AAAAAAAAZro/jARb9IjBWek/s64/photo.jpg",
      "userId": "06642504652143825936"
     },
     "user_tz": 360
    },
    "id": "iGKoZRi7cQxV"
   },
   "outputs": [],
   "source": [
    "l_companies_prices[7].to_csv('PG_prices.csv')"
   ]
  },
  {
   "cell_type": "code",
   "execution_count": 15,
   "metadata": {
    "colab": {
     "base_uri": "https://localhost:8080/",
     "height": 436
    },
    "executionInfo": {
     "elapsed": 496,
     "status": "ok",
     "timestamp": 1609189323938,
     "user": {
      "displayName": "Daniel Dabdub",
      "photoUrl": "https://lh6.googleusercontent.com/-qKoV5H3Fw5M/AAAAAAAAAAI/AAAAAAAAZro/jARb9IjBWek/s64/photo.jpg",
      "userId": "06642504652143825936"
     },
     "user_tz": 360
    },
    "id": "lsHnv0HrKFsH",
    "outputId": "9891dc7f-91a3-4e4b-b4b9-e67aececbc01"
   },
   "outputs": [
    {
     "output_type": "execute_result",
     "data": {
      "text/plain": [
       "                  High         Low        Open       Close      Volume  \\\n",
       "Date                                                                     \n",
       "2010-10-11    4.140000    4.014000    4.088000    4.048000    856000.0   \n",
       "2010-10-12    4.056000    4.006000    4.040000    4.048000   1220000.0   \n",
       "2010-10-13    4.170000    4.072000    4.128000    4.108000   1591000.0   \n",
       "2010-10-14    4.206000    4.080000    4.200000    4.150000   1474000.0   \n",
       "2010-10-15    4.180000    4.050000    4.178000    4.108000   1423500.0   \n",
       "...                ...         ...         ...         ...         ...   \n",
       "2020-10-05  433.640015  419.329987  423.350006  425.679993  44722800.0   \n",
       "2020-10-06  428.779999  406.049988  423.790009  413.980011  49146300.0   \n",
       "2020-10-07  429.899994  413.850006  419.869995  425.299988  43127700.0   \n",
       "2020-10-08  439.000000  425.299988  438.440002  425.920013  40421100.0   \n",
       "2020-10-09  434.589996  426.459991  430.130005  434.000000  28925700.0   \n",
       "\n",
       "             Adj Close  \n",
       "Date                    \n",
       "2010-10-11    4.048000  \n",
       "2010-10-12    4.048000  \n",
       "2010-10-13    4.108000  \n",
       "2010-10-14    4.150000  \n",
       "2010-10-15    4.108000  \n",
       "...                ...  \n",
       "2020-10-05  425.679993  \n",
       "2020-10-06  413.980011  \n",
       "2020-10-07  425.299988  \n",
       "2020-10-08  425.920013  \n",
       "2020-10-09  434.000000  \n",
       "\n",
       "[2518 rows x 6 columns]"
      ],
      "text/html": "<div>\n<style scoped>\n    .dataframe tbody tr th:only-of-type {\n        vertical-align: middle;\n    }\n\n    .dataframe tbody tr th {\n        vertical-align: top;\n    }\n\n    .dataframe thead th {\n        text-align: right;\n    }\n</style>\n<table border=\"1\" class=\"dataframe\">\n  <thead>\n    <tr style=\"text-align: right;\">\n      <th></th>\n      <th>High</th>\n      <th>Low</th>\n      <th>Open</th>\n      <th>Close</th>\n      <th>Volume</th>\n      <th>Adj Close</th>\n    </tr>\n    <tr>\n      <th>Date</th>\n      <th></th>\n      <th></th>\n      <th></th>\n      <th></th>\n      <th></th>\n      <th></th>\n    </tr>\n  </thead>\n  <tbody>\n    <tr>\n      <th>2010-10-11</th>\n      <td>4.140000</td>\n      <td>4.014000</td>\n      <td>4.088000</td>\n      <td>4.048000</td>\n      <td>856000.0</td>\n      <td>4.048000</td>\n    </tr>\n    <tr>\n      <th>2010-10-12</th>\n      <td>4.056000</td>\n      <td>4.006000</td>\n      <td>4.040000</td>\n      <td>4.048000</td>\n      <td>1220000.0</td>\n      <td>4.048000</td>\n    </tr>\n    <tr>\n      <th>2010-10-13</th>\n      <td>4.170000</td>\n      <td>4.072000</td>\n      <td>4.128000</td>\n      <td>4.108000</td>\n      <td>1591000.0</td>\n      <td>4.108000</td>\n    </tr>\n    <tr>\n      <th>2010-10-14</th>\n      <td>4.206000</td>\n      <td>4.080000</td>\n      <td>4.200000</td>\n      <td>4.150000</td>\n      <td>1474000.0</td>\n      <td>4.150000</td>\n    </tr>\n    <tr>\n      <th>2010-10-15</th>\n      <td>4.180000</td>\n      <td>4.050000</td>\n      <td>4.178000</td>\n      <td>4.108000</td>\n      <td>1423500.0</td>\n      <td>4.108000</td>\n    </tr>\n    <tr>\n      <th>...</th>\n      <td>...</td>\n      <td>...</td>\n      <td>...</td>\n      <td>...</td>\n      <td>...</td>\n      <td>...</td>\n    </tr>\n    <tr>\n      <th>2020-10-05</th>\n      <td>433.640015</td>\n      <td>419.329987</td>\n      <td>423.350006</td>\n      <td>425.679993</td>\n      <td>44722800.0</td>\n      <td>425.679993</td>\n    </tr>\n    <tr>\n      <th>2020-10-06</th>\n      <td>428.779999</td>\n      <td>406.049988</td>\n      <td>423.790009</td>\n      <td>413.980011</td>\n      <td>49146300.0</td>\n      <td>413.980011</td>\n    </tr>\n    <tr>\n      <th>2020-10-07</th>\n      <td>429.899994</td>\n      <td>413.850006</td>\n      <td>419.869995</td>\n      <td>425.299988</td>\n      <td>43127700.0</td>\n      <td>425.299988</td>\n    </tr>\n    <tr>\n      <th>2020-10-08</th>\n      <td>439.000000</td>\n      <td>425.299988</td>\n      <td>438.440002</td>\n      <td>425.920013</td>\n      <td>40421100.0</td>\n      <td>425.920013</td>\n    </tr>\n    <tr>\n      <th>2020-10-09</th>\n      <td>434.589996</td>\n      <td>426.459991</td>\n      <td>430.130005</td>\n      <td>434.000000</td>\n      <td>28925700.0</td>\n      <td>434.000000</td>\n    </tr>\n  </tbody>\n</table>\n<p>2518 rows × 6 columns</p>\n</div>"
     },
     "metadata": {},
     "execution_count": 15
    }
   ],
   "source": [
    "l_companies_prices[7]"
   ]
  },
  {
   "source": [
    "VOLATILITY"
   ],
   "cell_type": "markdown",
   "metadata": {}
  },
  {
   "cell_type": "code",
   "execution_count": 16,
   "metadata": {
    "tags": []
   },
   "outputs": [],
   "source": [
    "l_volatilities = []\n",
    "for company in companies:\n",
    "    company_pos=companies.index(company)\n",
    "    df_company_prices = pd.DataFrame(l_companies_prices[company_pos])\n",
    "    log_ret = np.log(df_company_prices['Close'] / df_company_prices['Close'].shift(1))\n",
    "    volatility = log_ret.rolling(window=252).std() * np.sqrt(252)\n",
    "    df_company_prices.insert(2, \"Volatility\", volatility, True)\n",
    "    l_volatilities.append(df_company_prices)\n",
    "\n",
    "\n"
   ]
  },
  {
   "cell_type": "code",
   "execution_count": 17,
   "metadata": {},
   "outputs": [
    {
     "output_type": "stream",
     "name": "stdout",
     "text": [
      "[                  High         Low  Volatility        Open       Close  \\\nDate                                                                     \n2010-10-11   10.615714   10.521429         NaN   10.526429   10.548571   \n2010-10-12   10.696429   10.446071         NaN   10.550357   10.662143   \n2010-10-13   10.784286   10.707143         NaN   10.721429   10.719286   \n2010-10-14   10.802500   10.728571         NaN   10.774643   10.796786   \n2010-10-15   11.250000   10.889643         NaN   10.980000   11.240714   \n...                ...         ...         ...         ...         ...   \n2020-10-05  116.650002  113.550003    0.444997  113.910004  116.500000   \n2020-10-06  116.120003  112.250000    0.446135  115.699997  113.160004   \n2020-10-07  115.550003  114.129997    0.446117  114.620003  115.080002   \n2020-10-08  116.400002  114.589996    0.446045  116.250000  114.970001   \n2020-10-09  117.000000  114.919998    0.446154  115.279999  116.970001   \n\n                 Volume   Adj Close  \nDate                                 \n2010-10-11  427753200.0    9.099727  \n2010-10-12  558544000.0    9.197704  \n2010-10-13  630092400.0    9.247000  \n2010-10-14  435296400.0    9.313856  \n2010-10-15  922194000.0    9.696809  \n...                 ...         ...  \n2020-10-05  106243800.0  116.299355  \n2020-10-06  161498200.0  112.965111  \n2020-10-07   96849000.0  114.881805  \n2020-10-08   83477200.0  114.771988  \n2020-10-09  100506900.0  116.768547  \n\n[2518 rows x 7 columns],                    High          Low  Volatility         Open        Close  \\\nDate                                                                         \n2010-10-11   156.630005   152.339996         NaN   154.889999   153.029999   \n2010-10-12   156.949997   151.399994         NaN   152.509995   156.479996   \n2010-10-13   156.789993   153.850006         NaN   156.690002   155.169998   \n2010-10-14   156.949997   154.229996         NaN   155.160004   155.529999   \n2010-10-15   164.880005   156.750000         NaN   158.419998   164.639999   \n...                 ...          ...         ...          ...          ...   \n2020-10-05  3202.530029  3140.850098    0.357626  3145.840088  3199.199951   \n2020-10-06  3182.000000  3090.000000    0.359176  3165.000000  3099.959961   \n2020-10-07  3200.000000  3132.389893    0.359809  3135.000000  3195.689941   \n2020-10-08  3233.290039  3174.989990    0.359761  3224.989990  3190.550049   \n2020-10-09  3288.989990  3197.830078    0.360772  3210.000000  3286.649902   \n\n              Volume    Adj Close  \nDate                               \n2010-10-11   4486400   153.029999  \n2010-10-12   5280800   156.479996  \n2010-10-13   5632800   155.169998  \n2010-10-14   4024100   155.529999  \n2010-10-15  10135500   164.639999  \n...              ...          ...  \n2020-10-05   3775300  3199.199951  \n2020-10-06   5086900  3099.959961  \n2020-10-07   4309400  3195.689941  \n2020-10-08   3174100  3190.550049  \n2020-10-09   4907900  3286.649902  \n\n[2518 rows x 7 columns],                   High         Low  Volatility        Open       Close  \\\nDate                                                                     \n2010-10-11   24.740000   24.500000         NaN   24.740000   24.590000   \n2010-10-12   24.930000   24.430000         NaN   24.650000   24.830000   \n2010-10-13   25.540001   24.889999         NaN   25.020000   25.340000   \n2010-10-14   25.340000   25.000000         NaN   25.290001   25.230000   \n2010-10-15   25.549999   25.230000         NaN   25.360001   25.540001   \n...                ...         ...         ...         ...         ...   \n2020-10-05  210.410004  206.979996    0.427042  207.220001  210.380005   \n2020-10-06  210.179993  204.820007    0.427577  208.820007  205.910004   \n2020-10-07  210.110001  206.720001    0.427746  207.059998  209.830002   \n2020-10-08  211.190002  208.320007    0.427408  210.509995  210.580002   \n2020-10-09  215.860001  211.229996    0.427996  211.229996  215.809998   \n\n                Volume   Adj Close  \nDate                                \n2010-10-11  27587800.0   19.431374  \n2010-10-12  50141500.0   19.621023  \n2010-10-13  75336500.0   20.024035  \n2010-10-14  51949100.0   19.937109  \n2010-10-15  68954800.0   20.182076  \n...                ...         ...  \n2020-10-05  21331600.0  209.830658  \n2020-10-06  28554300.0  205.372330  \n2020-10-07  25681100.0  209.282089  \n2020-10-08  19925800.0  210.030136  \n2020-10-09  26458000.0  215.246475  \n\n[2518 rows x 7 columns],                    High          Low  Volatility         Open        Close  \\\nDate                                                                         \n2010-10-11   271.283173   267.582031         NaN   268.234589   268.413910   \n2010-10-12   271.975555   267.890869         NaN   269.051544   269.684143   \n2010-10-13   272.722778   270.152405         NaN   272.478668   270.635590   \n2010-10-14   271.606964   267.552155         NaN   271.073944   269.455017   \n2010-10-15   299.696655   294.695404         NaN   298.516083   299.602020   \n...                 ...          ...         ...          ...          ...   \n2020-10-05  1488.209961  1464.270020    0.366517  1466.209961  1486.020020   \n2020-10-06  1486.760010  1448.589966    0.367233  1475.579956  1453.439941   \n2020-10-07  1468.959961  1436.000000    0.366892  1464.290039  1460.290039   \n2020-10-08  1490.000000  1465.089966    0.367126  1465.089966  1485.930054   \n2020-10-09  1516.520020  1489.449951    0.367575  1494.699951  1515.219971   \n\n                Volume    Adj Close  \nDate                                 \n2010-10-11   5272288.0   268.413910  \n2010-10-12   7535339.0   269.684143  \n2010-10-13   6134106.0   270.635590  \n2010-10-14  13317932.0   269.455017  \n2010-10-15  29760734.0   299.602020  \n...                ...          ...  \n2020-10-05   1113300.0  1486.020020  \n2020-10-06   1245400.0  1453.439941  \n2020-10-07   1746200.0  1460.290039  \n2020-10-08   1187800.0  1485.930054  \n2020-10-09   1435300.0  1515.219971  \n\n[2518 rows x 7 columns],                   High         Low  Volatility        Open       Close  \\\nDate                                                                     \n2012-05-18   45.000000   38.000000         NaN   42.049999   38.230000   \n2012-05-21   36.660000   33.000000         NaN   36.529999   34.029999   \n2012-05-22   33.590000   30.940001         NaN   32.610001   31.000000   \n2012-05-23   32.500000   31.360001         NaN   31.370001   32.000000   \n2012-05-24   33.209999   31.770000         NaN   32.950001   33.029999   \n...                ...         ...         ...         ...         ...   \n2020-10-05  264.869995  260.839996    0.433419  262.200012  264.649994   \n2020-10-06  265.690002  258.239990    0.434068  261.779999  258.660004   \n2020-10-07  260.179993  254.820007    0.433909  259.209991  258.119995   \n2020-10-08  264.619995  259.149994    0.434256  259.750000  263.760010   \n2020-10-09  264.750000  262.170013    0.434257  264.519989  264.450012   \n\n               Volume   Adj Close  \nDate                               \n2012-05-18  573576400   38.230000  \n2012-05-21  168192700   34.029999  \n2012-05-22  101786600   31.000000  \n2012-05-23   73600000   32.000000  \n2012-05-24   50237200   33.029999  \n...               ...         ...  \n2020-10-05   12822300  264.649994  \n2020-10-06   18696900  258.660004  \n2020-10-07   23133400  258.119995  \n2020-10-08   16312800  263.760010  \n2020-10-09   14107800  264.450012  \n\n[2113 rows x 7 columns],                   High         Low  Volatility        Open       Close  \\\nDate                                                                     \n2010-10-11   11.000000   10.760000         NaN   10.910000   10.810000   \n2010-10-12   11.070000   10.630000         NaN   10.720000   11.020000   \n2010-10-13   11.500000   11.080000         NaN   11.200000   11.340000   \n2010-10-14   11.370000   11.110000         NaN   11.350000   11.160000   \n2010-10-15   11.470000   11.160000         NaN   11.340000   11.290000   \n...                ...         ...         ...         ...         ...   \n2020-10-05  545.770020  528.909973    0.569931  529.440002  545.700012   \n2020-10-06  565.679993  546.599976    0.569872  553.200012  549.460022   \n2020-10-07  564.770020  554.539978    0.568312  559.989990  558.559998   \n2020-10-08  563.380005  550.320007    0.568276  563.000000  553.549988   \n2020-10-09  552.969971  546.429993    0.568302  550.679993  550.510010   \n\n                Volume   Adj Close  \nDate                                \n2010-10-11  11067000.0    9.938853  \n2010-10-12  15130200.0   10.131928  \n2010-10-13  24218300.0   10.426142  \n2010-10-14  14979300.0   10.260649  \n2010-10-15  15998500.0   10.380170  \n...                ...         ...  \n2020-10-05  11995500.0  545.538818  \n2020-10-06  19610500.0  549.297729  \n2020-10-07  10452100.0  558.395020  \n2020-10-08   9472500.0  553.386475  \n2020-10-09   8672300.0  550.347412  \n\n[2518 rows x 7 columns],                   High         Low  Volatility        Open       Close  \\\nDate                                                                     \n2010-10-11   62.209999   61.860001         NaN   61.919998   62.139999   \n2010-10-12   62.180000   61.560001         NaN   62.009998   62.020000   \n2010-10-13   62.930000   62.080002         NaN   62.230000   62.630001   \n2010-10-14   62.840000   62.520000         NaN   62.669998   62.799999   \n2010-10-15   63.000000   62.549999         NaN   62.970001   62.759998   \n...                ...         ...         ...         ...         ...   \n2020-10-05  139.649994  138.300003    0.323947  138.720001  139.389999   \n2020-10-06  140.770004  138.809998    0.323797  139.419998  139.610001   \n2020-10-07  141.389999  139.369995    0.323470  140.080002  140.699997   \n2020-10-08  141.929993  140.360001    0.323428  140.559998  141.649994   \n2020-10-09  143.639999  141.699997    0.323533  141.839996  142.919998   \n\n                Volume   Adj Close  \nDate                                \n2010-10-11   7425200.0   45.275635  \n2010-10-12  24975000.0   45.188206  \n2010-10-13   9906000.0   45.632656  \n2010-10-14   8771400.0   45.756523  \n2010-10-15   9943500.0   45.727375  \n...                ...         ...  \n2020-10-05   6333900.0  138.620316  \n2020-10-06   6042900.0  138.839096  \n2020-10-07   4640900.0  139.923080  \n2020-10-08   4569800.0  140.867828  \n2020-10-09   6551700.0  142.130814  \n\n[2518 rows x 7 columns],                   High         Low  Volatility        Open       Close  \\\nDate                                                                     \n2010-10-11    4.140000    4.014000         NaN    4.088000    4.048000   \n2010-10-12    4.056000    4.006000         NaN    4.040000    4.048000   \n2010-10-13    4.170000    4.072000         NaN    4.128000    4.108000   \n2010-10-14    4.206000    4.080000         NaN    4.200000    4.150000   \n2010-10-15    4.180000    4.050000         NaN    4.178000    4.108000   \n...                ...         ...         ...         ...         ...   \n2020-10-05  433.640015  419.329987    0.885442  423.350006  425.679993   \n2020-10-06  428.779999  406.049988    0.886014  423.790009  413.980011   \n2020-10-07  429.899994  413.850006    0.886204  419.869995  425.299988   \n2020-10-08  439.000000  425.299988    0.886178  438.440002  425.920013   \n2020-10-09  434.589996  426.459991    0.886202  430.130005  434.000000   \n\n                Volume   Adj Close  \nDate                                \n2010-10-11    856000.0    4.048000  \n2010-10-12   1220000.0    4.048000  \n2010-10-13   1591000.0    4.108000  \n2010-10-14   1474000.0    4.150000  \n2010-10-15   1423500.0    4.108000  \n...                ...         ...  \n2020-10-05  44722800.0  425.679993  \n2020-10-06  49146300.0  413.980011  \n2020-10-07  43127700.0  425.299988  \n2020-10-08  40421100.0  425.920013  \n2020-10-09  28925700.0  434.000000  \n\n[2518 rows x 7 columns]]\n"
     ]
    }
   ],
   "source": [
    "print(l_volatilities)"
   ]
  },
  {
   "source": [
    "# 3. Random transactions"
   ],
   "cell_type": "markdown",
   "metadata": {
    "id": "QXM6dTYrHWxS"
   }
  },
  {
   "cell_type": "code",
   "execution_count": 18,
   "metadata": {
    "executionInfo": {
     "elapsed": 7921,
     "status": "ok",
     "timestamp": 1609188899743,
     "user": {
      "displayName": "Daniel Dabdub",
      "photoUrl": "https://lh6.googleusercontent.com/-qKoV5H3Fw5M/AAAAAAAAAAI/AAAAAAAAZro/jARb9IjBWek/s64/photo.jpg",
      "userId": "06642504652143825936"
     },
     "user_tz": 360
    },
    "id": "FbTbstE2HWxS"
   },
   "outputs": [],
   "source": [
    "transactions=pd.DataFrame()\n",
    "#we do 40,000 initial transactions\n",
    "\n",
    "#id\n",
    "transactions['id']=range(1,40001)"
   ]
  },
  {
   "cell_type": "markdown",
   "metadata": {
    "id": "CGxBin49ynt1"
   },
   "source": [
    "## Companies"
   ]
  },
  {
   "cell_type": "code",
   "execution_count": 19,
   "metadata": {
    "executionInfo": {
     "elapsed": 7916,
     "status": "ok",
     "timestamp": 1609188899743,
     "user": {
      "displayName": "Daniel Dabdub",
      "photoUrl": "https://lh6.googleusercontent.com/-qKoV5H3Fw5M/AAAAAAAAAAI/AAAAAAAAZro/jARb9IjBWek/s64/photo.jpg",
      "userId": "06642504652143825936"
     },
     "user_tz": 360
    },
    "id": "gO_r1eihN4N3"
   },
   "outputs": [],
   "source": [
    "#random company\n",
    "transactions[\"company\"]=np.random.choice(companies, size=len(transactions))"
   ]
  },
  {
   "cell_type": "markdown",
   "metadata": {
    "id": "f6D5TbzNyrCA"
   },
   "source": [
    "## Horizons"
   ]
  },
  {
   "cell_type": "code",
   "execution_count": 20,
   "metadata": {
    "executionInfo": {
     "elapsed": 7910,
     "status": "ok",
     "timestamp": 1609188899744,
     "user": {
      "displayName": "Daniel Dabdub",
      "photoUrl": "https://lh6.googleusercontent.com/-qKoV5H3Fw5M/AAAAAAAAAAI/AAAAAAAAZro/jARb9IjBWek/s64/photo.jpg",
      "userId": "06642504652143825936"
     },
     "user_tz": 360
    },
    "id": "3DbTtrTOHWxS"
   },
   "outputs": [],
   "source": [
    "#random horizon\n",
    "transactions[\"horizon\"] = np.random.choice(horizons, size=len(transactions))\n"
   ]
  },
  {
   "cell_type": "markdown",
   "metadata": {
    "id": "7CXrQ57wys5U"
   },
   "source": [
    "## Investment Amounts"
   ]
  },
  {
   "cell_type": "code",
   "execution_count": 21,
   "metadata": {
    "executionInfo": {
     "elapsed": 7905,
     "status": "ok",
     "timestamp": 1609188899744,
     "user": {
      "displayName": "Daniel Dabdub",
      "photoUrl": "https://lh6.googleusercontent.com/-qKoV5H3Fw5M/AAAAAAAAAAI/AAAAAAAAZro/jARb9IjBWek/s64/photo.jpg",
      "userId": "06642504652143825936"
     },
     "user_tz": 360
    },
    "id": "MqIDjNcSHWxT"
   },
   "outputs": [],
   "source": [
    "#random investment amount\n",
    "transactions[\"amount\"] = np.random.choice(amounts, size=len(transactions))\n"
   ]
  },
  {
   "cell_type": "markdown",
   "metadata": {
    "id": "yDG5pNzSywY2"
   },
   "source": [
    "## Dates - BUY"
   ]
  },
  {
   "cell_type": "code",
   "execution_count": 22,
   "metadata": {
    "colab": {
     "base_uri": "https://localhost:8080/"
    },
    "executionInfo": {
     "elapsed": 9142,
     "status": "ok",
     "timestamp": 1609188900988,
     "user": {
      "displayName": "Daniel Dabdub",
      "photoUrl": "https://lh6.googleusercontent.com/-qKoV5H3Fw5M/AAAAAAAAAAI/AAAAAAAAZro/jARb9IjBWek/s64/photo.jpg",
      "userId": "06642504652143825936"
     },
     "user_tz": 360
    },
    "id": "BeY0oDYhHWxU",
    "outputId": "a7ef2eee-0ddd-402a-a699-65a7bc91ae16"
   },
   "outputs": [
    {
     "output_type": "stream",
     "name": "stdout",
     "text": [
      "40000\n"
     ]
    }
   ],
   "source": [
    "#random buy date\n",
    "start='2013-10-10'\n",
    "end='2018-10-10'\n",
    "\n",
    "dates_buy=list()\n",
    "\n",
    "for i in range(0, transactions.shape[0]):\n",
    "    r_date=random_date(start,end,random.random())\n",
    "    dates_buy.append(r_date)\n",
    "\n",
    "\n",
    "print(len(dates_buy))\n",
    "transactions['date_BUY']=dates_buy"
   ]
  },
  {
   "cell_type": "markdown",
   "metadata": {
    "id": "MF9tblAlsNBo"
   },
   "source": [
    "### Fixing dates (BUY)"
   ]
  },
  {
   "cell_type": "code",
   "execution_count": 23,
   "metadata": {
    "executionInfo": {
     "elapsed": 9631,
     "status": "ok",
     "timestamp": 1609188901489,
     "user": {
      "displayName": "Daniel Dabdub",
      "photoUrl": "https://lh6.googleusercontent.com/-qKoV5H3Fw5M/AAAAAAAAAAI/AAAAAAAAZro/jARb9IjBWek/s64/photo.jpg",
      "userId": "06642504652143825936"
     },
     "user_tz": 360
    },
    "id": "MOlu1a8keq2i"
   },
   "outputs": [],
   "source": [
    "day_names=list()\n",
    "\n",
    "for d in dates_buy:\n",
    "\n",
    "  dt = datetime.datetime.strptime(d, '%Y-%m-%d')\n",
    "  weekno=dt.weekday()\n",
    "\n",
    "  if weekno == 0:\n",
    "    dia='Mon'\n",
    "    day_names.append(dia)\n",
    "  elif weekno==1:\n",
    "    dia='Tue'\n",
    "    day_names.append(dia)\n",
    "  elif weekno==2:\n",
    "    dia='Wed'\n",
    "    day_names.append(dia)\n",
    "  elif weekno==3:\n",
    "    dia='Thu'\n",
    "    day_names.append(dia)\n",
    "  elif weekno==4:\n",
    "    dia='Fri'\n",
    "    day_names.append(dia)\n",
    "  elif weekno==5:\n",
    "    dia='Sat'\n",
    "    day_names.append(dia)\n",
    "  elif weekno==6:\n",
    "    dia='Sun'\n",
    "    day_names.append(dia)\n",
    "\n",
    "transactions['day_BUY']=day_names\n"
   ]
  },
  {
   "cell_type": "code",
   "execution_count": 24,
   "metadata": {
    "executionInfo": {
     "elapsed": 14271,
     "status": "ok",
     "timestamp": 1609188906134,
     "user": {
      "displayName": "Daniel Dabdub",
      "photoUrl": "https://lh6.googleusercontent.com/-qKoV5H3Fw5M/AAAAAAAAAAI/AAAAAAAAZro/jARb9IjBWek/s64/photo.jpg",
      "userId": "06642504652143825936"
     },
     "user_tz": 360
    },
    "id": "AHJh4vQagUyg"
   },
   "outputs": [],
   "source": [
    "dates2_BUY=list()\n",
    "days2_BUY=list()\n",
    "\n",
    "#if date is saturday, we are going to push it to friday\n",
    "#if date is sunday, we are going to push it to monday\n",
    "\n",
    "for index,row in transactions.iterrows():\n",
    "  buy_date = datetime.datetime.strptime(row['date_BUY'], \"%Y-%m-%d\")\n",
    "  if row['day_BUY']=='Sat':\n",
    "    buy_date2 = buy_date - datetime.timedelta(1)\n",
    "    dates2_BUY.append(buy_date2)\n",
    "\n",
    "    buy_day2='Fri'\n",
    "    days2_BUY.append(buy_day2)\n",
    "  elif row['day_BUY']=='Sun':\n",
    "    buy_date = datetime.datetime.strptime(row['date_BUY'], \"%Y-%m-%d\")\n",
    "    buy_date2 = buy_date + datetime.timedelta(1)\n",
    "    dates2_BUY.append(buy_date2)\n",
    "\n",
    "    buy_day2='Mon'\n",
    "    days2_BUY.append(buy_day2)\n",
    "  else:\n",
    "    buy_date2=buy_date\n",
    "    dates2_BUY.append(buy_date2)\n",
    "    buy_day2=row['day_BUY']\n",
    "    days2_BUY.append(buy_day2)\n",
    "\n",
    "\n",
    "transactions['date_BUY_fix']=dates2_BUY\n",
    "transactions['day_BUY_fix']=days2_BUY\n",
    "\n",
    "# transactions=weekend2weekday(transactions,'date_BUY','day_BUY' )"
   ]
  },
  {
   "cell_type": "code",
   "execution_count": 25,
   "metadata": {
    "executionInfo": {
     "elapsed": 14467,
     "status": "ok",
     "timestamp": 1609188906337,
     "user": {
      "displayName": "Daniel Dabdub",
      "photoUrl": "https://lh6.googleusercontent.com/-qKoV5H3Fw5M/AAAAAAAAAAI/AAAAAAAAZro/jARb9IjBWek/s64/photo.jpg",
      "userId": "06642504652143825936"
     },
     "user_tz": 360
    },
    "id": "qHx_n2n2kHjz"
   },
   "outputs": [],
   "source": [
    "#checking for holidays (NYSE is closed)\n",
    "\n",
    "cal = USFederalHolidayCalendar()\n",
    "holidays = cal.holidays(start='2010-10-10', end='2020-10-10').to_pydatetime()\n",
    "# if datetime.datetime(2014,01,01) in holidays:\n",
    "#     print True \n",
    "\n",
    "l_holidays=list()\n",
    "for d in dates2_BUY:\n",
    "  if d in holidays:\n",
    "    holiday='Holiday'\n",
    "    l_holidays.append(holiday)\n",
    "\n",
    "  else:\n",
    "    holiday=''\n",
    "    l_holidays.append(holiday)\n",
    "\n",
    "transactions['holiday_BUY']=l_holidays"
   ]
  },
  {
   "cell_type": "code",
   "execution_count": 26,
   "metadata": {
    "executionInfo": {
     "elapsed": 14463,
     "status": "ok",
     "timestamp": 1609188906338,
     "user": {
      "displayName": "Daniel Dabdub",
      "photoUrl": "https://lh6.googleusercontent.com/-qKoV5H3Fw5M/AAAAAAAAAAI/AAAAAAAAZro/jARb9IjBWek/s64/photo.jpg",
      "userId": "06642504652143825936"
     },
     "user_tz": 360
    },
    "id": "haV7AfcMitbi"
   },
   "outputs": [],
   "source": [
    "transactions_h=transactions[transactions.holiday_BUY=='Holiday']\n",
    "\n",
    "transactions=transactions[transactions.holiday_BUY!='Holiday']"
   ]
  },
  {
   "cell_type": "markdown",
   "metadata": {
    "id": "9EVjuyTwybFN"
   },
   "source": [
    "## Prices - BUY"
   ]
  },
  {
   "cell_type": "code",
   "execution_count": 27,
   "metadata": {
    "executionInfo": {
     "elapsed": 18975,
     "status": "ok",
     "timestamp": 1609188910857,
     "user": {
      "displayName": "Daniel Dabdub",
      "photoUrl": "https://lh6.googleusercontent.com/-qKoV5H3Fw5M/AAAAAAAAAAI/AAAAAAAAZro/jARb9IjBWek/s64/photo.jpg",
      "userId": "06642504652143825936"
     },
     "user_tz": 360
    },
    "id": "kyz9eVdWOHiz"
   },
   "outputs": [],
   "source": [
    "#price when bought\n",
    "\n",
    "l_buy_prices=list()\n",
    "l_volatility=list()\n",
    "for index,row in transactions.iterrows():\n",
    "  comp=row['company']\n",
    "  buy_date=row['date_BUY_fix']\n",
    "  company_pos=companies.index(comp)\n",
    "  try:\n",
    "    price=l_companies_prices[company_pos].loc[buy_date,'Adj Close']\n",
    "    volatility= l_volatilities[company_pos].loc[buy_date, 'Volatility']\n",
    "  except :\n",
    "    price=0\n",
    "    \n",
    "\n",
    "  l_buy_prices.append(price)\n",
    "\n",
    "transactions['price_BUY']=l_buy_prices\n"
   ]
  },
  {
   "source": [
    "VOLATILITY BUY\n"
   ],
   "cell_type": "markdown",
   "metadata": {}
  },
  {
   "cell_type": "code",
   "execution_count": 28,
   "metadata": {},
   "outputs": [
    {
     "output_type": "stream",
     "name": "stdout",
     "text": [
      "38017\n"
     ]
    }
   ],
   "source": [
    "l_volatility_buy=list()\n",
    "for index,row in transactions.iterrows():\n",
    "  comp=row['company']\n",
    "  buy_date=row['date_BUY_fix']\n",
    "  company_pos=companies.index(comp)\n",
    "  try:\n",
    "    volatility= l_volatilities[company_pos].loc[buy_date, 'Volatility']\n",
    "  except :\n",
    "    volatility=0\n",
    "  l_volatility_buy.append(volatility)\n",
    "print(len(l_volatility_buy))\n",
    "\n",
    "\n",
    "transactions['Volatility_Buy'] = l_volatility_buy"
   ]
  },
  {
   "cell_type": "markdown",
   "metadata": {
    "id": "SN8AKEpjzWON"
   },
   "source": [
    "## Dates - SELL"
   ]
  },
  {
   "cell_type": "code",
   "execution_count": 29,
   "metadata": {
    "executionInfo": {
     "elapsed": 22996,
     "status": "ok",
     "timestamp": 1609188914886,
     "user": {
      "displayName": "Daniel Dabdub",
      "photoUrl": "https://lh6.googleusercontent.com/-qKoV5H3Fw5M/AAAAAAAAAAI/AAAAAAAAZro/jARb9IjBWek/s64/photo.jpg",
      "userId": "06642504652143825936"
     },
     "user_tz": 360
    },
    "id": "q7tjX_-KHWxc"
   },
   "outputs": [],
   "source": [
    "#random sell date\n",
    "dates_SELL=list()\n",
    "\n",
    "for index,row in transactions.iterrows():\n",
    "\n",
    "  buy_date = row['date_BUY_fix']\n",
    "  sell_date = buy_date + datetime.timedelta(row['horizon'])\n",
    "  \n",
    "  dates_SELL.append(sell_date)\n",
    "\n",
    "transactions['date_SELL']=dates_SELL"
   ]
  },
  {
   "cell_type": "markdown",
   "metadata": {
    "id": "tBEde7euzZOO"
   },
   "source": [
    "### Fixing dates (SELL)"
   ]
  },
  {
   "cell_type": "code",
   "execution_count": 30,
   "metadata": {
    "executionInfo": {
     "elapsed": 22991,
     "status": "ok",
     "timestamp": 1609188914889,
     "user": {
      "displayName": "Daniel Dabdub",
      "photoUrl": "https://lh6.googleusercontent.com/-qKoV5H3Fw5M/AAAAAAAAAAI/AAAAAAAAZro/jARb9IjBWek/s64/photo.jpg",
      "userId": "06642504652143825936"
     },
     "user_tz": 360
    },
    "id": "8xQv21va0AGb"
   },
   "outputs": [],
   "source": [
    "day_names=list()\n",
    "\n",
    "\n",
    "\n",
    "for d in dates_SELL:\n",
    "\n",
    "  # dt = datetime.datetime.strptime(d, '%Y-%m-%d')\n",
    "  weekno=d.weekday()\n",
    "\n",
    "  if weekno == 0:\n",
    "    dia='Mon'\n",
    "    day_names.append(dia)\n",
    "  elif weekno==1:\n",
    "    dia='Tue'\n",
    "    day_names.append(dia)\n",
    "  elif weekno==2:\n",
    "    dia='Wed'\n",
    "    day_names.append(dia)\n",
    "  elif weekno==3:\n",
    "    dia='Thu'\n",
    "    day_names.append(dia)\n",
    "  elif weekno==4:\n",
    "    dia='Fri'\n",
    "    day_names.append(dia)\n",
    "  elif weekno==5:\n",
    "    dia='Sat'\n",
    "    day_names.append(dia)\n",
    "  elif weekno==6:\n",
    "    dia='Sun'\n",
    "    day_names.append(dia)\n",
    "\n",
    "transactions['day_SELL']=day_names\n"
   ]
  },
  {
   "cell_type": "code",
   "execution_count": 31,
   "metadata": {
    "executionInfo": {
     "elapsed": 27213,
     "status": "ok",
     "timestamp": 1609188919119,
     "user": {
      "displayName": "Daniel Dabdub",
      "photoUrl": "https://lh6.googleusercontent.com/-qKoV5H3Fw5M/AAAAAAAAAAI/AAAAAAAAZro/jARb9IjBWek/s64/photo.jpg",
      "userId": "06642504652143825936"
     },
     "user_tz": 360
    },
    "id": "rKB4tani0AGc"
   },
   "outputs": [],
   "source": [
    "dates2_SELL=list()\n",
    "days2_SELL=list()\n",
    "\n",
    "#if date is saturday, we are going to push it to friday\n",
    "#if date is sunday, we are going to push it to monday\n",
    "\n",
    "for index,row in transactions.iterrows():\n",
    "  SELL_date = row['date_SELL']\n",
    "  if row['day_SELL']=='Sat':\n",
    "    SELL_date2 = SELL_date - datetime.timedelta(1)\n",
    "    dates2_SELL.append(SELL_date2)\n",
    "\n",
    "    SELL_day2='Fri'\n",
    "    days2_SELL.append(SELL_day2)\n",
    "  elif row['day_SELL']=='Sun':\n",
    "    SELL_date = row['date_SELL']\n",
    "    SELL_date2 = SELL_date + datetime.timedelta(1)\n",
    "    dates2_SELL.append(SELL_date2)\n",
    "\n",
    "    SELL_day2='Mon'\n",
    "    days2_SELL.append(SELL_day2)\n",
    "  else:\n",
    "    SELL_date2=SELL_date\n",
    "    dates2_SELL.append(SELL_date2)\n",
    "    SELL_day2=row['day_SELL']\n",
    "    days2_SELL.append(SELL_day2)\n",
    "\n",
    "\n",
    "transactions['date_SELL_fix']=dates2_SELL\n",
    "transactions['day_SELL_fix']=days2_SELL\n",
    "\n",
    "# transactions=weekend2weekday(transactions,'date_BUY','day_BUY' )"
   ]
  },
  {
   "cell_type": "code",
   "execution_count": 32,
   "metadata": {
    "colab": {
     "base_uri": "https://localhost:8080/",
     "height": 406
    },
    "executionInfo": {
     "elapsed": 27202,
     "status": "ok",
     "timestamp": 1609188919124,
     "user": {
      "displayName": "Daniel Dabdub",
      "photoUrl": "https://lh6.googleusercontent.com/-qKoV5H3Fw5M/AAAAAAAAAAI/AAAAAAAAZro/jARb9IjBWek/s64/photo.jpg",
      "userId": "06642504652143825936"
     },
     "user_tz": 360
    },
    "id": "NtAyWy_J1GcZ",
    "outputId": "e6899ca2-ed34-4404-c08c-9b3378b7502d"
   },
   "outputs": [
    {
     "output_type": "execute_result",
     "data": {
      "text/plain": [
       "          id company  horizon  amount    date_BUY day_BUY date_BUY_fix  \\\n",
       "0          1      PG       70     500  2016-07-05     Tue   2016-07-05   \n",
       "1          2    TSLA        4     300  2014-02-23     Sun   2014-02-24   \n",
       "2          3    NVDA       70    5000  2015-05-15     Fri   2015-05-15   \n",
       "4          5    AMZN        3    1500  2015-08-15     Sat   2015-08-14   \n",
       "5          6      FB        7   20000  2017-03-07     Tue   2017-03-07   \n",
       "...      ...     ...      ...     ...         ...     ...          ...   \n",
       "39995  39996      PG      240    4000  2015-01-29     Thu   2015-01-29   \n",
       "39996  39997      PG        6    1000  2014-07-19     Sat   2014-07-18   \n",
       "39997  39998    NVDA      300     300  2017-04-29     Sat   2017-04-28   \n",
       "39998  39999      PG        5     200  2015-02-19     Thu   2015-02-19   \n",
       "39999  40000    GOOG      210   20000  2018-02-02     Fri   2018-02-02   \n",
       "\n",
       "      day_BUY_fix holiday_BUY    price_BUY  Volatility_Buy  date_SELL  \\\n",
       "0             Tue                74.794472        0.166181 2016-09-13   \n",
       "1             Mon                43.529999        0.684741 2014-02-28   \n",
       "2             Fri                20.579834        0.273231 2015-07-24   \n",
       "4             Fri               531.520020        0.308135 2015-08-17   \n",
       "5             Tue               137.300003        0.196505 2017-03-14   \n",
       "...           ...         ...          ...             ...        ...   \n",
       "39995         Thu                71.914757        0.122401 2015-09-26   \n",
       "39996         Fri                66.628288        0.122396 2014-07-24   \n",
       "39997         Fri               103.163094        0.447867 2018-02-22   \n",
       "39998         Thu                71.528603        0.120155 2015-02-24   \n",
       "39999         Fri              1111.900024        0.160495 2018-08-31   \n",
       "\n",
       "      day_SELL date_SELL_fix day_SELL_fix  \n",
       "0          Tue    2016-09-13          Tue  \n",
       "1          Fri    2014-02-28          Fri  \n",
       "2          Fri    2015-07-24          Fri  \n",
       "4          Mon    2015-08-17          Mon  \n",
       "5          Tue    2017-03-14          Tue  \n",
       "...        ...           ...          ...  \n",
       "39995      Sat    2015-09-25          Fri  \n",
       "39996      Thu    2014-07-24          Thu  \n",
       "39997      Thu    2018-02-22          Thu  \n",
       "39998      Tue    2015-02-24          Tue  \n",
       "39999      Fri    2018-08-31          Fri  \n",
       "\n",
       "[38017 rows x 15 columns]"
      ],
      "text/html": "<div>\n<style scoped>\n    .dataframe tbody tr th:only-of-type {\n        vertical-align: middle;\n    }\n\n    .dataframe tbody tr th {\n        vertical-align: top;\n    }\n\n    .dataframe thead th {\n        text-align: right;\n    }\n</style>\n<table border=\"1\" class=\"dataframe\">\n  <thead>\n    <tr style=\"text-align: right;\">\n      <th></th>\n      <th>id</th>\n      <th>company</th>\n      <th>horizon</th>\n      <th>amount</th>\n      <th>date_BUY</th>\n      <th>day_BUY</th>\n      <th>date_BUY_fix</th>\n      <th>day_BUY_fix</th>\n      <th>holiday_BUY</th>\n      <th>price_BUY</th>\n      <th>Volatility_Buy</th>\n      <th>date_SELL</th>\n      <th>day_SELL</th>\n      <th>date_SELL_fix</th>\n      <th>day_SELL_fix</th>\n    </tr>\n  </thead>\n  <tbody>\n    <tr>\n      <th>0</th>\n      <td>1</td>\n      <td>PG</td>\n      <td>70</td>\n      <td>500</td>\n      <td>2016-07-05</td>\n      <td>Tue</td>\n      <td>2016-07-05</td>\n      <td>Tue</td>\n      <td></td>\n      <td>74.794472</td>\n      <td>0.166181</td>\n      <td>2016-09-13</td>\n      <td>Tue</td>\n      <td>2016-09-13</td>\n      <td>Tue</td>\n    </tr>\n    <tr>\n      <th>1</th>\n      <td>2</td>\n      <td>TSLA</td>\n      <td>4</td>\n      <td>300</td>\n      <td>2014-02-23</td>\n      <td>Sun</td>\n      <td>2014-02-24</td>\n      <td>Mon</td>\n      <td></td>\n      <td>43.529999</td>\n      <td>0.684741</td>\n      <td>2014-02-28</td>\n      <td>Fri</td>\n      <td>2014-02-28</td>\n      <td>Fri</td>\n    </tr>\n    <tr>\n      <th>2</th>\n      <td>3</td>\n      <td>NVDA</td>\n      <td>70</td>\n      <td>5000</td>\n      <td>2015-05-15</td>\n      <td>Fri</td>\n      <td>2015-05-15</td>\n      <td>Fri</td>\n      <td></td>\n      <td>20.579834</td>\n      <td>0.273231</td>\n      <td>2015-07-24</td>\n      <td>Fri</td>\n      <td>2015-07-24</td>\n      <td>Fri</td>\n    </tr>\n    <tr>\n      <th>4</th>\n      <td>5</td>\n      <td>AMZN</td>\n      <td>3</td>\n      <td>1500</td>\n      <td>2015-08-15</td>\n      <td>Sat</td>\n      <td>2015-08-14</td>\n      <td>Fri</td>\n      <td></td>\n      <td>531.520020</td>\n      <td>0.308135</td>\n      <td>2015-08-17</td>\n      <td>Mon</td>\n      <td>2015-08-17</td>\n      <td>Mon</td>\n    </tr>\n    <tr>\n      <th>5</th>\n      <td>6</td>\n      <td>FB</td>\n      <td>7</td>\n      <td>20000</td>\n      <td>2017-03-07</td>\n      <td>Tue</td>\n      <td>2017-03-07</td>\n      <td>Tue</td>\n      <td></td>\n      <td>137.300003</td>\n      <td>0.196505</td>\n      <td>2017-03-14</td>\n      <td>Tue</td>\n      <td>2017-03-14</td>\n      <td>Tue</td>\n    </tr>\n    <tr>\n      <th>...</th>\n      <td>...</td>\n      <td>...</td>\n      <td>...</td>\n      <td>...</td>\n      <td>...</td>\n      <td>...</td>\n      <td>...</td>\n      <td>...</td>\n      <td>...</td>\n      <td>...</td>\n      <td>...</td>\n      <td>...</td>\n      <td>...</td>\n      <td>...</td>\n      <td>...</td>\n    </tr>\n    <tr>\n      <th>39995</th>\n      <td>39996</td>\n      <td>PG</td>\n      <td>240</td>\n      <td>4000</td>\n      <td>2015-01-29</td>\n      <td>Thu</td>\n      <td>2015-01-29</td>\n      <td>Thu</td>\n      <td></td>\n      <td>71.914757</td>\n      <td>0.122401</td>\n      <td>2015-09-26</td>\n      <td>Sat</td>\n      <td>2015-09-25</td>\n      <td>Fri</td>\n    </tr>\n    <tr>\n      <th>39996</th>\n      <td>39997</td>\n      <td>PG</td>\n      <td>6</td>\n      <td>1000</td>\n      <td>2014-07-19</td>\n      <td>Sat</td>\n      <td>2014-07-18</td>\n      <td>Fri</td>\n      <td></td>\n      <td>66.628288</td>\n      <td>0.122396</td>\n      <td>2014-07-24</td>\n      <td>Thu</td>\n      <td>2014-07-24</td>\n      <td>Thu</td>\n    </tr>\n    <tr>\n      <th>39997</th>\n      <td>39998</td>\n      <td>NVDA</td>\n      <td>300</td>\n      <td>300</td>\n      <td>2017-04-29</td>\n      <td>Sat</td>\n      <td>2017-04-28</td>\n      <td>Fri</td>\n      <td></td>\n      <td>103.163094</td>\n      <td>0.447867</td>\n      <td>2018-02-22</td>\n      <td>Thu</td>\n      <td>2018-02-22</td>\n      <td>Thu</td>\n    </tr>\n    <tr>\n      <th>39998</th>\n      <td>39999</td>\n      <td>PG</td>\n      <td>5</td>\n      <td>200</td>\n      <td>2015-02-19</td>\n      <td>Thu</td>\n      <td>2015-02-19</td>\n      <td>Thu</td>\n      <td></td>\n      <td>71.528603</td>\n      <td>0.120155</td>\n      <td>2015-02-24</td>\n      <td>Tue</td>\n      <td>2015-02-24</td>\n      <td>Tue</td>\n    </tr>\n    <tr>\n      <th>39999</th>\n      <td>40000</td>\n      <td>GOOG</td>\n      <td>210</td>\n      <td>20000</td>\n      <td>2018-02-02</td>\n      <td>Fri</td>\n      <td>2018-02-02</td>\n      <td>Fri</td>\n      <td></td>\n      <td>1111.900024</td>\n      <td>0.160495</td>\n      <td>2018-08-31</td>\n      <td>Fri</td>\n      <td>2018-08-31</td>\n      <td>Fri</td>\n    </tr>\n  </tbody>\n</table>\n<p>38017 rows × 15 columns</p>\n</div>"
     },
     "metadata": {},
     "execution_count": 32
    }
   ],
   "source": [
    "transactions"
   ]
  },
  {
   "cell_type": "code",
   "execution_count": 33,
   "metadata": {
    "executionInfo": {
     "elapsed": 29566,
     "status": "ok",
     "timestamp": 1609188921500,
     "user": {
      "displayName": "Daniel Dabdub",
      "photoUrl": "https://lh6.googleusercontent.com/-qKoV5H3Fw5M/AAAAAAAAAAI/AAAAAAAAZro/jARb9IjBWek/s64/photo.jpg",
      "userId": "06642504652143825936"
     },
     "user_tz": 360
    },
    "id": "eeaj5M8p0AGd"
   },
   "outputs": [],
   "source": [
    "#checking for holidays (NYSE is closed)\n",
    "cal = USFederalHolidayCalendar()\n",
    "holidays = cal.holidays(start='2010-10-10', end='2020-10-10').to_pydatetime()\n",
    "# if datetime.datetime(2014,01,01) in holidays:\n",
    "#     print True \n",
    "\n",
    "l_holidays=list()\n",
    "for d in dates2_SELL:\n",
    "  if d in holidays:\n",
    "    holiday='Holiday'\n",
    "    l_holidays.append(holiday)\n",
    "\n",
    "  else:\n",
    "    holiday=''\n",
    "    l_holidays.append(holiday)\n",
    "\n",
    "transactions['holiday_SELL']=l_holidays"
   ]
  },
  {
   "cell_type": "markdown",
   "metadata": {
    "id": "dPCAZSku2UZv"
   },
   "source": [
    "## Prices - SELL"
   ]
  },
  {
   "cell_type": "code",
   "execution_count": 34,
   "metadata": {
    "executionInfo": {
     "elapsed": 34374,
     "status": "ok",
     "timestamp": 1609188926315,
     "user": {
      "displayName": "Daniel Dabdub",
      "photoUrl": "https://lh6.googleusercontent.com/-qKoV5H3Fw5M/AAAAAAAAAAI/AAAAAAAAZro/jARb9IjBWek/s64/photo.jpg",
      "userId": "06642504652143825936"
     },
     "user_tz": 360
    },
    "id": "aiHO2dB-2UZy"
   },
   "outputs": [],
   "source": [
    "#price when sold\n",
    "\n",
    "l_sell_prices=list()\n",
    "for index,row in transactions.iterrows():\n",
    "  comp=row['company']\n",
    "  sell_date=row['date_SELL_fix']\n",
    "  company_pos=companies.index(comp)\n",
    "  try:\n",
    "    price=l_companies_prices[company_pos].loc[sell_date,'Adj Close']\n",
    "  except :\n",
    "    price=0\n",
    "\n",
    "  l_sell_prices.append(price)\n",
    "\n",
    "transactions['price_SELL']=l_sell_prices\n"
   ]
  },
  {
   "source": [
    "VOLATILITY SELL"
   ],
   "cell_type": "markdown",
   "metadata": {}
  },
  {
   "cell_type": "code",
   "execution_count": 35,
   "metadata": {},
   "outputs": [],
   "source": [
    "l_volatility_sell=list()\n",
    "for index,row in transactions.iterrows():\n",
    "  comp=row['company']\n",
    "  sell_date=row['date_SELL_fix']\n",
    "  company_pos=companies.index(comp)\n",
    "  try:\n",
    "    volatility=l_volatilities[company_pos].loc[sell_date,'Volatility']\n",
    "  except :\n",
    "    volatility=0\n",
    "\n",
    "  l_volatility_sell.append(volatility)\n",
    "\n",
    "transactions['Volatility_sell']=l_volatility_sell"
   ]
  },
  {
   "cell_type": "code",
   "execution_count": 36,
   "metadata": {
    "executionInfo": {
     "elapsed": 34374,
     "status": "ok",
     "timestamp": 1609188926324,
     "user": {
      "displayName": "Daniel Dabdub",
      "photoUrl": "https://lh6.googleusercontent.com/-qKoV5H3Fw5M/AAAAAAAAAAI/AAAAAAAAZro/jARb9IjBWek/s64/photo.jpg",
      "userId": "06642504652143825936"
     },
     "user_tz": 360
    },
    "id": "ris0TnWH0AGf"
   },
   "outputs": [],
   "source": [
    "transactions_h=transactions[transactions.holiday_SELL=='Holiday']\n",
    "\n",
    "transactions=transactions[transactions.holiday_SELL!='Holiday']"
   ]
  },
  {
   "cell_type": "code",
   "execution_count": 37,
   "metadata": {
    "colab": {
     "base_uri": "https://localhost:8080/",
     "height": 593
    },
    "executionInfo": {
     "elapsed": 34363,
     "status": "ok",
     "timestamp": 1609188926326,
     "user": {
      "displayName": "Daniel Dabdub",
      "photoUrl": "https://lh6.googleusercontent.com/-qKoV5H3Fw5M/AAAAAAAAAAI/AAAAAAAAZro/jARb9IjBWek/s64/photo.jpg",
      "userId": "06642504652143825936"
     },
     "user_tz": 360
    },
    "id": "NGLjROHC1p0r",
    "outputId": "ecaa5c8a-6142-445a-83d2-7647546f4f0a"
   },
   "outputs": [
    {
     "output_type": "execute_result",
     "data": {
      "text/plain": [
       "          id company  horizon  amount    date_BUY day_BUY date_BUY_fix  \\\n",
       "0          1      PG       70     500  2016-07-05     Tue   2016-07-05   \n",
       "1          2    TSLA        4     300  2014-02-23     Sun   2014-02-24   \n",
       "2          3    NVDA       70    5000  2015-05-15     Fri   2015-05-15   \n",
       "4          5    AMZN        3    1500  2015-08-15     Sat   2015-08-14   \n",
       "5          6      FB        7   20000  2017-03-07     Tue   2017-03-07   \n",
       "...      ...     ...      ...     ...         ...     ...          ...   \n",
       "39995  39996      PG      240    4000  2015-01-29     Thu   2015-01-29   \n",
       "39996  39997      PG        6    1000  2014-07-19     Sat   2014-07-18   \n",
       "39997  39998    NVDA      300     300  2017-04-29     Sat   2017-04-28   \n",
       "39998  39999      PG        5     200  2015-02-19     Thu   2015-02-19   \n",
       "39999  40000    GOOG      210   20000  2018-02-02     Fri   2018-02-02   \n",
       "\n",
       "      day_BUY_fix holiday_BUY    price_BUY  Volatility_Buy  date_SELL  \\\n",
       "0             Tue                74.794472        0.166181 2016-09-13   \n",
       "1             Mon                43.529999        0.684741 2014-02-28   \n",
       "2             Fri                20.579834        0.273231 2015-07-24   \n",
       "4             Fri               531.520020        0.308135 2015-08-17   \n",
       "5             Tue               137.300003        0.196505 2017-03-14   \n",
       "...           ...         ...          ...             ...        ...   \n",
       "39995         Thu                71.914757        0.122401 2015-09-26   \n",
       "39996         Fri                66.628288        0.122396 2014-07-24   \n",
       "39997         Fri               103.163094        0.447867 2018-02-22   \n",
       "39998         Thu                71.528603        0.120155 2015-02-24   \n",
       "39999         Fri              1111.900024        0.160495 2018-08-31   \n",
       "\n",
       "      day_SELL date_SELL_fix day_SELL_fix holiday_SELL   price_SELL  \\\n",
       "0          Tue    2016-09-13          Tue                 76.801003   \n",
       "1          Fri    2014-02-28          Fri                 48.962002   \n",
       "2          Fri    2015-07-24          Fri                 18.850248   \n",
       "4          Mon    2015-08-17          Mon                535.219971   \n",
       "5          Tue    2017-03-14          Tue                139.320007   \n",
       "...        ...           ...          ...          ...          ...   \n",
       "39995      Sat    2015-09-25          Fri                 61.996246   \n",
       "39996      Thu    2014-07-24          Thu                 66.388382   \n",
       "39997      Thu    2018-02-22          Thu                240.289780   \n",
       "39998      Tue    2015-02-24          Tue                 71.772064   \n",
       "39999      Fri    2018-08-31          Fri               1218.189941   \n",
       "\n",
       "       Volatility_sell  \n",
       "0             0.144486  \n",
       "1             0.694409  \n",
       "2             0.280573  \n",
       "4             0.308176  \n",
       "5             0.195243  \n",
       "...                ...  \n",
       "39995         0.155721  \n",
       "39996         0.121443  \n",
       "39997         0.417705  \n",
       "39998         0.120321  \n",
       "39999         0.227611  \n",
       "\n",
       "[36180 rows x 18 columns]"
      ],
      "text/html": "<div>\n<style scoped>\n    .dataframe tbody tr th:only-of-type {\n        vertical-align: middle;\n    }\n\n    .dataframe tbody tr th {\n        vertical-align: top;\n    }\n\n    .dataframe thead th {\n        text-align: right;\n    }\n</style>\n<table border=\"1\" class=\"dataframe\">\n  <thead>\n    <tr style=\"text-align: right;\">\n      <th></th>\n      <th>id</th>\n      <th>company</th>\n      <th>horizon</th>\n      <th>amount</th>\n      <th>date_BUY</th>\n      <th>day_BUY</th>\n      <th>date_BUY_fix</th>\n      <th>day_BUY_fix</th>\n      <th>holiday_BUY</th>\n      <th>price_BUY</th>\n      <th>Volatility_Buy</th>\n      <th>date_SELL</th>\n      <th>day_SELL</th>\n      <th>date_SELL_fix</th>\n      <th>day_SELL_fix</th>\n      <th>holiday_SELL</th>\n      <th>price_SELL</th>\n      <th>Volatility_sell</th>\n    </tr>\n  </thead>\n  <tbody>\n    <tr>\n      <th>0</th>\n      <td>1</td>\n      <td>PG</td>\n      <td>70</td>\n      <td>500</td>\n      <td>2016-07-05</td>\n      <td>Tue</td>\n      <td>2016-07-05</td>\n      <td>Tue</td>\n      <td></td>\n      <td>74.794472</td>\n      <td>0.166181</td>\n      <td>2016-09-13</td>\n      <td>Tue</td>\n      <td>2016-09-13</td>\n      <td>Tue</td>\n      <td></td>\n      <td>76.801003</td>\n      <td>0.144486</td>\n    </tr>\n    <tr>\n      <th>1</th>\n      <td>2</td>\n      <td>TSLA</td>\n      <td>4</td>\n      <td>300</td>\n      <td>2014-02-23</td>\n      <td>Sun</td>\n      <td>2014-02-24</td>\n      <td>Mon</td>\n      <td></td>\n      <td>43.529999</td>\n      <td>0.684741</td>\n      <td>2014-02-28</td>\n      <td>Fri</td>\n      <td>2014-02-28</td>\n      <td>Fri</td>\n      <td></td>\n      <td>48.962002</td>\n      <td>0.694409</td>\n    </tr>\n    <tr>\n      <th>2</th>\n      <td>3</td>\n      <td>NVDA</td>\n      <td>70</td>\n      <td>5000</td>\n      <td>2015-05-15</td>\n      <td>Fri</td>\n      <td>2015-05-15</td>\n      <td>Fri</td>\n      <td></td>\n      <td>20.579834</td>\n      <td>0.273231</td>\n      <td>2015-07-24</td>\n      <td>Fri</td>\n      <td>2015-07-24</td>\n      <td>Fri</td>\n      <td></td>\n      <td>18.850248</td>\n      <td>0.280573</td>\n    </tr>\n    <tr>\n      <th>4</th>\n      <td>5</td>\n      <td>AMZN</td>\n      <td>3</td>\n      <td>1500</td>\n      <td>2015-08-15</td>\n      <td>Sat</td>\n      <td>2015-08-14</td>\n      <td>Fri</td>\n      <td></td>\n      <td>531.520020</td>\n      <td>0.308135</td>\n      <td>2015-08-17</td>\n      <td>Mon</td>\n      <td>2015-08-17</td>\n      <td>Mon</td>\n      <td></td>\n      <td>535.219971</td>\n      <td>0.308176</td>\n    </tr>\n    <tr>\n      <th>5</th>\n      <td>6</td>\n      <td>FB</td>\n      <td>7</td>\n      <td>20000</td>\n      <td>2017-03-07</td>\n      <td>Tue</td>\n      <td>2017-03-07</td>\n      <td>Tue</td>\n      <td></td>\n      <td>137.300003</td>\n      <td>0.196505</td>\n      <td>2017-03-14</td>\n      <td>Tue</td>\n      <td>2017-03-14</td>\n      <td>Tue</td>\n      <td></td>\n      <td>139.320007</td>\n      <td>0.195243</td>\n    </tr>\n    <tr>\n      <th>...</th>\n      <td>...</td>\n      <td>...</td>\n      <td>...</td>\n      <td>...</td>\n      <td>...</td>\n      <td>...</td>\n      <td>...</td>\n      <td>...</td>\n      <td>...</td>\n      <td>...</td>\n      <td>...</td>\n      <td>...</td>\n      <td>...</td>\n      <td>...</td>\n      <td>...</td>\n      <td>...</td>\n      <td>...</td>\n      <td>...</td>\n    </tr>\n    <tr>\n      <th>39995</th>\n      <td>39996</td>\n      <td>PG</td>\n      <td>240</td>\n      <td>4000</td>\n      <td>2015-01-29</td>\n      <td>Thu</td>\n      <td>2015-01-29</td>\n      <td>Thu</td>\n      <td></td>\n      <td>71.914757</td>\n      <td>0.122401</td>\n      <td>2015-09-26</td>\n      <td>Sat</td>\n      <td>2015-09-25</td>\n      <td>Fri</td>\n      <td></td>\n      <td>61.996246</td>\n      <td>0.155721</td>\n    </tr>\n    <tr>\n      <th>39996</th>\n      <td>39997</td>\n      <td>PG</td>\n      <td>6</td>\n      <td>1000</td>\n      <td>2014-07-19</td>\n      <td>Sat</td>\n      <td>2014-07-18</td>\n      <td>Fri</td>\n      <td></td>\n      <td>66.628288</td>\n      <td>0.122396</td>\n      <td>2014-07-24</td>\n      <td>Thu</td>\n      <td>2014-07-24</td>\n      <td>Thu</td>\n      <td></td>\n      <td>66.388382</td>\n      <td>0.121443</td>\n    </tr>\n    <tr>\n      <th>39997</th>\n      <td>39998</td>\n      <td>NVDA</td>\n      <td>300</td>\n      <td>300</td>\n      <td>2017-04-29</td>\n      <td>Sat</td>\n      <td>2017-04-28</td>\n      <td>Fri</td>\n      <td></td>\n      <td>103.163094</td>\n      <td>0.447867</td>\n      <td>2018-02-22</td>\n      <td>Thu</td>\n      <td>2018-02-22</td>\n      <td>Thu</td>\n      <td></td>\n      <td>240.289780</td>\n      <td>0.417705</td>\n    </tr>\n    <tr>\n      <th>39998</th>\n      <td>39999</td>\n      <td>PG</td>\n      <td>5</td>\n      <td>200</td>\n      <td>2015-02-19</td>\n      <td>Thu</td>\n      <td>2015-02-19</td>\n      <td>Thu</td>\n      <td></td>\n      <td>71.528603</td>\n      <td>0.120155</td>\n      <td>2015-02-24</td>\n      <td>Tue</td>\n      <td>2015-02-24</td>\n      <td>Tue</td>\n      <td></td>\n      <td>71.772064</td>\n      <td>0.120321</td>\n    </tr>\n    <tr>\n      <th>39999</th>\n      <td>40000</td>\n      <td>GOOG</td>\n      <td>210</td>\n      <td>20000</td>\n      <td>2018-02-02</td>\n      <td>Fri</td>\n      <td>2018-02-02</td>\n      <td>Fri</td>\n      <td></td>\n      <td>1111.900024</td>\n      <td>0.160495</td>\n      <td>2018-08-31</td>\n      <td>Fri</td>\n      <td>2018-08-31</td>\n      <td>Fri</td>\n      <td></td>\n      <td>1218.189941</td>\n      <td>0.227611</td>\n    </tr>\n  </tbody>\n</table>\n<p>36180 rows × 18 columns</p>\n</div>"
     },
     "metadata": {},
     "execution_count": 37
    }
   ],
   "source": [
    "transactions"
   ]
  },
  {
   "cell_type": "code",
   "execution_count": 38,
   "metadata": {
    "executionInfo": {
     "elapsed": 34353,
     "status": "ok",
     "timestamp": 1609188926328,
     "user": {
      "displayName": "Daniel Dabdub",
      "photoUrl": "https://lh6.googleusercontent.com/-qKoV5H3Fw5M/AAAAAAAAAAI/AAAAAAAAZro/jARb9IjBWek/s64/photo.jpg",
      "userId": "06642504652143825936"
     },
     "user_tz": 360
    },
    "id": "b4g2aZUK1s10"
   },
   "outputs": [],
   "source": [
    "transactions_ready=transactions[['company','horizon','amount','date_BUY_fix','date_SELL_fix','price_BUY','price_SELL']]"
   ]
  },
  {
   "cell_type": "code",
   "execution_count": 39,
   "metadata": {
    "colab": {
     "base_uri": "https://localhost:8080/",
     "height": 406
    },
    "executionInfo": {
     "elapsed": 34339,
     "status": "ok",
     "timestamp": 1609188926329,
     "user": {
      "displayName": "Daniel Dabdub",
      "photoUrl": "https://lh6.googleusercontent.com/-qKoV5H3Fw5M/AAAAAAAAAAI/AAAAAAAAZro/jARb9IjBWek/s64/photo.jpg",
      "userId": "06642504652143825936"
     },
     "user_tz": 360
    },
    "id": "SUxoiReY2iyP",
    "outputId": "b5cada1c-a704-48cb-d012-dc7967105e65"
   },
   "outputs": [
    {
     "output_type": "execute_result",
     "data": {
      "text/plain": [
       "      company  horizon  amount date_BUY_fix date_SELL_fix    price_BUY  \\\n",
       "0          PG       70     500   2016-07-05    2016-09-13    74.794472   \n",
       "1        TSLA        4     300   2014-02-24    2014-02-28    43.529999   \n",
       "2        NVDA       70    5000   2015-05-15    2015-07-24    20.579834   \n",
       "4        AMZN        3    1500   2015-08-14    2015-08-17   531.520020   \n",
       "5          FB        7   20000   2017-03-07    2017-03-14   137.300003   \n",
       "...       ...      ...     ...          ...           ...          ...   \n",
       "39995      PG      240    4000   2015-01-29    2015-09-25    71.914757   \n",
       "39996      PG        6    1000   2014-07-18    2014-07-24    66.628288   \n",
       "39997    NVDA      300     300   2017-04-28    2018-02-22   103.163094   \n",
       "39998      PG        5     200   2015-02-19    2015-02-24    71.528603   \n",
       "39999    GOOG      210   20000   2018-02-02    2018-08-31  1111.900024   \n",
       "\n",
       "        price_SELL  \n",
       "0        76.801003  \n",
       "1        48.962002  \n",
       "2        18.850248  \n",
       "4       535.219971  \n",
       "5       139.320007  \n",
       "...            ...  \n",
       "39995    61.996246  \n",
       "39996    66.388382  \n",
       "39997   240.289780  \n",
       "39998    71.772064  \n",
       "39999  1218.189941  \n",
       "\n",
       "[36180 rows x 7 columns]"
      ],
      "text/html": "<div>\n<style scoped>\n    .dataframe tbody tr th:only-of-type {\n        vertical-align: middle;\n    }\n\n    .dataframe tbody tr th {\n        vertical-align: top;\n    }\n\n    .dataframe thead th {\n        text-align: right;\n    }\n</style>\n<table border=\"1\" class=\"dataframe\">\n  <thead>\n    <tr style=\"text-align: right;\">\n      <th></th>\n      <th>company</th>\n      <th>horizon</th>\n      <th>amount</th>\n      <th>date_BUY_fix</th>\n      <th>date_SELL_fix</th>\n      <th>price_BUY</th>\n      <th>price_SELL</th>\n    </tr>\n  </thead>\n  <tbody>\n    <tr>\n      <th>0</th>\n      <td>PG</td>\n      <td>70</td>\n      <td>500</td>\n      <td>2016-07-05</td>\n      <td>2016-09-13</td>\n      <td>74.794472</td>\n      <td>76.801003</td>\n    </tr>\n    <tr>\n      <th>1</th>\n      <td>TSLA</td>\n      <td>4</td>\n      <td>300</td>\n      <td>2014-02-24</td>\n      <td>2014-02-28</td>\n      <td>43.529999</td>\n      <td>48.962002</td>\n    </tr>\n    <tr>\n      <th>2</th>\n      <td>NVDA</td>\n      <td>70</td>\n      <td>5000</td>\n      <td>2015-05-15</td>\n      <td>2015-07-24</td>\n      <td>20.579834</td>\n      <td>18.850248</td>\n    </tr>\n    <tr>\n      <th>4</th>\n      <td>AMZN</td>\n      <td>3</td>\n      <td>1500</td>\n      <td>2015-08-14</td>\n      <td>2015-08-17</td>\n      <td>531.520020</td>\n      <td>535.219971</td>\n    </tr>\n    <tr>\n      <th>5</th>\n      <td>FB</td>\n      <td>7</td>\n      <td>20000</td>\n      <td>2017-03-07</td>\n      <td>2017-03-14</td>\n      <td>137.300003</td>\n      <td>139.320007</td>\n    </tr>\n    <tr>\n      <th>...</th>\n      <td>...</td>\n      <td>...</td>\n      <td>...</td>\n      <td>...</td>\n      <td>...</td>\n      <td>...</td>\n      <td>...</td>\n    </tr>\n    <tr>\n      <th>39995</th>\n      <td>PG</td>\n      <td>240</td>\n      <td>4000</td>\n      <td>2015-01-29</td>\n      <td>2015-09-25</td>\n      <td>71.914757</td>\n      <td>61.996246</td>\n    </tr>\n    <tr>\n      <th>39996</th>\n      <td>PG</td>\n      <td>6</td>\n      <td>1000</td>\n      <td>2014-07-18</td>\n      <td>2014-07-24</td>\n      <td>66.628288</td>\n      <td>66.388382</td>\n    </tr>\n    <tr>\n      <th>39997</th>\n      <td>NVDA</td>\n      <td>300</td>\n      <td>300</td>\n      <td>2017-04-28</td>\n      <td>2018-02-22</td>\n      <td>103.163094</td>\n      <td>240.289780</td>\n    </tr>\n    <tr>\n      <th>39998</th>\n      <td>PG</td>\n      <td>5</td>\n      <td>200</td>\n      <td>2015-02-19</td>\n      <td>2015-02-24</td>\n      <td>71.528603</td>\n      <td>71.772064</td>\n    </tr>\n    <tr>\n      <th>39999</th>\n      <td>GOOG</td>\n      <td>210</td>\n      <td>20000</td>\n      <td>2018-02-02</td>\n      <td>2018-08-31</td>\n      <td>1111.900024</td>\n      <td>1218.189941</td>\n    </tr>\n  </tbody>\n</table>\n<p>36180 rows × 7 columns</p>\n</div>"
     },
     "metadata": {},
     "execution_count": 39
    }
   ],
   "source": [
    "transactions_ready"
   ]
  },
  {
   "cell_type": "markdown",
   "metadata": {
    "id": "7FdvBxuO6sDy"
   },
   "source": [
    "## Filtering transactions with error (Price = 0)"
   ]
  },
  {
   "cell_type": "code",
   "execution_count": 40,
   "metadata": {
    "colab": {
     "base_uri": "https://localhost:8080/"
    },
    "executionInfo": {
     "elapsed": 34329,
     "status": "ok",
     "timestamp": 1609188926330,
     "user": {
      "displayName": "Daniel Dabdub",
      "photoUrl": "https://lh6.googleusercontent.com/-qKoV5H3Fw5M/AAAAAAAAAAI/AAAAAAAAZro/jARb9IjBWek/s64/photo.jpg",
      "userId": "06642504652143825936"
     },
     "user_tz": 360
    },
    "id": "4pTs7UX44YW-",
    "outputId": "e06df0fd-bdbd-4760-faf9-aa7f0a8c1c0f"
   },
   "outputs": [
    {
     "output_type": "stream",
     "name": "stdout",
     "text": [
      "with errors:  (439, 7)\n(36180, 7)\n(35481, 7)\n"
     ]
    }
   ],
   "source": [
    "price_error=transactions_ready[(transactions_ready.price_BUY==0) | (transactions_ready.price_SELL==0)]\n",
    "print('with errors: ', price_error.shape)\n",
    "print(transactions_ready.shape)\n",
    "\n",
    "transactions_ready=pd.concat([transactions_ready, price_error, price_error]).drop_duplicates(keep=False)\n",
    "print(transactions_ready.shape)"
   ]
  },
  {
   "cell_type": "markdown",
   "metadata": {
    "id": "TCtM8tNYNmYm"
   },
   "source": [
    "# Real Profit/Loss (Rentabilidad Real)"
   ]
  },
  {
   "cell_type": "code",
   "execution_count": 41,
   "metadata": {
    "executionInfo": {
     "elapsed": 34319,
     "status": "ok",
     "timestamp": 1609188926331,
     "user": {
      "displayName": "Daniel Dabdub",
      "photoUrl": "https://lh6.googleusercontent.com/-qKoV5H3Fw5M/AAAAAAAAAAI/AAAAAAAAZro/jARb9IjBWek/s64/photo.jpg",
      "userId": "06642504652143825936"
     },
     "user_tz": 360
    },
    "id": "pI9ZvEawJOzF"
   },
   "outputs": [],
   "source": [
    "transactions_ready['nominal_return']=(transactions_ready['price_SELL']-transactions_ready['price_BUY'])/transactions_ready['price_BUY']"
   ]
  },
  {
   "cell_type": "code",
   "execution_count": 42,
   "metadata": {
    "colab": {
     "base_uri": "https://localhost:8080/",
     "height": 406
    },
    "executionInfo": {
     "elapsed": 34576,
     "status": "ok",
     "timestamp": 1609188926600,
     "user": {
      "displayName": "Daniel Dabdub",
      "photoUrl": "https://lh6.googleusercontent.com/-qKoV5H3Fw5M/AAAAAAAAAAI/AAAAAAAAZro/jARb9IjBWek/s64/photo.jpg",
      "userId": "06642504652143825936"
     },
     "user_tz": 360
    },
    "id": "HfBIf6V73S-r",
    "outputId": "fd9882ac-b239-4b3f-95c0-d15c8271e882"
   },
   "outputs": [
    {
     "output_type": "execute_result",
     "data": {
      "text/plain": [
       "      company  horizon  amount date_BUY_fix date_SELL_fix    price_BUY  \\\n",
       "0          PG       70     500   2016-07-05    2016-09-13    74.794472   \n",
       "1        TSLA        4     300   2014-02-24    2014-02-28    43.529999   \n",
       "2        NVDA       70    5000   2015-05-15    2015-07-24    20.579834   \n",
       "4        AMZN        3    1500   2015-08-14    2015-08-17   531.520020   \n",
       "5          FB        7   20000   2017-03-07    2017-03-14   137.300003   \n",
       "...       ...      ...     ...          ...           ...          ...   \n",
       "39995      PG      240    4000   2015-01-29    2015-09-25    71.914757   \n",
       "39996      PG        6    1000   2014-07-18    2014-07-24    66.628288   \n",
       "39997    NVDA      300     300   2017-04-28    2018-02-22   103.163094   \n",
       "39998      PG        5     200   2015-02-19    2015-02-24    71.528603   \n",
       "39999    GOOG      210   20000   2018-02-02    2018-08-31  1111.900024   \n",
       "\n",
       "        price_SELL  nominal_return  \n",
       "0        76.801003        0.026827  \n",
       "1        48.962002        0.124788  \n",
       "2        18.850248       -0.084043  \n",
       "4       535.219971        0.006961  \n",
       "5       139.320007        0.014712  \n",
       "...            ...             ...  \n",
       "39995    61.996246       -0.137920  \n",
       "39996    66.388382       -0.003601  \n",
       "39997   240.289780        1.329222  \n",
       "39998    71.772064        0.003404  \n",
       "39999  1218.189941        0.095593  \n",
       "\n",
       "[35481 rows x 8 columns]"
      ],
      "text/html": "<div>\n<style scoped>\n    .dataframe tbody tr th:only-of-type {\n        vertical-align: middle;\n    }\n\n    .dataframe tbody tr th {\n        vertical-align: top;\n    }\n\n    .dataframe thead th {\n        text-align: right;\n    }\n</style>\n<table border=\"1\" class=\"dataframe\">\n  <thead>\n    <tr style=\"text-align: right;\">\n      <th></th>\n      <th>company</th>\n      <th>horizon</th>\n      <th>amount</th>\n      <th>date_BUY_fix</th>\n      <th>date_SELL_fix</th>\n      <th>price_BUY</th>\n      <th>price_SELL</th>\n      <th>nominal_return</th>\n    </tr>\n  </thead>\n  <tbody>\n    <tr>\n      <th>0</th>\n      <td>PG</td>\n      <td>70</td>\n      <td>500</td>\n      <td>2016-07-05</td>\n      <td>2016-09-13</td>\n      <td>74.794472</td>\n      <td>76.801003</td>\n      <td>0.026827</td>\n    </tr>\n    <tr>\n      <th>1</th>\n      <td>TSLA</td>\n      <td>4</td>\n      <td>300</td>\n      <td>2014-02-24</td>\n      <td>2014-02-28</td>\n      <td>43.529999</td>\n      <td>48.962002</td>\n      <td>0.124788</td>\n    </tr>\n    <tr>\n      <th>2</th>\n      <td>NVDA</td>\n      <td>70</td>\n      <td>5000</td>\n      <td>2015-05-15</td>\n      <td>2015-07-24</td>\n      <td>20.579834</td>\n      <td>18.850248</td>\n      <td>-0.084043</td>\n    </tr>\n    <tr>\n      <th>4</th>\n      <td>AMZN</td>\n      <td>3</td>\n      <td>1500</td>\n      <td>2015-08-14</td>\n      <td>2015-08-17</td>\n      <td>531.520020</td>\n      <td>535.219971</td>\n      <td>0.006961</td>\n    </tr>\n    <tr>\n      <th>5</th>\n      <td>FB</td>\n      <td>7</td>\n      <td>20000</td>\n      <td>2017-03-07</td>\n      <td>2017-03-14</td>\n      <td>137.300003</td>\n      <td>139.320007</td>\n      <td>0.014712</td>\n    </tr>\n    <tr>\n      <th>...</th>\n      <td>...</td>\n      <td>...</td>\n      <td>...</td>\n      <td>...</td>\n      <td>...</td>\n      <td>...</td>\n      <td>...</td>\n      <td>...</td>\n    </tr>\n    <tr>\n      <th>39995</th>\n      <td>PG</td>\n      <td>240</td>\n      <td>4000</td>\n      <td>2015-01-29</td>\n      <td>2015-09-25</td>\n      <td>71.914757</td>\n      <td>61.996246</td>\n      <td>-0.137920</td>\n    </tr>\n    <tr>\n      <th>39996</th>\n      <td>PG</td>\n      <td>6</td>\n      <td>1000</td>\n      <td>2014-07-18</td>\n      <td>2014-07-24</td>\n      <td>66.628288</td>\n      <td>66.388382</td>\n      <td>-0.003601</td>\n    </tr>\n    <tr>\n      <th>39997</th>\n      <td>NVDA</td>\n      <td>300</td>\n      <td>300</td>\n      <td>2017-04-28</td>\n      <td>2018-02-22</td>\n      <td>103.163094</td>\n      <td>240.289780</td>\n      <td>1.329222</td>\n    </tr>\n    <tr>\n      <th>39998</th>\n      <td>PG</td>\n      <td>5</td>\n      <td>200</td>\n      <td>2015-02-19</td>\n      <td>2015-02-24</td>\n      <td>71.528603</td>\n      <td>71.772064</td>\n      <td>0.003404</td>\n    </tr>\n    <tr>\n      <th>39999</th>\n      <td>GOOG</td>\n      <td>210</td>\n      <td>20000</td>\n      <td>2018-02-02</td>\n      <td>2018-08-31</td>\n      <td>1111.900024</td>\n      <td>1218.189941</td>\n      <td>0.095593</td>\n    </tr>\n  </tbody>\n</table>\n<p>35481 rows × 8 columns</p>\n</div>"
     },
     "metadata": {},
     "execution_count": 42
    }
   ],
   "source": [
    "transactions_ready"
   ]
  },
  {
   "cell_type": "code",
   "execution_count": 43,
   "metadata": {
    "executionInfo": {
     "elapsed": 37970,
     "status": "ok",
     "timestamp": 1609188930005,
     "user": {
      "displayName": "Daniel Dabdub",
      "photoUrl": "https://lh6.googleusercontent.com/-qKoV5H3Fw5M/AAAAAAAAAAI/AAAAAAAAZro/jARb9IjBWek/s64/photo.jpg",
      "userId": "06642504652143825936"
     },
     "user_tz": 360
    },
    "id": "oMPPkBF43WS6"
   },
   "outputs": [],
   "source": [
    "transactions_ready['investment']=''\n",
    "investments=list()\n",
    "for index, row in transactions_ready.iterrows():\n",
    "  if row['nominal_return']>0:\n",
    "    inv='GOOD'\n",
    "    investments.append(inv)\n",
    "  elif row['nominal_return']<0:\n",
    "    inv='BAD'\n",
    "    investments.append(inv)\n",
    "  else:\n",
    "    inv='0'\n",
    "    investments.append(inv)\n",
    "\n",
    "transactions_ready['investment']=investments"
   ]
  },
  {
   "cell_type": "code",
   "execution_count": 44,
   "metadata": {
    "colab": {
     "base_uri": "https://localhost:8080/"
    },
    "executionInfo": {
     "elapsed": 37970,
     "status": "ok",
     "timestamp": 1609188930010,
     "user": {
      "displayName": "Daniel Dabdub",
      "photoUrl": "https://lh6.googleusercontent.com/-qKoV5H3Fw5M/AAAAAAAAAAI/AAAAAAAAZro/jARb9IjBWek/s64/photo.jpg",
      "userId": "06642504652143825936"
     },
     "user_tz": 360
    },
    "id": "HLxLIHoC7hdq",
    "outputId": "12a5a09a-6740-431c-bd45-1102248559df"
   },
   "outputs": [
    {
     "output_type": "execute_result",
     "data": {
      "text/plain": [
       "(35481, 9)"
      ]
     },
     "metadata": {},
     "execution_count": 44
    }
   ],
   "source": [
    "transactions_ready.shape"
   ]
  },
  {
   "cell_type": "code",
   "execution_count": 45,
   "metadata": {
    "colab": {
     "base_uri": "https://localhost:8080/",
     "height": 406
    },
    "executionInfo": {
     "elapsed": 37962,
     "status": "ok",
     "timestamp": 1609188930012,
     "user": {
      "displayName": "Daniel Dabdub",
      "photoUrl": "https://lh6.googleusercontent.com/-qKoV5H3Fw5M/AAAAAAAAAAI/AAAAAAAAZro/jARb9IjBWek/s64/photo.jpg",
      "userId": "06642504652143825936"
     },
     "user_tz": 360
    },
    "id": "KuB-l84A5UBj",
    "outputId": "c10c22e3-1d19-4cfb-f88a-339746337716"
   },
   "outputs": [
    {
     "output_type": "execute_result",
     "data": {
      "text/plain": [
       "      company  horizon  amount date_BUY_fix date_SELL_fix    price_BUY  \\\n",
       "0          PG       70     500   2016-07-05    2016-09-13    74.794472   \n",
       "1        TSLA        4     300   2014-02-24    2014-02-28    43.529999   \n",
       "2        NVDA       70    5000   2015-05-15    2015-07-24    20.579834   \n",
       "4        AMZN        3    1500   2015-08-14    2015-08-17   531.520020   \n",
       "5          FB        7   20000   2017-03-07    2017-03-14   137.300003   \n",
       "...       ...      ...     ...          ...           ...          ...   \n",
       "39995      PG      240    4000   2015-01-29    2015-09-25    71.914757   \n",
       "39996      PG        6    1000   2014-07-18    2014-07-24    66.628288   \n",
       "39997    NVDA      300     300   2017-04-28    2018-02-22   103.163094   \n",
       "39998      PG        5     200   2015-02-19    2015-02-24    71.528603   \n",
       "39999    GOOG      210   20000   2018-02-02    2018-08-31  1111.900024   \n",
       "\n",
       "        price_SELL  nominal_return investment  \n",
       "0        76.801003        0.026827       GOOD  \n",
       "1        48.962002        0.124788       GOOD  \n",
       "2        18.850248       -0.084043        BAD  \n",
       "4       535.219971        0.006961       GOOD  \n",
       "5       139.320007        0.014712       GOOD  \n",
       "...            ...             ...        ...  \n",
       "39995    61.996246       -0.137920        BAD  \n",
       "39996    66.388382       -0.003601        BAD  \n",
       "39997   240.289780        1.329222       GOOD  \n",
       "39998    71.772064        0.003404       GOOD  \n",
       "39999  1218.189941        0.095593       GOOD  \n",
       "\n",
       "[35481 rows x 9 columns]"
      ],
      "text/html": "<div>\n<style scoped>\n    .dataframe tbody tr th:only-of-type {\n        vertical-align: middle;\n    }\n\n    .dataframe tbody tr th {\n        vertical-align: top;\n    }\n\n    .dataframe thead th {\n        text-align: right;\n    }\n</style>\n<table border=\"1\" class=\"dataframe\">\n  <thead>\n    <tr style=\"text-align: right;\">\n      <th></th>\n      <th>company</th>\n      <th>horizon</th>\n      <th>amount</th>\n      <th>date_BUY_fix</th>\n      <th>date_SELL_fix</th>\n      <th>price_BUY</th>\n      <th>price_SELL</th>\n      <th>nominal_return</th>\n      <th>investment</th>\n    </tr>\n  </thead>\n  <tbody>\n    <tr>\n      <th>0</th>\n      <td>PG</td>\n      <td>70</td>\n      <td>500</td>\n      <td>2016-07-05</td>\n      <td>2016-09-13</td>\n      <td>74.794472</td>\n      <td>76.801003</td>\n      <td>0.026827</td>\n      <td>GOOD</td>\n    </tr>\n    <tr>\n      <th>1</th>\n      <td>TSLA</td>\n      <td>4</td>\n      <td>300</td>\n      <td>2014-02-24</td>\n      <td>2014-02-28</td>\n      <td>43.529999</td>\n      <td>48.962002</td>\n      <td>0.124788</td>\n      <td>GOOD</td>\n    </tr>\n    <tr>\n      <th>2</th>\n      <td>NVDA</td>\n      <td>70</td>\n      <td>5000</td>\n      <td>2015-05-15</td>\n      <td>2015-07-24</td>\n      <td>20.579834</td>\n      <td>18.850248</td>\n      <td>-0.084043</td>\n      <td>BAD</td>\n    </tr>\n    <tr>\n      <th>4</th>\n      <td>AMZN</td>\n      <td>3</td>\n      <td>1500</td>\n      <td>2015-08-14</td>\n      <td>2015-08-17</td>\n      <td>531.520020</td>\n      <td>535.219971</td>\n      <td>0.006961</td>\n      <td>GOOD</td>\n    </tr>\n    <tr>\n      <th>5</th>\n      <td>FB</td>\n      <td>7</td>\n      <td>20000</td>\n      <td>2017-03-07</td>\n      <td>2017-03-14</td>\n      <td>137.300003</td>\n      <td>139.320007</td>\n      <td>0.014712</td>\n      <td>GOOD</td>\n    </tr>\n    <tr>\n      <th>...</th>\n      <td>...</td>\n      <td>...</td>\n      <td>...</td>\n      <td>...</td>\n      <td>...</td>\n      <td>...</td>\n      <td>...</td>\n      <td>...</td>\n      <td>...</td>\n    </tr>\n    <tr>\n      <th>39995</th>\n      <td>PG</td>\n      <td>240</td>\n      <td>4000</td>\n      <td>2015-01-29</td>\n      <td>2015-09-25</td>\n      <td>71.914757</td>\n      <td>61.996246</td>\n      <td>-0.137920</td>\n      <td>BAD</td>\n    </tr>\n    <tr>\n      <th>39996</th>\n      <td>PG</td>\n      <td>6</td>\n      <td>1000</td>\n      <td>2014-07-18</td>\n      <td>2014-07-24</td>\n      <td>66.628288</td>\n      <td>66.388382</td>\n      <td>-0.003601</td>\n      <td>BAD</td>\n    </tr>\n    <tr>\n      <th>39997</th>\n      <td>NVDA</td>\n      <td>300</td>\n      <td>300</td>\n      <td>2017-04-28</td>\n      <td>2018-02-22</td>\n      <td>103.163094</td>\n      <td>240.289780</td>\n      <td>1.329222</td>\n      <td>GOOD</td>\n    </tr>\n    <tr>\n      <th>39998</th>\n      <td>PG</td>\n      <td>5</td>\n      <td>200</td>\n      <td>2015-02-19</td>\n      <td>2015-02-24</td>\n      <td>71.528603</td>\n      <td>71.772064</td>\n      <td>0.003404</td>\n      <td>GOOD</td>\n    </tr>\n    <tr>\n      <th>39999</th>\n      <td>GOOG</td>\n      <td>210</td>\n      <td>20000</td>\n      <td>2018-02-02</td>\n      <td>2018-08-31</td>\n      <td>1111.900024</td>\n      <td>1218.189941</td>\n      <td>0.095593</td>\n      <td>GOOD</td>\n    </tr>\n  </tbody>\n</table>\n<p>35481 rows × 9 columns</p>\n</div>"
     },
     "metadata": {},
     "execution_count": 45
    }
   ],
   "source": [
    "transactions_ready"
   ]
  },
  {
   "cell_type": "code",
   "execution_count": 46,
   "metadata": {
    "colab": {
     "base_uri": "https://localhost:8080/"
    },
    "executionInfo": {
     "elapsed": 37954,
     "status": "ok",
     "timestamp": 1609188930014,
     "user": {
      "displayName": "Daniel Dabdub",
      "photoUrl": "https://lh6.googleusercontent.com/-qKoV5H3Fw5M/AAAAAAAAAAI/AAAAAAAAZro/jARb9IjBWek/s64/photo.jpg",
      "userId": "06642504652143825936"
     },
     "user_tz": 360
    },
    "id": "LRm2-G1j5vDK",
    "outputId": "9a0958f9-29a5-425f-937c-f682b59a0b56"
   },
   "outputs": [
    {
     "output_type": "execute_result",
     "data": {
      "text/plain": [
       "GOOD    24662\n",
       "BAD     10478\n",
       "0         341\n",
       "Name: investment, dtype: int64"
      ]
     },
     "metadata": {},
     "execution_count": 46
    }
   ],
   "source": [
    "transactions_ready.investment.value_counts()"
   ]
  },
  {
   "cell_type": "markdown",
   "metadata": {
    "id": "Q3McOeD8JLcv"
   },
   "source": [
    "## Variables calculation"
   ]
  },
  {
   "cell_type": "markdown",
   "metadata": {
    "id": "v5VFtr8AJRvq"
   },
   "source": [
    "### Expected return"
   ]
  },
  {
   "cell_type": "code",
   "execution_count": 47,
   "metadata": {
    "executionInfo": {
     "elapsed": 556,
     "status": "ok",
     "timestamp": 1609192363656,
     "user": {
      "displayName": "Daniel Dabdub",
      "photoUrl": "https://lh6.googleusercontent.com/-qKoV5H3Fw5M/AAAAAAAAAAI/AAAAAAAAZro/jARb9IjBWek/s64/photo.jpg",
      "userId": "06642504652143825936"
     },
     "user_tz": 360
    },
    "id": "-VJny-2zSzBZ"
   },
   "outputs": [],
   "source": [
    "l_returns=list()\n",
    "l_stdDev=list()\n",
    "\n",
    "for company in companies:\n",
    "  company_pos=companies.index(company)\n",
    "  prices_r=l_companies_prices[company_pos]['Adj Close']\n",
    "\n",
    "  # Calculting log returns and std deviation\n",
    "  percent_change = prices_r.pct_change()\n",
    "  returns = np.log(1+percent_change)\n",
    "\n",
    "  meanReturn_daily = returns.mean()\n",
    "  stdDev_daily = returns.std()    \n",
    "\n",
    "  meanReturn_year= meanReturn_daily * 365\n",
    "  stdDev_year= stdDev_daily *stdDev_daily* 365\n",
    "\n",
    "  l_returns.append(meanReturn_year)\n",
    "  l_stdDev.append(stdDev_year)\n",
    "  \n"
   ]
  },
  {
   "cell_type": "code",
   "execution_count": 48,
   "metadata": {
    "executionInfo": {
     "elapsed": 602,
     "status": "ok",
     "timestamp": 1609192364316,
     "user": {
      "displayName": "Daniel Dabdub",
      "photoUrl": "https://lh6.googleusercontent.com/-qKoV5H3Fw5M/AAAAAAAAAAI/AAAAAAAAZro/jARb9IjBWek/s64/photo.jpg",
      "userId": "06642504652143825936"
     },
     "user_tz": 360
    },
    "id": "mdmSmRePVFWy"
   },
   "outputs": [],
   "source": [
    "companies_returns=list(zip(companies,l_returns))\n",
    "companies_stddev=list(zip(companies,l_stdDev))"
   ]
  },
  {
   "cell_type": "code",
   "execution_count": 49,
   "metadata": {
    "colab": {
     "base_uri": "https://localhost:8080/"
    },
    "executionInfo": {
     "elapsed": 259,
     "status": "ok",
     "timestamp": 1609192364530,
     "user": {
      "displayName": "Daniel Dabdub",
      "photoUrl": "https://lh6.googleusercontent.com/-qKoV5H3Fw5M/AAAAAAAAAAI/AAAAAAAAZro/jARb9IjBWek/s64/photo.jpg",
      "userId": "06642504652143825936"
     },
     "user_tz": 360
    },
    "id": "lTAjPhVOVJcS",
    "outputId": "decefc9b-0af2-4a73-cb48-e99a3261730d"
   },
   "outputs": [
    {
     "output_type": "execute_result",
     "data": {
      "text/plain": [
       "[('AAPL', 0.37006814429896073),\n",
       " ('AMZN', 0.4447562102652766),\n",
       " ('MSFT', 0.34874318892447237),\n",
       " ('GOOG', 0.2509879900028765),\n",
       " ('FB', 0.33424316922218367),\n",
       " ('NVDA', 0.582100040715823),\n",
       " ('PG', 0.16589283819663966),\n",
       " ('TSLA', 0.6779141428282532)]"
      ]
     },
     "metadata": {},
     "execution_count": 49
    }
   ],
   "source": [
    "companies_returns"
   ]
  },
  {
   "cell_type": "code",
   "execution_count": 50,
   "metadata": {
    "id": "obTRwkhIVW9c"
   },
   "outputs": [],
   "source": [
    "#prueba de modificacion desde jupyter notebook."
   ]
  },
  {
   "source": [
    "Expected return 1\n"
   ],
   "cell_type": "markdown",
   "metadata": {}
  },
  {
   "cell_type": "code",
   "execution_count": null,
   "metadata": {},
   "outputs": [],
   "source": []
  }
 ],
 "metadata": {
  "colab": {
   "collapsed_sections": [],
   "name": "Dataset_Transacciones.ipynb",
   "provenance": []
  },
  "kernelspec": {
   "display_name": "Python 3",
   "language": "python",
   "name": "python3"
  },
  "language_info": {
   "codemirror_mode": {
    "name": "ipython",
    "version": 3
   },
   "file_extension": ".py",
   "mimetype": "text/x-python",
   "name": "python",
   "nbconvert_exporter": "python",
   "pygments_lexer": "ipython3",
   "version": "3.8.3-final"
  }
 },
 "nbformat": 4,
 "nbformat_minor": 1
}