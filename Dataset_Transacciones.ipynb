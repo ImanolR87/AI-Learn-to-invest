{
 "cells": [
  {
   "cell_type": "markdown",
   "metadata": {
    "id": "83Xb7oH8HWwz"
   },
   "source": [
    "# 0.   Packages and Functions"
   ]
  },
  {
   "cell_type": "code",
   "execution_count": 1,
   "metadata": {
    "colab": {
     "base_uri": "https://localhost:8080/"
    },
    "executionInfo": {
     "elapsed": 2951,
     "status": "ok",
     "timestamp": 1609188894652,
     "user": {
      "displayName": "Daniel Dabdub",
      "photoUrl": "https://lh6.googleusercontent.com/-qKoV5H3Fw5M/AAAAAAAAAAI/AAAAAAAAZro/jARb9IjBWek/s64/photo.jpg",
      "userId": "06642504652143825936"
     },
     "user_tz": 360
    },
    "id": "0vFVdOUuHWw9",
    "outputId": "1bbddc3b-1bde-4bbe-f587-111640ff716b"
   },
   "outputs": [
    {
     "output_type": "stream",
     "name": "stdout",
     "text": [
      "Requirement already satisfied: pandas_datareader in d:\\programdata\\anaconda3\\lib\\site-packages (0.9.0)\nRequirement already satisfied: lxml in d:\\programdata\\anaconda3\\lib\\site-packages (from pandas_datareader) (4.5.2)\nRequirement already satisfied: pandas>=0.23 in d:\\programdata\\anaconda3\\lib\\site-packages (from pandas_datareader) (1.0.5)\nRequirement already satisfied: requests>=2.19.0 in d:\\programdata\\anaconda3\\lib\\site-packages (from pandas_datareader) (2.24.0)\nRequirement already satisfied: numpy>=1.13.3 in d:\\programdata\\anaconda3\\lib\\site-packages (from pandas>=0.23->pandas_datareader) (1.18.5)\nRequirement already satisfied: python-dateutil>=2.6.1 in d:\\programdata\\anaconda3\\lib\\site-packages (from pandas>=0.23->pandas_datareader) (2.8.1)\nRequirement already satisfied: pytz>=2017.2 in d:\\programdata\\anaconda3\\lib\\site-packages (from pandas>=0.23->pandas_datareader) (2020.1)\nRequirement already satisfied: chardet<4,>=3.0.2 in d:\\programdata\\anaconda3\\lib\\site-packages (from requests>=2.19.0->pandas_datareader) (3.0.4)\nRequirement already satisfied: idna<3,>=2.5 in d:\\programdata\\anaconda3\\lib\\site-packages (from requests>=2.19.0->pandas_datareader) (2.10)\nRequirement already satisfied: certifi>=2017.4.17 in d:\\programdata\\anaconda3\\lib\\site-packages (from requests>=2.19.0->pandas_datareader) (2020.6.20)\nRequirement already satisfied: urllib3!=1.25.0,!=1.25.1,<1.26,>=1.21.1 in d:\\programdata\\anaconda3\\lib\\site-packages (from requests>=2.19.0->pandas_datareader) (1.25.9)\nRequirement already satisfied: six>=1.5 in c:\\users\\imanr\\appdata\\roaming\\python\\python38\\site-packages (from python-dateutil>=2.6.1->pandas>=0.23->pandas_datareader) (1.15.0)\n"
     ]
    }
   ],
   "source": [
    "!pip install pandas_datareader"
   ]
  },
  {
   "cell_type": "code",
   "execution_count": 83,
   "metadata": {
    "executionInfo": {
     "elapsed": 2941,
     "status": "ok",
     "timestamp": 1609188894655,
     "user": {
      "displayName": "Daniel Dabdub",
      "photoUrl": "https://lh6.googleusercontent.com/-qKoV5H3Fw5M/AAAAAAAAAAI/AAAAAAAAZro/jARb9IjBWek/s64/photo.jpg",
      "userId": "06642504652143825936"
     },
     "user_tz": 360
    },
    "id": "XBk9WVJUHWw_"
   },
   "outputs": [],
   "source": [
    "\n",
    "#general\n",
    "import pandas as pd\n",
    "import numpy as np\n",
    "\n",
    "#for dates and times\n",
    "import random\n",
    "import time\n",
    "import datetime\n",
    "from pandas.tseries.holiday import USFederalHolidayCalendar\n",
    "\n",
    "#prices\n",
    "import pandas_datareader as web\n"
   ]
  },
  {
   "cell_type": "code",
   "execution_count": 84,
   "metadata": {
    "executionInfo": {
     "elapsed": 2935,
     "status": "ok",
     "timestamp": 1609188894656,
     "user": {
      "displayName": "Daniel Dabdub",
      "photoUrl": "https://lh6.googleusercontent.com/-qKoV5H3Fw5M/AAAAAAAAAAI/AAAAAAAAZro/jARb9IjBWek/s64/photo.jpg",
      "userId": "06642504652143825936"
     },
     "user_tz": 360
    },
    "id": "Q_FfFBRPHWxA"
   },
   "outputs": [],
   "source": [
    "\n",
    "\n",
    "def str_time_prop(start, end, format, prop):\n",
    "    \"\"\"Get a time at a proportion of a range of two formatted times.\n",
    "\n",
    "    start and end should be strings specifying times formated in the\n",
    "    given format (strftime-style), giving an interval [start, end].\n",
    "    prop specifies how a proportion of the interval to be taken after\n",
    "    start.  The returned time will be in the specified format.\n",
    "    \"\"\"\n",
    "\n",
    "    stime = time.mktime(time.strptime(start, format))\n",
    "    etime = time.mktime(time.strptime(end, format))\n",
    "\n",
    "    ptime = stime + prop * (etime - stime)\n",
    "\n",
    "    return time.strftime(format, time.localtime(ptime))\n",
    "\n",
    "\n",
    "def random_date(start, end, prop):\n",
    "    return str_time_prop(start, end, '%Y-%m-%d', prop)"
   ]
  },
  {
   "cell_type": "code",
   "execution_count": 85,
   "metadata": {
    "executionInfo": {
     "elapsed": 2931,
     "status": "ok",
     "timestamp": 1609188894656,
     "user": {
      "displayName": "Daniel Dabdub",
      "photoUrl": "https://lh6.googleusercontent.com/-qKoV5H3Fw5M/AAAAAAAAAAI/AAAAAAAAZro/jARb9IjBWek/s64/photo.jpg",
      "userId": "06642504652143825936"
     },
     "user_tz": 360
    },
    "id": "LWzVUjCMuqtA"
   },
   "outputs": [],
   "source": [
    "def weekend2weekday (transactions, col_date, col_day):\n",
    "\n",
    "\n",
    "  dates2_BUY=list()\n",
    "  days2_BUY=list()\n",
    "\n",
    "  for index,row in transactions.iterrows():\n",
    "    buy_date = datetime.datetime.strptime(row[col_date], \"%Y-%m-%d\")\n",
    "    if row[col_day]=='Sat':\n",
    "      buy_date2 = buy_date - datetime.timedelta(1)\n",
    "      dates2_BUY.append(buy_date2)\n",
    "\n",
    "      buy_day2='Fri'\n",
    "      days2_BUY.append(buy_day2)\n",
    "    elif row[col_day]=='Sun':\n",
    "      buy_date = datetime.datetime.strptime(row[col_day], \"%Y-%m-%d\")\n",
    "      buy_date2 = buy_date + datetime.timedelta(1)\n",
    "      dates2_BUY.append(buy_date2)\n",
    "\n",
    "      buy_day2='Mon'\n",
    "      days2_BUY.append(buy_day2)\n",
    "    else:\n",
    "      buy_date2=row[col_date]\n",
    "      dates2_BUY.append(buy_date2)\n",
    "      buy_day2=row[col_day]\n",
    "      days2_BUY.append(buy_day2)\n",
    "\n",
    "    transactions['date_BUY_fix']=dates2_BUY\n",
    "    transactions['day_BUY_fix']=days2_BUY\n",
    "\n",
    "\n",
    "  return transactions"
   ]
  },
  {
   "cell_type": "markdown",
   "metadata": {
    "id": "Pvb9migKHWxB"
   },
   "source": [
    "# 1. Setting investment parameters"
   ]
  },
  {
   "cell_type": "markdown",
   "metadata": {
    "id": "eUVjdqFBHWxC"
   },
   "source": [
    "## Temporal horizons\n",
    " In number of days\n",
    " - 1 day to 2 years"
   ]
  },
  {
   "cell_type": "code",
   "execution_count": 86,
   "metadata": {
    "executionInfo": {
     "elapsed": 2926,
     "status": "ok",
     "timestamp": 1609188894657,
     "user": {
      "displayName": "Daniel Dabdub",
      "photoUrl": "https://lh6.googleusercontent.com/-qKoV5H3Fw5M/AAAAAAAAAAI/AAAAAAAAZro/jARb9IjBWek/s64/photo.jpg",
      "userId": "06642504652143825936"
     },
     "user_tz": 360
    },
    "id": "tq4RiMLqHWxF"
   },
   "outputs": [],
   "source": [
    "horizons=[1,2,3,4,5,6,7,10,15,20,30,40,50,60,70,80,90,100,120,150,180,210,240,270,300,330,360,420,480,540,600,660,720]\n"
   ]
  },
  {
   "cell_type": "markdown",
   "metadata": {
    "id": "u14ARLWFHWxG"
   },
   "source": [
    "## Amounts in dollars\n",
    " - 50 to 50,000 dollars"
   ]
  },
  {
   "cell_type": "code",
   "execution_count": 87,
   "metadata": {
    "executionInfo": {
     "elapsed": 2920,
     "status": "ok",
     "timestamp": 1609188894657,
     "user": {
      "displayName": "Daniel Dabdub",
      "photoUrl": "https://lh6.googleusercontent.com/-qKoV5H3Fw5M/AAAAAAAAAAI/AAAAAAAAZro/jARb9IjBWek/s64/photo.jpg",
      "userId": "06642504652143825936"
     },
     "user_tz": 360
    },
    "id": "JO64rZAfHWxI"
   },
   "outputs": [],
   "source": [
    "amounts=[50,100,200,300,400,500,1000,1500,2000,3000,4000,5000,10000,15000,20000,25000,50000]"
   ]
  },
  {
   "cell_type": "markdown",
   "metadata": {
    "id": "PRO9Gv5XHWxJ"
   },
   "source": [
    "# 2. Data extraction"
   ]
  },
  {
   "cell_type": "markdown",
   "metadata": {
    "id": "OizEc3VRHWxK"
   },
   "source": [
    "## Companies' stock prices"
   ]
  },
  {
   "cell_type": "code",
   "execution_count": 88,
   "metadata": {
    "executionInfo": {
     "elapsed": 2915,
     "status": "ok",
     "timestamp": 1609188894658,
     "user": {
      "displayName": "Daniel Dabdub",
      "photoUrl": "https://lh6.googleusercontent.com/-qKoV5H3Fw5M/AAAAAAAAAAI/AAAAAAAAZro/jARb9IjBWek/s64/photo.jpg",
      "userId": "06642504652143825936"
     },
     "user_tz": 360
    },
    "id": "BKv-SEm-HWxN"
   },
   "outputs": [],
   "source": [
    "#Selecting a list of companies we are interested in analyzing:\n",
    "companies = ['AAPL',\n",
    "            'AMZN',\n",
    "            'MSFT',\n",
    "            'GOOG',\n",
    "            'FB',\n",
    "            'VISA',\n",
    "            'NVDA',\n",
    "            'PG',\n",
    "            'TSLA']"
   ]
  },
  {
   "cell_type": "markdown",
   "metadata": {
    "id": "avte3T6hHWxO"
   },
   "source": [
    "We are going to extract info from 10 years from the companies selected"
   ]
  },
  {
   "cell_type": "code",
   "execution_count": 89,
   "metadata": {
    "colab": {
     "base_uri": "https://localhost:8080/"
    },
    "executionInfo": {
     "elapsed": 7984,
     "status": "ok",
     "timestamp": 1609188899736,
     "user": {
      "displayName": "Daniel Dabdub",
      "photoUrl": "https://lh6.googleusercontent.com/-qKoV5H3Fw5M/AAAAAAAAAAI/AAAAAAAAZro/jARb9IjBWek/s64/photo.jpg",
      "userId": "06642504652143825936"
     },
     "user_tz": 360
    },
    "id": "QjIPhDKXHWxO",
    "outputId": "6976a38b-befa-4db3-b589-6df7a493c043"
   },
   "outputs": [
    {
     "output_type": "stream",
     "name": "stdout",
     "text": [
      "AAPL\n",
      "AMZN\n",
      "MSFT\n",
      "GOOG\n",
      "FB\n",
      "There were  errors when extracting data of   VISA\n",
      "NVDA\n",
      "PG\n",
      "TSLA\n"
     ]
    }
   ],
   "source": [
    "#Collecting the data of each company in a list\n",
    "l_companies_prices=list()\n",
    "error_companies=list()\n",
    "\n",
    "for company in companies:\n",
    "    try:\n",
    "        prices= web.DataReader(company, data_source='yahoo', start='2010-10-10', end='2020-10-10')\n",
    "        l_companies_prices.append(prices)\n",
    "        print(company)\n",
    "    \n",
    "    except :\n",
    "        print('There were  errors when extracting data of  ', company)\n",
    "        #elimino de la lista esa empresa que no se consiguieron datos.\n",
    "        error_companies.append(company)\n",
    "\n",
    "for c in error_companies:\n",
    "  companies.remove(c)\n",
    "    "
   ]
  },
  {
   "cell_type": "code",
   "execution_count": 90,
   "metadata": {
    "colab": {
     "base_uri": "https://localhost:8080/"
    },
    "executionInfo": {
     "elapsed": 7978,
     "status": "ok",
     "timestamp": 1609188899739,
     "user": {
      "displayName": "Daniel Dabdub",
      "photoUrl": "https://lh6.googleusercontent.com/-qKoV5H3Fw5M/AAAAAAAAAAI/AAAAAAAAZro/jARb9IjBWek/s64/photo.jpg",
      "userId": "06642504652143825936"
     },
     "user_tz": 360
    },
    "id": "xFMTSlZWHWxP",
    "outputId": "269f9899-0726-48c4-d4c7-bfdd9aeed622"
   },
   "outputs": [
    {
     "output_type": "execute_result",
     "data": {
      "text/plain": [
       "['AAPL', 'AMZN', 'MSFT', 'GOOG', 'FB', 'NVDA', 'PG', 'TSLA']"
      ]
     },
     "metadata": {},
     "execution_count": 90
    }
   ],
   "source": [
    "companies"
   ]
  },
  {
   "cell_type": "code",
   "execution_count": 91,
   "metadata": {
    "colab": {
     "base_uri": "https://localhost:8080/"
    },
    "executionInfo": {
     "elapsed": 7967,
     "status": "ok",
     "timestamp": 1609188899740,
     "user": {
      "displayName": "Daniel Dabdub",
      "photoUrl": "https://lh6.googleusercontent.com/-qKoV5H3Fw5M/AAAAAAAAAAI/AAAAAAAAZro/jARb9IjBWek/s64/photo.jpg",
      "userId": "06642504652143825936"
     },
     "user_tz": 360
    },
    "id": "iUYZrKXLmbF5",
    "outputId": "ae0e562e-ede0-4b88-9cde-8b44ec3036dc"
   },
   "outputs": [
    {
     "output_type": "execute_result",
     "data": {
      "text/plain": [
       "8"
      ]
     },
     "metadata": {},
     "execution_count": 91
    }
   ],
   "source": [
    "len(l_companies_prices)"
   ]
  },
  {
   "cell_type": "code",
   "execution_count": 11,
   "metadata": {
    "colab": {
     "base_uri": "https://localhost:8080/"
    },
    "executionInfo": {
     "elapsed": 7958,
     "status": "ok",
     "timestamp": 1609188899741,
     "user": {
      "displayName": "Daniel Dabdub",
      "photoUrl": "https://lh6.googleusercontent.com/-qKoV5H3Fw5M/AAAAAAAAAAI/AAAAAAAAZro/jARb9IjBWek/s64/photo.jpg",
      "userId": "06642504652143825936"
     },
     "user_tz": 360
    },
    "id": "sbDmjtWSmpmX",
    "outputId": "1de4229f-0e8d-4b5b-ba9d-a8f0ccd77586"
   },
   "outputs": [
    {
     "output_type": "execute_result",
     "data": {
      "text/plain": [
       "8"
      ]
     },
     "metadata": {},
     "execution_count": 11
    }
   ],
   "source": [
    "len(companies)"
   ]
  },
  {
   "cell_type": "code",
   "execution_count": 92,
   "metadata": {
    "colab": {
     "base_uri": "https://localhost:8080/"
    },
    "executionInfo": {
     "elapsed": 7945,
     "status": "ok",
     "timestamp": 1609188899741,
     "user": {
      "displayName": "Daniel Dabdub",
      "photoUrl": "https://lh6.googleusercontent.com/-qKoV5H3Fw5M/AAAAAAAAAAI/AAAAAAAAZro/jARb9IjBWek/s64/photo.jpg",
      "userId": "06642504652143825936"
     },
     "user_tz": 360
    },
    "id": "53lX5l0UHWxR",
    "outputId": "79d68dc5-603e-4741-a4bb-bd617fe8256f"
   },
   "outputs": [
    {
     "output_type": "stream",
     "name": "stdout",
     "text": [
      "AMZN\n"
     ]
    },
    {
     "output_type": "execute_result",
     "data": {
      "text/plain": [
       "Index(['High', 'Low', 'Open', 'Close', 'Volume', 'Adj Close'], dtype='object')"
      ]
     },
     "metadata": {},
     "execution_count": 92
    }
   ],
   "source": [
    "print(companies[1])\n",
    "l_companies_prices[1].columns"
   ]
  },
  {
   "cell_type": "code",
   "execution_count": 13,
   "metadata": {
    "colab": {
     "base_uri": "https://localhost:8080/"
    },
    "executionInfo": {
     "elapsed": 7935,
     "status": "ok",
     "timestamp": 1609188899742,
     "user": {
      "displayName": "Daniel Dabdub",
      "photoUrl": "https://lh6.googleusercontent.com/-qKoV5H3Fw5M/AAAAAAAAAAI/AAAAAAAAZro/jARb9IjBWek/s64/photo.jpg",
      "userId": "06642504652143825936"
     },
     "user_tz": 360
    },
    "id": "oaXmsayOOdmD",
    "outputId": "819b4b7b-52ba-4d3d-f602-d46b112d751f"
   },
   "outputs": [
    {
     "output_type": "execute_result",
     "data": {
      "text/plain": [
       "10.54857063293457"
      ]
     },
     "metadata": {},
     "execution_count": 13
    }
   ],
   "source": [
    "company_pos=companies.index(\"AAPL\")\n",
    "l_companies_prices[company_pos].loc['2010-10-11','Close']"
   ]
  },
  {
   "cell_type": "code",
   "execution_count": 95,
   "metadata": {
    "executionInfo": {
     "elapsed": 7925,
     "status": "ok",
     "timestamp": 1609188899742,
     "user": {
      "displayName": "Daniel Dabdub",
      "photoUrl": "https://lh6.googleusercontent.com/-qKoV5H3Fw5M/AAAAAAAAAAI/AAAAAAAAZro/jARb9IjBWek/s64/photo.jpg",
      "userId": "06642504652143825936"
     },
     "user_tz": 360
    },
    "id": "iGKoZRi7cQxV"
   },
   "outputs": [],
   "source": [
    "l_companies_prices[4].to_csv('PG_prices.csv')"
   ]
  },
  {
   "cell_type": "code",
   "execution_count": 96,
   "metadata": {
    "colab": {
     "base_uri": "https://localhost:8080/",
     "height": 436
    },
    "executionInfo": {
     "elapsed": 496,
     "status": "ok",
     "timestamp": 1609189323938,
     "user": {
      "displayName": "Daniel Dabdub",
      "photoUrl": "https://lh6.googleusercontent.com/-qKoV5H3Fw5M/AAAAAAAAAAI/AAAAAAAAZro/jARb9IjBWek/s64/photo.jpg",
      "userId": "06642504652143825936"
     },
     "user_tz": 360
    },
    "id": "lsHnv0HrKFsH",
    "outputId": "9891dc7f-91a3-4e4b-b4b9-e67aececbc01"
   },
   "outputs": [
    {
     "output_type": "execute_result",
     "data": {
      "text/plain": [
       "                  High         Low        Open       Close     Volume  \\\n",
       "Date                                                                    \n",
       "2012-05-18   45.000000   38.000000   42.049999   38.230000  573576400   \n",
       "2012-05-21   36.660000   33.000000   36.529999   34.029999  168192700   \n",
       "2012-05-22   33.590000   30.940001   32.610001   31.000000  101786600   \n",
       "2012-05-23   32.500000   31.360001   31.370001   32.000000   73600000   \n",
       "2012-05-24   33.209999   31.770000   32.950001   33.029999   50237200   \n",
       "...                ...         ...         ...         ...        ...   \n",
       "2020-10-05  264.869995  260.839996  262.200012  264.649994   12822300   \n",
       "2020-10-06  265.690002  258.239990  261.779999  258.660004   18696900   \n",
       "2020-10-07  260.179993  254.820007  259.209991  258.119995   23133400   \n",
       "2020-10-08  264.619995  259.149994  259.750000  263.760010   16312800   \n",
       "2020-10-09  264.750000  262.170013  264.519989  264.450012   14107800   \n",
       "\n",
       "             Adj Close  \n",
       "Date                    \n",
       "2012-05-18   38.230000  \n",
       "2012-05-21   34.029999  \n",
       "2012-05-22   31.000000  \n",
       "2012-05-23   32.000000  \n",
       "2012-05-24   33.029999  \n",
       "...                ...  \n",
       "2020-10-05  264.649994  \n",
       "2020-10-06  258.660004  \n",
       "2020-10-07  258.119995  \n",
       "2020-10-08  263.760010  \n",
       "2020-10-09  264.450012  \n",
       "\n",
       "[2113 rows x 6 columns]"
      ],
      "text/html": "<div>\n<style scoped>\n    .dataframe tbody tr th:only-of-type {\n        vertical-align: middle;\n    }\n\n    .dataframe tbody tr th {\n        vertical-align: top;\n    }\n\n    .dataframe thead th {\n        text-align: right;\n    }\n</style>\n<table border=\"1\" class=\"dataframe\">\n  <thead>\n    <tr style=\"text-align: right;\">\n      <th></th>\n      <th>High</th>\n      <th>Low</th>\n      <th>Open</th>\n      <th>Close</th>\n      <th>Volume</th>\n      <th>Adj Close</th>\n    </tr>\n    <tr>\n      <th>Date</th>\n      <th></th>\n      <th></th>\n      <th></th>\n      <th></th>\n      <th></th>\n      <th></th>\n    </tr>\n  </thead>\n  <tbody>\n    <tr>\n      <th>2012-05-18</th>\n      <td>45.000000</td>\n      <td>38.000000</td>\n      <td>42.049999</td>\n      <td>38.230000</td>\n      <td>573576400</td>\n      <td>38.230000</td>\n    </tr>\n    <tr>\n      <th>2012-05-21</th>\n      <td>36.660000</td>\n      <td>33.000000</td>\n      <td>36.529999</td>\n      <td>34.029999</td>\n      <td>168192700</td>\n      <td>34.029999</td>\n    </tr>\n    <tr>\n      <th>2012-05-22</th>\n      <td>33.590000</td>\n      <td>30.940001</td>\n      <td>32.610001</td>\n      <td>31.000000</td>\n      <td>101786600</td>\n      <td>31.000000</td>\n    </tr>\n    <tr>\n      <th>2012-05-23</th>\n      <td>32.500000</td>\n      <td>31.360001</td>\n      <td>31.370001</td>\n      <td>32.000000</td>\n      <td>73600000</td>\n      <td>32.000000</td>\n    </tr>\n    <tr>\n      <th>2012-05-24</th>\n      <td>33.209999</td>\n      <td>31.770000</td>\n      <td>32.950001</td>\n      <td>33.029999</td>\n      <td>50237200</td>\n      <td>33.029999</td>\n    </tr>\n    <tr>\n      <th>...</th>\n      <td>...</td>\n      <td>...</td>\n      <td>...</td>\n      <td>...</td>\n      <td>...</td>\n      <td>...</td>\n    </tr>\n    <tr>\n      <th>2020-10-05</th>\n      <td>264.869995</td>\n      <td>260.839996</td>\n      <td>262.200012</td>\n      <td>264.649994</td>\n      <td>12822300</td>\n      <td>264.649994</td>\n    </tr>\n    <tr>\n      <th>2020-10-06</th>\n      <td>265.690002</td>\n      <td>258.239990</td>\n      <td>261.779999</td>\n      <td>258.660004</td>\n      <td>18696900</td>\n      <td>258.660004</td>\n    </tr>\n    <tr>\n      <th>2020-10-07</th>\n      <td>260.179993</td>\n      <td>254.820007</td>\n      <td>259.209991</td>\n      <td>258.119995</td>\n      <td>23133400</td>\n      <td>258.119995</td>\n    </tr>\n    <tr>\n      <th>2020-10-08</th>\n      <td>264.619995</td>\n      <td>259.149994</td>\n      <td>259.750000</td>\n      <td>263.760010</td>\n      <td>16312800</td>\n      <td>263.760010</td>\n    </tr>\n    <tr>\n      <th>2020-10-09</th>\n      <td>264.750000</td>\n      <td>262.170013</td>\n      <td>264.519989</td>\n      <td>264.450012</td>\n      <td>14107800</td>\n      <td>264.450012</td>\n    </tr>\n  </tbody>\n</table>\n<p>2113 rows × 6 columns</p>\n</div>"
     },
     "metadata": {},
     "execution_count": 96
    }
   ],
   "source": [
    "l_companies_prices[4]"
   ]
  },
  {
   "source": [
    "VOLATILITY"
   ],
   "cell_type": "markdown",
   "metadata": {}
  },
  {
   "cell_type": "code",
   "execution_count": 100,
   "metadata": {
    "tags": []
   },
   "outputs": [],
   "source": [
    "l_volatilities = []\n",
    "for company in companies:\n",
    "    company_pos=companies.index(company)\n",
    "    df_company_prices = pd.DataFrame(l_companies_prices[company_pos])\n",
    "    log_ret = np.log(df_company_prices['Close'] / df_company_prices['Close'].shift(1))\n",
    "    volatility = log_ret.rolling(window=252).std() * np.sqrt(252)\n",
    "    df_company_prices.insert(2, \"Volatility\", volatility, True)\n",
    "    l_volatilities.append(df_company_prices)\n",
    "\n",
    "\n"
   ]
  },
  {
   "cell_type": "code",
   "execution_count": 17,
   "metadata": {},
   "outputs": [
    {
     "output_type": "stream",
     "name": "stdout",
     "text": [
      "[                  High         Low  Volatility        Open       Close  \\\nDate                                                                     \n2010-10-11   10.615714   10.521429         NaN   10.526429   10.548571   \n2010-10-12   10.696429   10.446071         NaN   10.550357   10.662143   \n2010-10-13   10.784286   10.707143         NaN   10.721429   10.719286   \n2010-10-14   10.802500   10.728571         NaN   10.774643   10.796786   \n2010-10-15   11.250000   10.889643         NaN   10.980000   11.240714   \n...                ...         ...         ...         ...         ...   \n2020-10-05  116.650002  113.550003    0.444997  113.910004  116.500000   \n2020-10-06  116.120003  112.250000    0.446135  115.699997  113.160004   \n2020-10-07  115.550003  114.129997    0.446117  114.620003  115.080002   \n2020-10-08  116.400002  114.589996    0.446045  116.250000  114.970001   \n2020-10-09  117.000000  114.919998    0.446154  115.279999  116.970001   \n\n                 Volume   Adj Close  \nDate                                 \n2010-10-11  427753200.0    9.099727  \n2010-10-12  558544000.0    9.197704  \n2010-10-13  630092400.0    9.247000  \n2010-10-14  435296400.0    9.313856  \n2010-10-15  922194000.0    9.696809  \n...                 ...         ...  \n2020-10-05  106243800.0  116.299355  \n2020-10-06  161498200.0  112.965111  \n2020-10-07   96849000.0  114.881805  \n2020-10-08   83477200.0  114.771988  \n2020-10-09  100506900.0  116.768547  \n\n[2518 rows x 7 columns],                    High          Low  Volatility         Open        Close  \\\nDate                                                                         \n2010-10-11   156.630005   152.339996         NaN   154.889999   153.029999   \n2010-10-12   156.949997   151.399994         NaN   152.509995   156.479996   \n2010-10-13   156.789993   153.850006         NaN   156.690002   155.169998   \n2010-10-14   156.949997   154.229996         NaN   155.160004   155.529999   \n2010-10-15   164.880005   156.750000         NaN   158.419998   164.639999   \n...                 ...          ...         ...          ...          ...   \n2020-10-05  3202.530029  3140.850098    0.357626  3145.840088  3199.199951   \n2020-10-06  3182.000000  3090.000000    0.359176  3165.000000  3099.959961   \n2020-10-07  3200.000000  3132.389893    0.359809  3135.000000  3195.689941   \n2020-10-08  3233.290039  3174.989990    0.359761  3224.989990  3190.550049   \n2020-10-09  3288.989990  3197.830078    0.360772  3210.000000  3286.649902   \n\n              Volume    Adj Close  \nDate                               \n2010-10-11   4486400   153.029999  \n2010-10-12   5280800   156.479996  \n2010-10-13   5632800   155.169998  \n2010-10-14   4024100   155.529999  \n2010-10-15  10135500   164.639999  \n...              ...          ...  \n2020-10-05   3775300  3199.199951  \n2020-10-06   5086900  3099.959961  \n2020-10-07   4309400  3195.689941  \n2020-10-08   3174100  3190.550049  \n2020-10-09   4907900  3286.649902  \n\n[2518 rows x 7 columns],                   High         Low  Volatility        Open       Close  \\\nDate                                                                     \n2010-10-11   24.740000   24.500000         NaN   24.740000   24.590000   \n2010-10-12   24.930000   24.430000         NaN   24.650000   24.830000   \n2010-10-13   25.540001   24.889999         NaN   25.020000   25.340000   \n2010-10-14   25.340000   25.000000         NaN   25.290001   25.230000   \n2010-10-15   25.549999   25.230000         NaN   25.360001   25.540001   \n...                ...         ...         ...         ...         ...   \n2020-10-05  210.410004  206.979996    0.427042  207.220001  210.380005   \n2020-10-06  210.179993  204.820007    0.427577  208.820007  205.910004   \n2020-10-07  210.110001  206.720001    0.427746  207.059998  209.830002   \n2020-10-08  211.190002  208.320007    0.427408  210.509995  210.580002   \n2020-10-09  215.860001  211.229996    0.427996  211.229996  215.809998   \n\n                Volume   Adj Close  \nDate                                \n2010-10-11  27587800.0   19.431374  \n2010-10-12  50141500.0   19.621023  \n2010-10-13  75336500.0   20.024035  \n2010-10-14  51949100.0   19.937109  \n2010-10-15  68954800.0   20.182076  \n...                ...         ...  \n2020-10-05  21331600.0  209.830658  \n2020-10-06  28554300.0  205.372330  \n2020-10-07  25681100.0  209.282089  \n2020-10-08  19925800.0  210.030136  \n2020-10-09  26458000.0  215.246475  \n\n[2518 rows x 7 columns],                    High          Low  Volatility         Open        Close  \\\nDate                                                                         \n2010-10-11   271.283173   267.582031         NaN   268.234589   268.413910   \n2010-10-12   271.975555   267.890869         NaN   269.051544   269.684143   \n2010-10-13   272.722778   270.152405         NaN   272.478668   270.635590   \n2010-10-14   271.606964   267.552155         NaN   271.073944   269.455017   \n2010-10-15   299.696655   294.695404         NaN   298.516083   299.602020   \n...                 ...          ...         ...          ...          ...   \n2020-10-05  1488.209961  1464.270020    0.366517  1466.209961  1486.020020   \n2020-10-06  1486.760010  1448.589966    0.367233  1475.579956  1453.439941   \n2020-10-07  1468.959961  1436.000000    0.366892  1464.290039  1460.290039   \n2020-10-08  1490.000000  1465.089966    0.367126  1465.089966  1485.930054   \n2020-10-09  1516.520020  1489.449951    0.367575  1494.699951  1515.219971   \n\n                Volume    Adj Close  \nDate                                 \n2010-10-11   5272288.0   268.413910  \n2010-10-12   7535339.0   269.684143  \n2010-10-13   6134106.0   270.635590  \n2010-10-14  13317932.0   269.455017  \n2010-10-15  29760734.0   299.602020  \n...                ...          ...  \n2020-10-05   1113300.0  1486.020020  \n2020-10-06   1245400.0  1453.439941  \n2020-10-07   1746200.0  1460.290039  \n2020-10-08   1187800.0  1485.930054  \n2020-10-09   1435300.0  1515.219971  \n\n[2518 rows x 7 columns],                   High         Low  Volatility        Open       Close  \\\nDate                                                                     \n2012-05-18   45.000000   38.000000         NaN   42.049999   38.230000   \n2012-05-21   36.660000   33.000000         NaN   36.529999   34.029999   \n2012-05-22   33.590000   30.940001         NaN   32.610001   31.000000   \n2012-05-23   32.500000   31.360001         NaN   31.370001   32.000000   \n2012-05-24   33.209999   31.770000         NaN   32.950001   33.029999   \n...                ...         ...         ...         ...         ...   \n2020-10-05  264.869995  260.839996    0.433419  262.200012  264.649994   \n2020-10-06  265.690002  258.239990    0.434068  261.779999  258.660004   \n2020-10-07  260.179993  254.820007    0.433909  259.209991  258.119995   \n2020-10-08  264.619995  259.149994    0.434256  259.750000  263.760010   \n2020-10-09  264.750000  262.170013    0.434257  264.519989  264.450012   \n\n               Volume   Adj Close  \nDate                               \n2012-05-18  573576400   38.230000  \n2012-05-21  168192700   34.029999  \n2012-05-22  101786600   31.000000  \n2012-05-23   73600000   32.000000  \n2012-05-24   50237200   33.029999  \n...               ...         ...  \n2020-10-05   12822300  264.649994  \n2020-10-06   18696900  258.660004  \n2020-10-07   23133400  258.119995  \n2020-10-08   16312800  263.760010  \n2020-10-09   14107800  264.450012  \n\n[2113 rows x 7 columns],                   High         Low  Volatility        Open       Close  \\\nDate                                                                     \n2010-10-11   11.000000   10.760000         NaN   10.910000   10.810000   \n2010-10-12   11.070000   10.630000         NaN   10.720000   11.020000   \n2010-10-13   11.500000   11.080000         NaN   11.200000   11.340000   \n2010-10-14   11.370000   11.110000         NaN   11.350000   11.160000   \n2010-10-15   11.470000   11.160000         NaN   11.340000   11.290000   \n...                ...         ...         ...         ...         ...   \n2020-10-05  545.770020  528.909973    0.569931  529.440002  545.700012   \n2020-10-06  565.679993  546.599976    0.569872  553.200012  549.460022   \n2020-10-07  564.770020  554.539978    0.568312  559.989990  558.559998   \n2020-10-08  563.380005  550.320007    0.568276  563.000000  553.549988   \n2020-10-09  552.969971  546.429993    0.568302  550.679993  550.510010   \n\n                Volume   Adj Close  \nDate                                \n2010-10-11  11067000.0    9.938853  \n2010-10-12  15130200.0   10.131928  \n2010-10-13  24218300.0   10.426142  \n2010-10-14  14979300.0   10.260649  \n2010-10-15  15998500.0   10.380170  \n...                ...         ...  \n2020-10-05  11995500.0  545.538818  \n2020-10-06  19610500.0  549.297729  \n2020-10-07  10452100.0  558.395020  \n2020-10-08   9472500.0  553.386475  \n2020-10-09   8672300.0  550.347412  \n\n[2518 rows x 7 columns],                   High         Low  Volatility        Open       Close  \\\nDate                                                                     \n2010-10-11   62.209999   61.860001         NaN   61.919998   62.139999   \n2010-10-12   62.180000   61.560001         NaN   62.009998   62.020000   \n2010-10-13   62.930000   62.080002         NaN   62.230000   62.630001   \n2010-10-14   62.840000   62.520000         NaN   62.669998   62.799999   \n2010-10-15   63.000000   62.549999         NaN   62.970001   62.759998   \n...                ...         ...         ...         ...         ...   \n2020-10-05  139.649994  138.300003    0.323947  138.720001  139.389999   \n2020-10-06  140.770004  138.809998    0.323797  139.419998  139.610001   \n2020-10-07  141.389999  139.369995    0.323470  140.080002  140.699997   \n2020-10-08  141.929993  140.360001    0.323428  140.559998  141.649994   \n2020-10-09  143.639999  141.699997    0.323533  141.839996  142.919998   \n\n                Volume   Adj Close  \nDate                                \n2010-10-11   7425200.0   45.275635  \n2010-10-12  24975000.0   45.188206  \n2010-10-13   9906000.0   45.632656  \n2010-10-14   8771400.0   45.756523  \n2010-10-15   9943500.0   45.727375  \n...                ...         ...  \n2020-10-05   6333900.0  138.620316  \n2020-10-06   6042900.0  138.839096  \n2020-10-07   4640900.0  139.923080  \n2020-10-08   4569800.0  140.867828  \n2020-10-09   6551700.0  142.130814  \n\n[2518 rows x 7 columns],                   High         Low  Volatility        Open       Close  \\\nDate                                                                     \n2010-10-11    4.140000    4.014000         NaN    4.088000    4.048000   \n2010-10-12    4.056000    4.006000         NaN    4.040000    4.048000   \n2010-10-13    4.170000    4.072000         NaN    4.128000    4.108000   \n2010-10-14    4.206000    4.080000         NaN    4.200000    4.150000   \n2010-10-15    4.180000    4.050000         NaN    4.178000    4.108000   \n...                ...         ...         ...         ...         ...   \n2020-10-05  433.640015  419.329987    0.885442  423.350006  425.679993   \n2020-10-06  428.779999  406.049988    0.886014  423.790009  413.980011   \n2020-10-07  429.899994  413.850006    0.886204  419.869995  425.299988   \n2020-10-08  439.000000  425.299988    0.886178  438.440002  425.920013   \n2020-10-09  434.589996  426.459991    0.886202  430.130005  434.000000   \n\n                Volume   Adj Close  \nDate                                \n2010-10-11    856000.0    4.048000  \n2010-10-12   1220000.0    4.048000  \n2010-10-13   1591000.0    4.108000  \n2010-10-14   1474000.0    4.150000  \n2010-10-15   1423500.0    4.108000  \n...                ...         ...  \n2020-10-05  44722800.0  425.679993  \n2020-10-06  49146300.0  413.980011  \n2020-10-07  43127700.0  425.299988  \n2020-10-08  40421100.0  425.920013  \n2020-10-09  28925700.0  434.000000  \n\n[2518 rows x 7 columns]]\n"
     ]
    }
   ],
   "source": [
    "print(l_volatilities)"
   ]
  },
  {
   "cell_type": "code",
   "execution_count": 101,
   "metadata": {},
   "outputs": [],
   "source": [
    "l_returns = []\n",
    "for company in companies:\n",
    "    company_pos=companies.index(company)\n",
    "    df_company_prices = pd.DataFrame(l_companies_prices[company_pos])\n",
    "    returns = (df_company_prices['Close'] - df_company_prices['Close'].shift(1)) / df_company_prices['Close'].shift(1)\n",
    "    df_company_prices.insert(2, \"returns\", returns, True)\n",
    "    l_returns.append(df_company_prices)"
   ]
  },
  {
   "cell_type": "code",
   "execution_count": 57,
   "metadata": {},
   "outputs": [
    {
     "output_type": "execute_result",
     "data": {
      "text/plain": [
       "[                  High         Low   returns   returns   returns  Volatility  \\\n",
       " Date                                                                           \n",
       " 2010-10-11   10.615714   10.521429       NaN       NaN       NaN         NaN   \n",
       " 2010-10-12   10.696429   10.446071  0.010767  0.010767  1.010767         NaN   \n",
       " 2010-10-13   10.784286   10.707143  0.005359  0.005359  1.005359         NaN   \n",
       " 2010-10-14   10.802500   10.728571  0.007230  0.007230  1.007230         NaN   \n",
       " 2010-10-15   11.250000   10.889643  0.041117  0.041117  1.041117         NaN   \n",
       " ...                ...         ...       ...       ...       ...         ...   \n",
       " 2020-10-05  116.650002  113.550003  0.030791  0.030791  1.030791    0.444997   \n",
       " 2020-10-06  116.120003  112.250000 -0.028669 -0.028669  0.971331    0.446135   \n",
       " 2020-10-07  115.550003  114.129997  0.016967  0.016967  1.016967    0.446117   \n",
       " 2020-10-08  116.400002  114.589996 -0.000956 -0.000956  0.999044    0.446045   \n",
       " 2020-10-09  117.000000  114.919998  0.017396  0.017396  1.017396    0.446154   \n",
       " \n",
       "                   Open       Close       Volume   Adj Close  \n",
       " Date                                                         \n",
       " 2010-10-11   10.526429   10.548571  427753200.0    9.099727  \n",
       " 2010-10-12   10.550357   10.662143  558544000.0    9.197704  \n",
       " 2010-10-13   10.721429   10.719286  630092400.0    9.247000  \n",
       " 2010-10-14   10.774643   10.796786  435296400.0    9.313856  \n",
       " 2010-10-15   10.980000   11.240714  922194000.0    9.696809  \n",
       " ...                ...         ...          ...         ...  \n",
       " 2020-10-05  113.910004  116.500000  106243800.0  116.299355  \n",
       " 2020-10-06  115.699997  113.160004  161498200.0  112.965111  \n",
       " 2020-10-07  114.620003  115.080002   96849000.0  114.881805  \n",
       " 2020-10-08  116.250000  114.970001   83477200.0  114.771988  \n",
       " 2020-10-09  115.279999  116.970001  100506900.0  116.768547  \n",
       " \n",
       " [2518 rows x 10 columns],\n",
       "                    High          Low   returns   returns   returns  \\\n",
       " Date                                                                 \n",
       " 2010-10-11   156.630005   152.339996       NaN       NaN       NaN   \n",
       " 2010-10-12   156.949997   151.399994  0.022545  0.022545  1.022545   \n",
       " 2010-10-13   156.789993   153.850006 -0.008372 -0.008372  0.991628   \n",
       " 2010-10-14   156.949997   154.229996  0.002320  0.002320  1.002320   \n",
       " 2010-10-15   164.880005   156.750000  0.058574  0.058574  1.058574   \n",
       " ...                 ...          ...       ...       ...       ...   \n",
       " 2020-10-05  3202.530029  3140.850098  0.023744  0.023744  1.023744   \n",
       " 2020-10-06  3182.000000  3090.000000 -0.031020 -0.031020  0.968980   \n",
       " 2020-10-07  3200.000000  3132.389893  0.030881  0.030881  1.030881   \n",
       " 2020-10-08  3233.290039  3174.989990 -0.001608 -0.001608  0.998392   \n",
       " 2020-10-09  3288.989990  3197.830078  0.030120  0.030120  1.030120   \n",
       " \n",
       "             Volatility         Open        Close    Volume    Adj Close  \n",
       " Date                                                                     \n",
       " 2010-10-11         NaN   154.889999   153.029999   4486400   153.029999  \n",
       " 2010-10-12         NaN   152.509995   156.479996   5280800   156.479996  \n",
       " 2010-10-13         NaN   156.690002   155.169998   5632800   155.169998  \n",
       " 2010-10-14         NaN   155.160004   155.529999   4024100   155.529999  \n",
       " 2010-10-15         NaN   158.419998   164.639999  10135500   164.639999  \n",
       " ...                ...          ...          ...       ...          ...  \n",
       " 2020-10-05    0.357626  3145.840088  3199.199951   3775300  3199.199951  \n",
       " 2020-10-06    0.359176  3165.000000  3099.959961   5086900  3099.959961  \n",
       " 2020-10-07    0.359809  3135.000000  3195.689941   4309400  3195.689941  \n",
       " 2020-10-08    0.359761  3224.989990  3190.550049   3174100  3190.550049  \n",
       " 2020-10-09    0.360772  3210.000000  3286.649902   4907900  3286.649902  \n",
       " \n",
       " [2518 rows x 10 columns],\n",
       "                   High         Low   returns   returns   returns  Volatility  \\\n",
       " Date                                                                           \n",
       " 2010-10-11   24.740000   24.500000       NaN       NaN       NaN         NaN   \n",
       " 2010-10-12   24.930000   24.430000  0.009760  0.009760  1.009760         NaN   \n",
       " 2010-10-13   25.540001   24.889999  0.020540  0.020540  1.020540         NaN   \n",
       " 2010-10-14   25.340000   25.000000 -0.004341 -0.004341  0.995659         NaN   \n",
       " 2010-10-15   25.549999   25.230000  0.012287  0.012287  1.012287         NaN   \n",
       " ...                ...         ...       ...       ...       ...         ...   \n",
       " 2020-10-05  210.410004  206.979996  0.020321  0.020321  1.020321    0.427042   \n",
       " 2020-10-06  210.179993  204.820007 -0.021247 -0.021247  0.978753    0.427577   \n",
       " 2020-10-07  210.110001  206.720001  0.019037  0.019037  1.019037    0.427746   \n",
       " 2020-10-08  211.190002  208.320007  0.003574  0.003574  1.003574    0.427408   \n",
       " 2020-10-09  215.860001  211.229996  0.024836  0.024836  1.024836    0.427996   \n",
       " \n",
       "                   Open       Close      Volume   Adj Close  \n",
       " Date                                                        \n",
       " 2010-10-11   24.740000   24.590000  27587800.0   19.431374  \n",
       " 2010-10-12   24.650000   24.830000  50141500.0   19.621023  \n",
       " 2010-10-13   25.020000   25.340000  75336500.0   20.024035  \n",
       " 2010-10-14   25.290001   25.230000  51949100.0   19.937109  \n",
       " 2010-10-15   25.360001   25.540001  68954800.0   20.182076  \n",
       " ...                ...         ...         ...         ...  \n",
       " 2020-10-05  207.220001  210.380005  21331600.0  209.830658  \n",
       " 2020-10-06  208.820007  205.910004  28554300.0  205.372330  \n",
       " 2020-10-07  207.059998  209.830002  25681100.0  209.282089  \n",
       " 2020-10-08  210.509995  210.580002  19925800.0  210.030136  \n",
       " 2020-10-09  211.229996  215.809998  26458000.0  215.246475  \n",
       " \n",
       " [2518 rows x 10 columns],\n",
       "                    High          Low   returns   returns   returns  \\\n",
       " Date                                                                 \n",
       " 2010-10-11   271.283173   267.582031       NaN       NaN       NaN   \n",
       " 2010-10-12   271.975555   267.890869  0.004732  0.004732  1.004732   \n",
       " 2010-10-13   272.722778   270.152405  0.003528  0.003528  1.003528   \n",
       " 2010-10-14   271.606964   267.552155 -0.004362 -0.004362  0.995638   \n",
       " 2010-10-15   299.696655   294.695404  0.111881  0.111881  1.111881   \n",
       " ...                 ...          ...       ...       ...       ...   \n",
       " 2020-10-05  1488.209961  1464.270020  0.018925  0.018925  1.018925   \n",
       " 2020-10-06  1486.760010  1448.589966 -0.021924 -0.021924  0.978076   \n",
       " 2020-10-07  1468.959961  1436.000000  0.004713  0.004713  1.004713   \n",
       " 2020-10-08  1490.000000  1465.089966  0.017558  0.017558  1.017558   \n",
       " 2020-10-09  1516.520020  1489.449951  0.019712  0.019712  1.019712   \n",
       " \n",
       "             Volatility         Open        Close      Volume    Adj Close  \n",
       " Date                                                                       \n",
       " 2010-10-11         NaN   268.234589   268.413910   5272288.0   268.413910  \n",
       " 2010-10-12         NaN   269.051544   269.684143   7535339.0   269.684143  \n",
       " 2010-10-13         NaN   272.478668   270.635590   6134106.0   270.635590  \n",
       " 2010-10-14         NaN   271.073944   269.455017  13317932.0   269.455017  \n",
       " 2010-10-15         NaN   298.516083   299.602020  29760734.0   299.602020  \n",
       " ...                ...          ...          ...         ...          ...  \n",
       " 2020-10-05    0.366517  1466.209961  1486.020020   1113300.0  1486.020020  \n",
       " 2020-10-06    0.367233  1475.579956  1453.439941   1245400.0  1453.439941  \n",
       " 2020-10-07    0.366892  1464.290039  1460.290039   1746200.0  1460.290039  \n",
       " 2020-10-08    0.367126  1465.089966  1485.930054   1187800.0  1485.930054  \n",
       " 2020-10-09    0.367575  1494.699951  1515.219971   1435300.0  1515.219971  \n",
       " \n",
       " [2518 rows x 10 columns],\n",
       "                   High         Low   returns   returns   returns  Volatility  \\\n",
       " Date                                                                           \n",
       " 2012-05-18   45.000000   38.000000       NaN       NaN       NaN         NaN   \n",
       " 2012-05-21   36.660000   33.000000 -0.109861 -0.109861  0.890139         NaN   \n",
       " 2012-05-22   33.590000   30.940001 -0.089039 -0.089039  0.910961         NaN   \n",
       " 2012-05-23   32.500000   31.360001  0.032258  0.032258  1.032258         NaN   \n",
       " 2012-05-24   33.209999   31.770000  0.032187  0.032187  1.032187         NaN   \n",
       " ...                ...         ...       ...       ...       ...         ...   \n",
       " 2020-10-05  264.869995  260.839996  0.018120  0.018120  1.018120    0.433419   \n",
       " 2020-10-06  265.690002  258.239990 -0.022634 -0.022634  0.977366    0.434068   \n",
       " 2020-10-07  260.179993  254.820007 -0.002088 -0.002088  0.997912    0.433909   \n",
       " 2020-10-08  264.619995  259.149994  0.021850  0.021850  1.021850    0.434256   \n",
       " 2020-10-09  264.750000  262.170013  0.002616  0.002616  1.002616    0.434257   \n",
       " \n",
       "                   Open       Close     Volume   Adj Close  \n",
       " Date                                                       \n",
       " 2012-05-18   42.049999   38.230000  573576400   38.230000  \n",
       " 2012-05-21   36.529999   34.029999  168192700   34.029999  \n",
       " 2012-05-22   32.610001   31.000000  101786600   31.000000  \n",
       " 2012-05-23   31.370001   32.000000   73600000   32.000000  \n",
       " 2012-05-24   32.950001   33.029999   50237200   33.029999  \n",
       " ...                ...         ...        ...         ...  \n",
       " 2020-10-05  262.200012  264.649994   12822300  264.649994  \n",
       " 2020-10-06  261.779999  258.660004   18696900  258.660004  \n",
       " 2020-10-07  259.209991  258.119995   23133400  258.119995  \n",
       " 2020-10-08  259.750000  263.760010   16312800  263.760010  \n",
       " 2020-10-09  264.519989  264.450012   14107800  264.450012  \n",
       " \n",
       " [2113 rows x 10 columns],\n",
       "                   High         Low   returns   returns   returns  Volatility  \\\n",
       " Date                                                                           \n",
       " 2010-10-11   11.000000   10.760000       NaN       NaN       NaN         NaN   \n",
       " 2010-10-12   11.070000   10.630000  0.019426  0.019426  1.019426         NaN   \n",
       " 2010-10-13   11.500000   11.080000  0.029038  0.029038  1.029038         NaN   \n",
       " 2010-10-14   11.370000   11.110000 -0.015873 -0.015873  0.984127         NaN   \n",
       " 2010-10-15   11.470000   11.160000  0.011649  0.011649  1.011649         NaN   \n",
       " ...                ...         ...       ...       ...       ...         ...   \n",
       " 2020-10-05  545.770020  528.909973  0.044422  0.044422  1.044422    0.569931   \n",
       " 2020-10-06  565.679993  546.599976  0.006890  0.006890  1.006890    0.569872   \n",
       " 2020-10-07  564.770020  554.539978  0.016562  0.016562  1.016562    0.568312   \n",
       " 2020-10-08  563.380005  550.320007 -0.008970 -0.008970  0.991030    0.568276   \n",
       " 2020-10-09  552.969971  546.429993 -0.005492 -0.005492  0.994508    0.568302   \n",
       " \n",
       "                   Open       Close      Volume   Adj Close  \n",
       " Date                                                        \n",
       " 2010-10-11   10.910000   10.810000  11067000.0    9.938853  \n",
       " 2010-10-12   10.720000   11.020000  15130200.0   10.131928  \n",
       " 2010-10-13   11.200000   11.340000  24218300.0   10.426142  \n",
       " 2010-10-14   11.350000   11.160000  14979300.0   10.260649  \n",
       " 2010-10-15   11.340000   11.290000  15998500.0   10.380170  \n",
       " ...                ...         ...         ...         ...  \n",
       " 2020-10-05  529.440002  545.700012  11995500.0  545.538818  \n",
       " 2020-10-06  553.200012  549.460022  19610500.0  549.297729  \n",
       " 2020-10-07  559.989990  558.559998  10452100.0  558.395020  \n",
       " 2020-10-08  563.000000  553.549988   9472500.0  553.386475  \n",
       " 2020-10-09  550.679993  550.510010   8672300.0  550.347412  \n",
       " \n",
       " [2518 rows x 10 columns],\n",
       "                   High         Low   returns   returns   returns  Volatility  \\\n",
       " Date                                                                           \n",
       " 2010-10-11   62.209999   61.860001       NaN       NaN       NaN         NaN   \n",
       " 2010-10-12   62.180000   61.560001 -0.001931 -0.001931  0.998069         NaN   \n",
       " 2010-10-13   62.930000   62.080002  0.009836  0.009836  1.009836         NaN   \n",
       " 2010-10-14   62.840000   62.520000  0.002714  0.002714  1.002714         NaN   \n",
       " 2010-10-15   63.000000   62.549999 -0.000637 -0.000637  0.999363         NaN   \n",
       " ...                ...         ...       ...       ...       ...         ...   \n",
       " 2020-10-05  139.649994  138.300003  0.009195  0.009195  1.009195    0.323947   \n",
       " 2020-10-06  140.770004  138.809998  0.001578  0.001578  1.001578    0.323797   \n",
       " 2020-10-07  141.389999  139.369995  0.007807  0.007807  1.007807    0.323470   \n",
       " 2020-10-08  141.929993  140.360001  0.006752  0.006752  1.006752    0.323428   \n",
       " 2020-10-09  143.639999  141.699997  0.008966  0.008966  1.008966    0.323533   \n",
       " \n",
       "                   Open       Close      Volume   Adj Close  \n",
       " Date                                                        \n",
       " 2010-10-11   61.919998   62.139999   7425200.0   45.275635  \n",
       " 2010-10-12   62.009998   62.020000  24975000.0   45.188206  \n",
       " 2010-10-13   62.230000   62.630001   9906000.0   45.632656  \n",
       " 2010-10-14   62.669998   62.799999   8771400.0   45.756523  \n",
       " 2010-10-15   62.970001   62.759998   9943500.0   45.727375  \n",
       " ...                ...         ...         ...         ...  \n",
       " 2020-10-05  138.720001  139.389999   6333900.0  138.620316  \n",
       " 2020-10-06  139.419998  139.610001   6042900.0  138.839096  \n",
       " 2020-10-07  140.080002  140.699997   4640900.0  139.923080  \n",
       " 2020-10-08  140.559998  141.649994   4569800.0  140.867828  \n",
       " 2020-10-09  141.839996  142.919998   6551700.0  142.130814  \n",
       " \n",
       " [2518 rows x 10 columns],\n",
       "                   High         Low   returns   returns   returns  Volatility  \\\n",
       " Date                                                                           \n",
       " 2010-10-11    4.140000    4.014000       NaN       NaN       NaN         NaN   \n",
       " 2010-10-12    4.056000    4.006000  0.000000  0.000000  1.000000         NaN   \n",
       " 2010-10-13    4.170000    4.072000  0.014822  0.014822  1.014822         NaN   \n",
       " 2010-10-14    4.206000    4.080000  0.010224  0.010224  1.010224         NaN   \n",
       " 2010-10-15    4.180000    4.050000 -0.010121 -0.010121  0.989879         NaN   \n",
       " ...                ...         ...       ...       ...       ...         ...   \n",
       " 2020-10-05  433.640015  419.329987  0.025513  0.025513  1.025513    0.885442   \n",
       " 2020-10-06  428.779999  406.049988 -0.027485 -0.027485  0.972515    0.886014   \n",
       " 2020-10-07  429.899994  413.850006  0.027344  0.027344  1.027344    0.886204   \n",
       " 2020-10-08  439.000000  425.299988  0.001458  0.001458  1.001458    0.886178   \n",
       " 2020-10-09  434.589996  426.459991  0.018971  0.018971  1.018971    0.886202   \n",
       " \n",
       "                   Open       Close      Volume   Adj Close  \n",
       " Date                                                        \n",
       " 2010-10-11    4.088000    4.048000    856000.0    4.048000  \n",
       " 2010-10-12    4.040000    4.048000   1220000.0    4.048000  \n",
       " 2010-10-13    4.128000    4.108000   1591000.0    4.108000  \n",
       " 2010-10-14    4.200000    4.150000   1474000.0    4.150000  \n",
       " 2010-10-15    4.178000    4.108000   1423500.0    4.108000  \n",
       " ...                ...         ...         ...         ...  \n",
       " 2020-10-05  423.350006  425.679993  44722800.0  425.679993  \n",
       " 2020-10-06  423.790009  413.980011  49146300.0  413.980011  \n",
       " 2020-10-07  419.869995  425.299988  43127700.0  425.299988  \n",
       " 2020-10-08  438.440002  425.920013  40421100.0  425.920013  \n",
       " 2020-10-09  430.130005  434.000000  28925700.0  434.000000  \n",
       " \n",
       " [2518 rows x 10 columns]]"
      ]
     },
     "metadata": {},
     "execution_count": 57
    }
   ],
   "source": [
    "l_returns"
   ]
  },
  {
   "source": [
    "yearly returns"
   ],
   "cell_type": "markdown",
   "metadata": {}
  },
  {
   "cell_type": "code",
   "execution_count": 102,
   "metadata": {},
   "outputs": [
    {
     "output_type": "stream",
     "name": "stdout",
     "text": [
      "[['AAPL', 0.24576212706845474], ['AMZN', 0.32878772362638664], ['MSFT', 0.21823741952413256], ['GOOG', 0.191378431933231], ['FB', 0.30161872761801845], ['NVDA', 0.4931171561846849], ['PG', 0.07725201668740694], ['TSLA', 0.5157369284319866]]\n"
     ]
    }
   ],
   "source": [
    "l_yearly_returns = []\n",
    "for company in companies:\n",
    "    company_pos=companies.index(company)\n",
    "    df_company_prices = pd.DataFrame(l_companies_prices[company_pos])\n",
    "    try:\n",
    "        df_yearly = df_company_prices[\"Close\"].resample('Y').first().pct_change()\n",
    "        \n",
    "        yearly_mean = df_yearly.mean()\n",
    "    except:\n",
    "        print( company)\n",
    "        print(df_company_prices)\n",
    "        yearly_mean = 0\n",
    "    l_yearly_returns.append([company,yearly_mean])\n",
    "print(l_yearly_returns)"
   ]
  },
  {
   "source": [
    "# 3. Random transactions"
   ],
   "cell_type": "markdown",
   "metadata": {
    "id": "QXM6dTYrHWxS"
   }
  },
  {
   "cell_type": "code",
   "execution_count": 103,
   "metadata": {
    "executionInfo": {
     "elapsed": 7921,
     "status": "ok",
     "timestamp": 1609188899743,
     "user": {
      "displayName": "Daniel Dabdub",
      "photoUrl": "https://lh6.googleusercontent.com/-qKoV5H3Fw5M/AAAAAAAAAAI/AAAAAAAAZro/jARb9IjBWek/s64/photo.jpg",
      "userId": "06642504652143825936"
     },
     "user_tz": 360
    },
    "id": "FbTbstE2HWxS"
   },
   "outputs": [],
   "source": [
    "transactions=pd.DataFrame()\n",
    "#we do 40,000 initial transactions\n",
    "\n",
    "#id\n",
    "transactions['id']=range(1,40001)"
   ]
  },
  {
   "cell_type": "markdown",
   "metadata": {
    "id": "CGxBin49ynt1"
   },
   "source": [
    "## Companies"
   ]
  },
  {
   "cell_type": "code",
   "execution_count": 104,
   "metadata": {
    "executionInfo": {
     "elapsed": 7916,
     "status": "ok",
     "timestamp": 1609188899743,
     "user": {
      "displayName": "Daniel Dabdub",
      "photoUrl": "https://lh6.googleusercontent.com/-qKoV5H3Fw5M/AAAAAAAAAAI/AAAAAAAAZro/jARb9IjBWek/s64/photo.jpg",
      "userId": "06642504652143825936"
     },
     "user_tz": 360
    },
    "id": "gO_r1eihN4N3"
   },
   "outputs": [],
   "source": [
    "#random company\n",
    "transactions[\"company\"]=np.random.choice(companies, size=len(transactions))"
   ]
  },
  {
   "cell_type": "markdown",
   "metadata": {
    "id": "f6D5TbzNyrCA"
   },
   "source": [
    "## Horizons"
   ]
  },
  {
   "cell_type": "code",
   "execution_count": 105,
   "metadata": {
    "executionInfo": {
     "elapsed": 7910,
     "status": "ok",
     "timestamp": 1609188899744,
     "user": {
      "displayName": "Daniel Dabdub",
      "photoUrl": "https://lh6.googleusercontent.com/-qKoV5H3Fw5M/AAAAAAAAAAI/AAAAAAAAZro/jARb9IjBWek/s64/photo.jpg",
      "userId": "06642504652143825936"
     },
     "user_tz": 360
    },
    "id": "3DbTtrTOHWxS"
   },
   "outputs": [],
   "source": [
    "#random horizon\n",
    "transactions[\"horizon\"] = np.random.choice(horizons, size=len(transactions))\n"
   ]
  },
  {
   "cell_type": "markdown",
   "metadata": {
    "id": "7CXrQ57wys5U"
   },
   "source": [
    "## Investment Amounts"
   ]
  },
  {
   "cell_type": "code",
   "execution_count": 106,
   "metadata": {
    "executionInfo": {
     "elapsed": 7905,
     "status": "ok",
     "timestamp": 1609188899744,
     "user": {
      "displayName": "Daniel Dabdub",
      "photoUrl": "https://lh6.googleusercontent.com/-qKoV5H3Fw5M/AAAAAAAAAAI/AAAAAAAAZro/jARb9IjBWek/s64/photo.jpg",
      "userId": "06642504652143825936"
     },
     "user_tz": 360
    },
    "id": "MqIDjNcSHWxT"
   },
   "outputs": [],
   "source": [
    "#random investment amount\n",
    "transactions[\"amount\"] = np.random.choice(amounts, size=len(transactions))\n"
   ]
  },
  {
   "cell_type": "markdown",
   "metadata": {
    "id": "yDG5pNzSywY2"
   },
   "source": [
    "## Dates - BUY"
   ]
  },
  {
   "cell_type": "code",
   "execution_count": 107,
   "metadata": {
    "colab": {
     "base_uri": "https://localhost:8080/"
    },
    "executionInfo": {
     "elapsed": 9142,
     "status": "ok",
     "timestamp": 1609188900988,
     "user": {
      "displayName": "Daniel Dabdub",
      "photoUrl": "https://lh6.googleusercontent.com/-qKoV5H3Fw5M/AAAAAAAAAAI/AAAAAAAAZro/jARb9IjBWek/s64/photo.jpg",
      "userId": "06642504652143825936"
     },
     "user_tz": 360
    },
    "id": "BeY0oDYhHWxU",
    "outputId": "a7ef2eee-0ddd-402a-a699-65a7bc91ae16"
   },
   "outputs": [
    {
     "output_type": "stream",
     "name": "stdout",
     "text": [
      "40000\n"
     ]
    }
   ],
   "source": [
    "#random buy date\n",
    "start='2013-10-10'\n",
    "end='2018-10-10'\n",
    "\n",
    "dates_buy=list()\n",
    "\n",
    "for i in range(0, transactions.shape[0]):\n",
    "    r_date=random_date(start,end,random.random())\n",
    "    dates_buy.append(r_date)\n",
    "\n",
    "\n",
    "print(len(dates_buy))\n",
    "transactions['date_BUY']=dates_buy"
   ]
  },
  {
   "cell_type": "markdown",
   "metadata": {
    "id": "MF9tblAlsNBo"
   },
   "source": [
    "### Fixing dates (BUY)"
   ]
  },
  {
   "cell_type": "code",
   "execution_count": 108,
   "metadata": {
    "executionInfo": {
     "elapsed": 9631,
     "status": "ok",
     "timestamp": 1609188901489,
     "user": {
      "displayName": "Daniel Dabdub",
      "photoUrl": "https://lh6.googleusercontent.com/-qKoV5H3Fw5M/AAAAAAAAAAI/AAAAAAAAZro/jARb9IjBWek/s64/photo.jpg",
      "userId": "06642504652143825936"
     },
     "user_tz": 360
    },
    "id": "MOlu1a8keq2i"
   },
   "outputs": [],
   "source": [
    "day_names=list()\n",
    "\n",
    "for d in dates_buy:\n",
    "\n",
    "  dt = datetime.datetime.strptime(d, '%Y-%m-%d')\n",
    "  weekno=dt.weekday()\n",
    "\n",
    "  if weekno == 0:\n",
    "    dia='Mon'\n",
    "    day_names.append(dia)\n",
    "  elif weekno==1:\n",
    "    dia='Tue'\n",
    "    day_names.append(dia)\n",
    "  elif weekno==2:\n",
    "    dia='Wed'\n",
    "    day_names.append(dia)\n",
    "  elif weekno==3:\n",
    "    dia='Thu'\n",
    "    day_names.append(dia)\n",
    "  elif weekno==4:\n",
    "    dia='Fri'\n",
    "    day_names.append(dia)\n",
    "  elif weekno==5:\n",
    "    dia='Sat'\n",
    "    day_names.append(dia)\n",
    "  elif weekno==6:\n",
    "    dia='Sun'\n",
    "    day_names.append(dia)\n",
    "\n",
    "transactions['day_BUY']=day_names\n"
   ]
  },
  {
   "cell_type": "code",
   "execution_count": 109,
   "metadata": {
    "executionInfo": {
     "elapsed": 14271,
     "status": "ok",
     "timestamp": 1609188906134,
     "user": {
      "displayName": "Daniel Dabdub",
      "photoUrl": "https://lh6.googleusercontent.com/-qKoV5H3Fw5M/AAAAAAAAAAI/AAAAAAAAZro/jARb9IjBWek/s64/photo.jpg",
      "userId": "06642504652143825936"
     },
     "user_tz": 360
    },
    "id": "AHJh4vQagUyg"
   },
   "outputs": [],
   "source": [
    "dates2_BUY=list()\n",
    "days2_BUY=list()\n",
    "\n",
    "#if date is saturday, we are going to push it to friday\n",
    "#if date is sunday, we are going to push it to monday\n",
    "\n",
    "for index,row in transactions.iterrows():\n",
    "  buy_date = datetime.datetime.strptime(row['date_BUY'], \"%Y-%m-%d\")\n",
    "  if row['day_BUY']=='Sat':\n",
    "    buy_date2 = buy_date - datetime.timedelta(1)\n",
    "    dates2_BUY.append(buy_date2)\n",
    "\n",
    "    buy_day2='Fri'\n",
    "    days2_BUY.append(buy_day2)\n",
    "  elif row['day_BUY']=='Sun':\n",
    "    buy_date = datetime.datetime.strptime(row['date_BUY'], \"%Y-%m-%d\")\n",
    "    buy_date2 = buy_date + datetime.timedelta(1)\n",
    "    dates2_BUY.append(buy_date2)\n",
    "\n",
    "    buy_day2='Mon'\n",
    "    days2_BUY.append(buy_day2)\n",
    "  else:\n",
    "    buy_date2=buy_date\n",
    "    dates2_BUY.append(buy_date2)\n",
    "    buy_day2=row['day_BUY']\n",
    "    days2_BUY.append(buy_day2)\n",
    "\n",
    "\n",
    "transactions['date_BUY_fix']=dates2_BUY\n",
    "transactions['day_BUY_fix']=days2_BUY\n",
    "\n",
    "# transactions=weekend2weekday(transactions,'date_BUY','day_BUY' )"
   ]
  },
  {
   "cell_type": "code",
   "execution_count": 110,
   "metadata": {
    "executionInfo": {
     "elapsed": 14467,
     "status": "ok",
     "timestamp": 1609188906337,
     "user": {
      "displayName": "Daniel Dabdub",
      "photoUrl": "https://lh6.googleusercontent.com/-qKoV5H3Fw5M/AAAAAAAAAAI/AAAAAAAAZro/jARb9IjBWek/s64/photo.jpg",
      "userId": "06642504652143825936"
     },
     "user_tz": 360
    },
    "id": "qHx_n2n2kHjz"
   },
   "outputs": [],
   "source": [
    "#checking for holidays (NYSE is closed)\n",
    "\n",
    "cal = USFederalHolidayCalendar()\n",
    "holidays = cal.holidays(start='2010-10-10', end='2020-10-10').to_pydatetime()\n",
    "# if datetime.datetime(2014,01,01) in holidays:\n",
    "#     print True \n",
    "\n",
    "l_holidays=list()\n",
    "for d in dates2_BUY:\n",
    "  if d in holidays:\n",
    "    holiday='Holiday'\n",
    "    l_holidays.append(holiday)\n",
    "\n",
    "  else:\n",
    "    holiday=''\n",
    "    l_holidays.append(holiday)\n",
    "\n",
    "transactions['holiday_BUY']=l_holidays"
   ]
  },
  {
   "cell_type": "code",
   "execution_count": 111,
   "metadata": {
    "executionInfo": {
     "elapsed": 14463,
     "status": "ok",
     "timestamp": 1609188906338,
     "user": {
      "displayName": "Daniel Dabdub",
      "photoUrl": "https://lh6.googleusercontent.com/-qKoV5H3Fw5M/AAAAAAAAAAI/AAAAAAAAZro/jARb9IjBWek/s64/photo.jpg",
      "userId": "06642504652143825936"
     },
     "user_tz": 360
    },
    "id": "haV7AfcMitbi"
   },
   "outputs": [],
   "source": [
    "transactions_h=transactions[transactions.holiday_BUY=='Holiday']\n",
    "\n",
    "transactions=transactions[transactions.holiday_BUY!='Holiday']"
   ]
  },
  {
   "cell_type": "markdown",
   "metadata": {
    "id": "9EVjuyTwybFN"
   },
   "source": [
    "## Prices - BUY"
   ]
  },
  {
   "cell_type": "code",
   "execution_count": 112,
   "metadata": {
    "executionInfo": {
     "elapsed": 18975,
     "status": "ok",
     "timestamp": 1609188910857,
     "user": {
      "displayName": "Daniel Dabdub",
      "photoUrl": "https://lh6.googleusercontent.com/-qKoV5H3Fw5M/AAAAAAAAAAI/AAAAAAAAZro/jARb9IjBWek/s64/photo.jpg",
      "userId": "06642504652143825936"
     },
     "user_tz": 360
    },
    "id": "kyz9eVdWOHiz"
   },
   "outputs": [],
   "source": [
    "#price when bought\n",
    "\n",
    "l_buy_prices=list()\n",
    "l_volatility=list()\n",
    "for index,row in transactions.iterrows():\n",
    "  comp=row['company']\n",
    "  buy_date=row['date_BUY_fix']\n",
    "  company_pos=companies.index(comp)\n",
    "  try:\n",
    "    price=l_companies_prices[company_pos].loc[buy_date,'Adj Close']\n",
    "    volatility= l_volatilities[company_pos].loc[buy_date, 'Volatility']\n",
    "  except :\n",
    "    price=0\n",
    "    \n",
    "\n",
    "  l_buy_prices.append(price)\n",
    "\n",
    "transactions['price_BUY']=l_buy_prices\n"
   ]
  },
  {
   "source": [
    "VOLATILITY BUY\n"
   ],
   "cell_type": "markdown",
   "metadata": {}
  },
  {
   "cell_type": "code",
   "execution_count": 113,
   "metadata": {},
   "outputs": [
    {
     "output_type": "stream",
     "name": "stdout",
     "text": [
      "38046\n"
     ]
    }
   ],
   "source": [
    "l_volatility_buy=list()\n",
    "for index,row in transactions.iterrows():\n",
    "  comp=row['company']\n",
    "  buy_date=row['date_BUY_fix']\n",
    "  company_pos=companies.index(comp)\n",
    "  try:\n",
    "    volatility= l_volatilities[company_pos].loc[buy_date, 'Volatility']\n",
    "  except :\n",
    "    volatility=0\n",
    "  l_volatility_buy.append(volatility)\n",
    "print(len(l_volatility_buy))\n",
    "\n",
    "\n",
    "transactions['Volatility_Buy'] = l_volatility_buy"
   ]
  },
  {
   "cell_type": "markdown",
   "metadata": {
    "id": "SN8AKEpjzWON"
   },
   "source": [
    "## Dates - SELL"
   ]
  },
  {
   "cell_type": "code",
   "execution_count": 118,
   "metadata": {
    "executionInfo": {
     "elapsed": 22996,
     "status": "ok",
     "timestamp": 1609188914886,
     "user": {
      "displayName": "Daniel Dabdub",
      "photoUrl": "https://lh6.googleusercontent.com/-qKoV5H3Fw5M/AAAAAAAAAAI/AAAAAAAAZro/jARb9IjBWek/s64/photo.jpg",
      "userId": "06642504652143825936"
     },
     "user_tz": 360
    },
    "id": "q7tjX_-KHWxc"
   },
   "outputs": [],
   "source": [
    "#random sell date\n",
    "dates_SELL=list()\n",
    "expected_return = list()\n",
    "\n",
    "for index,row in transactions.iterrows():\n",
    "  comp=row['company']\n",
    "  company_pos=companies.index(comp)\n",
    "  buy_date = row['date_BUY_fix']\n",
    "  sell_date = buy_date + datetime.timedelta(row['horizon'])\n",
    "  expected_return.append(row['horizon']/365 * l_yearly_returns[company_pos][1])\n",
    "  \n",
    "  dates_SELL.append(sell_date)\n",
    "\n",
    "transactions['expected_return (yearly)'] = expected_return\n",
    "transactions['date_SELL']=dates_SELL"
   ]
  },
  {
   "cell_type": "markdown",
   "metadata": {
    "id": "tBEde7euzZOO"
   },
   "source": [
    "### Fixing dates (SELL)"
   ]
  },
  {
   "cell_type": "code",
   "execution_count": 115,
   "metadata": {
    "executionInfo": {
     "elapsed": 22991,
     "status": "ok",
     "timestamp": 1609188914889,
     "user": {
      "displayName": "Daniel Dabdub",
      "photoUrl": "https://lh6.googleusercontent.com/-qKoV5H3Fw5M/AAAAAAAAAAI/AAAAAAAAZro/jARb9IjBWek/s64/photo.jpg",
      "userId": "06642504652143825936"
     },
     "user_tz": 360
    },
    "id": "8xQv21va0AGb"
   },
   "outputs": [],
   "source": [
    "day_names=list()\n",
    "\n",
    "\n",
    "\n",
    "for d in dates_SELL:\n",
    "\n",
    "  # dt = datetime.datetime.strptime(d, '%Y-%m-%d')\n",
    "  weekno=d.weekday()\n",
    "\n",
    "  if weekno == 0:\n",
    "    dia='Mon'\n",
    "    day_names.append(dia)\n",
    "  elif weekno==1:\n",
    "    dia='Tue'\n",
    "    day_names.append(dia)\n",
    "  elif weekno==2:\n",
    "    dia='Wed'\n",
    "    day_names.append(dia)\n",
    "  elif weekno==3:\n",
    "    dia='Thu'\n",
    "    day_names.append(dia)\n",
    "  elif weekno==4:\n",
    "    dia='Fri'\n",
    "    day_names.append(dia)\n",
    "  elif weekno==5:\n",
    "    dia='Sat'\n",
    "    day_names.append(dia)\n",
    "  elif weekno==6:\n",
    "    dia='Sun'\n",
    "    day_names.append(dia)\n",
    "\n",
    "transactions['day_SELL']=day_names\n"
   ]
  },
  {
   "cell_type": "code",
   "execution_count": 124,
   "metadata": {
    "executionInfo": {
     "elapsed": 27213,
     "status": "ok",
     "timestamp": 1609188919119,
     "user": {
      "displayName": "Daniel Dabdub",
      "photoUrl": "https://lh6.googleusercontent.com/-qKoV5H3Fw5M/AAAAAAAAAAI/AAAAAAAAZro/jARb9IjBWek/s64/photo.jpg",
      "userId": "06642504652143825936"
     },
     "user_tz": 360
    },
    "id": "rKB4tani0AGc"
   },
   "outputs": [],
   "source": [
    "dates2_SELL=list()\n",
    "days2_SELL=list()\n",
    "\n",
    "#if date is saturday, we are going to push it to friday\n",
    "#if date is sunday, we are going to push it to monday\n",
    "\n",
    "for index,row in transactions.iterrows():\n",
    "  SELL_date = row['date_SELL']\n",
    "  if row['day_SELL']=='Sat':\n",
    "    SELL_date2 = SELL_date - datetime.timedelta(1)\n",
    "    dates2_SELL.append(SELL_date2)\n",
    "\n",
    "    SELL_day2='Fri'\n",
    "    days2_SELL.append(SELL_day2)\n",
    "  elif row['day_SELL']=='Sun':\n",
    "    SELL_date = row['date_SELL']\n",
    "    SELL_date2 = SELL_date + datetime.timedelta(1)\n",
    "    dates2_SELL.append(SELL_date2)\n",
    "\n",
    "    SELL_day2='Mon'\n",
    "    days2_SELL.append(SELL_day2)\n",
    "  else:\n",
    "    SELL_date2=SELL_date\n",
    "    dates2_SELL.append(SELL_date2)\n",
    "    SELL_day2=row['day_SELL']\n",
    "    days2_SELL.append(SELL_day2)\n",
    "\n",
    "\n",
    "transactions['date_SELL_fix']=dates2_SELL\n",
    "transactions['day_SELL_fix']=days2_SELL\n",
    "\n",
    "# transactions=weekend2weekday(transactions,'date_BUY','day_BUY' )"
   ]
  },
  {
   "source": [
    "Sharpe Ratio\n"
   ],
   "cell_type": "markdown",
   "metadata": {}
  },
  {
   "cell_type": "code",
   "execution_count": 116,
   "metadata": {},
   "outputs": [
    {
     "output_type": "stream",
     "name": "stdout",
     "text": [
      "38046\n"
     ]
    }
   ],
   "source": [
    "l_sharpe=list()\n",
    "for index,row in transactions.iterrows():\n",
    "  comp=row['company']\n",
    "  buy_date=row['date_BUY_fix']\n",
    "  company_pos=companies.index(comp)\n",
    "  r = l_returns\n",
    "  try:\n",
    "    df_company_returns = pd.DataFrame(l_returns[company_pos])\n",
    "    r=df_company_returns[\"returns\"]\n",
    "    sr = r.mean()/r.std() * np.sqrt(252)\n",
    "    sr= l_volatilities[company_pos].loc[buy_date, 'Volatility']\n",
    "  except :\n",
    "    sr=0\n",
    "  l_sharpe.append(sr)\n",
    "print(len(l_sharpe))\n",
    "\n",
    "\n",
    "transactions['Sharpe Ratio'] = l_sharpe"
   ]
  },
  {
   "cell_type": "code",
   "execution_count": 122,
   "metadata": {
    "colab": {
     "base_uri": "https://localhost:8080/",
     "height": 406
    },
    "executionInfo": {
     "elapsed": 27202,
     "status": "ok",
     "timestamp": 1609188919124,
     "user": {
      "displayName": "Daniel Dabdub",
      "photoUrl": "https://lh6.googleusercontent.com/-qKoV5H3Fw5M/AAAAAAAAAAI/AAAAAAAAZro/jARb9IjBWek/s64/photo.jpg",
      "userId": "06642504652143825936"
     },
     "user_tz": 360
    },
    "id": "NtAyWy_J1GcZ",
    "outputId": "e6899ca2-ed34-4404-c08c-9b3378b7502d"
   },
   "outputs": [
    {
     "output_type": "execute_result",
     "data": {
      "text/plain": [
       "          id company  horizon  amount    date_BUY day_BUY date_BUY_fix  \\\n",
       "0          1    AMZN       10   25000  2018-03-06     Tue   2018-03-06   \n",
       "1          2      FB       15     400  2017-11-03     Fri   2017-11-03   \n",
       "2          3    AMZN        1     300  2017-04-29     Sat   2017-04-28   \n",
       "3          4    GOOG      360    3000  2014-07-22     Tue   2014-07-22   \n",
       "4          5      PG       15   50000  2014-11-12     Wed   2014-11-12   \n",
       "...      ...     ...      ...     ...         ...     ...          ...   \n",
       "39995  39996    GOOG      360    2000  2015-01-14     Wed   2015-01-14   \n",
       "39996  39997    NVDA       30   50000  2016-10-11     Tue   2016-10-11   \n",
       "39997  39998    TSLA      330   50000  2018-05-10     Thu   2018-05-10   \n",
       "39998  39999      PG       40      50  2014-08-10     Sun   2014-08-11   \n",
       "39999  40000      FB        6   25000  2015-12-20     Sun   2015-12-21   \n",
       "\n",
       "      day_BUY_fix holiday_BUY    price_BUY  Volatility_Buy  \\\n",
       "0             Tue              1537.640015        0.227187   \n",
       "1             Fri               178.919998        0.178209   \n",
       "2             Fri               924.989990        0.210226   \n",
       "3             Tue               593.111633        0.235331   \n",
       "4             Wed                74.582565        0.120184   \n",
       "...           ...         ...          ...             ...   \n",
       "39995         Wed               499.498627        0.212721   \n",
       "39996         Tue                65.229042        0.347704   \n",
       "39997         Thu                61.004002        0.399889   \n",
       "39998         Mon                67.397537        0.127641   \n",
       "39999         Mon               104.769997        0.257332   \n",
       "\n",
       "       expected_return (yearly)  date_SELL day_SELL  Sharpe Ratio  \n",
       "0                      0.009008 2018-03-16      Fri      0.227187  \n",
       "1                      0.012395 2017-11-18      Sat      0.178209  \n",
       "2                      0.000901 2017-04-29      Sat      0.210226  \n",
       "3                      0.188757 2015-07-17      Fri      0.235331  \n",
       "4                      0.003175 2014-11-27      Thu      0.120184  \n",
       "...                         ...        ...      ...           ...  \n",
       "39995                  0.188757 2016-01-09      Sat      0.212721  \n",
       "39996                  0.040530 2016-11-10      Thu      0.347704  \n",
       "39997                  0.466283 2019-04-05      Fri      0.399889  \n",
       "39998                  0.008466 2014-09-20      Sat      0.127641  \n",
       "39999                  0.004958 2015-12-27      Sun      0.257332  \n",
       "\n",
       "[38046 rows x 15 columns]"
      ],
      "text/html": "<div>\n<style scoped>\n    .dataframe tbody tr th:only-of-type {\n        vertical-align: middle;\n    }\n\n    .dataframe tbody tr th {\n        vertical-align: top;\n    }\n\n    .dataframe thead th {\n        text-align: right;\n    }\n</style>\n<table border=\"1\" class=\"dataframe\">\n  <thead>\n    <tr style=\"text-align: right;\">\n      <th></th>\n      <th>id</th>\n      <th>company</th>\n      <th>horizon</th>\n      <th>amount</th>\n      <th>date_BUY</th>\n      <th>day_BUY</th>\n      <th>date_BUY_fix</th>\n      <th>day_BUY_fix</th>\n      <th>holiday_BUY</th>\n      <th>price_BUY</th>\n      <th>Volatility_Buy</th>\n      <th>expected_return (yearly)</th>\n      <th>date_SELL</th>\n      <th>day_SELL</th>\n      <th>Sharpe Ratio</th>\n    </tr>\n  </thead>\n  <tbody>\n    <tr>\n      <th>0</th>\n      <td>1</td>\n      <td>AMZN</td>\n      <td>10</td>\n      <td>25000</td>\n      <td>2018-03-06</td>\n      <td>Tue</td>\n      <td>2018-03-06</td>\n      <td>Tue</td>\n      <td></td>\n      <td>1537.640015</td>\n      <td>0.227187</td>\n      <td>0.009008</td>\n      <td>2018-03-16</td>\n      <td>Fri</td>\n      <td>0.227187</td>\n    </tr>\n    <tr>\n      <th>1</th>\n      <td>2</td>\n      <td>FB</td>\n      <td>15</td>\n      <td>400</td>\n      <td>2017-11-03</td>\n      <td>Fri</td>\n      <td>2017-11-03</td>\n      <td>Fri</td>\n      <td></td>\n      <td>178.919998</td>\n      <td>0.178209</td>\n      <td>0.012395</td>\n      <td>2017-11-18</td>\n      <td>Sat</td>\n      <td>0.178209</td>\n    </tr>\n    <tr>\n      <th>2</th>\n      <td>3</td>\n      <td>AMZN</td>\n      <td>1</td>\n      <td>300</td>\n      <td>2017-04-29</td>\n      <td>Sat</td>\n      <td>2017-04-28</td>\n      <td>Fri</td>\n      <td></td>\n      <td>924.989990</td>\n      <td>0.210226</td>\n      <td>0.000901</td>\n      <td>2017-04-29</td>\n      <td>Sat</td>\n      <td>0.210226</td>\n    </tr>\n    <tr>\n      <th>3</th>\n      <td>4</td>\n      <td>GOOG</td>\n      <td>360</td>\n      <td>3000</td>\n      <td>2014-07-22</td>\n      <td>Tue</td>\n      <td>2014-07-22</td>\n      <td>Tue</td>\n      <td></td>\n      <td>593.111633</td>\n      <td>0.235331</td>\n      <td>0.188757</td>\n      <td>2015-07-17</td>\n      <td>Fri</td>\n      <td>0.235331</td>\n    </tr>\n    <tr>\n      <th>4</th>\n      <td>5</td>\n      <td>PG</td>\n      <td>15</td>\n      <td>50000</td>\n      <td>2014-11-12</td>\n      <td>Wed</td>\n      <td>2014-11-12</td>\n      <td>Wed</td>\n      <td></td>\n      <td>74.582565</td>\n      <td>0.120184</td>\n      <td>0.003175</td>\n      <td>2014-11-27</td>\n      <td>Thu</td>\n      <td>0.120184</td>\n    </tr>\n    <tr>\n      <th>...</th>\n      <td>...</td>\n      <td>...</td>\n      <td>...</td>\n      <td>...</td>\n      <td>...</td>\n      <td>...</td>\n      <td>...</td>\n      <td>...</td>\n      <td>...</td>\n      <td>...</td>\n      <td>...</td>\n      <td>...</td>\n      <td>...</td>\n      <td>...</td>\n      <td>...</td>\n    </tr>\n    <tr>\n      <th>39995</th>\n      <td>39996</td>\n      <td>GOOG</td>\n      <td>360</td>\n      <td>2000</td>\n      <td>2015-01-14</td>\n      <td>Wed</td>\n      <td>2015-01-14</td>\n      <td>Wed</td>\n      <td></td>\n      <td>499.498627</td>\n      <td>0.212721</td>\n      <td>0.188757</td>\n      <td>2016-01-09</td>\n      <td>Sat</td>\n      <td>0.212721</td>\n    </tr>\n    <tr>\n      <th>39996</th>\n      <td>39997</td>\n      <td>NVDA</td>\n      <td>30</td>\n      <td>50000</td>\n      <td>2016-10-11</td>\n      <td>Tue</td>\n      <td>2016-10-11</td>\n      <td>Tue</td>\n      <td></td>\n      <td>65.229042</td>\n      <td>0.347704</td>\n      <td>0.040530</td>\n      <td>2016-11-10</td>\n      <td>Thu</td>\n      <td>0.347704</td>\n    </tr>\n    <tr>\n      <th>39997</th>\n      <td>39998</td>\n      <td>TSLA</td>\n      <td>330</td>\n      <td>50000</td>\n      <td>2018-05-10</td>\n      <td>Thu</td>\n      <td>2018-05-10</td>\n      <td>Thu</td>\n      <td></td>\n      <td>61.004002</td>\n      <td>0.399889</td>\n      <td>0.466283</td>\n      <td>2019-04-05</td>\n      <td>Fri</td>\n      <td>0.399889</td>\n    </tr>\n    <tr>\n      <th>39998</th>\n      <td>39999</td>\n      <td>PG</td>\n      <td>40</td>\n      <td>50</td>\n      <td>2014-08-10</td>\n      <td>Sun</td>\n      <td>2014-08-11</td>\n      <td>Mon</td>\n      <td></td>\n      <td>67.397537</td>\n      <td>0.127641</td>\n      <td>0.008466</td>\n      <td>2014-09-20</td>\n      <td>Sat</td>\n      <td>0.127641</td>\n    </tr>\n    <tr>\n      <th>39999</th>\n      <td>40000</td>\n      <td>FB</td>\n      <td>6</td>\n      <td>25000</td>\n      <td>2015-12-20</td>\n      <td>Sun</td>\n      <td>2015-12-21</td>\n      <td>Mon</td>\n      <td></td>\n      <td>104.769997</td>\n      <td>0.257332</td>\n      <td>0.004958</td>\n      <td>2015-12-27</td>\n      <td>Sun</td>\n      <td>0.257332</td>\n    </tr>\n  </tbody>\n</table>\n<p>38046 rows × 15 columns</p>\n</div>"
     },
     "metadata": {},
     "execution_count": 122
    }
   ],
   "source": [
    "transactions"
   ]
  },
  {
   "cell_type": "code",
   "execution_count": 125,
   "metadata": {
    "executionInfo": {
     "elapsed": 29566,
     "status": "ok",
     "timestamp": 1609188921500,
     "user": {
      "displayName": "Daniel Dabdub",
      "photoUrl": "https://lh6.googleusercontent.com/-qKoV5H3Fw5M/AAAAAAAAAAI/AAAAAAAAZro/jARb9IjBWek/s64/photo.jpg",
      "userId": "06642504652143825936"
     },
     "user_tz": 360
    },
    "id": "eeaj5M8p0AGd"
   },
   "outputs": [],
   "source": [
    "#checking for holidays (NYSE is closed)\n",
    "cal = USFederalHolidayCalendar()\n",
    "holidays = cal.holidays(start='2010-10-10', end='2020-10-10').to_pydatetime()\n",
    "# if datetime.datetime(2014,01,01) in holidays:\n",
    "#     print True \n",
    "\n",
    "l_holidays=list()\n",
    "for d in dates2_SELL:\n",
    "  if d in holidays:\n",
    "    holiday='Holiday'\n",
    "    l_holidays.append(holiday)\n",
    "\n",
    "  else:\n",
    "    holiday=''\n",
    "    l_holidays.append(holiday)\n",
    "\n",
    "transactions['holiday_SELL']=l_holidays"
   ]
  },
  {
   "cell_type": "markdown",
   "metadata": {
    "id": "dPCAZSku2UZv"
   },
   "source": [
    "## Prices - SELL"
   ]
  },
  {
   "cell_type": "code",
   "execution_count": 126,
   "metadata": {
    "executionInfo": {
     "elapsed": 34374,
     "status": "ok",
     "timestamp": 1609188926315,
     "user": {
      "displayName": "Daniel Dabdub",
      "photoUrl": "https://lh6.googleusercontent.com/-qKoV5H3Fw5M/AAAAAAAAAAI/AAAAAAAAZro/jARb9IjBWek/s64/photo.jpg",
      "userId": "06642504652143825936"
     },
     "user_tz": 360
    },
    "id": "aiHO2dB-2UZy"
   },
   "outputs": [],
   "source": [
    "#price when sold\n",
    "\n",
    "l_sell_prices=list()\n",
    "for index,row in transactions.iterrows():\n",
    "  comp=row['company']\n",
    "  sell_date=row['date_SELL_fix']\n",
    "  company_pos=companies.index(comp)\n",
    "  try:\n",
    "    price=l_companies_prices[company_pos].loc[sell_date,'Adj Close']\n",
    "  except :\n",
    "    price=0\n",
    "\n",
    "  l_sell_prices.append(price)\n",
    "\n",
    "transactions['price_SELL']=l_sell_prices\n"
   ]
  },
  {
   "source": [
    "VOLATILITY SELL"
   ],
   "cell_type": "markdown",
   "metadata": {}
  },
  {
   "cell_type": "code",
   "execution_count": 127,
   "metadata": {},
   "outputs": [],
   "source": [
    "l_volatility_sell=list()\n",
    "for index,row in transactions.iterrows():\n",
    "  comp=row['company']\n",
    "  sell_date=row['date_SELL_fix']\n",
    "  company_pos=companies.index(comp)\n",
    "  try:\n",
    "    volatility=l_volatilities[company_pos].loc[sell_date,'Volatility']\n",
    "  except :\n",
    "    volatility=0\n",
    "\n",
    "  l_volatility_sell.append(volatility)\n",
    "\n",
    "transactions['Volatility_sell']=l_volatility_sell"
   ]
  },
  {
   "cell_type": "code",
   "execution_count": 128,
   "metadata": {
    "executionInfo": {
     "elapsed": 34374,
     "status": "ok",
     "timestamp": 1609188926324,
     "user": {
      "displayName": "Daniel Dabdub",
      "photoUrl": "https://lh6.googleusercontent.com/-qKoV5H3Fw5M/AAAAAAAAAAI/AAAAAAAAZro/jARb9IjBWek/s64/photo.jpg",
      "userId": "06642504652143825936"
     },
     "user_tz": 360
    },
    "id": "ris0TnWH0AGf"
   },
   "outputs": [],
   "source": [
    "transactions_h=transactions[transactions.holiday_SELL=='Holiday']\n",
    "\n",
    "transactions=transactions[transactions.holiday_SELL!='Holiday']"
   ]
  },
  {
   "cell_type": "code",
   "execution_count": 129,
   "metadata": {
    "colab": {
     "base_uri": "https://localhost:8080/",
     "height": 593
    },
    "executionInfo": {
     "elapsed": 34363,
     "status": "ok",
     "timestamp": 1609188926326,
     "user": {
      "displayName": "Daniel Dabdub",
      "photoUrl": "https://lh6.googleusercontent.com/-qKoV5H3Fw5M/AAAAAAAAAAI/AAAAAAAAZro/jARb9IjBWek/s64/photo.jpg",
      "userId": "06642504652143825936"
     },
     "user_tz": 360
    },
    "id": "NGLjROHC1p0r",
    "outputId": "ecaa5c8a-6142-445a-83d2-7647546f4f0a"
   },
   "outputs": [
    {
     "output_type": "execute_result",
     "data": {
      "text/plain": [
       "          id company  horizon  amount    date_BUY day_BUY date_BUY_fix  \\\n",
       "0          1    AMZN       10   25000  2018-03-06     Tue   2018-03-06   \n",
       "1          2      FB       15     400  2017-11-03     Fri   2017-11-03   \n",
       "2          3    AMZN        1     300  2017-04-29     Sat   2017-04-28   \n",
       "3          4    GOOG      360    3000  2014-07-22     Tue   2014-07-22   \n",
       "5          6      PG       80    2000  2016-02-19     Fri   2016-02-19   \n",
       "...      ...     ...      ...     ...         ...     ...          ...   \n",
       "39995  39996    GOOG      360    2000  2015-01-14     Wed   2015-01-14   \n",
       "39996  39997    NVDA       30   50000  2016-10-11     Tue   2016-10-11   \n",
       "39997  39998    TSLA      330   50000  2018-05-10     Thu   2018-05-10   \n",
       "39998  39999      PG       40      50  2014-08-10     Sun   2014-08-11   \n",
       "39999  40000      FB        6   25000  2015-12-20     Sun   2015-12-21   \n",
       "\n",
       "      day_BUY_fix holiday_BUY    price_BUY  Volatility_Buy  \\\n",
       "0             Tue              1537.640015        0.227187   \n",
       "1             Fri               178.919998        0.178209   \n",
       "2             Fri               924.989990        0.210226   \n",
       "3             Tue               593.111633        0.235331   \n",
       "5             Fri                71.017471        0.166489   \n",
       "...           ...         ...          ...             ...   \n",
       "39995         Wed               499.498627        0.212721   \n",
       "39996         Tue                65.229042        0.347704   \n",
       "39997         Thu                61.004002        0.399889   \n",
       "39998         Mon                67.397537        0.127641   \n",
       "39999         Mon               104.769997        0.257332   \n",
       "\n",
       "       expected_return (yearly)  date_SELL day_SELL  Sharpe Ratio  \\\n",
       "0                      0.009008 2018-03-16      Fri      0.227187   \n",
       "1                      0.012395 2017-11-18      Sat      0.178209   \n",
       "2                      0.000901 2017-04-29      Sat      0.210226   \n",
       "3                      0.188757 2015-07-17      Fri      0.235331   \n",
       "5                      0.016932 2016-05-09      Mon      0.166489   \n",
       "...                         ...        ...      ...           ...   \n",
       "39995                  0.188757 2016-01-09      Sat      0.212721   \n",
       "39996                  0.040530 2016-11-10      Thu      0.347704   \n",
       "39997                  0.466283 2019-04-05      Fri      0.399889   \n",
       "39998                  0.008466 2014-09-20      Sat      0.127641   \n",
       "39999                  0.004958 2015-12-27      Sun      0.257332   \n",
       "\n",
       "      date_SELL_fix day_SELL_fix holiday_SELL   price_SELL  Volatility_sell  \n",
       "0        2018-03-16          Fri               1571.680054         0.228277  \n",
       "1        2017-11-17          Fri                179.000000         0.170551  \n",
       "2        2017-04-28          Fri                924.989990         0.210226  \n",
       "3        2015-07-17          Fri                672.929993         0.248367  \n",
       "5        2016-05-09          Mon                 71.888115         0.164962  \n",
       "...             ...          ...          ...          ...              ...  \n",
       "39995    2016-01-08          Fri                714.469971         0.288027  \n",
       "39996    2016-11-10          Thu                 66.846718         0.328577  \n",
       "39997    2019-04-05          Fri                 54.992001         0.586330  \n",
       "39998    2014-09-19          Fri                 69.870781         0.123412  \n",
       "39999    2015-12-28          Mon                105.930000         0.256781  \n",
       "\n",
       "[36281 rows x 20 columns]"
      ],
      "text/html": "<div>\n<style scoped>\n    .dataframe tbody tr th:only-of-type {\n        vertical-align: middle;\n    }\n\n    .dataframe tbody tr th {\n        vertical-align: top;\n    }\n\n    .dataframe thead th {\n        text-align: right;\n    }\n</style>\n<table border=\"1\" class=\"dataframe\">\n  <thead>\n    <tr style=\"text-align: right;\">\n      <th></th>\n      <th>id</th>\n      <th>company</th>\n      <th>horizon</th>\n      <th>amount</th>\n      <th>date_BUY</th>\n      <th>day_BUY</th>\n      <th>date_BUY_fix</th>\n      <th>day_BUY_fix</th>\n      <th>holiday_BUY</th>\n      <th>price_BUY</th>\n      <th>Volatility_Buy</th>\n      <th>expected_return (yearly)</th>\n      <th>date_SELL</th>\n      <th>day_SELL</th>\n      <th>Sharpe Ratio</th>\n      <th>date_SELL_fix</th>\n      <th>day_SELL_fix</th>\n      <th>holiday_SELL</th>\n      <th>price_SELL</th>\n      <th>Volatility_sell</th>\n    </tr>\n  </thead>\n  <tbody>\n    <tr>\n      <th>0</th>\n      <td>1</td>\n      <td>AMZN</td>\n      <td>10</td>\n      <td>25000</td>\n      <td>2018-03-06</td>\n      <td>Tue</td>\n      <td>2018-03-06</td>\n      <td>Tue</td>\n      <td></td>\n      <td>1537.640015</td>\n      <td>0.227187</td>\n      <td>0.009008</td>\n      <td>2018-03-16</td>\n      <td>Fri</td>\n      <td>0.227187</td>\n      <td>2018-03-16</td>\n      <td>Fri</td>\n      <td></td>\n      <td>1571.680054</td>\n      <td>0.228277</td>\n    </tr>\n    <tr>\n      <th>1</th>\n      <td>2</td>\n      <td>FB</td>\n      <td>15</td>\n      <td>400</td>\n      <td>2017-11-03</td>\n      <td>Fri</td>\n      <td>2017-11-03</td>\n      <td>Fri</td>\n      <td></td>\n      <td>178.919998</td>\n      <td>0.178209</td>\n      <td>0.012395</td>\n      <td>2017-11-18</td>\n      <td>Sat</td>\n      <td>0.178209</td>\n      <td>2017-11-17</td>\n      <td>Fri</td>\n      <td></td>\n      <td>179.000000</td>\n      <td>0.170551</td>\n    </tr>\n    <tr>\n      <th>2</th>\n      <td>3</td>\n      <td>AMZN</td>\n      <td>1</td>\n      <td>300</td>\n      <td>2017-04-29</td>\n      <td>Sat</td>\n      <td>2017-04-28</td>\n      <td>Fri</td>\n      <td></td>\n      <td>924.989990</td>\n      <td>0.210226</td>\n      <td>0.000901</td>\n      <td>2017-04-29</td>\n      <td>Sat</td>\n      <td>0.210226</td>\n      <td>2017-04-28</td>\n      <td>Fri</td>\n      <td></td>\n      <td>924.989990</td>\n      <td>0.210226</td>\n    </tr>\n    <tr>\n      <th>3</th>\n      <td>4</td>\n      <td>GOOG</td>\n      <td>360</td>\n      <td>3000</td>\n      <td>2014-07-22</td>\n      <td>Tue</td>\n      <td>2014-07-22</td>\n      <td>Tue</td>\n      <td></td>\n      <td>593.111633</td>\n      <td>0.235331</td>\n      <td>0.188757</td>\n      <td>2015-07-17</td>\n      <td>Fri</td>\n      <td>0.235331</td>\n      <td>2015-07-17</td>\n      <td>Fri</td>\n      <td></td>\n      <td>672.929993</td>\n      <td>0.248367</td>\n    </tr>\n    <tr>\n      <th>5</th>\n      <td>6</td>\n      <td>PG</td>\n      <td>80</td>\n      <td>2000</td>\n      <td>2016-02-19</td>\n      <td>Fri</td>\n      <td>2016-02-19</td>\n      <td>Fri</td>\n      <td></td>\n      <td>71.017471</td>\n      <td>0.166489</td>\n      <td>0.016932</td>\n      <td>2016-05-09</td>\n      <td>Mon</td>\n      <td>0.166489</td>\n      <td>2016-05-09</td>\n      <td>Mon</td>\n      <td></td>\n      <td>71.888115</td>\n      <td>0.164962</td>\n    </tr>\n    <tr>\n      <th>...</th>\n      <td>...</td>\n      <td>...</td>\n      <td>...</td>\n      <td>...</td>\n      <td>...</td>\n      <td>...</td>\n      <td>...</td>\n      <td>...</td>\n      <td>...</td>\n      <td>...</td>\n      <td>...</td>\n      <td>...</td>\n      <td>...</td>\n      <td>...</td>\n      <td>...</td>\n      <td>...</td>\n      <td>...</td>\n      <td>...</td>\n      <td>...</td>\n      <td>...</td>\n    </tr>\n    <tr>\n      <th>39995</th>\n      <td>39996</td>\n      <td>GOOG</td>\n      <td>360</td>\n      <td>2000</td>\n      <td>2015-01-14</td>\n      <td>Wed</td>\n      <td>2015-01-14</td>\n      <td>Wed</td>\n      <td></td>\n      <td>499.498627</td>\n      <td>0.212721</td>\n      <td>0.188757</td>\n      <td>2016-01-09</td>\n      <td>Sat</td>\n      <td>0.212721</td>\n      <td>2016-01-08</td>\n      <td>Fri</td>\n      <td></td>\n      <td>714.469971</td>\n      <td>0.288027</td>\n    </tr>\n    <tr>\n      <th>39996</th>\n      <td>39997</td>\n      <td>NVDA</td>\n      <td>30</td>\n      <td>50000</td>\n      <td>2016-10-11</td>\n      <td>Tue</td>\n      <td>2016-10-11</td>\n      <td>Tue</td>\n      <td></td>\n      <td>65.229042</td>\n      <td>0.347704</td>\n      <td>0.040530</td>\n      <td>2016-11-10</td>\n      <td>Thu</td>\n      <td>0.347704</td>\n      <td>2016-11-10</td>\n      <td>Thu</td>\n      <td></td>\n      <td>66.846718</td>\n      <td>0.328577</td>\n    </tr>\n    <tr>\n      <th>39997</th>\n      <td>39998</td>\n      <td>TSLA</td>\n      <td>330</td>\n      <td>50000</td>\n      <td>2018-05-10</td>\n      <td>Thu</td>\n      <td>2018-05-10</td>\n      <td>Thu</td>\n      <td></td>\n      <td>61.004002</td>\n      <td>0.399889</td>\n      <td>0.466283</td>\n      <td>2019-04-05</td>\n      <td>Fri</td>\n      <td>0.399889</td>\n      <td>2019-04-05</td>\n      <td>Fri</td>\n      <td></td>\n      <td>54.992001</td>\n      <td>0.586330</td>\n    </tr>\n    <tr>\n      <th>39998</th>\n      <td>39999</td>\n      <td>PG</td>\n      <td>40</td>\n      <td>50</td>\n      <td>2014-08-10</td>\n      <td>Sun</td>\n      <td>2014-08-11</td>\n      <td>Mon</td>\n      <td></td>\n      <td>67.397537</td>\n      <td>0.127641</td>\n      <td>0.008466</td>\n      <td>2014-09-20</td>\n      <td>Sat</td>\n      <td>0.127641</td>\n      <td>2014-09-19</td>\n      <td>Fri</td>\n      <td></td>\n      <td>69.870781</td>\n      <td>0.123412</td>\n    </tr>\n    <tr>\n      <th>39999</th>\n      <td>40000</td>\n      <td>FB</td>\n      <td>6</td>\n      <td>25000</td>\n      <td>2015-12-20</td>\n      <td>Sun</td>\n      <td>2015-12-21</td>\n      <td>Mon</td>\n      <td></td>\n      <td>104.769997</td>\n      <td>0.257332</td>\n      <td>0.004958</td>\n      <td>2015-12-27</td>\n      <td>Sun</td>\n      <td>0.257332</td>\n      <td>2015-12-28</td>\n      <td>Mon</td>\n      <td></td>\n      <td>105.930000</td>\n      <td>0.256781</td>\n    </tr>\n  </tbody>\n</table>\n<p>36281 rows × 20 columns</p>\n</div>"
     },
     "metadata": {},
     "execution_count": 129
    }
   ],
   "source": [
    "transactions"
   ]
  },
  {
   "cell_type": "code",
   "execution_count": 130,
   "metadata": {
    "executionInfo": {
     "elapsed": 34353,
     "status": "ok",
     "timestamp": 1609188926328,
     "user": {
      "displayName": "Daniel Dabdub",
      "photoUrl": "https://lh6.googleusercontent.com/-qKoV5H3Fw5M/AAAAAAAAAAI/AAAAAAAAZro/jARb9IjBWek/s64/photo.jpg",
      "userId": "06642504652143825936"
     },
     "user_tz": 360
    },
    "id": "b4g2aZUK1s10"
   },
   "outputs": [],
   "source": [
    "transactions_ready=transactions[['company','horizon','amount','date_BUY_fix','date_SELL_fix','price_BUY','price_SELL','Volatility_Buy','Volatility_sell', 'Sharpe Ratio', 'expected_return (yearly)']]"
   ]
  },
  {
   "cell_type": "code",
   "execution_count": 131,
   "metadata": {
    "colab": {
     "base_uri": "https://localhost:8080/",
     "height": 406
    },
    "executionInfo": {
     "elapsed": 34339,
     "status": "ok",
     "timestamp": 1609188926329,
     "user": {
      "displayName": "Daniel Dabdub",
      "photoUrl": "https://lh6.googleusercontent.com/-qKoV5H3Fw5M/AAAAAAAAAAI/AAAAAAAAZro/jARb9IjBWek/s64/photo.jpg",
      "userId": "06642504652143825936"
     },
     "user_tz": 360
    },
    "id": "SUxoiReY2iyP",
    "outputId": "b5cada1c-a704-48cb-d012-dc7967105e65"
   },
   "outputs": [
    {
     "output_type": "execute_result",
     "data": {
      "text/plain": [
       "      company  horizon  amount date_BUY_fix date_SELL_fix    price_BUY  \\\n",
       "0        AMZN       10   25000   2018-03-06    2018-03-16  1537.640015   \n",
       "1          FB       15     400   2017-11-03    2017-11-17   178.919998   \n",
       "2        AMZN        1     300   2017-04-28    2017-04-28   924.989990   \n",
       "3        GOOG      360    3000   2014-07-22    2015-07-17   593.111633   \n",
       "5          PG       80    2000   2016-02-19    2016-05-09    71.017471   \n",
       "...       ...      ...     ...          ...           ...          ...   \n",
       "39995    GOOG      360    2000   2015-01-14    2016-01-08   499.498627   \n",
       "39996    NVDA       30   50000   2016-10-11    2016-11-10    65.229042   \n",
       "39997    TSLA      330   50000   2018-05-10    2019-04-05    61.004002   \n",
       "39998      PG       40      50   2014-08-11    2014-09-19    67.397537   \n",
       "39999      FB        6   25000   2015-12-21    2015-12-28   104.769997   \n",
       "\n",
       "        price_SELL  Volatility_Buy  Volatility_sell  Sharpe Ratio  \\\n",
       "0      1571.680054        0.227187         0.228277      0.227187   \n",
       "1       179.000000        0.178209         0.170551      0.178209   \n",
       "2       924.989990        0.210226         0.210226      0.210226   \n",
       "3       672.929993        0.235331         0.248367      0.235331   \n",
       "5        71.888115        0.166489         0.164962      0.166489   \n",
       "...            ...             ...              ...           ...   \n",
       "39995   714.469971        0.212721         0.288027      0.212721   \n",
       "39996    66.846718        0.347704         0.328577      0.347704   \n",
       "39997    54.992001        0.399889         0.586330      0.399889   \n",
       "39998    69.870781        0.127641         0.123412      0.127641   \n",
       "39999   105.930000        0.257332         0.256781      0.257332   \n",
       "\n",
       "       expected_return (yearly)  \n",
       "0                      0.009008  \n",
       "1                      0.012395  \n",
       "2                      0.000901  \n",
       "3                      0.188757  \n",
       "5                      0.016932  \n",
       "...                         ...  \n",
       "39995                  0.188757  \n",
       "39996                  0.040530  \n",
       "39997                  0.466283  \n",
       "39998                  0.008466  \n",
       "39999                  0.004958  \n",
       "\n",
       "[36281 rows x 11 columns]"
      ],
      "text/html": "<div>\n<style scoped>\n    .dataframe tbody tr th:only-of-type {\n        vertical-align: middle;\n    }\n\n    .dataframe tbody tr th {\n        vertical-align: top;\n    }\n\n    .dataframe thead th {\n        text-align: right;\n    }\n</style>\n<table border=\"1\" class=\"dataframe\">\n  <thead>\n    <tr style=\"text-align: right;\">\n      <th></th>\n      <th>company</th>\n      <th>horizon</th>\n      <th>amount</th>\n      <th>date_BUY_fix</th>\n      <th>date_SELL_fix</th>\n      <th>price_BUY</th>\n      <th>price_SELL</th>\n      <th>Volatility_Buy</th>\n      <th>Volatility_sell</th>\n      <th>Sharpe Ratio</th>\n      <th>expected_return (yearly)</th>\n    </tr>\n  </thead>\n  <tbody>\n    <tr>\n      <th>0</th>\n      <td>AMZN</td>\n      <td>10</td>\n      <td>25000</td>\n      <td>2018-03-06</td>\n      <td>2018-03-16</td>\n      <td>1537.640015</td>\n      <td>1571.680054</td>\n      <td>0.227187</td>\n      <td>0.228277</td>\n      <td>0.227187</td>\n      <td>0.009008</td>\n    </tr>\n    <tr>\n      <th>1</th>\n      <td>FB</td>\n      <td>15</td>\n      <td>400</td>\n      <td>2017-11-03</td>\n      <td>2017-11-17</td>\n      <td>178.919998</td>\n      <td>179.000000</td>\n      <td>0.178209</td>\n      <td>0.170551</td>\n      <td>0.178209</td>\n      <td>0.012395</td>\n    </tr>\n    <tr>\n      <th>2</th>\n      <td>AMZN</td>\n      <td>1</td>\n      <td>300</td>\n      <td>2017-04-28</td>\n      <td>2017-04-28</td>\n      <td>924.989990</td>\n      <td>924.989990</td>\n      <td>0.210226</td>\n      <td>0.210226</td>\n      <td>0.210226</td>\n      <td>0.000901</td>\n    </tr>\n    <tr>\n      <th>3</th>\n      <td>GOOG</td>\n      <td>360</td>\n      <td>3000</td>\n      <td>2014-07-22</td>\n      <td>2015-07-17</td>\n      <td>593.111633</td>\n      <td>672.929993</td>\n      <td>0.235331</td>\n      <td>0.248367</td>\n      <td>0.235331</td>\n      <td>0.188757</td>\n    </tr>\n    <tr>\n      <th>5</th>\n      <td>PG</td>\n      <td>80</td>\n      <td>2000</td>\n      <td>2016-02-19</td>\n      <td>2016-05-09</td>\n      <td>71.017471</td>\n      <td>71.888115</td>\n      <td>0.166489</td>\n      <td>0.164962</td>\n      <td>0.166489</td>\n      <td>0.016932</td>\n    </tr>\n    <tr>\n      <th>...</th>\n      <td>...</td>\n      <td>...</td>\n      <td>...</td>\n      <td>...</td>\n      <td>...</td>\n      <td>...</td>\n      <td>...</td>\n      <td>...</td>\n      <td>...</td>\n      <td>...</td>\n      <td>...</td>\n    </tr>\n    <tr>\n      <th>39995</th>\n      <td>GOOG</td>\n      <td>360</td>\n      <td>2000</td>\n      <td>2015-01-14</td>\n      <td>2016-01-08</td>\n      <td>499.498627</td>\n      <td>714.469971</td>\n      <td>0.212721</td>\n      <td>0.288027</td>\n      <td>0.212721</td>\n      <td>0.188757</td>\n    </tr>\n    <tr>\n      <th>39996</th>\n      <td>NVDA</td>\n      <td>30</td>\n      <td>50000</td>\n      <td>2016-10-11</td>\n      <td>2016-11-10</td>\n      <td>65.229042</td>\n      <td>66.846718</td>\n      <td>0.347704</td>\n      <td>0.328577</td>\n      <td>0.347704</td>\n      <td>0.040530</td>\n    </tr>\n    <tr>\n      <th>39997</th>\n      <td>TSLA</td>\n      <td>330</td>\n      <td>50000</td>\n      <td>2018-05-10</td>\n      <td>2019-04-05</td>\n      <td>61.004002</td>\n      <td>54.992001</td>\n      <td>0.399889</td>\n      <td>0.586330</td>\n      <td>0.399889</td>\n      <td>0.466283</td>\n    </tr>\n    <tr>\n      <th>39998</th>\n      <td>PG</td>\n      <td>40</td>\n      <td>50</td>\n      <td>2014-08-11</td>\n      <td>2014-09-19</td>\n      <td>67.397537</td>\n      <td>69.870781</td>\n      <td>0.127641</td>\n      <td>0.123412</td>\n      <td>0.127641</td>\n      <td>0.008466</td>\n    </tr>\n    <tr>\n      <th>39999</th>\n      <td>FB</td>\n      <td>6</td>\n      <td>25000</td>\n      <td>2015-12-21</td>\n      <td>2015-12-28</td>\n      <td>104.769997</td>\n      <td>105.930000</td>\n      <td>0.257332</td>\n      <td>0.256781</td>\n      <td>0.257332</td>\n      <td>0.004958</td>\n    </tr>\n  </tbody>\n</table>\n<p>36281 rows × 11 columns</p>\n</div>"
     },
     "metadata": {},
     "execution_count": 131
    }
   ],
   "source": [
    "transactions_ready"
   ]
  },
  {
   "cell_type": "markdown",
   "metadata": {
    "id": "7FdvBxuO6sDy"
   },
   "source": [
    "## Filtering transactions with error (Price = 0)"
   ]
  },
  {
   "cell_type": "code",
   "execution_count": 132,
   "metadata": {
    "colab": {
     "base_uri": "https://localhost:8080/"
    },
    "executionInfo": {
     "elapsed": 34329,
     "status": "ok",
     "timestamp": 1609188926330,
     "user": {
      "displayName": "Daniel Dabdub",
      "photoUrl": "https://lh6.googleusercontent.com/-qKoV5H3Fw5M/AAAAAAAAAAI/AAAAAAAAZro/jARb9IjBWek/s64/photo.jpg",
      "userId": "06642504652143825936"
     },
     "user_tz": 360
    },
    "id": "4pTs7UX44YW-",
    "outputId": "e06df0fd-bdbd-4760-faf9-aa7f0a8c1c0f"
   },
   "outputs": [
    {
     "output_type": "stream",
     "name": "stdout",
     "text": [
      "with errors:  (399, 11)\n(36281, 11)\n(35642, 11)\n"
     ]
    }
   ],
   "source": [
    "price_error=transactions_ready[(transactions_ready.price_BUY==0) | (transactions_ready.price_SELL==0)]\n",
    "print('with errors: ', price_error.shape)\n",
    "print(transactions_ready.shape)\n",
    "\n",
    "transactions_ready=pd.concat([transactions_ready, price_error, price_error]).drop_duplicates(keep=False)\n",
    "print(transactions_ready.shape)"
   ]
  },
  {
   "cell_type": "markdown",
   "metadata": {
    "id": "TCtM8tNYNmYm"
   },
   "source": [
    "# Real Profit/Loss (Rentabilidad Real)"
   ]
  },
  {
   "cell_type": "code",
   "execution_count": 133,
   "metadata": {
    "executionInfo": {
     "elapsed": 34319,
     "status": "ok",
     "timestamp": 1609188926331,
     "user": {
      "displayName": "Daniel Dabdub",
      "photoUrl": "https://lh6.googleusercontent.com/-qKoV5H3Fw5M/AAAAAAAAAAI/AAAAAAAAZro/jARb9IjBWek/s64/photo.jpg",
      "userId": "06642504652143825936"
     },
     "user_tz": 360
    },
    "id": "pI9ZvEawJOzF"
   },
   "outputs": [],
   "source": [
    "transactions_ready['nominal_return']=(transactions_ready['price_SELL']-transactions_ready['price_BUY'])/transactions_ready['price_BUY']"
   ]
  },
  {
   "cell_type": "code",
   "execution_count": 134,
   "metadata": {
    "colab": {
     "base_uri": "https://localhost:8080/",
     "height": 406
    },
    "executionInfo": {
     "elapsed": 34576,
     "status": "ok",
     "timestamp": 1609188926600,
     "user": {
      "displayName": "Daniel Dabdub",
      "photoUrl": "https://lh6.googleusercontent.com/-qKoV5H3Fw5M/AAAAAAAAAAI/AAAAAAAAZro/jARb9IjBWek/s64/photo.jpg",
      "userId": "06642504652143825936"
     },
     "user_tz": 360
    },
    "id": "HfBIf6V73S-r",
    "outputId": "fd9882ac-b239-4b3f-95c0-d15c8271e882"
   },
   "outputs": [
    {
     "output_type": "execute_result",
     "data": {
      "text/plain": [
       "      company  horizon  amount date_BUY_fix date_SELL_fix    price_BUY  \\\n",
       "0        AMZN       10   25000   2018-03-06    2018-03-16  1537.640015   \n",
       "1          FB       15     400   2017-11-03    2017-11-17   178.919998   \n",
       "2        AMZN        1     300   2017-04-28    2017-04-28   924.989990   \n",
       "3        GOOG      360    3000   2014-07-22    2015-07-17   593.111633   \n",
       "5          PG       80    2000   2016-02-19    2016-05-09    71.017471   \n",
       "...       ...      ...     ...          ...           ...          ...   \n",
       "39995    GOOG      360    2000   2015-01-14    2016-01-08   499.498627   \n",
       "39996    NVDA       30   50000   2016-10-11    2016-11-10    65.229042   \n",
       "39997    TSLA      330   50000   2018-05-10    2019-04-05    61.004002   \n",
       "39998      PG       40      50   2014-08-11    2014-09-19    67.397537   \n",
       "39999      FB        6   25000   2015-12-21    2015-12-28   104.769997   \n",
       "\n",
       "        price_SELL  Volatility_Buy  Volatility_sell  Sharpe Ratio  \\\n",
       "0      1571.680054        0.227187         0.228277      0.227187   \n",
       "1       179.000000        0.178209         0.170551      0.178209   \n",
       "2       924.989990        0.210226         0.210226      0.210226   \n",
       "3       672.929993        0.235331         0.248367      0.235331   \n",
       "5        71.888115        0.166489         0.164962      0.166489   \n",
       "...            ...             ...              ...           ...   \n",
       "39995   714.469971        0.212721         0.288027      0.212721   \n",
       "39996    66.846718        0.347704         0.328577      0.347704   \n",
       "39997    54.992001        0.399889         0.586330      0.399889   \n",
       "39998    69.870781        0.127641         0.123412      0.127641   \n",
       "39999   105.930000        0.257332         0.256781      0.257332   \n",
       "\n",
       "       expected_return (yearly)  nominal_return  \n",
       "0                      0.009008        0.022138  \n",
       "1                      0.012395        0.000447  \n",
       "2                      0.000901        0.000000  \n",
       "3                      0.188757        0.134576  \n",
       "5                      0.016932        0.012260  \n",
       "...                         ...             ...  \n",
       "39995                  0.188757        0.430374  \n",
       "39996                  0.040530        0.024800  \n",
       "39997                  0.466283       -0.098551  \n",
       "39998                  0.008466        0.036696  \n",
       "39999                  0.004958        0.011072  \n",
       "\n",
       "[35642 rows x 12 columns]"
      ],
      "text/html": "<div>\n<style scoped>\n    .dataframe tbody tr th:only-of-type {\n        vertical-align: middle;\n    }\n\n    .dataframe tbody tr th {\n        vertical-align: top;\n    }\n\n    .dataframe thead th {\n        text-align: right;\n    }\n</style>\n<table border=\"1\" class=\"dataframe\">\n  <thead>\n    <tr style=\"text-align: right;\">\n      <th></th>\n      <th>company</th>\n      <th>horizon</th>\n      <th>amount</th>\n      <th>date_BUY_fix</th>\n      <th>date_SELL_fix</th>\n      <th>price_BUY</th>\n      <th>price_SELL</th>\n      <th>Volatility_Buy</th>\n      <th>Volatility_sell</th>\n      <th>Sharpe Ratio</th>\n      <th>expected_return (yearly)</th>\n      <th>nominal_return</th>\n    </tr>\n  </thead>\n  <tbody>\n    <tr>\n      <th>0</th>\n      <td>AMZN</td>\n      <td>10</td>\n      <td>25000</td>\n      <td>2018-03-06</td>\n      <td>2018-03-16</td>\n      <td>1537.640015</td>\n      <td>1571.680054</td>\n      <td>0.227187</td>\n      <td>0.228277</td>\n      <td>0.227187</td>\n      <td>0.009008</td>\n      <td>0.022138</td>\n    </tr>\n    <tr>\n      <th>1</th>\n      <td>FB</td>\n      <td>15</td>\n      <td>400</td>\n      <td>2017-11-03</td>\n      <td>2017-11-17</td>\n      <td>178.919998</td>\n      <td>179.000000</td>\n      <td>0.178209</td>\n      <td>0.170551</td>\n      <td>0.178209</td>\n      <td>0.012395</td>\n      <td>0.000447</td>\n    </tr>\n    <tr>\n      <th>2</th>\n      <td>AMZN</td>\n      <td>1</td>\n      <td>300</td>\n      <td>2017-04-28</td>\n      <td>2017-04-28</td>\n      <td>924.989990</td>\n      <td>924.989990</td>\n      <td>0.210226</td>\n      <td>0.210226</td>\n      <td>0.210226</td>\n      <td>0.000901</td>\n      <td>0.000000</td>\n    </tr>\n    <tr>\n      <th>3</th>\n      <td>GOOG</td>\n      <td>360</td>\n      <td>3000</td>\n      <td>2014-07-22</td>\n      <td>2015-07-17</td>\n      <td>593.111633</td>\n      <td>672.929993</td>\n      <td>0.235331</td>\n      <td>0.248367</td>\n      <td>0.235331</td>\n      <td>0.188757</td>\n      <td>0.134576</td>\n    </tr>\n    <tr>\n      <th>5</th>\n      <td>PG</td>\n      <td>80</td>\n      <td>2000</td>\n      <td>2016-02-19</td>\n      <td>2016-05-09</td>\n      <td>71.017471</td>\n      <td>71.888115</td>\n      <td>0.166489</td>\n      <td>0.164962</td>\n      <td>0.166489</td>\n      <td>0.016932</td>\n      <td>0.012260</td>\n    </tr>\n    <tr>\n      <th>...</th>\n      <td>...</td>\n      <td>...</td>\n      <td>...</td>\n      <td>...</td>\n      <td>...</td>\n      <td>...</td>\n      <td>...</td>\n      <td>...</td>\n      <td>...</td>\n      <td>...</td>\n      <td>...</td>\n      <td>...</td>\n    </tr>\n    <tr>\n      <th>39995</th>\n      <td>GOOG</td>\n      <td>360</td>\n      <td>2000</td>\n      <td>2015-01-14</td>\n      <td>2016-01-08</td>\n      <td>499.498627</td>\n      <td>714.469971</td>\n      <td>0.212721</td>\n      <td>0.288027</td>\n      <td>0.212721</td>\n      <td>0.188757</td>\n      <td>0.430374</td>\n    </tr>\n    <tr>\n      <th>39996</th>\n      <td>NVDA</td>\n      <td>30</td>\n      <td>50000</td>\n      <td>2016-10-11</td>\n      <td>2016-11-10</td>\n      <td>65.229042</td>\n      <td>66.846718</td>\n      <td>0.347704</td>\n      <td>0.328577</td>\n      <td>0.347704</td>\n      <td>0.040530</td>\n      <td>0.024800</td>\n    </tr>\n    <tr>\n      <th>39997</th>\n      <td>TSLA</td>\n      <td>330</td>\n      <td>50000</td>\n      <td>2018-05-10</td>\n      <td>2019-04-05</td>\n      <td>61.004002</td>\n      <td>54.992001</td>\n      <td>0.399889</td>\n      <td>0.586330</td>\n      <td>0.399889</td>\n      <td>0.466283</td>\n      <td>-0.098551</td>\n    </tr>\n    <tr>\n      <th>39998</th>\n      <td>PG</td>\n      <td>40</td>\n      <td>50</td>\n      <td>2014-08-11</td>\n      <td>2014-09-19</td>\n      <td>67.397537</td>\n      <td>69.870781</td>\n      <td>0.127641</td>\n      <td>0.123412</td>\n      <td>0.127641</td>\n      <td>0.008466</td>\n      <td>0.036696</td>\n    </tr>\n    <tr>\n      <th>39999</th>\n      <td>FB</td>\n      <td>6</td>\n      <td>25000</td>\n      <td>2015-12-21</td>\n      <td>2015-12-28</td>\n      <td>104.769997</td>\n      <td>105.930000</td>\n      <td>0.257332</td>\n      <td>0.256781</td>\n      <td>0.257332</td>\n      <td>0.004958</td>\n      <td>0.011072</td>\n    </tr>\n  </tbody>\n</table>\n<p>35642 rows × 12 columns</p>\n</div>"
     },
     "metadata": {},
     "execution_count": 134
    }
   ],
   "source": [
    "transactions_ready"
   ]
  },
  {
   "cell_type": "code",
   "execution_count": 135,
   "metadata": {
    "executionInfo": {
     "elapsed": 37970,
     "status": "ok",
     "timestamp": 1609188930005,
     "user": {
      "displayName": "Daniel Dabdub",
      "photoUrl": "https://lh6.googleusercontent.com/-qKoV5H3Fw5M/AAAAAAAAAAI/AAAAAAAAZro/jARb9IjBWek/s64/photo.jpg",
      "userId": "06642504652143825936"
     },
     "user_tz": 360
    },
    "id": "oMPPkBF43WS6"
   },
   "outputs": [],
   "source": [
    "transactions_ready['investment']=''\n",
    "investments=list()\n",
    "for index, row in transactions_ready.iterrows():\n",
    "  if row['nominal_return']>0:\n",
    "    inv='GOOD'\n",
    "    investments.append(inv)\n",
    "  elif row['nominal_return']<0:\n",
    "    inv='BAD'\n",
    "    investments.append(inv)\n",
    "  else:\n",
    "    inv='0'\n",
    "    investments.append(inv)\n",
    "\n",
    "transactions_ready['investment']=investments"
   ]
  },
  {
   "cell_type": "code",
   "execution_count": 44,
   "metadata": {
    "colab": {
     "base_uri": "https://localhost:8080/"
    },
    "executionInfo": {
     "elapsed": 37970,
     "status": "ok",
     "timestamp": 1609188930010,
     "user": {
      "displayName": "Daniel Dabdub",
      "photoUrl": "https://lh6.googleusercontent.com/-qKoV5H3Fw5M/AAAAAAAAAAI/AAAAAAAAZro/jARb9IjBWek/s64/photo.jpg",
      "userId": "06642504652143825936"
     },
     "user_tz": 360
    },
    "id": "HLxLIHoC7hdq",
    "outputId": "12a5a09a-6740-431c-bd45-1102248559df"
   },
   "outputs": [
    {
     "output_type": "execute_result",
     "data": {
      "text/plain": [
       "(35481, 9)"
      ]
     },
     "metadata": {},
     "execution_count": 44
    }
   ],
   "source": [
    "transactions_ready.shape"
   ]
  },
  {
   "cell_type": "code",
   "execution_count": 136,
   "metadata": {
    "colab": {
     "base_uri": "https://localhost:8080/",
     "height": 406
    },
    "executionInfo": {
     "elapsed": 37962,
     "status": "ok",
     "timestamp": 1609188930012,
     "user": {
      "displayName": "Daniel Dabdub",
      "photoUrl": "https://lh6.googleusercontent.com/-qKoV5H3Fw5M/AAAAAAAAAAI/AAAAAAAAZro/jARb9IjBWek/s64/photo.jpg",
      "userId": "06642504652143825936"
     },
     "user_tz": 360
    },
    "id": "KuB-l84A5UBj",
    "outputId": "c10c22e3-1d19-4cfb-f88a-339746337716"
   },
   "outputs": [
    {
     "output_type": "execute_result",
     "data": {
      "text/plain": [
       "      company  horizon  amount date_BUY_fix date_SELL_fix    price_BUY  \\\n",
       "0        AMZN       10   25000   2018-03-06    2018-03-16  1537.640015   \n",
       "1          FB       15     400   2017-11-03    2017-11-17   178.919998   \n",
       "2        AMZN        1     300   2017-04-28    2017-04-28   924.989990   \n",
       "3        GOOG      360    3000   2014-07-22    2015-07-17   593.111633   \n",
       "5          PG       80    2000   2016-02-19    2016-05-09    71.017471   \n",
       "...       ...      ...     ...          ...           ...          ...   \n",
       "39995    GOOG      360    2000   2015-01-14    2016-01-08   499.498627   \n",
       "39996    NVDA       30   50000   2016-10-11    2016-11-10    65.229042   \n",
       "39997    TSLA      330   50000   2018-05-10    2019-04-05    61.004002   \n",
       "39998      PG       40      50   2014-08-11    2014-09-19    67.397537   \n",
       "39999      FB        6   25000   2015-12-21    2015-12-28   104.769997   \n",
       "\n",
       "        price_SELL  Volatility_Buy  Volatility_sell  Sharpe Ratio  \\\n",
       "0      1571.680054        0.227187         0.228277      0.227187   \n",
       "1       179.000000        0.178209         0.170551      0.178209   \n",
       "2       924.989990        0.210226         0.210226      0.210226   \n",
       "3       672.929993        0.235331         0.248367      0.235331   \n",
       "5        71.888115        0.166489         0.164962      0.166489   \n",
       "...            ...             ...              ...           ...   \n",
       "39995   714.469971        0.212721         0.288027      0.212721   \n",
       "39996    66.846718        0.347704         0.328577      0.347704   \n",
       "39997    54.992001        0.399889         0.586330      0.399889   \n",
       "39998    69.870781        0.127641         0.123412      0.127641   \n",
       "39999   105.930000        0.257332         0.256781      0.257332   \n",
       "\n",
       "       expected_return (yearly)  nominal_return investment  \n",
       "0                      0.009008        0.022138       GOOD  \n",
       "1                      0.012395        0.000447       GOOD  \n",
       "2                      0.000901        0.000000          0  \n",
       "3                      0.188757        0.134576       GOOD  \n",
       "5                      0.016932        0.012260       GOOD  \n",
       "...                         ...             ...        ...  \n",
       "39995                  0.188757        0.430374       GOOD  \n",
       "39996                  0.040530        0.024800       GOOD  \n",
       "39997                  0.466283       -0.098551        BAD  \n",
       "39998                  0.008466        0.036696       GOOD  \n",
       "39999                  0.004958        0.011072       GOOD  \n",
       "\n",
       "[35642 rows x 13 columns]"
      ],
      "text/html": "<div>\n<style scoped>\n    .dataframe tbody tr th:only-of-type {\n        vertical-align: middle;\n    }\n\n    .dataframe tbody tr th {\n        vertical-align: top;\n    }\n\n    .dataframe thead th {\n        text-align: right;\n    }\n</style>\n<table border=\"1\" class=\"dataframe\">\n  <thead>\n    <tr style=\"text-align: right;\">\n      <th></th>\n      <th>company</th>\n      <th>horizon</th>\n      <th>amount</th>\n      <th>date_BUY_fix</th>\n      <th>date_SELL_fix</th>\n      <th>price_BUY</th>\n      <th>price_SELL</th>\n      <th>Volatility_Buy</th>\n      <th>Volatility_sell</th>\n      <th>Sharpe Ratio</th>\n      <th>expected_return (yearly)</th>\n      <th>nominal_return</th>\n      <th>investment</th>\n    </tr>\n  </thead>\n  <tbody>\n    <tr>\n      <th>0</th>\n      <td>AMZN</td>\n      <td>10</td>\n      <td>25000</td>\n      <td>2018-03-06</td>\n      <td>2018-03-16</td>\n      <td>1537.640015</td>\n      <td>1571.680054</td>\n      <td>0.227187</td>\n      <td>0.228277</td>\n      <td>0.227187</td>\n      <td>0.009008</td>\n      <td>0.022138</td>\n      <td>GOOD</td>\n    </tr>\n    <tr>\n      <th>1</th>\n      <td>FB</td>\n      <td>15</td>\n      <td>400</td>\n      <td>2017-11-03</td>\n      <td>2017-11-17</td>\n      <td>178.919998</td>\n      <td>179.000000</td>\n      <td>0.178209</td>\n      <td>0.170551</td>\n      <td>0.178209</td>\n      <td>0.012395</td>\n      <td>0.000447</td>\n      <td>GOOD</td>\n    </tr>\n    <tr>\n      <th>2</th>\n      <td>AMZN</td>\n      <td>1</td>\n      <td>300</td>\n      <td>2017-04-28</td>\n      <td>2017-04-28</td>\n      <td>924.989990</td>\n      <td>924.989990</td>\n      <td>0.210226</td>\n      <td>0.210226</td>\n      <td>0.210226</td>\n      <td>0.000901</td>\n      <td>0.000000</td>\n      <td>0</td>\n    </tr>\n    <tr>\n      <th>3</th>\n      <td>GOOG</td>\n      <td>360</td>\n      <td>3000</td>\n      <td>2014-07-22</td>\n      <td>2015-07-17</td>\n      <td>593.111633</td>\n      <td>672.929993</td>\n      <td>0.235331</td>\n      <td>0.248367</td>\n      <td>0.235331</td>\n      <td>0.188757</td>\n      <td>0.134576</td>\n      <td>GOOD</td>\n    </tr>\n    <tr>\n      <th>5</th>\n      <td>PG</td>\n      <td>80</td>\n      <td>2000</td>\n      <td>2016-02-19</td>\n      <td>2016-05-09</td>\n      <td>71.017471</td>\n      <td>71.888115</td>\n      <td>0.166489</td>\n      <td>0.164962</td>\n      <td>0.166489</td>\n      <td>0.016932</td>\n      <td>0.012260</td>\n      <td>GOOD</td>\n    </tr>\n    <tr>\n      <th>...</th>\n      <td>...</td>\n      <td>...</td>\n      <td>...</td>\n      <td>...</td>\n      <td>...</td>\n      <td>...</td>\n      <td>...</td>\n      <td>...</td>\n      <td>...</td>\n      <td>...</td>\n      <td>...</td>\n      <td>...</td>\n      <td>...</td>\n    </tr>\n    <tr>\n      <th>39995</th>\n      <td>GOOG</td>\n      <td>360</td>\n      <td>2000</td>\n      <td>2015-01-14</td>\n      <td>2016-01-08</td>\n      <td>499.498627</td>\n      <td>714.469971</td>\n      <td>0.212721</td>\n      <td>0.288027</td>\n      <td>0.212721</td>\n      <td>0.188757</td>\n      <td>0.430374</td>\n      <td>GOOD</td>\n    </tr>\n    <tr>\n      <th>39996</th>\n      <td>NVDA</td>\n      <td>30</td>\n      <td>50000</td>\n      <td>2016-10-11</td>\n      <td>2016-11-10</td>\n      <td>65.229042</td>\n      <td>66.846718</td>\n      <td>0.347704</td>\n      <td>0.328577</td>\n      <td>0.347704</td>\n      <td>0.040530</td>\n      <td>0.024800</td>\n      <td>GOOD</td>\n    </tr>\n    <tr>\n      <th>39997</th>\n      <td>TSLA</td>\n      <td>330</td>\n      <td>50000</td>\n      <td>2018-05-10</td>\n      <td>2019-04-05</td>\n      <td>61.004002</td>\n      <td>54.992001</td>\n      <td>0.399889</td>\n      <td>0.586330</td>\n      <td>0.399889</td>\n      <td>0.466283</td>\n      <td>-0.098551</td>\n      <td>BAD</td>\n    </tr>\n    <tr>\n      <th>39998</th>\n      <td>PG</td>\n      <td>40</td>\n      <td>50</td>\n      <td>2014-08-11</td>\n      <td>2014-09-19</td>\n      <td>67.397537</td>\n      <td>69.870781</td>\n      <td>0.127641</td>\n      <td>0.123412</td>\n      <td>0.127641</td>\n      <td>0.008466</td>\n      <td>0.036696</td>\n      <td>GOOD</td>\n    </tr>\n    <tr>\n      <th>39999</th>\n      <td>FB</td>\n      <td>6</td>\n      <td>25000</td>\n      <td>2015-12-21</td>\n      <td>2015-12-28</td>\n      <td>104.769997</td>\n      <td>105.930000</td>\n      <td>0.257332</td>\n      <td>0.256781</td>\n      <td>0.257332</td>\n      <td>0.004958</td>\n      <td>0.011072</td>\n      <td>GOOD</td>\n    </tr>\n  </tbody>\n</table>\n<p>35642 rows × 13 columns</p>\n</div>"
     },
     "metadata": {},
     "execution_count": 136
    }
   ],
   "source": [
    "transactions_ready"
   ]
  },
  {
   "cell_type": "code",
   "execution_count": 46,
   "metadata": {
    "colab": {
     "base_uri": "https://localhost:8080/"
    },
    "executionInfo": {
     "elapsed": 37954,
     "status": "ok",
     "timestamp": 1609188930014,
     "user": {
      "displayName": "Daniel Dabdub",
      "photoUrl": "https://lh6.googleusercontent.com/-qKoV5H3Fw5M/AAAAAAAAAAI/AAAAAAAAZro/jARb9IjBWek/s64/photo.jpg",
      "userId": "06642504652143825936"
     },
     "user_tz": 360
    },
    "id": "LRm2-G1j5vDK",
    "outputId": "9a0958f9-29a5-425f-937c-f682b59a0b56"
   },
   "outputs": [
    {
     "output_type": "execute_result",
     "data": {
      "text/plain": [
       "GOOD    24662\n",
       "BAD     10478\n",
       "0         341\n",
       "Name: investment, dtype: int64"
      ]
     },
     "metadata": {},
     "execution_count": 46
    }
   ],
   "source": [
    "transactions_ready.investment.value_counts()"
   ]
  },
  {
   "cell_type": "markdown",
   "metadata": {
    "id": "Q3McOeD8JLcv"
   },
   "source": [
    "## Variables calculation"
   ]
  }
 ],
 "metadata": {
  "colab": {
   "collapsed_sections": [],
   "name": "Dataset_Transacciones.ipynb",
   "provenance": []
  },
  "kernelspec": {
   "display_name": "Python 3",
   "language": "python",
   "name": "python3"
  },
  "language_info": {
   "codemirror_mode": {
    "name": "ipython",
    "version": 3
   },
   "file_extension": ".py",
   "mimetype": "text/x-python",
   "name": "python",
   "nbconvert_exporter": "python",
   "pygments_lexer": "ipython3",
   "version": "3.8.3-final"
  }
 },
 "nbformat": 4,
 "nbformat_minor": 1
}