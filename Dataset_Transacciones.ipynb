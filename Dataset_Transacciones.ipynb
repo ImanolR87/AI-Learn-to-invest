{
 "cells": [
  {
   "cell_type": "markdown",
   "metadata": {
    "id": "83Xb7oH8HWwz"
   },
   "source": [
    "# 0.   Packages and Functions"
   ]
  },
  {
   "cell_type": "code",
   "execution_count": 1,
   "metadata": {
    "colab": {
     "base_uri": "https://localhost:8080/"
    },
    "executionInfo": {
     "elapsed": 2951,
     "status": "ok",
     "timestamp": 1609188894652,
     "user": {
      "displayName": "Daniel Dabdub",
      "photoUrl": "https://lh6.googleusercontent.com/-qKoV5H3Fw5M/AAAAAAAAAAI/AAAAAAAAZro/jARb9IjBWek/s64/photo.jpg",
      "userId": "06642504652143825936"
     },
     "user_tz": 360
    },
    "id": "0vFVdOUuHWw9",
    "outputId": "1bbddc3b-1bde-4bbe-f587-111640ff716b"
   },
   "outputs": [
    {
     "output_type": "stream",
     "name": "stdout",
     "text": [
      "Requirement already satisfied: pandas_datareader in d:\\programdata\\anaconda3\\lib\\site-packages (0.9.0)\nRequirement already satisfied: lxml in d:\\programdata\\anaconda3\\lib\\site-packages (from pandas_datareader) (4.5.2)\nRequirement already satisfied: requests>=2.19.0 in d:\\programdata\\anaconda3\\lib\\site-packages (from pandas_datareader) (2.24.0)\nRequirement already satisfied: pandas>=0.23 in d:\\programdata\\anaconda3\\lib\\site-packages (from pandas_datareader) (1.0.5)\nRequirement already satisfied: chardet<4,>=3.0.2 in d:\\programdata\\anaconda3\\lib\\site-packages (from requests>=2.19.0->pandas_datareader) (3.0.4)\nRequirement already satisfied: certifi>=2017.4.17 in d:\\programdata\\anaconda3\\lib\\site-packages (from requests>=2.19.0->pandas_datareader) (2020.6.20)\nRequirement already satisfied: idna<3,>=2.5 in d:\\programdata\\anaconda3\\lib\\site-packages (from requests>=2.19.0->pandas_datareader) (2.10)\nRequirement already satisfied: urllib3!=1.25.0,!=1.25.1,<1.26,>=1.21.1 in d:\\programdata\\anaconda3\\lib\\site-packages (from requests>=2.19.0->pandas_datareader) (1.25.9)\nRequirement already satisfied: python-dateutil>=2.6.1 in d:\\programdata\\anaconda3\\lib\\site-packages (from pandas>=0.23->pandas_datareader) (2.8.1)\nRequirement already satisfied: pytz>=2017.2 in d:\\programdata\\anaconda3\\lib\\site-packages (from pandas>=0.23->pandas_datareader) (2020.1)\nRequirement already satisfied: numpy>=1.13.3 in d:\\programdata\\anaconda3\\lib\\site-packages (from pandas>=0.23->pandas_datareader) (1.18.5)\nRequirement already satisfied: six>=1.5 in c:\\users\\imanr\\appdata\\roaming\\python\\python38\\site-packages (from python-dateutil>=2.6.1->pandas>=0.23->pandas_datareader) (1.15.0)\n"
     ]
    }
   ],
   "source": [
    "!pip install pandas_datareader"
   ]
  },
  {
   "cell_type": "code",
   "execution_count": 1,
   "metadata": {
    "executionInfo": {
     "elapsed": 2941,
     "status": "ok",
     "timestamp": 1609188894655,
     "user": {
      "displayName": "Daniel Dabdub",
      "photoUrl": "https://lh6.googleusercontent.com/-qKoV5H3Fw5M/AAAAAAAAAAI/AAAAAAAAZro/jARb9IjBWek/s64/photo.jpg",
      "userId": "06642504652143825936"
     },
     "user_tz": 360
    },
    "id": "XBk9WVJUHWw_"
   },
   "outputs": [],
   "source": [
    "\n",
    "#general\n",
    "import pandas as pd\n",
    "import numpy as np\n",
    "import pickle \n",
    "from decimal import Decimal\n",
    "\n",
    "\n",
    "#for dates and times\n",
    "import random\n",
    "import time\n",
    "import datetime\n",
    "from pandas.tseries.holiday import USFederalHolidayCalendar\n",
    "\n",
    "#prices\n",
    "import pandas_datareader as web\n"
   ]
  },
  {
   "cell_type": "code",
   "execution_count": 3,
   "metadata": {
    "executionInfo": {
     "elapsed": 2935,
     "status": "ok",
     "timestamp": 1609188894656,
     "user": {
      "displayName": "Daniel Dabdub",
      "photoUrl": "https://lh6.googleusercontent.com/-qKoV5H3Fw5M/AAAAAAAAAAI/AAAAAAAAZro/jARb9IjBWek/s64/photo.jpg",
      "userId": "06642504652143825936"
     },
     "user_tz": 360
    },
    "id": "Q_FfFBRPHWxA"
   },
   "outputs": [],
   "source": [
    "\n",
    "\n",
    "def str_time_prop(start, end, format, prop):\n",
    "    \"\"\"Get a time at a proportion of a range of two formatted times.\n",
    "\n",
    "    start and end should be strings specifying times formated in the\n",
    "    given format (strftime-style), giving an interval [start, end].\n",
    "    prop specifies how a proportion of the interval to be taken after\n",
    "    start.  The returned time will be in the specified format.\n",
    "    \"\"\"\n",
    "\n",
    "    stime = time.mktime(time.strptime(start, format))\n",
    "    etime = time.mktime(time.strptime(end, format))\n",
    "\n",
    "    ptime = stime + prop * (etime - stime)\n",
    "\n",
    "    return time.strftime(format, time.localtime(ptime))\n",
    "\n",
    "\n",
    "def random_date(start, end, prop):\n",
    "    return str_time_prop(start, end, '%Y-%m-%d', prop)"
   ]
  },
  {
   "cell_type": "code",
   "execution_count": 4,
   "metadata": {
    "executionInfo": {
     "elapsed": 2931,
     "status": "ok",
     "timestamp": 1609188894656,
     "user": {
      "displayName": "Daniel Dabdub",
      "photoUrl": "https://lh6.googleusercontent.com/-qKoV5H3Fw5M/AAAAAAAAAAI/AAAAAAAAZro/jARb9IjBWek/s64/photo.jpg",
      "userId": "06642504652143825936"
     },
     "user_tz": 360
    },
    "id": "LWzVUjCMuqtA"
   },
   "outputs": [],
   "source": [
    "def weekend2weekday (transactions, col_date, col_day):\n",
    "\n",
    "\n",
    "  dates2_BUY=list()\n",
    "  days2_BUY=list()\n",
    "\n",
    "  for index,row in transactions.iterrows():\n",
    "    buy_date = datetime.datetime.strptime(row[col_date], \"%Y-%m-%d\")\n",
    "    if row[col_day]=='Sat':\n",
    "      buy_date2 = buy_date - datetime.timedelta(1)\n",
    "      dates2_BUY.append(buy_date2)\n",
    "\n",
    "      buy_day2='Fri'\n",
    "      days2_BUY.append(buy_day2)\n",
    "    elif row[col_day]=='Sun':\n",
    "      buy_date = datetime.datetime.strptime(row[col_day], \"%Y-%m-%d\")\n",
    "      buy_date2 = buy_date + datetime.timedelta(1)\n",
    "      dates2_BUY.append(buy_date2)\n",
    "\n",
    "      buy_day2='Mon'\n",
    "      days2_BUY.append(buy_day2)\n",
    "    else:\n",
    "      buy_date2=row[col_date]\n",
    "      dates2_BUY.append(buy_date2)\n",
    "      buy_day2=row[col_day]\n",
    "      days2_BUY.append(buy_day2)\n",
    "\n",
    "    transactions['date_BUY_fix']=dates2_BUY\n",
    "    transactions['day_BUY_fix']=days2_BUY\n",
    "\n",
    "\n",
    "  return transactions"
   ]
  },
  {
   "cell_type": "markdown",
   "metadata": {
    "id": "Pvb9migKHWxB"
   },
   "source": [
    "# 1. Setting investment parameters"
   ]
  },
  {
   "cell_type": "markdown",
   "metadata": {
    "id": "eUVjdqFBHWxC"
   },
   "source": [
    "## Temporal horizons\n",
    " In number of days\n",
    " - 1 day to 2 years"
   ]
  },
  {
   "cell_type": "code",
   "execution_count": 5,
   "metadata": {
    "executionInfo": {
     "elapsed": 2926,
     "status": "ok",
     "timestamp": 1609188894657,
     "user": {
      "displayName": "Daniel Dabdub",
      "photoUrl": "https://lh6.googleusercontent.com/-qKoV5H3Fw5M/AAAAAAAAAAI/AAAAAAAAZro/jARb9IjBWek/s64/photo.jpg",
      "userId": "06642504652143825936"
     },
     "user_tz": 360
    },
    "id": "tq4RiMLqHWxF"
   },
   "outputs": [],
   "source": [
    "horizons=[1,2,3,4,5,6,7,10,15,20,30,40,50,60,70,80,90,100,120,150,180,210,240,270,300,330,360,420,480,540,600,660,720]\n"
   ]
  },
  {
   "cell_type": "markdown",
   "metadata": {
    "id": "u14ARLWFHWxG"
   },
   "source": [
    "## Amounts in dollars\n",
    " - 50 to 50,000 dollars"
   ]
  },
  {
   "cell_type": "code",
   "execution_count": 6,
   "metadata": {
    "executionInfo": {
     "elapsed": 2920,
     "status": "ok",
     "timestamp": 1609188894657,
     "user": {
      "displayName": "Daniel Dabdub",
      "photoUrl": "https://lh6.googleusercontent.com/-qKoV5H3Fw5M/AAAAAAAAAAI/AAAAAAAAZro/jARb9IjBWek/s64/photo.jpg",
      "userId": "06642504652143825936"
     },
     "user_tz": 360
    },
    "id": "JO64rZAfHWxI"
   },
   "outputs": [],
   "source": [
    "amounts=[50,100,200,300,400,500,1000,1500,2000,3000,4000,5000,10000,15000,20000,25000,50000]"
   ]
  },
  {
   "cell_type": "markdown",
   "metadata": {
    "id": "PRO9Gv5XHWxJ"
   },
   "source": [
    "# 2. Data extraction"
   ]
  },
  {
   "cell_type": "markdown",
   "metadata": {
    "id": "OizEc3VRHWxK"
   },
   "source": [
    "## Companies' stock prices"
   ]
  },
  {
   "cell_type": "code",
   "execution_count": 7,
   "metadata": {
    "executionInfo": {
     "elapsed": 2915,
     "status": "ok",
     "timestamp": 1609188894658,
     "user": {
      "displayName": "Daniel Dabdub",
      "photoUrl": "https://lh6.googleusercontent.com/-qKoV5H3Fw5M/AAAAAAAAAAI/AAAAAAAAZro/jARb9IjBWek/s64/photo.jpg",
      "userId": "06642504652143825936"
     },
     "user_tz": 360
    },
    "id": "BKv-SEm-HWxN"
   },
   "outputs": [],
   "source": [
    "#Selecting a list of companies we are interested in analyzing:\n",
    "companies = ['AAPL',\n",
    "            'AMZN',\n",
    "            'MSFT',\n",
    "            'GOOG',\n",
    "            'FB',\n",
    "            'NVDA',\n",
    "             #automobiles\n",
    "            'F',\n",
    "            'GM',\n",
    "            'HMC',\n",
    "            'TSLA',\n",
    "            'TYO',\n",
    "             'HOG',\n",
    "             #retail\n",
    "             'WMT',\n",
    "             'M',\n",
    "             'TGT',\n",
    "             'KSS',\n",
    "             'COST',\n",
    "             'BBY',\n",
    "             #FastMovingConsumerGoods(FMCG)\n",
    "             'NESN',\n",
    "             'KO',\n",
    "             'PEP',\n",
    "             'ULVR',\n",
    "             'PG',\n",
    "             'OR',\n",
    "            #bank\n",
    "            'AXP',\n",
    "            'VISA',\n",
    "            'SC',\n",
    "            'DB',\n",
    "            'UBS',\n",
    "            'BAC',\n",
    "            'JPM']"
   ]
  },
  {
   "cell_type": "code",
   "execution_count": 8,
   "metadata": {},
   "outputs": [],
   "source": [
    "tech_c=['AAPL','AMZN','MSFT','GOOG','FB','VISA','NVDA']\n",
    "auto_c=['F','GM','HMC','TSLA','TYO','HOG']\n",
    "retail_c=[ 'WMT', 'M','TGT','KSS','COST','BBY']\n",
    "fmcg_c=['NESN','KO','PEP','ULVR','PG', 'OR']\n",
    "bank_c=['AXP','VISA','SC', 'DB', 'UBS','BAC','JPM']"
   ]
  },
  {
   "cell_type": "code",
   "execution_count": 9,
   "metadata": {},
   "outputs": [],
   "source": [
    "#ESG ratios\n",
    "ESG_ratios=[16.5, 27.4, 14.7, 22.8, 31.6, 12.9, 29.7, 30.6, 28.5, 31.1, 30.3, 16.3, 27.3, 14.5, 14.8, 12.9, 22.3, 12.0, 28.3, 25.1, 17.6, 23.4, 25.1, 20.5, 19.8, 17.4, 26.9, 30.0, 24.8, 26.3, 27.9]"
   ]
  },
  {
   "cell_type": "markdown",
   "metadata": {
    "id": "avte3T6hHWxO"
   },
   "source": [
    "We are going to extract info from 10 years from the companies selected"
   ]
  },
  {
   "cell_type": "code",
   "execution_count": 10,
   "metadata": {
    "colab": {
     "base_uri": "https://localhost:8080/"
    },
    "executionInfo": {
     "elapsed": 7984,
     "status": "ok",
     "timestamp": 1609188899736,
     "user": {
      "displayName": "Daniel Dabdub",
      "photoUrl": "https://lh6.googleusercontent.com/-qKoV5H3Fw5M/AAAAAAAAAAI/AAAAAAAAZro/jARb9IjBWek/s64/photo.jpg",
      "userId": "06642504652143825936"
     },
     "user_tz": 360
    },
    "id": "QjIPhDKXHWxO",
    "outputId": "6976a38b-befa-4db3-b589-6df7a493c043"
   },
   "outputs": [
    {
     "output_type": "stream",
     "name": "stdout",
     "text": [
      "AAPL\n",
      "AMZN\n",
      "MSFT\n",
      "GOOG\n",
      "FB\n",
      "NVDA\n",
      "F\n",
      "GM\n",
      "HMC\n",
      "TSLA\n",
      "TYO\n",
      "HOG\n",
      "WMT\n",
      "M\n",
      "TGT\n",
      "KSS\n",
      "COST\n",
      "BBY\n",
      "There were  errors when extracting data of   NESN\n",
      "KO\n",
      "PEP\n",
      "There were  errors when extracting data of   ULVR\n",
      "PG\n",
      "OR\n",
      "AXP\n",
      "There were  errors when extracting data of   VISA\n",
      "SC\n",
      "DB\n",
      "UBS\n",
      "BAC\n",
      "JPM\n"
     ]
    }
   ],
   "source": [
    "#Collecting the data of each company in a list\n",
    "l_companies_prices=list()\n",
    "error_companies=list()\n",
    "error_indexes=list()\n",
    "\n",
    "for company in companies:\n",
    "    try:\n",
    "        prices= web.DataReader(company, data_source='yahoo', start='2010-10-10', end='2020-10-10')\n",
    "        l_companies_prices.append(prices)\n",
    "        print(company)\n",
    "    \n",
    "    except :\n",
    "        print('There were  errors when extracting data of  ', company)\n",
    "        #elimino de la lista esa empresa que no se consiguieron datos.\n",
    "        error_companies.append(company)\n",
    "        \n",
    "        error_company_index=companies.index(company)\n",
    "        error_indexes.append(error_company_index)\n",
    "\n",
    "\n",
    "for c in error_companies:\n",
    "  companies.remove(c)\n",
    "\n",
    "ESG_ratios_fix=list()\n",
    "\n",
    "for index in range(0, len(ESG_ratios)):\n",
    "    if index not in error_indexes:\n",
    "        ESG_ratios_fix.append(ESG_ratios[index])"
   ]
  },
  {
   "cell_type": "code",
   "execution_count": 11,
   "metadata": {
    "colab": {
     "base_uri": "https://localhost:8080/"
    },
    "executionInfo": {
     "elapsed": 7978,
     "status": "ok",
     "timestamp": 1609188899739,
     "user": {
      "displayName": "Daniel Dabdub",
      "photoUrl": "https://lh6.googleusercontent.com/-qKoV5H3Fw5M/AAAAAAAAAAI/AAAAAAAAZro/jARb9IjBWek/s64/photo.jpg",
      "userId": "06642504652143825936"
     },
     "user_tz": 360
    },
    "id": "xFMTSlZWHWxP",
    "outputId": "269f9899-0726-48c4-d4c7-bfdd9aeed622"
   },
   "outputs": [
    {
     "output_type": "execute_result",
     "data": {
      "text/plain": [
       "['AAPL',\n",
       " 'AMZN',\n",
       " 'MSFT',\n",
       " 'GOOG',\n",
       " 'FB',\n",
       " 'NVDA',\n",
       " 'F',\n",
       " 'GM',\n",
       " 'HMC',\n",
       " 'TSLA',\n",
       " 'TYO',\n",
       " 'HOG',\n",
       " 'WMT',\n",
       " 'M',\n",
       " 'TGT',\n",
       " 'KSS',\n",
       " 'COST',\n",
       " 'BBY',\n",
       " 'KO',\n",
       " 'PEP',\n",
       " 'PG',\n",
       " 'OR',\n",
       " 'AXP',\n",
       " 'SC',\n",
       " 'DB',\n",
       " 'UBS',\n",
       " 'BAC',\n",
       " 'JPM']"
      ]
     },
     "metadata": {},
     "execution_count": 11
    }
   ],
   "source": [
    "companies"
   ]
  },
  {
   "cell_type": "code",
   "execution_count": 12,
   "metadata": {
    "colab": {
     "base_uri": "https://localhost:8080/"
    },
    "executionInfo": {
     "elapsed": 7967,
     "status": "ok",
     "timestamp": 1609188899740,
     "user": {
      "displayName": "Daniel Dabdub",
      "photoUrl": "https://lh6.googleusercontent.com/-qKoV5H3Fw5M/AAAAAAAAAAI/AAAAAAAAZro/jARb9IjBWek/s64/photo.jpg",
      "userId": "06642504652143825936"
     },
     "user_tz": 360
    },
    "id": "iUYZrKXLmbF5",
    "outputId": "ae0e562e-ede0-4b88-9cde-8b44ec3036dc"
   },
   "outputs": [
    {
     "output_type": "execute_result",
     "data": {
      "text/plain": [
       "28"
      ]
     },
     "metadata": {},
     "execution_count": 12
    }
   ],
   "source": [
    "len(ESG_ratios_fix)"
   ]
  },
  {
   "cell_type": "code",
   "execution_count": 13,
   "metadata": {
    "colab": {
     "base_uri": "https://localhost:8080/"
    },
    "executionInfo": {
     "elapsed": 7958,
     "status": "ok",
     "timestamp": 1609188899741,
     "user": {
      "displayName": "Daniel Dabdub",
      "photoUrl": "https://lh6.googleusercontent.com/-qKoV5H3Fw5M/AAAAAAAAAAI/AAAAAAAAZro/jARb9IjBWek/s64/photo.jpg",
      "userId": "06642504652143825936"
     },
     "user_tz": 360
    },
    "id": "sbDmjtWSmpmX",
    "outputId": "1de4229f-0e8d-4b5b-ba9d-a8f0ccd77586"
   },
   "outputs": [
    {
     "output_type": "execute_result",
     "data": {
      "text/plain": [
       "28"
      ]
     },
     "metadata": {},
     "execution_count": 13
    }
   ],
   "source": [
    "len(companies)"
   ]
  },
  {
   "cell_type": "code",
   "execution_count": 14,
   "metadata": {
    "colab": {
     "base_uri": "https://localhost:8080/"
    },
    "executionInfo": {
     "elapsed": 7945,
     "status": "ok",
     "timestamp": 1609188899741,
     "user": {
      "displayName": "Daniel Dabdub",
      "photoUrl": "https://lh6.googleusercontent.com/-qKoV5H3Fw5M/AAAAAAAAAAI/AAAAAAAAZro/jARb9IjBWek/s64/photo.jpg",
      "userId": "06642504652143825936"
     },
     "user_tz": 360
    },
    "id": "53lX5l0UHWxR",
    "outputId": "79d68dc5-603e-4741-a4bb-bd617fe8256f"
   },
   "outputs": [
    {
     "output_type": "stream",
     "name": "stdout",
     "text": [
      "AAPL\n"
     ]
    },
    {
     "output_type": "execute_result",
     "data": {
      "text/plain": [
       "Index(['High', 'Low', 'Open', 'Close', 'Volume', 'Adj Close'], dtype='object')"
      ]
     },
     "metadata": {},
     "execution_count": 14
    }
   ],
   "source": [
    "print(companies[0])\n",
    "l_companies_prices[0].columns"
   ]
  },
  {
   "cell_type": "code",
   "execution_count": 15,
   "metadata": {
    "colab": {
     "base_uri": "https://localhost:8080/"
    },
    "executionInfo": {
     "elapsed": 7935,
     "status": "ok",
     "timestamp": 1609188899742,
     "user": {
      "displayName": "Daniel Dabdub",
      "photoUrl": "https://lh6.googleusercontent.com/-qKoV5H3Fw5M/AAAAAAAAAAI/AAAAAAAAZro/jARb9IjBWek/s64/photo.jpg",
      "userId": "06642504652143825936"
     },
     "user_tz": 360
    },
    "id": "oaXmsayOOdmD",
    "outputId": "819b4b7b-52ba-4d3d-f602-d46b112d751f"
   },
   "outputs": [
    {
     "output_type": "execute_result",
     "data": {
      "text/plain": [
       "10.54857063293457"
      ]
     },
     "metadata": {},
     "execution_count": 15
    }
   ],
   "source": [
    "company_pos=companies.index(\"AAPL\")\n",
    "l_companies_prices[company_pos].loc['2010-10-11','Close']"
   ]
  },
  {
   "cell_type": "markdown",
   "metadata": {
    "id": "QXM6dTYrHWxS"
   },
   "source": [
    "# 3. Random transactions"
   ]
  },
  {
   "cell_type": "code",
   "execution_count": 16,
   "metadata": {
    "executionInfo": {
     "elapsed": 7921,
     "status": "ok",
     "timestamp": 1609188899743,
     "user": {
      "displayName": "Daniel Dabdub",
      "photoUrl": "https://lh6.googleusercontent.com/-qKoV5H3Fw5M/AAAAAAAAAAI/AAAAAAAAZro/jARb9IjBWek/s64/photo.jpg",
      "userId": "06642504652143825936"
     },
     "user_tz": 360
    },
    "id": "FbTbstE2HWxS"
   },
   "outputs": [],
   "source": [
    "transactions=pd.DataFrame()\n",
    "#we do 40,000 initial transactions\n",
    "\n",
    "#id\n",
    "transactions['id']=range(1,40001)"
   ]
  },
  {
   "cell_type": "markdown",
   "metadata": {
    "id": "CGxBin49ynt1"
   },
   "source": [
    "## Companies"
   ]
  },
  {
   "cell_type": "code",
   "execution_count": 17,
   "metadata": {
    "executionInfo": {
     "elapsed": 7916,
     "status": "ok",
     "timestamp": 1609188899743,
     "user": {
      "displayName": "Daniel Dabdub",
      "photoUrl": "https://lh6.googleusercontent.com/-qKoV5H3Fw5M/AAAAAAAAAAI/AAAAAAAAZro/jARb9IjBWek/s64/photo.jpg",
      "userId": "06642504652143825936"
     },
     "user_tz": 360
    },
    "id": "gO_r1eihN4N3"
   },
   "outputs": [],
   "source": [
    "#random company\n",
    "transactions[\"company\"]=np.random.choice(companies, size=len(transactions))"
   ]
  },
  {
   "cell_type": "markdown",
   "metadata": {},
   "source": [
    "## Sector"
   ]
  },
  {
   "cell_type": "code",
   "execution_count": 18,
   "metadata": {},
   "outputs": [],
   "source": [
    "#sector of the company\n",
    "\n",
    "random_companies=transactions['company'].tolist()\n",
    "random_sectors=list()\n",
    "for comp in random_companies:\n",
    "    if comp in tech_c:\n",
    "        sector='TECH'\n",
    "    elif comp in auto_c:\n",
    "        sector='AUTO'\n",
    "    elif comp in retail_c:\n",
    "        sector='RETAIL'\n",
    "    elif comp in fmcg_c:\n",
    "        sector='FMCG'\n",
    "    elif comp in bank_c:\n",
    "        sector='BANK'\n",
    "    \n",
    "    random_sectors.append(sector)\n",
    "\n",
    "transactions['sector']=random_sectors\n"
   ]
  },
  {
   "cell_type": "markdown",
   "metadata": {
    "id": "f6D5TbzNyrCA"
   },
   "source": [
    "## Horizons"
   ]
  },
  {
   "cell_type": "code",
   "execution_count": 19,
   "metadata": {
    "executionInfo": {
     "elapsed": 7910,
     "status": "ok",
     "timestamp": 1609188899744,
     "user": {
      "displayName": "Daniel Dabdub",
      "photoUrl": "https://lh6.googleusercontent.com/-qKoV5H3Fw5M/AAAAAAAAAAI/AAAAAAAAZro/jARb9IjBWek/s64/photo.jpg",
      "userId": "06642504652143825936"
     },
     "user_tz": 360
    },
    "id": "3DbTtrTOHWxS"
   },
   "outputs": [],
   "source": [
    "#random horizon\n",
    "transactions[\"horizon\"] = np.random.choice(horizons, size=len(transactions))\n"
   ]
  },
  {
   "cell_type": "markdown",
   "metadata": {
    "id": "7CXrQ57wys5U"
   },
   "source": [
    "## Investment Amounts"
   ]
  },
  {
   "cell_type": "code",
   "execution_count": 20,
   "metadata": {
    "executionInfo": {
     "elapsed": 7905,
     "status": "ok",
     "timestamp": 1609188899744,
     "user": {
      "displayName": "Daniel Dabdub",
      "photoUrl": "https://lh6.googleusercontent.com/-qKoV5H3Fw5M/AAAAAAAAAAI/AAAAAAAAZro/jARb9IjBWek/s64/photo.jpg",
      "userId": "06642504652143825936"
     },
     "user_tz": 360
    },
    "id": "MqIDjNcSHWxT"
   },
   "outputs": [],
   "source": [
    "#random investment amount\n",
    "transactions[\"amount\"] = np.random.choice(amounts, size=len(transactions))\n"
   ]
  },
  {
   "cell_type": "markdown",
   "metadata": {
    "id": "yDG5pNzSywY2"
   },
   "source": [
    "## Dates - BUY"
   ]
  },
  {
   "cell_type": "code",
   "execution_count": 21,
   "metadata": {
    "colab": {
     "base_uri": "https://localhost:8080/"
    },
    "executionInfo": {
     "elapsed": 9142,
     "status": "ok",
     "timestamp": 1609188900988,
     "user": {
      "displayName": "Daniel Dabdub",
      "photoUrl": "https://lh6.googleusercontent.com/-qKoV5H3Fw5M/AAAAAAAAAAI/AAAAAAAAZro/jARb9IjBWek/s64/photo.jpg",
      "userId": "06642504652143825936"
     },
     "user_tz": 360
    },
    "id": "BeY0oDYhHWxU",
    "outputId": "a7ef2eee-0ddd-402a-a699-65a7bc91ae16"
   },
   "outputs": [
    {
     "output_type": "stream",
     "name": "stdout",
     "text": [
      "40000\n"
     ]
    }
   ],
   "source": [
    "#random buy date\n",
    "start='2013-10-10'\n",
    "end='2018-10-10'\n",
    "\n",
    "dates_buy=list()\n",
    "\n",
    "for i in range(0, transactions.shape[0]):\n",
    "    r_date=random_date(start,end,random.random())\n",
    "    dates_buy.append(r_date)\n",
    "\n",
    "\n",
    "print(len(dates_buy))\n",
    "transactions['date_BUY']=dates_buy"
   ]
  },
  {
   "cell_type": "markdown",
   "metadata": {
    "id": "MF9tblAlsNBo"
   },
   "source": [
    "### Fixing dates (BUY)"
   ]
  },
  {
   "cell_type": "code",
   "execution_count": 22,
   "metadata": {
    "executionInfo": {
     "elapsed": 9631,
     "status": "ok",
     "timestamp": 1609188901489,
     "user": {
      "displayName": "Daniel Dabdub",
      "photoUrl": "https://lh6.googleusercontent.com/-qKoV5H3Fw5M/AAAAAAAAAAI/AAAAAAAAZro/jARb9IjBWek/s64/photo.jpg",
      "userId": "06642504652143825936"
     },
     "user_tz": 360
    },
    "id": "MOlu1a8keq2i"
   },
   "outputs": [],
   "source": [
    "day_names=list()\n",
    "\n",
    "for d in dates_buy:\n",
    "\n",
    "  dt = datetime.datetime.strptime(d, '%Y-%m-%d')\n",
    "  weekno=dt.weekday()\n",
    "\n",
    "  if weekno == 0:\n",
    "    dia='Mon'\n",
    "    day_names.append(dia)\n",
    "  elif weekno==1:\n",
    "    dia='Tue'\n",
    "    day_names.append(dia)\n",
    "  elif weekno==2:\n",
    "    dia='Wed'\n",
    "    day_names.append(dia)\n",
    "  elif weekno==3:\n",
    "    dia='Thu'\n",
    "    day_names.append(dia)\n",
    "  elif weekno==4:\n",
    "    dia='Fri'\n",
    "    day_names.append(dia)\n",
    "  elif weekno==5:\n",
    "    dia='Sat'\n",
    "    day_names.append(dia)\n",
    "  elif weekno==6:\n",
    "    dia='Sun'\n",
    "    day_names.append(dia)\n",
    "\n",
    "transactions['day_BUY']=day_names\n"
   ]
  },
  {
   "cell_type": "code",
   "execution_count": 23,
   "metadata": {
    "executionInfo": {
     "elapsed": 14271,
     "status": "ok",
     "timestamp": 1609188906134,
     "user": {
      "displayName": "Daniel Dabdub",
      "photoUrl": "https://lh6.googleusercontent.com/-qKoV5H3Fw5M/AAAAAAAAAAI/AAAAAAAAZro/jARb9IjBWek/s64/photo.jpg",
      "userId": "06642504652143825936"
     },
     "user_tz": 360
    },
    "id": "AHJh4vQagUyg"
   },
   "outputs": [],
   "source": [
    "dates2_BUY=list()\n",
    "days2_BUY=list()\n",
    "\n",
    "#if date is saturday, we are going to push it to friday\n",
    "#if date is sunday, we are going to push it to monday\n",
    "\n",
    "for index,row in transactions.iterrows():\n",
    "  buy_date = datetime.datetime.strptime(row['date_BUY'], \"%Y-%m-%d\")\n",
    "  if row['day_BUY']=='Sat':\n",
    "    buy_date2 = buy_date - datetime.timedelta(1)\n",
    "    dates2_BUY.append(buy_date2)\n",
    "\n",
    "    buy_day2='Fri'\n",
    "    days2_BUY.append(buy_day2)\n",
    "  elif row['day_BUY']=='Sun':\n",
    "    buy_date = datetime.datetime.strptime(row['date_BUY'], \"%Y-%m-%d\")\n",
    "    buy_date2 = buy_date + datetime.timedelta(1)\n",
    "    dates2_BUY.append(buy_date2)\n",
    "\n",
    "    buy_day2='Mon'\n",
    "    days2_BUY.append(buy_day2)\n",
    "  else:\n",
    "    buy_date2=buy_date\n",
    "    dates2_BUY.append(buy_date2)\n",
    "    buy_day2=row['day_BUY']\n",
    "    days2_BUY.append(buy_day2)\n",
    "\n",
    "\n",
    "transactions['date_BUY_fix']=dates2_BUY\n",
    "transactions['day_BUY_fix']=days2_BUY\n",
    "\n",
    "# transactions=weekend2weekday(transactions,'date_BUY','day_BUY' )"
   ]
  },
  {
   "cell_type": "code",
   "execution_count": 24,
   "metadata": {
    "executionInfo": {
     "elapsed": 14467,
     "status": "ok",
     "timestamp": 1609188906337,
     "user": {
      "displayName": "Daniel Dabdub",
      "photoUrl": "https://lh6.googleusercontent.com/-qKoV5H3Fw5M/AAAAAAAAAAI/AAAAAAAAZro/jARb9IjBWek/s64/photo.jpg",
      "userId": "06642504652143825936"
     },
     "user_tz": 360
    },
    "id": "qHx_n2n2kHjz"
   },
   "outputs": [],
   "source": [
    "#checking for holidays (NYSE is closed)\n",
    "\n",
    "cal = USFederalHolidayCalendar()\n",
    "holidays = cal.holidays(start='2010-10-10', end='2020-10-10').to_pydatetime()\n",
    "# if datetime.datetime(2014,01,01) in holidays:\n",
    "#     print True \n",
    "\n",
    "l_holidays=list()\n",
    "for d in dates2_BUY:\n",
    "  if d in holidays:\n",
    "    holiday='Holiday'\n",
    "    l_holidays.append(holiday)\n",
    "\n",
    "  else:\n",
    "    holiday=''\n",
    "    l_holidays.append(holiday)\n",
    "\n",
    "transactions['holiday_BUY']=l_holidays"
   ]
  },
  {
   "cell_type": "code",
   "execution_count": 25,
   "metadata": {
    "executionInfo": {
     "elapsed": 14463,
     "status": "ok",
     "timestamp": 1609188906338,
     "user": {
      "displayName": "Daniel Dabdub",
      "photoUrl": "https://lh6.googleusercontent.com/-qKoV5H3Fw5M/AAAAAAAAAAI/AAAAAAAAZro/jARb9IjBWek/s64/photo.jpg",
      "userId": "06642504652143825936"
     },
     "user_tz": 360
    },
    "id": "haV7AfcMitbi"
   },
   "outputs": [],
   "source": [
    "transactions_h=transactions[transactions.holiday_BUY=='Holiday']\n",
    "\n",
    "transactions=transactions[transactions.holiday_BUY!='Holiday']"
   ]
  },
  {
   "cell_type": "code",
   "execution_count": 26,
   "metadata": {
    "tags": [
     "outputPrepend"
    ]
   },
   "outputs": [
    {
     "output_type": "stream",
     "name": "stdout",
     "text": [
      "2  \n2010-10-14   9213600.0  16.657616  \n2010-10-15   6672800.0  16.754620  \n...                ...        ...  \n2020-10-05  14631000.0   6.060000  \n2020-10-06  22708200.0   5.810000  \n2020-10-07  17965500.0   5.960000  \n2020-10-08  21298800.0   6.290000  \n2020-10-09  19317400.0   6.230000  \n\n[2518 rows x 7 columns],                   High         Low  Volatility        Open       Close  \\\nDate                                                                     \n2010-10-11   55.000000   54.240002         NaN   54.299999   54.849998   \n2010-10-12   54.910000   54.470001         NaN   54.869999   54.740002   \n2010-10-13   55.080002   54.349998         NaN   54.689999   54.419998   \n2010-10-14   54.619999   53.520000         NaN   54.459999   54.070000   \n2010-10-15   54.590000   53.970001         NaN   54.400002   54.330002   \n...                ...         ...         ...         ...         ...   \n2020-10-05  162.309998  159.990005    0.391384  159.990005  161.490005   \n2020-10-06  161.979996  157.610001    0.391750  161.470001  158.410004   \n2020-10-07  161.610001  159.610001    0.391938  160.059998  160.679993   \n2020-10-08  163.320007  161.389999    0.391682  162.600006  161.860001   \n2020-10-09  164.809998  162.100006    0.391806  162.199997  163.710007   \n\n               Volume   Adj Close  \nDate                               \n2010-10-11  4470300.0   41.031727  \n2010-10-12  5787300.0   40.949440  \n2010-10-13  4053900.0   40.710056  \n2010-10-14  5660600.0   40.448231  \n2010-10-15  4208600.0   40.642727  \n...               ...         ...  \n2020-10-05  2268600.0  160.825195  \n2020-10-06  2932600.0  157.757874  \n2020-10-07  2927000.0  160.018524  \n2020-10-08  2189200.0  161.193665  \n2020-10-09  2582700.0  163.036057  \n\n[2518 rows x 7 columns],                  High        Low  Volatility       Open      Close     Volume  \\\nDate                                                                            \n2010-10-11  54.119999  53.320000         NaN  53.860001  53.560001  2392500.0   \n2010-10-12  53.709999  52.959999         NaN  53.599998  53.459999  2589000.0   \n2010-10-13  53.830002  52.939999         NaN  53.730000  53.009998  3001500.0   \n2010-10-14  53.580002  51.869999         NaN  53.029999  52.330002  5694400.0   \n2010-10-15  53.240002  51.970001         NaN  52.810001  53.169998  4613400.0   \n...               ...        ...         ...        ...        ...        ...   \n2020-10-05  20.750000  20.049999    0.924426  20.330000  20.420000  6275500.0   \n2020-10-06  20.750000  19.360001    0.925006  20.750000  19.490000  7438600.0   \n2020-10-07  20.740000  19.830000    0.927001  19.830000  20.639999  6694300.0   \n2020-10-08  21.900000  20.719999    0.928778  20.870001  21.889999  8074000.0   \n2020-10-09  22.240000  21.430000    0.928351  22.000000  21.530001  6681700.0   \n\n            Adj Close  \nDate                   \n2010-10-11  37.662571  \n2010-10-12  37.592255  \n2010-10-13  37.275810  \n2010-10-14  36.797657  \n2010-10-15  37.388332  \n...               ...  \n2020-10-05  20.420000  \n2020-10-06  19.490000  \n2020-10-07  20.639999  \n2020-10-08  21.889999  \n2020-10-09  21.530001  \n\n[2518 rows x 7 columns],                   High         Low  Volatility        Open       Close  \\\nDate                                                                     \n2010-10-11   64.489998   63.279999         NaN   63.389999   64.320000   \n2010-10-12   64.089996   63.310001         NaN   64.029999   63.340000   \n2010-10-13   63.959999   63.000000         NaN   63.200001   63.360001   \n2010-10-14   63.860001   62.910000         NaN   63.119999   63.180000   \n2010-10-15   63.770000   63.209999         NaN   63.459999   63.700001   \n...                ...         ...         ...         ...         ...   \n2020-10-05  358.980011  355.329987    0.277999  355.329987  358.579987   \n2020-10-06  363.000000  357.040009    0.277955  361.899994  358.350006   \n2020-10-07  364.739990  359.660004    0.278155  360.470001  363.019989   \n2020-10-08  365.970001  361.750000    0.277725  364.799988  365.089996   \n2020-10-09  369.750000  365.700012    0.277945  366.000000  369.459991   \n\n               Volume   Adj Close  \nDate                               \n2010-10-11  2584800.0   48.734234  \n2010-10-12  4454400.0   47.991699  \n2010-10-13  5006500.0   48.006851  \n2010-10-14  4214500.0   47.870472  \n2010-10-15  4033400.0   48.264458  \n...               ...         ...  \n2020-10-05  2093500.0  348.756958  \n2020-10-06  2760400.0  348.533295  \n2020-10-07  1959100.0  353.075317  \n2020-10-08  1793100.0  355.088623  \n2020-10-09  1730700.0  359.338928  \n\n[2518 rows x 7 columns],                   High         Low  Volatility        Open       Close  \\\nDate                                                                     \n2010-10-11   41.400002   40.700001         NaN   41.230000   40.860001   \n2010-10-12   40.980000   40.230000         NaN   40.700001   40.730000   \n2010-10-13   41.990002   40.930000         NaN   40.930000   41.029999   \n2010-10-14   41.040001   40.599998         NaN   41.020000   40.980000   \n2010-10-15   42.360001   41.000000         NaN   41.349998   42.150002   \n...                ...         ...         ...         ...         ...   \n2020-10-05  116.739998  112.570000    0.507145  112.570000  116.070000   \n2020-10-06  116.430000  112.250000    0.508266  115.980003  112.449997   \n2020-10-07  115.440002  113.760002    0.507873  114.000000  114.489998   \n2020-10-08  115.650002  113.910004    0.507858  115.129997  114.919998   \n2020-10-09  118.250000  115.110001    0.507829  115.370003  116.589996   \n\n               Volume   Adj Close  \nDate                               \n2010-10-11  3491300.0   30.248907  \n2010-10-12  5350500.0   30.152655  \n2010-10-13  7025400.0   30.374758  \n2010-10-14  5502000.0   30.337744  \n2010-10-15  8742100.0   31.203899  \n...               ...         ...  \n2020-10-05  2006000.0  115.435425  \n2020-10-06  2395400.0  111.835213  \n2020-10-07  1552500.0  113.864059  \n2020-10-08  1523300.0  114.291710  \n2020-10-09  2824100.0  115.952576  \n\n[2518 rows x 7 columns],                  High        Low  Volatility       Open      Close  \\\nDate                                                                 \n2010-10-11  29.809999  29.665001         NaN  29.780001  29.780001   \n2010-10-12  29.900000  29.670000         NaN  29.670000  29.799999   \n2010-10-13  29.985001  29.830000         NaN  29.860001  29.969999   \n2010-10-14  29.990000  29.840000         NaN  29.969999  29.955000   \n2010-10-15  29.990000  29.870001         NaN  29.980000  29.969999   \n...               ...        ...         ...        ...        ...   \n2020-10-05  49.549999  49.119999    0.336592  49.430000  49.380001   \n2020-10-06  49.730000  48.830002    0.336488  49.549999  48.939999   \n2020-10-07  49.759998  48.950001    0.336699  49.020000  49.560001   \n2020-10-08  50.540001  49.540001    0.337161  49.709999  50.459999   \n2020-10-09  51.230000  50.599998    0.337224  50.669998  50.810001   \n\n                Volume  Adj Close  \nDate                               \n2010-10-11  12997000.0  21.677502  \n2010-10-12  16164400.0  21.692070  \n2010-10-13  24011000.0  21.815813  \n2010-10-14  14491600.0  21.804893  \n2010-10-15  19697600.0  21.815813  \n...                ...        ...  \n2020-10-05  10628700.0  48.995831  \n2020-10-06  10077400.0  48.559250  \n2020-10-07  10135600.0  49.174431  \n2020-10-08  12143900.0  50.067425  \n2020-10-09  11407800.0  50.414703  \n\n[2518 rows x 7 columns],                   High         Low  Volatility        Open       Close  \\\nDate                                                                     \n2010-10-11   65.760002   65.300003         NaN   65.739998   65.519997   \n2010-10-12   66.470001   65.000000         NaN   65.290001   66.080002   \n2010-10-13   66.800003   66.199997         NaN   66.309998   66.400002   \n2010-10-14   66.839996   66.449997         NaN   66.449997   66.639999   \n2010-10-15   67.000000   66.459999         NaN   66.889999   66.680000   \n...                ...         ...         ...         ...         ...   \n2020-10-05  138.380005  136.979996    0.363748  138.110001  137.929993   \n2020-10-06  138.820007  135.149994    0.363847  138.000000  135.699997   \n2020-10-07  137.520004  135.759995    0.363888  135.940002  137.009995   \n2020-10-08  138.130005  136.759995    0.363913  137.279999  137.850006   \n2020-10-09  139.259995  137.899994    0.363938  138.699997  138.440002   \n\n               Volume   Adj Close  \nDate                               \n2010-10-11  5283100.0   48.454674  \n2010-10-12  7807800.0   48.868813  \n2010-10-13  5990500.0   49.105465  \n2010-10-14  6162300.0   49.282948  \n2010-10-15  6272100.0   49.312546  \n...               ...         ...  \n2020-10-05  4519800.0  136.954315  \n2020-10-06  5031000.0  134.740097  \n2020-10-07  4347300.0  136.040833  \n2020-10-08  2977400.0  136.874893  \n2020-10-09  3194000.0  137.460724  \n\n[2518 rows x 7 columns],                   High         Low  Volatility        Open       Close  \\\nDate                                                                     \n2010-10-11   62.209999   61.860001         NaN   61.919998   62.139999   \n2010-10-12   62.180000   61.560001         NaN   62.009998   62.020000   \n2010-10-13   62.930000   62.080002         NaN   62.230000   62.630001   \n2010-10-14   62.840000   62.520000         NaN   62.669998   62.799999   \n2010-10-15   63.000000   62.549999         NaN   62.970001   62.759998   \n...                ...         ...         ...         ...         ...   \n2020-10-05  139.649994  138.300003    0.323947  138.720001  139.389999   \n2020-10-06  140.770004  138.809998    0.323797  139.419998  139.610001   \n2020-10-07  141.389999  139.369995    0.323470  140.080002  140.699997   \n2020-10-08  141.929993  140.360001    0.323428  140.559998  141.649994   \n2020-10-09  143.639999  141.699997    0.323533  141.839996  142.919998   \n\n                Volume   Adj Close  \nDate                                \n2010-10-11   7425200.0   45.275635  \n2010-10-12  24975000.0   45.188206  \n2010-10-13   9906000.0   45.632656  \n2010-10-14   8771400.0   45.756523  \n2010-10-15   9943500.0   45.727375  \n...                ...         ...  \n2020-10-05   6333900.0  138.620316  \n2020-10-06   6042900.0  138.839096  \n2020-10-07   4640900.0  139.923080  \n2020-10-08   4569800.0  140.867828  \n2020-10-09   6551700.0  142.130814  \n\n[2518 rows x 7 columns],               High     Low  Volatility    Open   Close     Volume  Adj Close\nDate                                                                        \n2016-07-06  13.650  13.350         NaN  13.350  13.640    75800.0  12.788130\n2016-07-07  13.800  13.270         NaN  13.650  13.296    51500.0  12.465611\n2016-07-08  13.707  12.910         NaN  13.320  13.620    36300.0  12.769378\n2016-07-11  13.650  13.280         NaN  13.650  13.380    55700.0  12.544368\n2016-07-12  13.520  13.000         NaN  13.400  13.040    52000.0  12.225601\n...            ...     ...         ...     ...     ...        ...        ...\n2020-10-05  12.155  11.790    0.600089  11.790  11.930   533000.0  11.891484\n2020-10-06  12.840  12.040    0.599724  12.300  12.050  1364000.0  12.011097\n2020-10-07  12.200  11.765    0.600085  12.150  11.810  1330100.0  11.771872\n2020-10-08  12.015  11.760    0.599881  11.900  11.970   688900.0  11.931355\n2020-10-09  12.550  12.170    0.601643  12.295  12.550  1785500.0  12.509482\n\n[1075 rows x 7 columns],                   High         Low  Volatility        Open       Close  \\\nDate                                                                     \n2010-10-11   38.450001   37.900002         NaN   38.169998   37.939999   \n2010-10-12   38.759998   37.900002         NaN   37.939999   38.540001   \n2010-10-13   39.860001   38.740002         NaN   38.919998   39.259998   \n2010-10-14   39.610001   39.009998         NaN   39.119999   39.439999   \n2010-10-15   39.799999   39.029999         NaN   39.750000   39.090000   \n...                ...         ...         ...         ...         ...   \n2020-10-05  104.080002  102.269997    0.586702  103.330002  103.889999   \n2020-10-06  105.290001  101.320000    0.587021  105.010002  101.760002   \n2020-10-07  104.150002  102.389999    0.587169  102.809998  103.379997   \n2020-10-08  106.139999  104.059998    0.587609  104.330002  106.059998   \n2020-10-09  107.209999  105.239998    0.587533  105.989998  106.339996   \n\n                Volume   Adj Close  \nDate                                \n2010-10-11  10914000.0   32.574116  \n2010-10-12  19989300.0   33.089272  \n2010-10-13  19502400.0   33.707443  \n2010-10-14  14643600.0   33.861980  \n2010-10-15  14884400.0   33.561474  \n...                ...         ...  \n2020-10-05   2863200.0  103.096375  \n2020-10-06   3309200.0  100.982658  \n2020-10-07   3048400.0  102.590271  \n2020-10-08   2922600.0  105.689400  \n2020-10-09   3511300.0  105.968422  \n\n[2518 rows x 7 columns],                  High        Low  Volatility       Open      Close  \\\nDate                                                                 \n2014-01-23  26.500000  25.000000         NaN  25.750000  25.200001   \n2014-01-24  25.280001  24.000000         NaN  25.280001  24.209999   \n2014-01-27  24.990000  24.190001         NaN  24.230000  24.799999   \n2014-01-28  25.730000  24.430000         NaN  24.639999  25.690001   \n2014-01-29  25.799999  25.090000         NaN  25.290001  25.620001   \n...               ...        ...         ...        ...        ...   \n2020-10-05  19.910000  19.420000    0.740363  19.639999  19.809999   \n2020-10-06  20.440001  19.230000    0.740876  20.340000  19.240000   \n2020-10-07  19.910000  19.219999    0.740614  19.490000  19.379999   \n2020-10-08  19.809999  19.440001    0.740724  19.639999  19.719999   \n2020-10-09  20.139999  19.590000    0.740776  19.930000  19.940001   \n\n                Volume  Adj Close  \nDate                               \n2014-01-23  34094000.0  22.321724  \n2014-01-24   8034700.0  21.444796  \n2014-01-27   3540900.0  21.967409  \n2014-01-28   2766700.0  22.755762  \n2014-01-29   2946100.0  22.693752  \n...                ...        ...  \n2020-10-05    650100.0  19.809999  \n2020-10-06    642500.0  19.240000  \n2020-10-07    715000.0  19.379999  \n2020-10-08    702400.0  19.719999  \n2020-10-09   2010600.0  19.940001  \n\n[1692 rows x 7 columns],                  High        Low  Volatility       Open      Close     Volume  \\\nDate                                                                            \n2010-10-11  54.007633  53.492367         NaN  53.826336  53.587788   793860.0   \n2010-10-12  53.635494  52.461830         NaN  52.996181  53.339695  1404634.0   \n2010-10-13  55.820610  54.780533         NaN  55.076336  55.066795  1400338.0   \n2010-10-14  56.030533  54.303436         NaN  55.916031  54.856869  2583425.0   \n2010-10-15  55.190842  53.482822         NaN  55.171757  54.074429  1485226.0   \n...               ...        ...         ...        ...        ...        ...   \n2020-10-05   8.710000   8.550000    0.582111   8.560000   8.700000  5380400.0   \n2020-10-06   9.200000   8.990000    0.582927   9.070000   9.010000  7807200.0   \n2020-10-07   9.270000   9.150000    0.582833   9.180000   9.230000  4203900.0   \n2020-10-08   9.400000   9.290000    0.582972   9.370000   9.360000  4655000.0   \n2020-10-09   9.390000   9.220000    0.582476   9.390000   9.280000  2246400.0   \n\n            Adj Close  \nDate                   \n2010-10-11  45.830193  \n2010-10-12  45.618023  \n2010-10-13  47.095097  \n2010-10-14  46.915558  \n2010-10-15  46.246395  \n...               ...  \n2020-10-05   8.700000  \n2020-10-06   9.010000  \n2020-10-07   9.230000  \n2020-10-08   9.360000  \n2020-10-09   9.280000  \n\n[2518 rows x 7 columns],                  High        Low  Volatility       Open      Close     Volume  \\\nDate                                                                            \n2014-12-02  18.020000  17.879999         NaN  17.959999  18.000000   567400.0   \n2014-12-03  18.190001  18.080000         NaN  18.129999  18.160000   426100.0   \n2014-12-04  18.219999  18.100000         NaN  18.129999  18.170000   698800.0   \n2014-12-05  18.260000  18.090000         NaN  18.170000  18.219999   620400.0   \n2014-12-08  18.129999  17.959999         NaN  18.080000  18.040001   480200.0   \n...               ...        ...         ...        ...        ...        ...   \n2020-10-05  11.600000  11.490000    0.474170  11.530000  11.570000  2400200.0   \n2020-10-06  11.820000  11.570000    0.474144  11.800000  11.580000  3395000.0   \n2020-10-07  11.790000  11.660000    0.474275  11.690000  11.750000  2502700.0   \n2020-10-08  11.820000  11.700000    0.474278  11.810000  11.780000  2430100.0   \n2020-10-09  11.800000  11.596000    0.474022  11.800000  11.670000  2024800.0   \n\n            Adj Close  \nDate                   \n2014-12-02  14.266798  \n2014-12-03  14.393614  \n2014-12-04  14.401540  \n2014-12-05  14.441169  \n2014-12-08  14.298502  \n...               ...  \n2020-10-05  11.279160  \n2020-10-06  11.288909  \n2020-10-07  11.454636  \n2020-10-08  11.483882  \n2020-10-09  11.376647  \n\n[1475 rows x 7 columns],                  High        Low  Volatility       Open      Close  \\\nDate                                                                 \n2010-10-11  13.250000  13.110000         NaN  13.200000  13.150000   \n2010-10-12  13.530000  13.090000         NaN  13.100000  13.520000   \n2010-10-13  13.640000  13.250000         NaN  13.600000  13.290000   \n2010-10-14  13.030000  12.420000         NaN  13.000000  12.600000   \n2010-10-15  12.680000  11.740000         NaN  12.660000  11.980000   \n...               ...        ...         ...        ...        ...   \n2020-10-05  24.709999  24.379999    0.555642  24.520000  24.620001   \n2020-10-06  25.190001  24.280001    0.555724  24.920000  24.370001   \n2020-10-07  25.110001  24.600000    0.555618  24.629999  24.879999   \n2020-10-08  25.299999  24.809999    0.555729  24.950001  25.240000   \n2020-10-09  25.490000  25.040001    0.555381  25.340000  25.360001   \n\n                 Volume  Adj Close  \nDate                                \n2010-10-11  101283500.0  11.532122  \n2010-10-12  136898300.0  11.856599  \n2010-10-13  175054300.0  11.654898  \n2010-10-14  511175200.0  11.049791  \n2010-10-15  600410400.0  10.506070  \n...                 ...        ...  \n2020-10-05   44396800.0  24.467503  \n2020-10-06   67541100.0  24.219051  \n2020-10-07   47648000.0  24.725891  \n2020-10-08   52080600.0  25.083662  \n2020-10-09   44511500.0  25.202919  \n\n[2518 rows x 7 columns],                   High         Low  Volatility        Open       Close  \\\nDate                                                                     \n2010-10-11   39.910000   39.400002         NaN   39.520000   39.730000   \n2010-10-12   40.490002   39.470001         NaN   39.470001   40.400002   \n2010-10-13   40.720001   39.580002         NaN   40.660000   39.840000   \n2010-10-14   39.380001   38.099998         NaN   39.250000   38.720001   \n2010-10-15   38.939999   36.540001         NaN   38.869999   37.150002   \n...                ...         ...         ...         ...         ...   \n2020-10-05   99.250000   97.529999    0.516339   98.320000   99.040001   \n2020-10-06  100.860001   97.510002    0.516429  100.070000   98.019997   \n2020-10-07  100.349998   98.669998    0.516267   98.959999   99.730003   \n2020-10-08  101.919998   99.900002    0.516629  100.510002  101.779999   \n2020-10-09  102.110001  100.110001    0.516456  102.000000  101.199997   \n\n                 Volume   Adj Close  \nDate                                 \n2010-10-11   24601000.0   30.039925  \n2010-10-12   38798100.0   30.546518  \n2010-10-13   69607700.0   30.123104  \n2010-10-14   76504900.0   29.276266  \n2010-10-15  142280400.0   28.089188  \n...                 ...         ...  \n2020-10-05   13871900.0   98.331841  \n2020-10-06   19220400.0   97.319130  \n2020-10-07   16358500.0   99.016914  \n2020-10-08   15659000.0  101.052246  \n2020-10-09   13689100.0  100.476395  \n\n[2518 rows x 7 columns]]\n"
     ]
    }
   ],
   "source": [
    "\n",
    "l_volatilities = []\n",
    "for company in companies:\n",
    "    company_pos=companies.index(company)\n",
    "    df_company_prices = pd.DataFrame(l_companies_prices[company_pos])\n",
    "    log_ret = np.log(df_company_prices['Close'] / df_company_prices['Close'].shift(1))\n",
    "    volatility = log_ret.rolling(window=252).std() * np.sqrt(252)\n",
    "    df_company_prices.insert(2, \"Volatility\", volatility, True)\n",
    "    l_volatilities.append(df_company_prices)\n",
    "\n",
    "print(l_volatilities)"
   ]
  },
  {
   "cell_type": "code",
   "execution_count": 27,
   "metadata": {},
   "outputs": [],
   "source": [
    "l_returns = []\n",
    "for company in companies:\n",
    "    company_pos=companies.index(company)\n",
    "    df_company_prices = pd.DataFrame(l_companies_prices[company_pos])\n",
    "    returns = (df_company_prices['Close'] - df_company_prices['Close'].shift(1)) / df_company_prices['Close'].shift(1)\n",
    "    df_company_prices.insert(2, \"returns\", returns, True)\n",
    "    l_returns.append(df_company_prices)"
   ]
  },
  {
   "cell_type": "code",
   "execution_count": 28,
   "metadata": {},
   "outputs": [
    {
     "output_type": "execute_result",
     "data": {
      "text/plain": [
       "3.240002  51.970001  0.016052         NaN  52.810001  53.169998   \n",
       " ...               ...        ...       ...         ...        ...        ...   \n",
       " 2020-10-05  20.750000  20.049999  0.023046    0.924426  20.330000  20.420000   \n",
       " 2020-10-06  20.750000  19.360001 -0.045544    0.925006  20.750000  19.490000   \n",
       " 2020-10-07  20.740000  19.830000  0.059005    0.927001  19.830000  20.639999   \n",
       " 2020-10-08  21.900000  20.719999  0.060562    0.928778  20.870001  21.889999   \n",
       " 2020-10-09  22.240000  21.430000 -0.016446    0.928351  22.000000  21.530001   \n",
       " \n",
       "                Volume  Adj Close  \n",
       " Date                              \n",
       " 2010-10-11  2392500.0  37.662571  \n",
       " 2010-10-12  2589000.0  37.592255  \n",
       " 2010-10-13  3001500.0  37.275810  \n",
       " 2010-10-14  5694400.0  36.797657  \n",
       " 2010-10-15  4613400.0  37.388332  \n",
       " ...               ...        ...  \n",
       " 2020-10-05  6275500.0  20.420000  \n",
       " 2020-10-06  7438600.0  19.490000  \n",
       " 2020-10-07  6694300.0  20.639999  \n",
       " 2020-10-08  8074000.0  21.889999  \n",
       " 2020-10-09  6681700.0  21.530001  \n",
       " \n",
       " [2518 rows x 8 columns],\n",
       "                   High         Low   returns  Volatility        Open  \\\n",
       " Date                                                                   \n",
       " 2010-10-11   64.489998   63.279999       NaN         NaN   63.389999   \n",
       " 2010-10-12   64.089996   63.310001 -0.015236         NaN   64.029999   \n",
       " 2010-10-13   63.959999   63.000000  0.000316         NaN   63.200001   \n",
       " 2010-10-14   63.860001   62.910000 -0.002841         NaN   63.119999   \n",
       " 2010-10-15   63.770000   63.209999  0.008230         NaN   63.459999   \n",
       " ...                ...         ...       ...         ...         ...   \n",
       " 2020-10-05  358.980011  355.329987  0.010056    0.277999  355.329987   \n",
       " 2020-10-06  363.000000  357.040009 -0.000641    0.277955  361.899994   \n",
       " 2020-10-07  364.739990  359.660004  0.013032    0.278155  360.470001   \n",
       " 2020-10-08  365.970001  361.750000  0.005702    0.277725  364.799988   \n",
       " 2020-10-09  369.750000  365.700012  0.011970    0.277945  366.000000   \n",
       " \n",
       "                  Close     Volume   Adj Close  \n",
       " Date                                           \n",
       " 2010-10-11   64.320000  2584800.0   48.734234  \n",
       " 2010-10-12   63.340000  4454400.0   47.991699  \n",
       " 2010-10-13   63.360001  5006500.0   48.006851  \n",
       " 2010-10-14   63.180000  4214500.0   47.870472  \n",
       " 2010-10-15   63.700001  4033400.0   48.264458  \n",
       " ...                ...        ...         ...  \n",
       " 2020-10-05  358.579987  2093500.0  348.756958  \n",
       " 2020-10-06  358.350006  2760400.0  348.533295  \n",
       " 2020-10-07  363.019989  1959100.0  353.075317  \n",
       " 2020-10-08  365.089996  1793100.0  355.088623  \n",
       " 2020-10-09  369.459991  1730700.0  359.338928  \n",
       " \n",
       " [2518 rows x 8 columns],\n",
       "                   High         Low   returns  Volatility        Open  \\\n",
       " Date                                                                   \n",
       " 2010-10-11   41.400002   40.700001       NaN         NaN   41.230000   \n",
       " 2010-10-12   40.980000   40.230000 -0.003182         NaN   40.700001   \n",
       " 2010-10-13   41.990002   40.930000  0.007366         NaN   40.930000   \n",
       " 2010-10-14   41.040001   40.599998 -0.001219         NaN   41.020000   \n",
       " 2010-10-15   42.360001   41.000000  0.028551         NaN   41.349998   \n",
       " ...                ...         ...       ...         ...         ...   \n",
       " 2020-10-05  116.739998  112.570000  0.032468    0.507145  112.570000   \n",
       " 2020-10-06  116.430000  112.250000 -0.031188    0.508266  115.980003   \n",
       " 2020-10-07  115.440002  113.760002  0.018141    0.507873  114.000000   \n",
       " 2020-10-08  115.650002  113.910004  0.003756    0.507858  115.129997   \n",
       " 2020-10-09  118.250000  115.110001  0.014532    0.507829  115.370003   \n",
       " \n",
       "                  Close     Volume   Adj Close  \n",
       " Date                                           \n",
       " 2010-10-11   40.860001  3491300.0   30.248907  \n",
       " 2010-10-12   40.730000  5350500.0   30.152655  \n",
       " 2010-10-13   41.029999  7025400.0   30.374758  \n",
       " 2010-10-14   40.980000  5502000.0   30.337744  \n",
       " 2010-10-15   42.150002  8742100.0   31.203899  \n",
       " ...                ...        ...         ...  \n",
       " 2020-10-05  116.070000  2006000.0  115.435425  \n",
       " 2020-10-06  112.449997  2395400.0  111.835213  \n",
       " 2020-10-07  114.489998  1552500.0  113.864059  \n",
       " 2020-10-08  114.919998  1523300.0  114.291710  \n",
       " 2020-10-09  116.589996  2824100.0  115.952576  \n",
       " \n",
       " [2518 rows x 8 columns],\n",
       "                  High        Low   returns  Volatility       Open      Close  \\\n",
       " Date                                                                           \n",
       " 2010-10-11  29.809999  29.665001       NaN         NaN  29.780001  29.780001   \n",
       " 2010-10-12  29.900000  29.670000  0.000672         NaN  29.670000  29.799999   \n",
       " 2010-10-13  29.985001  29.830000  0.005705         NaN  29.860001  29.969999   \n",
       " 2010-10-14  29.990000  29.840000 -0.000500         NaN  29.969999  29.955000   \n",
       " 2010-10-15  29.990000  29.870001  0.000501         NaN  29.980000  29.969999   \n",
       " ...               ...        ...       ...         ...        ...        ...   \n",
       " 2020-10-05  49.549999  49.119999  0.000405    0.336592  49.430000  49.380001   \n",
       " 2020-10-06  49.730000  48.830002 -0.008911    0.336488  49.549999  48.939999   \n",
       " 2020-10-07  49.759998  48.950001  0.012669    0.336699  49.020000  49.560001   \n",
       " 2020-10-08  50.540001  49.540001  0.018160    0.337161  49.709999  50.459999   \n",
       " 2020-10-09  51.230000  50.599998  0.006936    0.337224  50.669998  50.810001   \n",
       " \n",
       "                 Volume  Adj Close  \n",
       " Date                               \n",
       " 2010-10-11  12997000.0  21.677502  \n",
       " 2010-10-12  16164400.0  21.692070  \n",
       " 2010-10-13  24011000.0  21.815813  \n",
       " 2010-10-14  14491600.0  21.804893  \n",
       " 2010-10-15  19697600.0  21.815813  \n",
       " ...                ...        ...  \n",
       " 2020-10-05  10628700.0  48.995831  \n",
       " 2020-10-06  10077400.0  48.559250  \n",
       " 2020-10-07  10135600.0  49.174431  \n",
       " 2020-10-08  12143900.0  50.067425  \n",
       " 2020-10-09  11407800.0  50.414703  \n",
       " \n",
       " [2518 rows x 8 columns],\n",
       "                   High         Low   returns  Volatility        Open  \\\n",
       " Date                                                                   \n",
       " 2010-10-11   65.760002   65.300003       NaN         NaN   65.739998   \n",
       " 2010-10-12   66.470001   65.000000  0.008547         NaN   65.290001   \n",
       " 2010-10-13   66.800003   66.199997  0.004843         NaN   66.309998   \n",
       " 2010-10-14   66.839996   66.449997  0.003614         NaN   66.449997   \n",
       " 2010-10-15   67.000000   66.459999  0.000600         NaN   66.889999   \n",
       " ...                ...         ...       ...         ...         ...   \n",
       " 2020-10-05  138.380005  136.979996 -0.000942    0.363748  138.110001   \n",
       " 2020-10-06  138.820007  135.149994 -0.016168    0.363847  138.000000   \n",
       " 2020-10-07  137.520004  135.759995  0.009654    0.363888  135.940002   \n",
       " 2020-10-08  138.130005  136.759995  0.006131    0.363913  137.279999   \n",
       " 2020-10-09  139.259995  137.899994  0.004280    0.363938  138.699997   \n",
       " \n",
       "                  Close     Volume   Adj Close  \n",
       " Date                                           \n",
       " 2010-10-11   65.519997  5283100.0   48.454674  \n",
       " 2010-10-12   66.080002  7807800.0   48.868813  \n",
       " 2010-10-13   66.400002  5990500.0   49.105465  \n",
       " 2010-10-14   66.639999  6162300.0   49.282948  \n",
       " 2010-10-15   66.680000  6272100.0   49.312546  \n",
       " ...                ...        ...         ...  \n",
       " 2020-10-05  137.929993  4519800.0  136.954315  \n",
       " 2020-10-06  135.699997  5031000.0  134.740097  \n",
       " 2020-10-07  137.009995  4347300.0  136.040833  \n",
       " 2020-10-08  137.850006  2977400.0  136.874893  \n",
       " 2020-10-09  138.440002  3194000.0  137.460724  \n",
       " \n",
       " [2518 rows x 8 columns],\n",
       "                   High         Low   returns  Volatility        Open  \\\n",
       " Date                                                                   \n",
       " 2010-10-11   62.209999   61.860001       NaN         NaN   61.919998   \n",
       " 2010-10-12   62.180000   61.560001 -0.001931         NaN   62.009998   \n",
       " 2010-10-13   62.930000   62.080002  0.009836         NaN   62.230000   \n",
       " 2010-10-14   62.840000   62.520000  0.002714         NaN   62.669998   \n",
       " 2010-10-15   63.000000   62.549999 -0.000637         NaN   62.970001   \n",
       " ...                ...         ...       ...         ...         ...   \n",
       " 2020-10-05  139.649994  138.300003  0.009195    0.323947  138.720001   \n",
       " 2020-10-06  140.770004  138.809998  0.001578    0.323797  139.419998   \n",
       " 2020-10-07  141.389999  139.369995  0.007807    0.323470  140.080002   \n",
       " 2020-10-08  141.929993  140.360001  0.006752    0.323428  140.559998   \n",
       " 2020-10-09  143.639999  141.699997  0.008966    0.323533  141.839996   \n",
       " \n",
       "                  Close      Volume   Adj Close  \n",
       " Date                                            \n",
       " 2010-10-11   62.139999   7425200.0   45.275635  \n",
       " 2010-10-12   62.020000  24975000.0   45.188206  \n",
       " 2010-10-13   62.630001   9906000.0   45.632656  \n",
       " 2010-10-14   62.799999   8771400.0   45.756523  \n",
       " 2010-10-15   62.759998   9943500.0   45.727375  \n",
       " ...                ...         ...         ...  \n",
       " 2020-10-05  139.389999   6333900.0  138.620316  \n",
       " 2020-10-06  139.610001   6042900.0  138.839096  \n",
       " 2020-10-07  140.699997   4640900.0  139.923080  \n",
       " 2020-10-08  141.649994   4569800.0  140.867828  \n",
       " 2020-10-09  142.919998   6551700.0  142.130814  \n",
       " \n",
       " [2518 rows x 8 columns],\n",
       "               High     Low   returns  Volatility    Open   Close     Volume  \\\n",
       " Date                                                                          \n",
       " 2016-07-06  13.650  13.350       NaN         NaN  13.350  13.640    75800.0   \n",
       " 2016-07-07  13.800  13.270 -0.025220         NaN  13.650  13.296    51500.0   \n",
       " 2016-07-08  13.707  12.910  0.024368         NaN  13.320  13.620    36300.0   \n",
       " 2016-07-11  13.650  13.280 -0.017621         NaN  13.650  13.380    55700.0   \n",
       " 2016-07-12  13.520  13.000 -0.025411         NaN  13.400  13.040    52000.0   \n",
       " ...            ...     ...       ...         ...     ...     ...        ...   \n",
       " 2020-10-05  12.155  11.790  0.014456    0.600089  11.790  11.930   533000.0   \n",
       " 2020-10-06  12.840  12.040  0.010059    0.599724  12.300  12.050  1364000.0   \n",
       " 2020-10-07  12.200  11.765 -0.019917    0.600085  12.150  11.810  1330100.0   \n",
       " 2020-10-08  12.015  11.760  0.013548    0.599881  11.900  11.970   688900.0   \n",
       " 2020-10-09  12.550  12.170  0.048454    0.601643  12.295  12.550  1785500.0   \n",
       " \n",
       "             Adj Close  \n",
       " Date                   \n",
       " 2016-07-06  12.788130  \n",
       " 2016-07-07  12.465611  \n",
       " 2016-07-08  12.769378  \n",
       " 2016-07-11  12.544368  \n",
       " 2016-07-12  12.225601  \n",
       " ...               ...  \n",
       " 2020-10-05  11.891484  \n",
       " 2020-10-06  12.011097  \n",
       " 2020-10-07  11.771872  \n",
       " 2020-10-08  11.931355  \n",
       " 2020-10-09  12.509482  \n",
       " \n",
       " [1075 rows x 8 columns],\n",
       "                   High         Low   returns  Volatility        Open  \\\n",
       " Date                                                                   \n",
       " 2010-10-11   38.450001   37.900002       NaN         NaN   38.169998   \n",
       " 2010-10-12   38.759998   37.900002  0.015815         NaN   37.939999   \n",
       " 2010-10-13   39.860001   38.740002  0.018682         NaN   38.919998   \n",
       " 2010-10-14   39.610001   39.009998  0.004585         NaN   39.119999   \n",
       " 2010-10-15   39.799999   39.029999 -0.008874         NaN   39.750000   \n",
       " ...                ...         ...       ...         ...         ...   \n",
       " 2020-10-05  104.080002  102.269997  0.022439    0.586702  103.330002   \n",
       " 2020-10-06  105.290001  101.320000 -0.020502    0.587021  105.010002   \n",
       " 2020-10-07  104.150002  102.389999  0.015920    0.587169  102.809998   \n",
       " 2020-10-08  106.139999  104.059998  0.025924    0.587609  104.330002   \n",
       " 2020-10-09  107.209999  105.239998  0.002640    0.587533  105.989998   \n",
       " \n",
       "                  Close      Volume   Adj Close  \n",
       " Date                                            \n",
       " 2010-10-11   37.939999  10914000.0   32.574116  \n",
       " 2010-10-12   38.540001  19989300.0   33.089272  \n",
       " 2010-10-13   39.259998  19502400.0   33.707443  \n",
       " 2010-10-14   39.439999  14643600.0   33.861980  \n",
       " 2010-10-15   39.090000  14884400.0   33.561474  \n",
       " ...                ...         ...         ...  \n",
       " 2020-10-05  103.889999   2863200.0  103.096375  \n",
       " 2020-10-06  101.760002   3309200.0  100.982658  \n",
       " 2020-10-07  103.379997   3048400.0  102.590271  \n",
       " 2020-10-08  106.059998   2922600.0  105.689400  \n",
       " 2020-10-09  106.339996   3511300.0  105.968422  \n",
       " \n",
       " [2518 rows x 8 columns],\n",
       "                  High        Low   returns  Volatility       Open      Close  \\\n",
       " Date                                                                           \n",
       " 2014-01-23  26.500000  25.000000       NaN         NaN  25.750000  25.200001   \n",
       " 2014-01-24  25.280001  24.000000 -0.039286         NaN  25.280001  24.209999   \n",
       " 2014-01-27  24.990000  24.190001  0.024370         NaN  24.230000  24.799999   \n",
       " 2014-01-28  25.730000  24.430000  0.035887         NaN  24.639999  25.690001   \n",
       " 2014-01-29  25.799999  25.090000 -0.002725         NaN  25.290001  25.620001   \n",
       " ...               ...        ...       ...         ...        ...        ...   \n",
       " 2020-10-05  19.910000  19.420000  0.028557    0.740363  19.639999  19.809999   \n",
       " 2020-10-06  20.440001  19.230000 -0.028773    0.740876  20.340000  19.240000   \n",
       " 2020-10-07  19.910000  19.219999  0.007276    0.740614  19.490000  19.379999   \n",
       " 2020-10-08  19.809999  19.440001  0.017544    0.740724  19.639999  19.719999   \n",
       " 2020-10-09  20.139999  19.590000  0.011156    0.740776  19.930000  19.940001   \n",
       " \n",
       "                 Volume  Adj Close  \n",
       " Date                               \n",
       " 2014-01-23  34094000.0  22.321724  \n",
       " 2014-01-24   8034700.0  21.444796  \n",
       " 2014-01-27   3540900.0  21.967409  \n",
       " 2014-01-28   2766700.0  22.755762  \n",
       " 2014-01-29   2946100.0  22.693752  \n",
       " ...                ...        ...  \n",
       " 2020-10-05    650100.0  19.809999  \n",
       " 2020-10-06    642500.0  19.240000  \n",
       " 2020-10-07    715000.0  19.379999  \n",
       " 2020-10-08    702400.0  19.719999  \n",
       " 2020-10-09   2010600.0  19.940001  \n",
       " \n",
       " [1692 rows x 8 columns],\n",
       "                  High        Low   returns  Volatility       Open      Close  \\\n",
       " Date                                                                           \n",
       " 2010-10-11  54.007633  53.492367       NaN         NaN  53.826336  53.587788   \n",
       " 2010-10-12  53.635494  52.461830 -0.004630         NaN  52.996181  53.339695   \n",
       " 2010-10-13  55.820610  54.780533  0.032379         NaN  55.076336  55.066795   \n",
       " 2010-10-14  56.030533  54.303436 -0.003812         NaN  55.916031  54.856869   \n",
       " 2010-10-15  55.190842  53.482822 -0.014263         NaN  55.171757  54.074429   \n",
       " ...               ...        ...       ...         ...        ...        ...   \n",
       " 2020-10-05   8.710000   8.550000  0.023529    0.582111   8.560000   8.700000   \n",
       " 2020-10-06   9.200000   8.990000  0.035632    0.582927   9.070000   9.010000   \n",
       " 2020-10-07   9.270000   9.150000  0.024417    0.582833   9.180000   9.230000   \n",
       " 2020-10-08   9.400000   9.290000  0.014085    0.582972   9.370000   9.360000   \n",
       " 2020-10-09   9.390000   9.220000 -0.008547    0.582476   9.390000   9.280000   \n",
       " \n",
       "                Volume  Adj Close  \n",
       " Date                              \n",
       " 2010-10-11   793860.0  45.830193  \n",
       " 2010-10-12  1404634.0  45.618023  \n",
       " 2010-10-13  1400338.0  47.095097  \n",
       " 2010-10-14  2583425.0  46.915558  \n",
       " 2010-10-15  1485226.0  46.246395  \n",
       " ...               ...        ...  \n",
       " 2020-10-05  5380400.0   8.700000  \n",
       " 2020-10-06  7807200.0   9.010000  \n",
       " 2020-10-07  4203900.0   9.230000  \n",
       " 2020-10-08  4655000.0   9.360000  \n",
       " 2020-10-09  2246400.0   9.280000  \n",
       " \n",
       " [2518 rows x 8 columns],\n",
       "                  High        Low   returns  Volatility       Open      Close  \\\n",
       " Date                                                                           \n",
       " 2014-12-02  18.020000  17.879999       NaN         NaN  17.959999  18.000000   \n",
       " 2014-12-03  18.190001  18.080000  0.008889         NaN  18.129999  18.160000   \n",
       " 2014-12-04  18.219999  18.100000  0.000551         NaN  18.129999  18.170000   \n",
       " 2014-12-05  18.260000  18.090000  0.002752         NaN  18.170000  18.219999   \n",
       " 2014-12-08  18.129999  17.959999 -0.009879         NaN  18.080000  18.040001   \n",
       " ...               ...        ...       ...         ...        ...        ...   \n",
       " 2020-10-05  11.600000  11.490000  0.020282    0.474170  11.530000  11.570000   \n",
       " 2020-10-06  11.820000  11.570000  0.000864    0.474144  11.800000  11.580000   \n",
       " 2020-10-07  11.790000  11.660000  0.014680    0.474275  11.690000  11.750000   \n",
       " 2020-10-08  11.820000  11.700000  0.002553    0.474278  11.810000  11.780000   \n",
       " 2020-10-09  11.800000  11.596000 -0.009338    0.474022  11.800000  11.670000   \n",
       " \n",
       "                Volume  Adj Close  \n",
       " Date                              \n",
       " 2014-12-02   567400.0  14.266798  \n",
       " 2014-12-03   426100.0  14.393614  \n",
       " 2014-12-04   698800.0  14.401540  \n",
       " 2014-12-05   620400.0  14.441169  \n",
       " 2014-12-08   480200.0  14.298502  \n",
       " ...               ...        ...  \n",
       " 2020-10-05  2400200.0  11.279160  \n",
       " 2020-10-06  3395000.0  11.288909  \n",
       " 2020-10-07  2502700.0  11.454636  \n",
       " 2020-10-08  2430100.0  11.483882  \n",
       " 2020-10-09  2024800.0  11.376647  \n",
       " \n",
       " [1475 rows x 8 columns],\n",
       "                  High        Low   returns  Volatility       Open      Close  \\\n",
       " Date                                                                           \n",
       " 2010-10-11  13.250000  13.110000       NaN         NaN  13.200000  13.150000   \n",
       " 2010-10-12  13.530000  13.090000  0.028137         NaN  13.100000  13.520000   \n",
       " 2010-10-13  13.640000  13.250000 -0.017012         NaN  13.600000  13.290000   \n",
       " 2010-10-14  13.030000  12.420000 -0.051919         NaN  13.000000  12.600000   \n",
       " 2010-10-15  12.680000  11.740000 -0.049206         NaN  12.660000  11.980000   \n",
       " ...               ...        ...       ...         ...        ...        ...   \n",
       " 2020-10-05  24.709999  24.379999  0.016935    0.555642  24.520000  24.620001   \n",
       " 2020-10-06  25.190001  24.280001 -0.010154    0.555724  24.920000  24.370001   \n",
       " 2020-10-07  25.110001  24.600000  0.020927    0.555618  24.629999  24.879999   \n",
       " 2020-10-08  25.299999  24.809999  0.014469    0.555729  24.950001  25.240000   \n",
       " 2020-10-09  25.490000  25.040001  0.004754    0.555381  25.340000  25.360001   \n",
       " \n",
       "                  Volume  Adj Close  \n",
       " Date                                \n",
       " 2010-10-11  101283500.0  11.532122  \n",
       " 2010-10-12  136898300.0  11.856599  \n",
       " 2010-10-13  175054300.0  11.654898  \n",
       " 2010-10-14  511175200.0  11.049791  \n",
       " 2010-10-15  600410400.0  10.506070  \n",
       " ...                 ...        ...  \n",
       " 2020-10-05   44396800.0  24.467503  \n",
       " 2020-10-06   67541100.0  24.219051  \n",
       " 2020-10-07   47648000.0  24.725891  \n",
       " 2020-10-08   52080600.0  25.083662  \n",
       " 2020-10-09   44511500.0  25.202919  \n",
       " \n",
       " [2518 rows x 8 columns],\n",
       "                   High         Low   returns  Volatility        Open  \\\n",
       " Date                                                                   \n",
       " 2010-10-11   39.910000   39.400002       NaN         NaN   39.520000   \n",
       " 2010-10-12   40.490002   39.470001  0.016864         NaN   39.470001   \n",
       " 2010-10-13   40.720001   39.580002 -0.013861         NaN   40.660000   \n",
       " 2010-10-14   39.380001   38.099998 -0.028112         NaN   39.250000   \n",
       " 2010-10-15   38.939999   36.540001 -0.040548         NaN   38.869999   \n",
       " ...                ...         ...       ...         ...         ...   \n",
       " 2020-10-05   99.250000   97.529999  0.011748    0.516339   98.320000   \n",
       " 2020-10-06  100.860001   97.510002 -0.010299    0.516429  100.070000   \n",
       " 2020-10-07  100.349998   98.669998  0.017445    0.516267   98.959999   \n",
       " 2020-10-08  101.919998   99.900002  0.020555    0.516629  100.510002   \n",
       " 2020-10-09  102.110001  100.110001 -0.005699    0.516456  102.000000   \n",
       " \n",
       "                  Close       Volume   Adj Close  \n",
       " Date                                             \n",
       " 2010-10-11   39.730000   24601000.0   30.039925  \n",
       " 2010-10-12   40.400002   38798100.0   30.546518  \n",
       " 2010-10-13   39.840000   69607700.0   30.123104  \n",
       " 2010-10-14   38.720001   76504900.0   29.276266  \n",
       " 2010-10-15   37.150002  142280400.0   28.089188  \n",
       " ...                ...          ...         ...  \n",
       " 2020-10-05   99.040001   13871900.0   98.331841  \n",
       " 2020-10-06   98.019997   19220400.0   97.319130  \n",
       " 2020-10-07   99.730003   16358500.0   99.016914  \n",
       " 2020-10-08  101.779999   15659000.0  101.052246  \n",
       " 2020-10-09  101.199997   13689100.0  100.476395  \n",
       " \n",
       " [2518 rows x 8 columns]]"
      ]
     },
     "metadata": {},
     "execution_count": 28
    }
   ],
   "source": [
    "l_returns"
   ]
  },
  {
   "cell_type": "code",
   "execution_count": 29,
   "metadata": {},
   "outputs": [
    {
     "output_type": "stream",
     "name": "stdout",
     "text": [
      "[['AAPL', 0.24576212706845474], ['AMZN', 0.32878772362638664], ['MSFT', 0.21823741952413256], ['GOOG', 0.191378431933231], ['FB', 0.30161872761801845], ['NVDA', 0.4931171561846849], ['F', -0.011976915482311935], ['GM', 0.04088241949150044], ['HMC', -0.009170559827996482], ['TSLA', 0.5157369284319866], ['TYO', -0.10592633571589997], ['HOG', 0.044568829075491104], ['WMT', 0.09703322358290575], ['M', 0.008681139192578402], ['TGT', 0.11412148248236709], ['KSS', 0.006854575724160139], ['COST', 0.1674207351165724], ['BBY', 0.2622984487062406], ['KO', 0.06441514580167561], ['PEP', 0.07940352791222091], ['PG', 0.07725201668740694], ['OR', -0.06175039426047935], ['AXP', 0.14723187952081127], ['SC', 0.011489650389287712], ['DB', -0.14093138981130585], ['UBS', -0.0394967250395171], ['BAC', 0.18910217427914794], ['JPM', 0.15206171805688737]]\n"
     ]
    }
   ],
   "source": [
    "l_yearly_returns = []\n",
    "for company in companies:\n",
    "    company_pos=companies.index(company)\n",
    "    df_company_prices = pd.DataFrame(l_companies_prices[company_pos])\n",
    "    try:\n",
    "        df_yearly = df_company_prices[\"Close\"].resample('Y').first().pct_change()\n",
    "        \n",
    "        yearly_mean = df_yearly.mean()\n",
    "    except:\n",
    "        print( company)\n",
    "        print(df_company_prices)\n",
    "        yearly_mean = 0\n",
    "    l_yearly_returns.append([company,yearly_mean])\n",
    "print(l_yearly_returns)"
   ]
  },
  {
   "cell_type": "code",
   "execution_count": null,
   "metadata": {},
   "outputs": [],
   "source": []
  },
  {
   "cell_type": "markdown",
   "metadata": {
    "id": "9EVjuyTwybFN"
   },
   "source": [
    "## Prices - BUY"
   ]
  },
  {
   "cell_type": "code",
   "execution_count": 30,
   "metadata": {
    "executionInfo": {
     "elapsed": 18975,
     "status": "ok",
     "timestamp": 1609188910857,
     "user": {
      "displayName": "Daniel Dabdub",
      "photoUrl": "https://lh6.googleusercontent.com/-qKoV5H3Fw5M/AAAAAAAAAAI/AAAAAAAAZro/jARb9IjBWek/s64/photo.jpg",
      "userId": "06642504652143825936"
     },
     "user_tz": 360
    },
    "id": "kyz9eVdWOHiz"
   },
   "outputs": [],
   "source": [
    "#price when bought\n",
    "\n",
    "l_buy_prices=list()\n",
    "l_volatility=list()\n",
    "for index,row in transactions.iterrows():\n",
    "  comp=row['company']\n",
    "  buy_date=row['date_BUY_fix']\n",
    "  company_pos=companies.index(comp)\n",
    "  try:\n",
    "    price=l_companies_prices[company_pos].loc[buy_date,'Adj Close']\n",
    "    volatility= l_volatilities[company_pos].loc[buy_date, 'Volatility']\n",
    "  except :\n",
    "    price=0\n",
    "    \n",
    "\n",
    "  l_buy_prices.append(price)\n",
    "\n",
    "transactions['price_BUY']=l_buy_prices\n"
   ]
  },
  {
   "cell_type": "code",
   "execution_count": 31,
   "metadata": {},
   "outputs": [
    {
     "output_type": "stream",
     "name": "stdout",
     "text": [
      "38086\n"
     ]
    }
   ],
   "source": [
    "l_volatility_buy=list()\n",
    "for index,row in transactions.iterrows():\n",
    "  comp=row['company']\n",
    "  buy_date=row['date_BUY_fix']\n",
    "  company_pos=companies.index(comp)\n",
    "  try:\n",
    "    volatility= l_volatilities[company_pos].loc[buy_date, 'Volatility']\n",
    "  except :\n",
    "    volatility=0\n",
    "  l_volatility_buy.append(volatility)\n",
    "print(len(l_volatility_buy))\n",
    "\n",
    "\n",
    "transactions['Volatility_Buy'] = l_volatility_buy"
   ]
  },
  {
   "cell_type": "markdown",
   "metadata": {
    "id": "SN8AKEpjzWON"
   },
   "source": [
    "## Dates - SELL"
   ]
  },
  {
   "cell_type": "code",
   "execution_count": 32,
   "metadata": {
    "executionInfo": {
     "elapsed": 22996,
     "status": "ok",
     "timestamp": 1609188914886,
     "user": {
      "displayName": "Daniel Dabdub",
      "photoUrl": "https://lh6.googleusercontent.com/-qKoV5H3Fw5M/AAAAAAAAAAI/AAAAAAAAZro/jARb9IjBWek/s64/photo.jpg",
      "userId": "06642504652143825936"
     },
     "user_tz": 360
    },
    "id": "q7tjX_-KHWxc"
   },
   "outputs": [],
   "source": [
    "#random sell date\n",
    "dates_SELL=list()\n",
    "expected_return = list()\n",
    "\n",
    "for index,row in transactions.iterrows():\n",
    "  comp=row['company']\n",
    "  company_pos=companies.index(comp)\n",
    "  buy_date = row['date_BUY_fix']\n",
    "  sell_date = buy_date + datetime.timedelta(row['horizon'])\n",
    "  expected_return.append(row['horizon']/365 * l_yearly_returns[company_pos][1])\n",
    "  \n",
    "  dates_SELL.append(sell_date)\n",
    "\n",
    "transactions['expected_return (yearly)'] = expected_return\n",
    "transactions['date_SELL']=dates_SELL"
   ]
  },
  {
   "cell_type": "markdown",
   "metadata": {
    "id": "tBEde7euzZOO"
   },
   "source": [
    "### Fixing dates (SELL)"
   ]
  },
  {
   "cell_type": "code",
   "execution_count": 33,
   "metadata": {
    "executionInfo": {
     "elapsed": 22991,
     "status": "ok",
     "timestamp": 1609188914889,
     "user": {
      "displayName": "Daniel Dabdub",
      "photoUrl": "https://lh6.googleusercontent.com/-qKoV5H3Fw5M/AAAAAAAAAAI/AAAAAAAAZro/jARb9IjBWek/s64/photo.jpg",
      "userId": "06642504652143825936"
     },
     "user_tz": 360
    },
    "id": "8xQv21va0AGb"
   },
   "outputs": [],
   "source": [
    "day_names=list()\n",
    "\n",
    "\n",
    "\n",
    "for d in dates_SELL:\n",
    "\n",
    "  # dt = datetime.datetime.strptime(d, '%Y-%m-%d')\n",
    "  weekno=d.weekday()\n",
    "\n",
    "  if weekno == 0:\n",
    "    dia='Mon'\n",
    "    day_names.append(dia)\n",
    "  elif weekno==1:\n",
    "    dia='Tue'\n",
    "    day_names.append(dia)\n",
    "  elif weekno==2:\n",
    "    dia='Wed'\n",
    "    day_names.append(dia)\n",
    "  elif weekno==3:\n",
    "    dia='Thu'\n",
    "    day_names.append(dia)\n",
    "  elif weekno==4:\n",
    "    dia='Fri'\n",
    "    day_names.append(dia)\n",
    "  elif weekno==5:\n",
    "    dia='Sat'\n",
    "    day_names.append(dia)\n",
    "  elif weekno==6:\n",
    "    dia='Sun'\n",
    "    day_names.append(dia)\n",
    "\n",
    "transactions['day_SELL']=day_names\n"
   ]
  },
  {
   "cell_type": "code",
   "execution_count": 34,
   "metadata": {
    "executionInfo": {
     "elapsed": 27213,
     "status": "ok",
     "timestamp": 1609188919119,
     "user": {
      "displayName": "Daniel Dabdub",
      "photoUrl": "https://lh6.googleusercontent.com/-qKoV5H3Fw5M/AAAAAAAAAAI/AAAAAAAAZro/jARb9IjBWek/s64/photo.jpg",
      "userId": "06642504652143825936"
     },
     "user_tz": 360
    },
    "id": "rKB4tani0AGc"
   },
   "outputs": [],
   "source": [
    "dates2_SELL=list()\n",
    "days2_SELL=list()\n",
    "\n",
    "#if date is saturday, we are going to push it to friday\n",
    "#if date is sunday, we are going to push it to monday\n",
    "\n",
    "for index,row in transactions.iterrows():\n",
    "  SELL_date = row['date_SELL']\n",
    "  if row['day_SELL']=='Sat':\n",
    "    SELL_date2 = SELL_date - datetime.timedelta(1)\n",
    "    dates2_SELL.append(SELL_date2)\n",
    "\n",
    "    SELL_day2='Fri'\n",
    "    days2_SELL.append(SELL_day2)\n",
    "  elif row['day_SELL']=='Sun':\n",
    "    SELL_date = row['date_SELL']\n",
    "    SELL_date2 = SELL_date + datetime.timedelta(1)\n",
    "    dates2_SELL.append(SELL_date2)\n",
    "\n",
    "    SELL_day2='Mon'\n",
    "    days2_SELL.append(SELL_day2)\n",
    "  else:\n",
    "    SELL_date2=SELL_date\n",
    "    dates2_SELL.append(SELL_date2)\n",
    "    SELL_day2=row['day_SELL']\n",
    "    days2_SELL.append(SELL_day2)\n",
    "\n",
    "\n",
    "transactions['date_SELL_fix']=dates2_SELL\n",
    "transactions['day_SELL_fix']=days2_SELL\n",
    "\n",
    "# transactions=weekend2weekday(transactions,'date_BUY','day_BUY' )"
   ]
  },
  {
   "cell_type": "code",
   "execution_count": 35,
   "metadata": {},
   "outputs": [
    {
     "output_type": "stream",
     "name": "stdout",
     "text": [
      "38086\n"
     ]
    }
   ],
   "source": [
    "l_sharpe=list()\n",
    "for index,row in transactions.iterrows():\n",
    "  comp=row['company']\n",
    "  buy_date=row['date_BUY_fix']\n",
    "  company_pos=companies.index(comp)\n",
    "  r = l_returns\n",
    "  try:\n",
    "    df_company_returns = pd.DataFrame(l_returns[company_pos])\n",
    "    r=df_company_returns[\"returns\"]\n",
    "    sr = r.mean()/r.std() * np.sqrt(252)\n",
    "    sr= l_volatilities[company_pos].loc[buy_date, 'Volatility']\n",
    "  except :\n",
    "    sr=0\n",
    "  l_sharpe.append(sr)\n",
    "print(len(l_sharpe))\n",
    "\n",
    "\n",
    "transactions['Sharpe Ratio'] = l_sharpe"
   ]
  },
  {
   "cell_type": "code",
   "execution_count": 36,
   "metadata": {
    "colab": {
     "base_uri": "https://localhost:8080/",
     "height": 406
    },
    "executionInfo": {
     "elapsed": 27202,
     "status": "ok",
     "timestamp": 1609188919124,
     "user": {
      "displayName": "Daniel Dabdub",
      "photoUrl": "https://lh6.googleusercontent.com/-qKoV5H3Fw5M/AAAAAAAAAAI/AAAAAAAAZro/jARb9IjBWek/s64/photo.jpg",
      "userId": "06642504652143825936"
     },
     "user_tz": 360
    },
    "id": "NtAyWy_J1GcZ",
    "outputId": "e6899ca2-ed34-4404-c08c-9b3378b7502d"
   },
   "outputs": [
    {
     "output_type": "execute_result",
     "data": {
      "text/plain": [
       "          id company  sector  horizon  amount    date_BUY day_BUY  \\\n",
       "0          1    COST  RETAIL        6      50  2014-08-20     Wed   \n",
       "1          2    NVDA    TECH       20   50000  2017-07-13     Thu   \n",
       "2          3      SC    BANK        1    4000  2014-02-23     Sun   \n",
       "3          4     UBS    BANK       70     300  2018-07-17     Tue   \n",
       "4          5    COST  RETAIL      540   15000  2016-01-23     Sat   \n",
       "...      ...     ...     ...      ...     ...         ...     ...   \n",
       "39995  39996      KO    FMCG        6     200  2018-04-09     Mon   \n",
       "39996  39997      OR    FMCG      100     500  2014-03-25     Tue   \n",
       "39997  39998      SC    BANK      720    4000  2018-06-02     Sat   \n",
       "39998  39999     KSS  RETAIL       30   20000  2018-07-08     Sun   \n",
       "39999  40000    AMZN    TECH      600     100  2014-12-31     Wed   \n",
       "\n",
       "      date_BUY_fix day_BUY_fix holiday_BUY   price_BUY  Volatility_Buy  \\\n",
       "0       2014-08-20         Wed              102.729012        0.140189   \n",
       "1       2017-07-13         Thu              159.046402        0.480400   \n",
       "2       2014-02-24         Mon               22.392588             NaN   \n",
       "3       2018-07-17         Tue               13.538271        0.183884   \n",
       "4       2016-01-22         Fri              136.678223        0.189292   \n",
       "...            ...         ...         ...         ...             ...   \n",
       "39995   2018-04-09         Mon               40.055370        0.118334   \n",
       "39996   2014-03-25         Tue                0.000000        0.000000   \n",
       "39997   2018-06-01         Fri               16.488749        0.295024   \n",
       "39998   2018-07-09         Mon               64.041969        0.343276   \n",
       "39999   2014-12-31         Wed              310.350006        0.328237   \n",
       "\n",
       "       expected_return (yearly)  date_SELL day_SELL date_SELL_fix  \\\n",
       "0                      0.002752 2014-08-26      Tue    2014-08-26   \n",
       "1                      0.027020 2017-08-02      Wed    2017-08-02   \n",
       "2                      0.000031 2014-02-25      Tue    2014-02-25   \n",
       "3                     -0.007575 2018-09-25      Tue    2018-09-25   \n",
       "4                      0.247691 2017-07-15      Sat    2017-07-14   \n",
       "...                         ...        ...      ...           ...   \n",
       "39995                  0.001059 2018-04-15      Sun    2018-04-16   \n",
       "39996                 -0.016918 2014-07-03      Thu    2014-07-03   \n",
       "39997                  0.022665 2020-05-21      Thu    2020-05-21   \n",
       "39998                  0.000563 2018-08-08      Wed    2018-08-08   \n",
       "39999                  0.540473 2016-08-22      Mon    2016-08-22   \n",
       "\n",
       "      day_SELL_fix  Sharpe Ratio  \n",
       "0              Tue      0.140189  \n",
       "1              Wed      0.480400  \n",
       "2              Tue           NaN  \n",
       "3              Tue      0.183884  \n",
       "4              Fri      0.189292  \n",
       "...            ...           ...  \n",
       "39995          Mon      0.118334  \n",
       "39996          Thu      0.000000  \n",
       "39997          Thu      0.295024  \n",
       "39998          Wed      0.343276  \n",
       "39999          Mon      0.328237  \n",
       "\n",
       "[38086 rows x 18 columns]"
      ],
      "text/html": "<div>\n<style scoped>\n    .dataframe tbody tr th:only-of-type {\n        vertical-align: middle;\n    }\n\n    .dataframe tbody tr th {\n        vertical-align: top;\n    }\n\n    .dataframe thead th {\n        text-align: right;\n    }\n</style>\n<table border=\"1\" class=\"dataframe\">\n  <thead>\n    <tr style=\"text-align: right;\">\n      <th></th>\n      <th>id</th>\n      <th>company</th>\n      <th>sector</th>\n      <th>horizon</th>\n      <th>amount</th>\n      <th>date_BUY</th>\n      <th>day_BUY</th>\n      <th>date_BUY_fix</th>\n      <th>day_BUY_fix</th>\n      <th>holiday_BUY</th>\n      <th>price_BUY</th>\n      <th>Volatility_Buy</th>\n      <th>expected_return (yearly)</th>\n      <th>date_SELL</th>\n      <th>day_SELL</th>\n      <th>date_SELL_fix</th>\n      <th>day_SELL_fix</th>\n      <th>Sharpe Ratio</th>\n    </tr>\n  </thead>\n  <tbody>\n    <tr>\n      <th>0</th>\n      <td>1</td>\n      <td>COST</td>\n      <td>RETAIL</td>\n      <td>6</td>\n      <td>50</td>\n      <td>2014-08-20</td>\n      <td>Wed</td>\n      <td>2014-08-20</td>\n      <td>Wed</td>\n      <td></td>\n      <td>102.729012</td>\n      <td>0.140189</td>\n      <td>0.002752</td>\n      <td>2014-08-26</td>\n      <td>Tue</td>\n      <td>2014-08-26</td>\n      <td>Tue</td>\n      <td>0.140189</td>\n    </tr>\n    <tr>\n      <th>1</th>\n      <td>2</td>\n      <td>NVDA</td>\n      <td>TECH</td>\n      <td>20</td>\n      <td>50000</td>\n      <td>2017-07-13</td>\n      <td>Thu</td>\n      <td>2017-07-13</td>\n      <td>Thu</td>\n      <td></td>\n      <td>159.046402</td>\n      <td>0.480400</td>\n      <td>0.027020</td>\n      <td>2017-08-02</td>\n      <td>Wed</td>\n      <td>2017-08-02</td>\n      <td>Wed</td>\n      <td>0.480400</td>\n    </tr>\n    <tr>\n      <th>2</th>\n      <td>3</td>\n      <td>SC</td>\n      <td>BANK</td>\n      <td>1</td>\n      <td>4000</td>\n      <td>2014-02-23</td>\n      <td>Sun</td>\n      <td>2014-02-24</td>\n      <td>Mon</td>\n      <td></td>\n      <td>22.392588</td>\n      <td>NaN</td>\n      <td>0.000031</td>\n      <td>2014-02-25</td>\n      <td>Tue</td>\n      <td>2014-02-25</td>\n      <td>Tue</td>\n      <td>NaN</td>\n    </tr>\n    <tr>\n      <th>3</th>\n      <td>4</td>\n      <td>UBS</td>\n      <td>BANK</td>\n      <td>70</td>\n      <td>300</td>\n      <td>2018-07-17</td>\n      <td>Tue</td>\n      <td>2018-07-17</td>\n      <td>Tue</td>\n      <td></td>\n      <td>13.538271</td>\n      <td>0.183884</td>\n      <td>-0.007575</td>\n      <td>2018-09-25</td>\n      <td>Tue</td>\n      <td>2018-09-25</td>\n      <td>Tue</td>\n      <td>0.183884</td>\n    </tr>\n    <tr>\n      <th>4</th>\n      <td>5</td>\n      <td>COST</td>\n      <td>RETAIL</td>\n      <td>540</td>\n      <td>15000</td>\n      <td>2016-01-23</td>\n      <td>Sat</td>\n      <td>2016-01-22</td>\n      <td>Fri</td>\n      <td></td>\n      <td>136.678223</td>\n      <td>0.189292</td>\n      <td>0.247691</td>\n      <td>2017-07-15</td>\n      <td>Sat</td>\n      <td>2017-07-14</td>\n      <td>Fri</td>\n      <td>0.189292</td>\n    </tr>\n    <tr>\n      <th>...</th>\n      <td>...</td>\n      <td>...</td>\n      <td>...</td>\n      <td>...</td>\n      <td>...</td>\n      <td>...</td>\n      <td>...</td>\n      <td>...</td>\n      <td>...</td>\n      <td>...</td>\n      <td>...</td>\n      <td>...</td>\n      <td>...</td>\n      <td>...</td>\n      <td>...</td>\n      <td>...</td>\n      <td>...</td>\n      <td>...</td>\n    </tr>\n    <tr>\n      <th>39995</th>\n      <td>39996</td>\n      <td>KO</td>\n      <td>FMCG</td>\n      <td>6</td>\n      <td>200</td>\n      <td>2018-04-09</td>\n      <td>Mon</td>\n      <td>2018-04-09</td>\n      <td>Mon</td>\n      <td></td>\n      <td>40.055370</td>\n      <td>0.118334</td>\n      <td>0.001059</td>\n      <td>2018-04-15</td>\n      <td>Sun</td>\n      <td>2018-04-16</td>\n      <td>Mon</td>\n      <td>0.118334</td>\n    </tr>\n    <tr>\n      <th>39996</th>\n      <td>39997</td>\n      <td>OR</td>\n      <td>FMCG</td>\n      <td>100</td>\n      <td>500</td>\n      <td>2014-03-25</td>\n      <td>Tue</td>\n      <td>2014-03-25</td>\n      <td>Tue</td>\n      <td></td>\n      <td>0.000000</td>\n      <td>0.000000</td>\n      <td>-0.016918</td>\n      <td>2014-07-03</td>\n      <td>Thu</td>\n      <td>2014-07-03</td>\n      <td>Thu</td>\n      <td>0.000000</td>\n    </tr>\n    <tr>\n      <th>39997</th>\n      <td>39998</td>\n      <td>SC</td>\n      <td>BANK</td>\n      <td>720</td>\n      <td>4000</td>\n      <td>2018-06-02</td>\n      <td>Sat</td>\n      <td>2018-06-01</td>\n      <td>Fri</td>\n      <td></td>\n      <td>16.488749</td>\n      <td>0.295024</td>\n      <td>0.022665</td>\n      <td>2020-05-21</td>\n      <td>Thu</td>\n      <td>2020-05-21</td>\n      <td>Thu</td>\n      <td>0.295024</td>\n    </tr>\n    <tr>\n      <th>39998</th>\n      <td>39999</td>\n      <td>KSS</td>\n      <td>RETAIL</td>\n      <td>30</td>\n      <td>20000</td>\n      <td>2018-07-08</td>\n      <td>Sun</td>\n      <td>2018-07-09</td>\n      <td>Mon</td>\n      <td></td>\n      <td>64.041969</td>\n      <td>0.343276</td>\n      <td>0.000563</td>\n      <td>2018-08-08</td>\n      <td>Wed</td>\n      <td>2018-08-08</td>\n      <td>Wed</td>\n      <td>0.343276</td>\n    </tr>\n    <tr>\n      <th>39999</th>\n      <td>40000</td>\n      <td>AMZN</td>\n      <td>TECH</td>\n      <td>600</td>\n      <td>100</td>\n      <td>2014-12-31</td>\n      <td>Wed</td>\n      <td>2014-12-31</td>\n      <td>Wed</td>\n      <td></td>\n      <td>310.350006</td>\n      <td>0.328237</td>\n      <td>0.540473</td>\n      <td>2016-08-22</td>\n      <td>Mon</td>\n      <td>2016-08-22</td>\n      <td>Mon</td>\n      <td>0.328237</td>\n    </tr>\n  </tbody>\n</table>\n<p>38086 rows × 18 columns</p>\n</div>"
     },
     "metadata": {},
     "execution_count": 36
    }
   ],
   "source": [
    "transactions"
   ]
  },
  {
   "cell_type": "code",
   "execution_count": 37,
   "metadata": {
    "executionInfo": {
     "elapsed": 29566,
     "status": "ok",
     "timestamp": 1609188921500,
     "user": {
      "displayName": "Daniel Dabdub",
      "photoUrl": "https://lh6.googleusercontent.com/-qKoV5H3Fw5M/AAAAAAAAAAI/AAAAAAAAZro/jARb9IjBWek/s64/photo.jpg",
      "userId": "06642504652143825936"
     },
     "user_tz": 360
    },
    "id": "eeaj5M8p0AGd"
   },
   "outputs": [],
   "source": [
    "#checking for holidays (NYSE, NASDAQ is closed)\n",
    "cal = USFederalHolidayCalendar()\n",
    "holidays = cal.holidays(start='2010-10-10', end='2020-10-10').to_pydatetime()\n",
    "# if datetime.datetime(2014,01,01) in holidays:\n",
    "#     print True \n",
    "\n",
    "l_holidays=list()\n",
    "for d in dates2_SELL:\n",
    "  if d in holidays:\n",
    "    holiday='Holiday'\n",
    "    l_holidays.append(holiday)\n",
    "\n",
    "  else:\n",
    "    holiday=''\n",
    "    l_holidays.append(holiday)\n",
    "\n",
    "transactions['holiday_SELL']=l_holidays"
   ]
  },
  {
   "cell_type": "markdown",
   "metadata": {
    "id": "dPCAZSku2UZv"
   },
   "source": [
    "## Prices - SELL"
   ]
  },
  {
   "cell_type": "code",
   "execution_count": 38,
   "metadata": {
    "executionInfo": {
     "elapsed": 34374,
     "status": "ok",
     "timestamp": 1609188926315,
     "user": {
      "displayName": "Daniel Dabdub",
      "photoUrl": "https://lh6.googleusercontent.com/-qKoV5H3Fw5M/AAAAAAAAAAI/AAAAAAAAZro/jARb9IjBWek/s64/photo.jpg",
      "userId": "06642504652143825936"
     },
     "user_tz": 360
    },
    "id": "aiHO2dB-2UZy"
   },
   "outputs": [],
   "source": [
    "#price when sold\n",
    "\n",
    "l_sell_prices=list()\n",
    "for index,row in transactions.iterrows():\n",
    "  comp=row['company']\n",
    "  sell_date=row['date_SELL_fix']\n",
    "  company_pos=companies.index(comp)\n",
    "  try:\n",
    "    price=l_companies_prices[company_pos].loc[sell_date,'Adj Close']\n",
    "  except :\n",
    "    price=0\n",
    "\n",
    "  l_sell_prices.append(price)\n",
    "\n",
    "transactions['price_SELL']=l_sell_prices\n"
   ]
  },
  {
   "cell_type": "code",
   "execution_count": 39,
   "metadata": {},
   "outputs": [],
   "source": [
    "l_volatility_sell=list()\n",
    "for index,row in transactions.iterrows():\n",
    "  comp=row['company']\n",
    "  sell_date=row['date_SELL_fix']\n",
    "  company_pos=companies.index(comp)\n",
    "  try:\n",
    "    volatility=l_volatilities[company_pos].loc[sell_date,'Volatility']\n",
    "  except :\n",
    "    volatility=0\n",
    "\n",
    "  l_volatility_sell.append(volatility)\n",
    "\n",
    "transactions['Volatility_sell']=l_volatility_sell"
   ]
  },
  {
   "cell_type": "code",
   "execution_count": 40,
   "metadata": {
    "executionInfo": {
     "elapsed": 34374,
     "status": "ok",
     "timestamp": 1609188926324,
     "user": {
      "displayName": "Daniel Dabdub",
      "photoUrl": "https://lh6.googleusercontent.com/-qKoV5H3Fw5M/AAAAAAAAAAI/AAAAAAAAZro/jARb9IjBWek/s64/photo.jpg",
      "userId": "06642504652143825936"
     },
     "user_tz": 360
    },
    "id": "ris0TnWH0AGf"
   },
   "outputs": [],
   "source": [
    "transactions_h=transactions[transactions.holiday_SELL=='Holiday']\n",
    "\n",
    "transactions=transactions[transactions.holiday_SELL!='Holiday']"
   ]
  },
  {
   "cell_type": "code",
   "execution_count": 41,
   "metadata": {
    "colab": {
     "base_uri": "https://localhost:8080/",
     "height": 593
    },
    "executionInfo": {
     "elapsed": 34363,
     "status": "ok",
     "timestamp": 1609188926326,
     "user": {
      "displayName": "Daniel Dabdub",
      "photoUrl": "https://lh6.googleusercontent.com/-qKoV5H3Fw5M/AAAAAAAAAAI/AAAAAAAAZro/jARb9IjBWek/s64/photo.jpg",
      "userId": "06642504652143825936"
     },
     "user_tz": 360
    },
    "id": "NGLjROHC1p0r",
    "outputId": "ecaa5c8a-6142-445a-83d2-7647546f4f0a"
   },
   "outputs": [
    {
     "output_type": "execute_result",
     "data": {
      "text/plain": [
       "          id company  sector  horizon  amount    date_BUY day_BUY  \\\n",
       "0          1    COST  RETAIL        6      50  2014-08-20     Wed   \n",
       "1          2    NVDA    TECH       20   50000  2017-07-13     Thu   \n",
       "2          3      SC    BANK        1    4000  2014-02-23     Sun   \n",
       "3          4     UBS    BANK       70     300  2018-07-17     Tue   \n",
       "4          5    COST  RETAIL      540   15000  2016-01-23     Sat   \n",
       "...      ...     ...     ...      ...     ...         ...     ...   \n",
       "39995  39996      KO    FMCG        6     200  2018-04-09     Mon   \n",
       "39996  39997      OR    FMCG      100     500  2014-03-25     Tue   \n",
       "39997  39998      SC    BANK      720    4000  2018-06-02     Sat   \n",
       "39998  39999     KSS  RETAIL       30   20000  2018-07-08     Sun   \n",
       "39999  40000    AMZN    TECH      600     100  2014-12-31     Wed   \n",
       "\n",
       "      date_BUY_fix day_BUY_fix holiday_BUY  ...  Volatility_Buy  \\\n",
       "0       2014-08-20         Wed              ...        0.140189   \n",
       "1       2017-07-13         Thu              ...        0.480400   \n",
       "2       2014-02-24         Mon              ...             NaN   \n",
       "3       2018-07-17         Tue              ...        0.183884   \n",
       "4       2016-01-22         Fri              ...        0.189292   \n",
       "...            ...         ...         ...  ...             ...   \n",
       "39995   2018-04-09         Mon              ...        0.118334   \n",
       "39996   2014-03-25         Tue              ...        0.000000   \n",
       "39997   2018-06-01         Fri              ...        0.295024   \n",
       "39998   2018-07-09         Mon              ...        0.343276   \n",
       "39999   2014-12-31         Wed              ...        0.328237   \n",
       "\n",
       "       expected_return (yearly)  date_SELL day_SELL date_SELL_fix  \\\n",
       "0                      0.002752 2014-08-26      Tue    2014-08-26   \n",
       "1                      0.027020 2017-08-02      Wed    2017-08-02   \n",
       "2                      0.000031 2014-02-25      Tue    2014-02-25   \n",
       "3                     -0.007575 2018-09-25      Tue    2018-09-25   \n",
       "4                      0.247691 2017-07-15      Sat    2017-07-14   \n",
       "...                         ...        ...      ...           ...   \n",
       "39995                  0.001059 2018-04-15      Sun    2018-04-16   \n",
       "39996                 -0.016918 2014-07-03      Thu    2014-07-03   \n",
       "39997                  0.022665 2020-05-21      Thu    2020-05-21   \n",
       "39998                  0.000563 2018-08-08      Wed    2018-08-08   \n",
       "39999                  0.540473 2016-08-22      Mon    2016-08-22   \n",
       "\n",
       "      day_SELL_fix Sharpe Ratio  holiday_SELL  price_SELL  Volatility_sell  \n",
       "0              Tue     0.140189                102.881935         0.139495  \n",
       "1              Wed     0.480400                162.769318         0.480988  \n",
       "2              Tue          NaN                 22.197718              NaN  \n",
       "3              Tue     0.183884                 14.554310         0.191189  \n",
       "4              Fri     0.189292                143.991989         0.169758  \n",
       "...            ...          ...           ...         ...              ...  \n",
       "39995          Mon     0.118334                 40.832153         0.118675  \n",
       "39996          Thu     0.000000                  0.000000         0.000000  \n",
       "39997          Thu     0.295024                 15.403497         0.681867  \n",
       "39998          Wed     0.343276                 67.070129         0.340844  \n",
       "39999          Mon     0.328237                759.479980         0.326089  \n",
       "\n",
       "[36314 rows x 21 columns]"
      ],
      "text/html": "<div>\n<style scoped>\n    .dataframe tbody tr th:only-of-type {\n        vertical-align: middle;\n    }\n\n    .dataframe tbody tr th {\n        vertical-align: top;\n    }\n\n    .dataframe thead th {\n        text-align: right;\n    }\n</style>\n<table border=\"1\" class=\"dataframe\">\n  <thead>\n    <tr style=\"text-align: right;\">\n      <th></th>\n      <th>id</th>\n      <th>company</th>\n      <th>sector</th>\n      <th>horizon</th>\n      <th>amount</th>\n      <th>date_BUY</th>\n      <th>day_BUY</th>\n      <th>date_BUY_fix</th>\n      <th>day_BUY_fix</th>\n      <th>holiday_BUY</th>\n      <th>...</th>\n      <th>Volatility_Buy</th>\n      <th>expected_return (yearly)</th>\n      <th>date_SELL</th>\n      <th>day_SELL</th>\n      <th>date_SELL_fix</th>\n      <th>day_SELL_fix</th>\n      <th>Sharpe Ratio</th>\n      <th>holiday_SELL</th>\n      <th>price_SELL</th>\n      <th>Volatility_sell</th>\n    </tr>\n  </thead>\n  <tbody>\n    <tr>\n      <th>0</th>\n      <td>1</td>\n      <td>COST</td>\n      <td>RETAIL</td>\n      <td>6</td>\n      <td>50</td>\n      <td>2014-08-20</td>\n      <td>Wed</td>\n      <td>2014-08-20</td>\n      <td>Wed</td>\n      <td></td>\n      <td>...</td>\n      <td>0.140189</td>\n      <td>0.002752</td>\n      <td>2014-08-26</td>\n      <td>Tue</td>\n      <td>2014-08-26</td>\n      <td>Tue</td>\n      <td>0.140189</td>\n      <td></td>\n      <td>102.881935</td>\n      <td>0.139495</td>\n    </tr>\n    <tr>\n      <th>1</th>\n      <td>2</td>\n      <td>NVDA</td>\n      <td>TECH</td>\n      <td>20</td>\n      <td>50000</td>\n      <td>2017-07-13</td>\n      <td>Thu</td>\n      <td>2017-07-13</td>\n      <td>Thu</td>\n      <td></td>\n      <td>...</td>\n      <td>0.480400</td>\n      <td>0.027020</td>\n      <td>2017-08-02</td>\n      <td>Wed</td>\n      <td>2017-08-02</td>\n      <td>Wed</td>\n      <td>0.480400</td>\n      <td></td>\n      <td>162.769318</td>\n      <td>0.480988</td>\n    </tr>\n    <tr>\n      <th>2</th>\n      <td>3</td>\n      <td>SC</td>\n      <td>BANK</td>\n      <td>1</td>\n      <td>4000</td>\n      <td>2014-02-23</td>\n      <td>Sun</td>\n      <td>2014-02-24</td>\n      <td>Mon</td>\n      <td></td>\n      <td>...</td>\n      <td>NaN</td>\n      <td>0.000031</td>\n      <td>2014-02-25</td>\n      <td>Tue</td>\n      <td>2014-02-25</td>\n      <td>Tue</td>\n      <td>NaN</td>\n      <td></td>\n      <td>22.197718</td>\n      <td>NaN</td>\n    </tr>\n    <tr>\n      <th>3</th>\n      <td>4</td>\n      <td>UBS</td>\n      <td>BANK</td>\n      <td>70</td>\n      <td>300</td>\n      <td>2018-07-17</td>\n      <td>Tue</td>\n      <td>2018-07-17</td>\n      <td>Tue</td>\n      <td></td>\n      <td>...</td>\n      <td>0.183884</td>\n      <td>-0.007575</td>\n      <td>2018-09-25</td>\n      <td>Tue</td>\n      <td>2018-09-25</td>\n      <td>Tue</td>\n      <td>0.183884</td>\n      <td></td>\n      <td>14.554310</td>\n      <td>0.191189</td>\n    </tr>\n    <tr>\n      <th>4</th>\n      <td>5</td>\n      <td>COST</td>\n      <td>RETAIL</td>\n      <td>540</td>\n      <td>15000</td>\n      <td>2016-01-23</td>\n      <td>Sat</td>\n      <td>2016-01-22</td>\n      <td>Fri</td>\n      <td></td>\n      <td>...</td>\n      <td>0.189292</td>\n      <td>0.247691</td>\n      <td>2017-07-15</td>\n      <td>Sat</td>\n      <td>2017-07-14</td>\n      <td>Fri</td>\n      <td>0.189292</td>\n      <td></td>\n      <td>143.991989</td>\n      <td>0.169758</td>\n    </tr>\n    <tr>\n      <th>...</th>\n      <td>...</td>\n      <td>...</td>\n      <td>...</td>\n      <td>...</td>\n      <td>...</td>\n      <td>...</td>\n      <td>...</td>\n      <td>...</td>\n      <td>...</td>\n      <td>...</td>\n      <td>...</td>\n      <td>...</td>\n      <td>...</td>\n      <td>...</td>\n      <td>...</td>\n      <td>...</td>\n      <td>...</td>\n      <td>...</td>\n      <td>...</td>\n      <td>...</td>\n      <td>...</td>\n    </tr>\n    <tr>\n      <th>39995</th>\n      <td>39996</td>\n      <td>KO</td>\n      <td>FMCG</td>\n      <td>6</td>\n      <td>200</td>\n      <td>2018-04-09</td>\n      <td>Mon</td>\n      <td>2018-04-09</td>\n      <td>Mon</td>\n      <td></td>\n      <td>...</td>\n      <td>0.118334</td>\n      <td>0.001059</td>\n      <td>2018-04-15</td>\n      <td>Sun</td>\n      <td>2018-04-16</td>\n      <td>Mon</td>\n      <td>0.118334</td>\n      <td></td>\n      <td>40.832153</td>\n      <td>0.118675</td>\n    </tr>\n    <tr>\n      <th>39996</th>\n      <td>39997</td>\n      <td>OR</td>\n      <td>FMCG</td>\n      <td>100</td>\n      <td>500</td>\n      <td>2014-03-25</td>\n      <td>Tue</td>\n      <td>2014-03-25</td>\n      <td>Tue</td>\n      <td></td>\n      <td>...</td>\n      <td>0.000000</td>\n      <td>-0.016918</td>\n      <td>2014-07-03</td>\n      <td>Thu</td>\n      <td>2014-07-03</td>\n      <td>Thu</td>\n      <td>0.000000</td>\n      <td></td>\n      <td>0.000000</td>\n      <td>0.000000</td>\n    </tr>\n    <tr>\n      <th>39997</th>\n      <td>39998</td>\n      <td>SC</td>\n      <td>BANK</td>\n      <td>720</td>\n      <td>4000</td>\n      <td>2018-06-02</td>\n      <td>Sat</td>\n      <td>2018-06-01</td>\n      <td>Fri</td>\n      <td></td>\n      <td>...</td>\n      <td>0.295024</td>\n      <td>0.022665</td>\n      <td>2020-05-21</td>\n      <td>Thu</td>\n      <td>2020-05-21</td>\n      <td>Thu</td>\n      <td>0.295024</td>\n      <td></td>\n      <td>15.403497</td>\n      <td>0.681867</td>\n    </tr>\n    <tr>\n      <th>39998</th>\n      <td>39999</td>\n      <td>KSS</td>\n      <td>RETAIL</td>\n      <td>30</td>\n      <td>20000</td>\n      <td>2018-07-08</td>\n      <td>Sun</td>\n      <td>2018-07-09</td>\n      <td>Mon</td>\n      <td></td>\n      <td>...</td>\n      <td>0.343276</td>\n      <td>0.000563</td>\n      <td>2018-08-08</td>\n      <td>Wed</td>\n      <td>2018-08-08</td>\n      <td>Wed</td>\n      <td>0.343276</td>\n      <td></td>\n      <td>67.070129</td>\n      <td>0.340844</td>\n    </tr>\n    <tr>\n      <th>39999</th>\n      <td>40000</td>\n      <td>AMZN</td>\n      <td>TECH</td>\n      <td>600</td>\n      <td>100</td>\n      <td>2014-12-31</td>\n      <td>Wed</td>\n      <td>2014-12-31</td>\n      <td>Wed</td>\n      <td></td>\n      <td>...</td>\n      <td>0.328237</td>\n      <td>0.540473</td>\n      <td>2016-08-22</td>\n      <td>Mon</td>\n      <td>2016-08-22</td>\n      <td>Mon</td>\n      <td>0.328237</td>\n      <td></td>\n      <td>759.479980</td>\n      <td>0.326089</td>\n    </tr>\n  </tbody>\n</table>\n<p>36314 rows × 21 columns</p>\n</div>"
     },
     "metadata": {},
     "execution_count": 41
    }
   ],
   "source": [
    "transactions"
   ]
  },
  {
   "cell_type": "code",
   "execution_count": 42,
   "metadata": {
    "executionInfo": {
     "elapsed": 34353,
     "status": "ok",
     "timestamp": 1609188926328,
     "user": {
      "displayName": "Daniel Dabdub",
      "photoUrl": "https://lh6.googleusercontent.com/-qKoV5H3Fw5M/AAAAAAAAAAI/AAAAAAAAZro/jARb9IjBWek/s64/photo.jpg",
      "userId": "06642504652143825936"
     },
     "user_tz": 360
    },
    "id": "b4g2aZUK1s10"
   },
   "outputs": [],
   "source": [
    "transactions_ready=transactions[['company','sector','horizon','amount','date_BUY_fix','date_SELL_fix','price_BUY','price_SELL','Volatility_Buy','Volatility_sell', 'Sharpe Ratio', 'expected_return (yearly)']]"
   ]
  },
  {
   "cell_type": "code",
   "execution_count": 43,
   "metadata": {
    "colab": {
     "base_uri": "https://localhost:8080/",
     "height": 406
    },
    "executionInfo": {
     "elapsed": 34339,
     "status": "ok",
     "timestamp": 1609188926329,
     "user": {
      "displayName": "Daniel Dabdub",
      "photoUrl": "https://lh6.googleusercontent.com/-qKoV5H3Fw5M/AAAAAAAAAAI/AAAAAAAAZro/jARb9IjBWek/s64/photo.jpg",
      "userId": "06642504652143825936"
     },
     "user_tz": 360
    },
    "id": "SUxoiReY2iyP",
    "outputId": "b5cada1c-a704-48cb-d012-dc7967105e65"
   },
   "outputs": [
    {
     "output_type": "execute_result",
     "data": {
      "text/plain": [
       "      company  sector  horizon  amount date_BUY_fix date_SELL_fix   price_BUY  \\\n",
       "0        COST  RETAIL        6      50   2014-08-20    2014-08-26  102.729012   \n",
       "1        NVDA    TECH       20   50000   2017-07-13    2017-08-02  159.046402   \n",
       "2          SC    BANK        1    4000   2014-02-24    2014-02-25   22.392588   \n",
       "3         UBS    BANK       70     300   2018-07-17    2018-09-25   13.538271   \n",
       "4        COST  RETAIL      540   15000   2016-01-22    2017-07-14  136.678223   \n",
       "...       ...     ...      ...     ...          ...           ...         ...   \n",
       "39995      KO    FMCG        6     200   2018-04-09    2018-04-16   40.055370   \n",
       "39996      OR    FMCG      100     500   2014-03-25    2014-07-03    0.000000   \n",
       "39997      SC    BANK      720    4000   2018-06-01    2020-05-21   16.488749   \n",
       "39998     KSS  RETAIL       30   20000   2018-07-09    2018-08-08   64.041969   \n",
       "39999    AMZN    TECH      600     100   2014-12-31    2016-08-22  310.350006   \n",
       "\n",
       "       price_SELL  Volatility_Buy  Volatility_sell  Sharpe Ratio  \\\n",
       "0      102.881935        0.140189         0.139495      0.140189   \n",
       "1      162.769318        0.480400         0.480988      0.480400   \n",
       "2       22.197718             NaN              NaN           NaN   \n",
       "3       14.554310        0.183884         0.191189      0.183884   \n",
       "4      143.991989        0.189292         0.169758      0.189292   \n",
       "...           ...             ...              ...           ...   \n",
       "39995   40.832153        0.118334         0.118675      0.118334   \n",
       "39996    0.000000        0.000000         0.000000      0.000000   \n",
       "39997   15.403497        0.295024         0.681867      0.295024   \n",
       "39998   67.070129        0.343276         0.340844      0.343276   \n",
       "39999  759.479980        0.328237         0.326089      0.328237   \n",
       "\n",
       "       expected_return (yearly)  \n",
       "0                      0.002752  \n",
       "1                      0.027020  \n",
       "2                      0.000031  \n",
       "3                     -0.007575  \n",
       "4                      0.247691  \n",
       "...                         ...  \n",
       "39995                  0.001059  \n",
       "39996                 -0.016918  \n",
       "39997                  0.022665  \n",
       "39998                  0.000563  \n",
       "39999                  0.540473  \n",
       "\n",
       "[36314 rows x 12 columns]"
      ],
      "text/html": "<div>\n<style scoped>\n    .dataframe tbody tr th:only-of-type {\n        vertical-align: middle;\n    }\n\n    .dataframe tbody tr th {\n        vertical-align: top;\n    }\n\n    .dataframe thead th {\n        text-align: right;\n    }\n</style>\n<table border=\"1\" class=\"dataframe\">\n  <thead>\n    <tr style=\"text-align: right;\">\n      <th></th>\n      <th>company</th>\n      <th>sector</th>\n      <th>horizon</th>\n      <th>amount</th>\n      <th>date_BUY_fix</th>\n      <th>date_SELL_fix</th>\n      <th>price_BUY</th>\n      <th>price_SELL</th>\n      <th>Volatility_Buy</th>\n      <th>Volatility_sell</th>\n      <th>Sharpe Ratio</th>\n      <th>expected_return (yearly)</th>\n    </tr>\n  </thead>\n  <tbody>\n    <tr>\n      <th>0</th>\n      <td>COST</td>\n      <td>RETAIL</td>\n      <td>6</td>\n      <td>50</td>\n      <td>2014-08-20</td>\n      <td>2014-08-26</td>\n      <td>102.729012</td>\n      <td>102.881935</td>\n      <td>0.140189</td>\n      <td>0.139495</td>\n      <td>0.140189</td>\n      <td>0.002752</td>\n    </tr>\n    <tr>\n      <th>1</th>\n      <td>NVDA</td>\n      <td>TECH</td>\n      <td>20</td>\n      <td>50000</td>\n      <td>2017-07-13</td>\n      <td>2017-08-02</td>\n      <td>159.046402</td>\n      <td>162.769318</td>\n      <td>0.480400</td>\n      <td>0.480988</td>\n      <td>0.480400</td>\n      <td>0.027020</td>\n    </tr>\n    <tr>\n      <th>2</th>\n      <td>SC</td>\n      <td>BANK</td>\n      <td>1</td>\n      <td>4000</td>\n      <td>2014-02-24</td>\n      <td>2014-02-25</td>\n      <td>22.392588</td>\n      <td>22.197718</td>\n      <td>NaN</td>\n      <td>NaN</td>\n      <td>NaN</td>\n      <td>0.000031</td>\n    </tr>\n    <tr>\n      <th>3</th>\n      <td>UBS</td>\n      <td>BANK</td>\n      <td>70</td>\n      <td>300</td>\n      <td>2018-07-17</td>\n      <td>2018-09-25</td>\n      <td>13.538271</td>\n      <td>14.554310</td>\n      <td>0.183884</td>\n      <td>0.191189</td>\n      <td>0.183884</td>\n      <td>-0.007575</td>\n    </tr>\n    <tr>\n      <th>4</th>\n      <td>COST</td>\n      <td>RETAIL</td>\n      <td>540</td>\n      <td>15000</td>\n      <td>2016-01-22</td>\n      <td>2017-07-14</td>\n      <td>136.678223</td>\n      <td>143.991989</td>\n      <td>0.189292</td>\n      <td>0.169758</td>\n      <td>0.189292</td>\n      <td>0.247691</td>\n    </tr>\n    <tr>\n      <th>...</th>\n      <td>...</td>\n      <td>...</td>\n      <td>...</td>\n      <td>...</td>\n      <td>...</td>\n      <td>...</td>\n      <td>...</td>\n      <td>...</td>\n      <td>...</td>\n      <td>...</td>\n      <td>...</td>\n      <td>...</td>\n    </tr>\n    <tr>\n      <th>39995</th>\n      <td>KO</td>\n      <td>FMCG</td>\n      <td>6</td>\n      <td>200</td>\n      <td>2018-04-09</td>\n      <td>2018-04-16</td>\n      <td>40.055370</td>\n      <td>40.832153</td>\n      <td>0.118334</td>\n      <td>0.118675</td>\n      <td>0.118334</td>\n      <td>0.001059</td>\n    </tr>\n    <tr>\n      <th>39996</th>\n      <td>OR</td>\n      <td>FMCG</td>\n      <td>100</td>\n      <td>500</td>\n      <td>2014-03-25</td>\n      <td>2014-07-03</td>\n      <td>0.000000</td>\n      <td>0.000000</td>\n      <td>0.000000</td>\n      <td>0.000000</td>\n      <td>0.000000</td>\n      <td>-0.016918</td>\n    </tr>\n    <tr>\n      <th>39997</th>\n      <td>SC</td>\n      <td>BANK</td>\n      <td>720</td>\n      <td>4000</td>\n      <td>2018-06-01</td>\n      <td>2020-05-21</td>\n      <td>16.488749</td>\n      <td>15.403497</td>\n      <td>0.295024</td>\n      <td>0.681867</td>\n      <td>0.295024</td>\n      <td>0.022665</td>\n    </tr>\n    <tr>\n      <th>39998</th>\n      <td>KSS</td>\n      <td>RETAIL</td>\n      <td>30</td>\n      <td>20000</td>\n      <td>2018-07-09</td>\n      <td>2018-08-08</td>\n      <td>64.041969</td>\n      <td>67.070129</td>\n      <td>0.343276</td>\n      <td>0.340844</td>\n      <td>0.343276</td>\n      <td>0.000563</td>\n    </tr>\n    <tr>\n      <th>39999</th>\n      <td>AMZN</td>\n      <td>TECH</td>\n      <td>600</td>\n      <td>100</td>\n      <td>2014-12-31</td>\n      <td>2016-08-22</td>\n      <td>310.350006</td>\n      <td>759.479980</td>\n      <td>0.328237</td>\n      <td>0.326089</td>\n      <td>0.328237</td>\n      <td>0.540473</td>\n    </tr>\n  </tbody>\n</table>\n<p>36314 rows × 12 columns</p>\n</div>"
     },
     "metadata": {},
     "execution_count": 43
    }
   ],
   "source": [
    "transactions_ready"
   ]
  },
  {
   "cell_type": "markdown",
   "metadata": {
    "id": "7FdvBxuO6sDy"
   },
   "source": [
    "## Filtering transactions with error (Price = 0)"
   ]
  },
  {
   "cell_type": "code",
   "execution_count": 44,
   "metadata": {
    "colab": {
     "base_uri": "https://localhost:8080/"
    },
    "executionInfo": {
     "elapsed": 34329,
     "status": "ok",
     "timestamp": 1609188926330,
     "user": {
      "displayName": "Daniel Dabdub",
      "photoUrl": "https://lh6.googleusercontent.com/-qKoV5H3Fw5M/AAAAAAAAAAI/AAAAAAAAZro/jARb9IjBWek/s64/photo.jpg",
      "userId": "06642504652143825936"
     },
     "user_tz": 360
    },
    "id": "4pTs7UX44YW-",
    "outputId": "e06df0fd-bdbd-4760-faf9-aa7f0a8c1c0f"
   },
   "outputs": [
    {
     "output_type": "stream",
     "name": "stdout",
     "text": [
      "with errors:  (1476, 12)\n(36314, 12)\n(34776, 12)\n"
     ]
    }
   ],
   "source": [
    "price_error=transactions_ready[(transactions_ready.price_BUY==0) | (transactions_ready.price_SELL==0)]\n",
    "print('with errors: ', price_error.shape)\n",
    "print(transactions_ready.shape)\n",
    "\n",
    "transactions_ready=pd.concat([transactions_ready, price_error, price_error]).drop_duplicates(keep=False)\n",
    "print(transactions_ready.shape)"
   ]
  },
  {
   "cell_type": "markdown",
   "metadata": {},
   "source": [
    "# Inflacion\n",
    "Buscamos que supere la tasa de inflacion"
   ]
  },
  {
   "cell_type": "code",
   "execution_count": 45,
   "metadata": {},
   "outputs": [],
   "source": [
    "# # inflation=pd.read_csv('ratios_inflacion.csv', index_col=False)\n",
    "\n",
    "# inflation['Year'] = pd.to_datetime(inflation['Year'])\n",
    "\n",
    "# inflation=inflation.set_index('Year')\n",
    "\n",
    "# # inflation.info()"
   ]
  },
  {
   "cell_type": "code",
   "execution_count": 46,
   "metadata": {
    "scrolled": true
   },
   "outputs": [],
   "source": [
    "# l_inflation=list()\n",
    "# for index,row in transactions.iterrows():\n",
    "#     buy_date=row['date_BUY_fix']\n",
    "#     year=buy_date.year\n",
    "#     print(year)\n",
    "#     try:\n",
    "#         inflation=inflation.loc[year,'Tasa_inflacion']\n",
    "#     except :\n",
    "#         inflation=0\n",
    "\n",
    "#     l_inflation.append(inflation)\n",
    "\n",
    "# transactions['inflation']=l_inflation\n"
   ]
  },
  {
   "cell_type": "markdown",
   "metadata": {
    "id": "TCtM8tNYNmYm"
   },
   "source": [
    "# Real Profit/Loss (Rentabilidad Real)"
   ]
  },
  {
   "cell_type": "code",
   "execution_count": 47,
   "metadata": {
    "executionInfo": {
     "elapsed": 34319,
     "status": "ok",
     "timestamp": 1609188926331,
     "user": {
      "displayName": "Daniel Dabdub",
      "photoUrl": "https://lh6.googleusercontent.com/-qKoV5H3Fw5M/AAAAAAAAAAI/AAAAAAAAZro/jARb9IjBWek/s64/photo.jpg",
      "userId": "06642504652143825936"
     },
     "user_tz": 360
    },
    "id": "pI9ZvEawJOzF"
   },
   "outputs": [],
   "source": [
    "transactions_ready['nominal_return']=(transactions_ready['price_SELL']-transactions_ready['price_BUY'])/transactions_ready['price_BUY']"
   ]
  },
  {
   "cell_type": "code",
   "execution_count": 48,
   "metadata": {
    "colab": {
     "base_uri": "https://localhost:8080/",
     "height": 406
    },
    "executionInfo": {
     "elapsed": 34576,
     "status": "ok",
     "timestamp": 1609188926600,
     "user": {
      "displayName": "Daniel Dabdub",
      "photoUrl": "https://lh6.googleusercontent.com/-qKoV5H3Fw5M/AAAAAAAAAAI/AAAAAAAAZro/jARb9IjBWek/s64/photo.jpg",
      "userId": "06642504652143825936"
     },
     "user_tz": 360
    },
    "id": "HfBIf6V73S-r",
    "outputId": "fd9882ac-b239-4b3f-95c0-d15c8271e882"
   },
   "outputs": [
    {
     "output_type": "execute_result",
     "data": {
      "text/plain": [
       "      company  sector  horizon  amount date_BUY_fix date_SELL_fix   price_BUY  \\\n",
       "0        COST  RETAIL        6      50   2014-08-20    2014-08-26  102.729012   \n",
       "1        NVDA    TECH       20   50000   2017-07-13    2017-08-02  159.046402   \n",
       "2          SC    BANK        1    4000   2014-02-24    2014-02-25   22.392588   \n",
       "3         UBS    BANK       70     300   2018-07-17    2018-09-25   13.538271   \n",
       "4        COST  RETAIL      540   15000   2016-01-22    2017-07-14  136.678223   \n",
       "...       ...     ...      ...     ...          ...           ...         ...   \n",
       "39994     HOG    AUTO      330    2000   2015-07-30    2016-06-24   49.829926   \n",
       "39995      KO    FMCG        6     200   2018-04-09    2018-04-16   40.055370   \n",
       "39997      SC    BANK      720    4000   2018-06-01    2020-05-21   16.488749   \n",
       "39998     KSS  RETAIL       30   20000   2018-07-09    2018-08-08   64.041969   \n",
       "39999    AMZN    TECH      600     100   2014-12-31    2016-08-22  310.350006   \n",
       "\n",
       "       price_SELL  Volatility_Buy  Volatility_sell  Sharpe Ratio  \\\n",
       "0      102.881935        0.140189         0.139495      0.140189   \n",
       "1      162.769318        0.480400         0.480988      0.480400   \n",
       "2       22.197718             NaN              NaN           NaN   \n",
       "3       14.554310        0.183884         0.191189      0.183884   \n",
       "4      143.991989        0.189292         0.169758      0.189292   \n",
       "...           ...             ...              ...           ...   \n",
       "39994   38.145161        0.255892         0.323431      0.255892   \n",
       "39995   40.832153        0.118334         0.118675      0.118334   \n",
       "39997   15.403497        0.295024         0.681867      0.295024   \n",
       "39998   67.070129        0.343276         0.340844      0.343276   \n",
       "39999  759.479980        0.328237         0.326089      0.328237   \n",
       "\n",
       "       expected_return (yearly)  nominal_return  \n",
       "0                      0.002752        0.001489  \n",
       "1                      0.027020        0.023408  \n",
       "2                      0.000031       -0.008702  \n",
       "3                     -0.007575        0.075049  \n",
       "4                      0.247691        0.053511  \n",
       "...                         ...             ...  \n",
       "39994                  0.040295       -0.234493  \n",
       "39995                  0.001059        0.019393  \n",
       "39997                  0.022665       -0.065818  \n",
       "39998                  0.000563        0.047284  \n",
       "39999                  0.540473        1.447172  \n",
       "\n",
       "[34776 rows x 13 columns]"
      ],
      "text/html": "<div>\n<style scoped>\n    .dataframe tbody tr th:only-of-type {\n        vertical-align: middle;\n    }\n\n    .dataframe tbody tr th {\n        vertical-align: top;\n    }\n\n    .dataframe thead th {\n        text-align: right;\n    }\n</style>\n<table border=\"1\" class=\"dataframe\">\n  <thead>\n    <tr style=\"text-align: right;\">\n      <th></th>\n      <th>company</th>\n      <th>sector</th>\n      <th>horizon</th>\n      <th>amount</th>\n      <th>date_BUY_fix</th>\n      <th>date_SELL_fix</th>\n      <th>price_BUY</th>\n      <th>price_SELL</th>\n      <th>Volatility_Buy</th>\n      <th>Volatility_sell</th>\n      <th>Sharpe Ratio</th>\n      <th>expected_return (yearly)</th>\n      <th>nominal_return</th>\n    </tr>\n  </thead>\n  <tbody>\n    <tr>\n      <th>0</th>\n      <td>COST</td>\n      <td>RETAIL</td>\n      <td>6</td>\n      <td>50</td>\n      <td>2014-08-20</td>\n      <td>2014-08-26</td>\n      <td>102.729012</td>\n      <td>102.881935</td>\n      <td>0.140189</td>\n      <td>0.139495</td>\n      <td>0.140189</td>\n      <td>0.002752</td>\n      <td>0.001489</td>\n    </tr>\n    <tr>\n      <th>1</th>\n      <td>NVDA</td>\n      <td>TECH</td>\n      <td>20</td>\n      <td>50000</td>\n      <td>2017-07-13</td>\n      <td>2017-08-02</td>\n      <td>159.046402</td>\n      <td>162.769318</td>\n      <td>0.480400</td>\n      <td>0.480988</td>\n      <td>0.480400</td>\n      <td>0.027020</td>\n      <td>0.023408</td>\n    </tr>\n    <tr>\n      <th>2</th>\n      <td>SC</td>\n      <td>BANK</td>\n      <td>1</td>\n      <td>4000</td>\n      <td>2014-02-24</td>\n      <td>2014-02-25</td>\n      <td>22.392588</td>\n      <td>22.197718</td>\n      <td>NaN</td>\n      <td>NaN</td>\n      <td>NaN</td>\n      <td>0.000031</td>\n      <td>-0.008702</td>\n    </tr>\n    <tr>\n      <th>3</th>\n      <td>UBS</td>\n      <td>BANK</td>\n      <td>70</td>\n      <td>300</td>\n      <td>2018-07-17</td>\n      <td>2018-09-25</td>\n      <td>13.538271</td>\n      <td>14.554310</td>\n      <td>0.183884</td>\n      <td>0.191189</td>\n      <td>0.183884</td>\n      <td>-0.007575</td>\n      <td>0.075049</td>\n    </tr>\n    <tr>\n      <th>4</th>\n      <td>COST</td>\n      <td>RETAIL</td>\n      <td>540</td>\n      <td>15000</td>\n      <td>2016-01-22</td>\n      <td>2017-07-14</td>\n      <td>136.678223</td>\n      <td>143.991989</td>\n      <td>0.189292</td>\n      <td>0.169758</td>\n      <td>0.189292</td>\n      <td>0.247691</td>\n      <td>0.053511</td>\n    </tr>\n    <tr>\n      <th>...</th>\n      <td>...</td>\n      <td>...</td>\n      <td>...</td>\n      <td>...</td>\n      <td>...</td>\n      <td>...</td>\n      <td>...</td>\n      <td>...</td>\n      <td>...</td>\n      <td>...</td>\n      <td>...</td>\n      <td>...</td>\n      <td>...</td>\n    </tr>\n    <tr>\n      <th>39994</th>\n      <td>HOG</td>\n      <td>AUTO</td>\n      <td>330</td>\n      <td>2000</td>\n      <td>2015-07-30</td>\n      <td>2016-06-24</td>\n      <td>49.829926</td>\n      <td>38.145161</td>\n      <td>0.255892</td>\n      <td>0.323431</td>\n      <td>0.255892</td>\n      <td>0.040295</td>\n      <td>-0.234493</td>\n    </tr>\n    <tr>\n      <th>39995</th>\n      <td>KO</td>\n      <td>FMCG</td>\n      <td>6</td>\n      <td>200</td>\n      <td>2018-04-09</td>\n      <td>2018-04-16</td>\n      <td>40.055370</td>\n      <td>40.832153</td>\n      <td>0.118334</td>\n      <td>0.118675</td>\n      <td>0.118334</td>\n      <td>0.001059</td>\n      <td>0.019393</td>\n    </tr>\n    <tr>\n      <th>39997</th>\n      <td>SC</td>\n      <td>BANK</td>\n      <td>720</td>\n      <td>4000</td>\n      <td>2018-06-01</td>\n      <td>2020-05-21</td>\n      <td>16.488749</td>\n      <td>15.403497</td>\n      <td>0.295024</td>\n      <td>0.681867</td>\n      <td>0.295024</td>\n      <td>0.022665</td>\n      <td>-0.065818</td>\n    </tr>\n    <tr>\n      <th>39998</th>\n      <td>KSS</td>\n      <td>RETAIL</td>\n      <td>30</td>\n      <td>20000</td>\n      <td>2018-07-09</td>\n      <td>2018-08-08</td>\n      <td>64.041969</td>\n      <td>67.070129</td>\n      <td>0.343276</td>\n      <td>0.340844</td>\n      <td>0.343276</td>\n      <td>0.000563</td>\n      <td>0.047284</td>\n    </tr>\n    <tr>\n      <th>39999</th>\n      <td>AMZN</td>\n      <td>TECH</td>\n      <td>600</td>\n      <td>100</td>\n      <td>2014-12-31</td>\n      <td>2016-08-22</td>\n      <td>310.350006</td>\n      <td>759.479980</td>\n      <td>0.328237</td>\n      <td>0.326089</td>\n      <td>0.328237</td>\n      <td>0.540473</td>\n      <td>1.447172</td>\n    </tr>\n  </tbody>\n</table>\n<p>34776 rows × 13 columns</p>\n</div>"
     },
     "metadata": {},
     "execution_count": 48
    }
   ],
   "source": [
    "transactions_ready"
   ]
  },
  {
   "cell_type": "code",
   "execution_count": 49,
   "metadata": {
    "executionInfo": {
     "elapsed": 37970,
     "status": "ok",
     "timestamp": 1609188930005,
     "user": {
      "displayName": "Daniel Dabdub",
      "photoUrl": "https://lh6.googleusercontent.com/-qKoV5H3Fw5M/AAAAAAAAAAI/AAAAAAAAZro/jARb9IjBWek/s64/photo.jpg",
      "userId": "06642504652143825936"
     },
     "user_tz": 360
    },
    "id": "oMPPkBF43WS6"
   },
   "outputs": [],
   "source": [
    "transactions_ready['investment']=''\n",
    "investments=list()\n",
    "for index, row in transactions_ready.iterrows():\n",
    "  if row['nominal_return']>0:\n",
    "    inv='GOOD'\n",
    "    investments.append(inv)\n",
    "  elif row['nominal_return']<0:\n",
    "    inv='BAD'\n",
    "    investments.append(inv)\n",
    "  else:\n",
    "    inv='BAD'\n",
    "    investments.append(inv)\n",
    "\n",
    "transactions_ready['investment']=investments"
   ]
  },
  {
   "cell_type": "code",
   "execution_count": 50,
   "metadata": {
    "colab": {
     "base_uri": "https://localhost:8080/"
    },
    "executionInfo": {
     "elapsed": 37970,
     "status": "ok",
     "timestamp": 1609188930010,
     "user": {
      "displayName": "Daniel Dabdub",
      "photoUrl": "https://lh6.googleusercontent.com/-qKoV5H3Fw5M/AAAAAAAAAAI/AAAAAAAAZro/jARb9IjBWek/s64/photo.jpg",
      "userId": "06642504652143825936"
     },
     "user_tz": 360
    },
    "id": "HLxLIHoC7hdq",
    "outputId": "12a5a09a-6740-431c-bd45-1102248559df"
   },
   "outputs": [
    {
     "output_type": "execute_result",
     "data": {
      "text/plain": [
       "(34776, 14)"
      ]
     },
     "metadata": {},
     "execution_count": 50
    }
   ],
   "source": [
    "transactions_ready.shape"
   ]
  },
  {
   "cell_type": "code",
   "execution_count": 51,
   "metadata": {
    "colab": {
     "base_uri": "https://localhost:8080/",
     "height": 406
    },
    "executionInfo": {
     "elapsed": 37962,
     "status": "ok",
     "timestamp": 1609188930012,
     "user": {
      "displayName": "Daniel Dabdub",
      "photoUrl": "https://lh6.googleusercontent.com/-qKoV5H3Fw5M/AAAAAAAAAAI/AAAAAAAAZro/jARb9IjBWek/s64/photo.jpg",
      "userId": "06642504652143825936"
     },
     "user_tz": 360
    },
    "id": "KuB-l84A5UBj",
    "outputId": "c10c22e3-1d19-4cfb-f88a-339746337716",
    "scrolled": true
   },
   "outputs": [
    {
     "output_type": "execute_result",
     "data": {
      "text/plain": [
       "      company  sector  horizon  amount date_BUY_fix date_SELL_fix   price_BUY  \\\n",
       "0        COST  RETAIL        6      50   2014-08-20    2014-08-26  102.729012   \n",
       "1        NVDA    TECH       20   50000   2017-07-13    2017-08-02  159.046402   \n",
       "2          SC    BANK        1    4000   2014-02-24    2014-02-25   22.392588   \n",
       "3         UBS    BANK       70     300   2018-07-17    2018-09-25   13.538271   \n",
       "4        COST  RETAIL      540   15000   2016-01-22    2017-07-14  136.678223   \n",
       "...       ...     ...      ...     ...          ...           ...         ...   \n",
       "39994     HOG    AUTO      330    2000   2015-07-30    2016-06-24   49.829926   \n",
       "39995      KO    FMCG        6     200   2018-04-09    2018-04-16   40.055370   \n",
       "39997      SC    BANK      720    4000   2018-06-01    2020-05-21   16.488749   \n",
       "39998     KSS  RETAIL       30   20000   2018-07-09    2018-08-08   64.041969   \n",
       "39999    AMZN    TECH      600     100   2014-12-31    2016-08-22  310.350006   \n",
       "\n",
       "       price_SELL  Volatility_Buy  Volatility_sell  Sharpe Ratio  \\\n",
       "0      102.881935        0.140189         0.139495      0.140189   \n",
       "1      162.769318        0.480400         0.480988      0.480400   \n",
       "2       22.197718             NaN              NaN           NaN   \n",
       "3       14.554310        0.183884         0.191189      0.183884   \n",
       "4      143.991989        0.189292         0.169758      0.189292   \n",
       "...           ...             ...              ...           ...   \n",
       "39994   38.145161        0.255892         0.323431      0.255892   \n",
       "39995   40.832153        0.118334         0.118675      0.118334   \n",
       "39997   15.403497        0.295024         0.681867      0.295024   \n",
       "39998   67.070129        0.343276         0.340844      0.343276   \n",
       "39999  759.479980        0.328237         0.326089      0.328237   \n",
       "\n",
       "       expected_return (yearly)  nominal_return investment  \n",
       "0                      0.002752        0.001489       GOOD  \n",
       "1                      0.027020        0.023408       GOOD  \n",
       "2                      0.000031       -0.008702        BAD  \n",
       "3                     -0.007575        0.075049       GOOD  \n",
       "4                      0.247691        0.053511       GOOD  \n",
       "...                         ...             ...        ...  \n",
       "39994                  0.040295       -0.234493        BAD  \n",
       "39995                  0.001059        0.019393       GOOD  \n",
       "39997                  0.022665       -0.065818        BAD  \n",
       "39998                  0.000563        0.047284       GOOD  \n",
       "39999                  0.540473        1.447172       GOOD  \n",
       "\n",
       "[34776 rows x 14 columns]"
      ],
      "text/html": "<div>\n<style scoped>\n    .dataframe tbody tr th:only-of-type {\n        vertical-align: middle;\n    }\n\n    .dataframe tbody tr th {\n        vertical-align: top;\n    }\n\n    .dataframe thead th {\n        text-align: right;\n    }\n</style>\n<table border=\"1\" class=\"dataframe\">\n  <thead>\n    <tr style=\"text-align: right;\">\n      <th></th>\n      <th>company</th>\n      <th>sector</th>\n      <th>horizon</th>\n      <th>amount</th>\n      <th>date_BUY_fix</th>\n      <th>date_SELL_fix</th>\n      <th>price_BUY</th>\n      <th>price_SELL</th>\n      <th>Volatility_Buy</th>\n      <th>Volatility_sell</th>\n      <th>Sharpe Ratio</th>\n      <th>expected_return (yearly)</th>\n      <th>nominal_return</th>\n      <th>investment</th>\n    </tr>\n  </thead>\n  <tbody>\n    <tr>\n      <th>0</th>\n      <td>COST</td>\n      <td>RETAIL</td>\n      <td>6</td>\n      <td>50</td>\n      <td>2014-08-20</td>\n      <td>2014-08-26</td>\n      <td>102.729012</td>\n      <td>102.881935</td>\n      <td>0.140189</td>\n      <td>0.139495</td>\n      <td>0.140189</td>\n      <td>0.002752</td>\n      <td>0.001489</td>\n      <td>GOOD</td>\n    </tr>\n    <tr>\n      <th>1</th>\n      <td>NVDA</td>\n      <td>TECH</td>\n      <td>20</td>\n      <td>50000</td>\n      <td>2017-07-13</td>\n      <td>2017-08-02</td>\n      <td>159.046402</td>\n      <td>162.769318</td>\n      <td>0.480400</td>\n      <td>0.480988</td>\n      <td>0.480400</td>\n      <td>0.027020</td>\n      <td>0.023408</td>\n      <td>GOOD</td>\n    </tr>\n    <tr>\n      <th>2</th>\n      <td>SC</td>\n      <td>BANK</td>\n      <td>1</td>\n      <td>4000</td>\n      <td>2014-02-24</td>\n      <td>2014-02-25</td>\n      <td>22.392588</td>\n      <td>22.197718</td>\n      <td>NaN</td>\n      <td>NaN</td>\n      <td>NaN</td>\n      <td>0.000031</td>\n      <td>-0.008702</td>\n      <td>BAD</td>\n    </tr>\n    <tr>\n      <th>3</th>\n      <td>UBS</td>\n      <td>BANK</td>\n      <td>70</td>\n      <td>300</td>\n      <td>2018-07-17</td>\n      <td>2018-09-25</td>\n      <td>13.538271</td>\n      <td>14.554310</td>\n      <td>0.183884</td>\n      <td>0.191189</td>\n      <td>0.183884</td>\n      <td>-0.007575</td>\n      <td>0.075049</td>\n      <td>GOOD</td>\n    </tr>\n    <tr>\n      <th>4</th>\n      <td>COST</td>\n      <td>RETAIL</td>\n      <td>540</td>\n      <td>15000</td>\n      <td>2016-01-22</td>\n      <td>2017-07-14</td>\n      <td>136.678223</td>\n      <td>143.991989</td>\n      <td>0.189292</td>\n      <td>0.169758</td>\n      <td>0.189292</td>\n      <td>0.247691</td>\n      <td>0.053511</td>\n      <td>GOOD</td>\n    </tr>\n    <tr>\n      <th>...</th>\n      <td>...</td>\n      <td>...</td>\n      <td>...</td>\n      <td>...</td>\n      <td>...</td>\n      <td>...</td>\n      <td>...</td>\n      <td>...</td>\n      <td>...</td>\n      <td>...</td>\n      <td>...</td>\n      <td>...</td>\n      <td>...</td>\n      <td>...</td>\n    </tr>\n    <tr>\n      <th>39994</th>\n      <td>HOG</td>\n      <td>AUTO</td>\n      <td>330</td>\n      <td>2000</td>\n      <td>2015-07-30</td>\n      <td>2016-06-24</td>\n      <td>49.829926</td>\n      <td>38.145161</td>\n      <td>0.255892</td>\n      <td>0.323431</td>\n      <td>0.255892</td>\n      <td>0.040295</td>\n      <td>-0.234493</td>\n      <td>BAD</td>\n    </tr>\n    <tr>\n      <th>39995</th>\n      <td>KO</td>\n      <td>FMCG</td>\n      <td>6</td>\n      <td>200</td>\n      <td>2018-04-09</td>\n      <td>2018-04-16</td>\n      <td>40.055370</td>\n      <td>40.832153</td>\n      <td>0.118334</td>\n      <td>0.118675</td>\n      <td>0.118334</td>\n      <td>0.001059</td>\n      <td>0.019393</td>\n      <td>GOOD</td>\n    </tr>\n    <tr>\n      <th>39997</th>\n      <td>SC</td>\n      <td>BANK</td>\n      <td>720</td>\n      <td>4000</td>\n      <td>2018-06-01</td>\n      <td>2020-05-21</td>\n      <td>16.488749</td>\n      <td>15.403497</td>\n      <td>0.295024</td>\n      <td>0.681867</td>\n      <td>0.295024</td>\n      <td>0.022665</td>\n      <td>-0.065818</td>\n      <td>BAD</td>\n    </tr>\n    <tr>\n      <th>39998</th>\n      <td>KSS</td>\n      <td>RETAIL</td>\n      <td>30</td>\n      <td>20000</td>\n      <td>2018-07-09</td>\n      <td>2018-08-08</td>\n      <td>64.041969</td>\n      <td>67.070129</td>\n      <td>0.343276</td>\n      <td>0.340844</td>\n      <td>0.343276</td>\n      <td>0.000563</td>\n      <td>0.047284</td>\n      <td>GOOD</td>\n    </tr>\n    <tr>\n      <th>39999</th>\n      <td>AMZN</td>\n      <td>TECH</td>\n      <td>600</td>\n      <td>100</td>\n      <td>2014-12-31</td>\n      <td>2016-08-22</td>\n      <td>310.350006</td>\n      <td>759.479980</td>\n      <td>0.328237</td>\n      <td>0.326089</td>\n      <td>0.328237</td>\n      <td>0.540473</td>\n      <td>1.447172</td>\n      <td>GOOD</td>\n    </tr>\n  </tbody>\n</table>\n<p>34776 rows × 14 columns</p>\n</div>"
     },
     "metadata": {},
     "execution_count": 51
    }
   ],
   "source": [
    "transactions_ready"
   ]
  },
  {
   "cell_type": "code",
   "execution_count": 52,
   "metadata": {
    "colab": {
     "base_uri": "https://localhost:8080/"
    },
    "executionInfo": {
     "elapsed": 37954,
     "status": "ok",
     "timestamp": 1609188930014,
     "user": {
      "displayName": "Daniel Dabdub",
      "photoUrl": "https://lh6.googleusercontent.com/-qKoV5H3Fw5M/AAAAAAAAAAI/AAAAAAAAZro/jARb9IjBWek/s64/photo.jpg",
      "userId": "06642504652143825936"
     },
     "user_tz": 360
    },
    "id": "LRm2-G1j5vDK",
    "outputId": "9a0958f9-29a5-425f-937c-f682b59a0b56"
   },
   "outputs": [
    {
     "output_type": "execute_result",
     "data": {
      "text/plain": [
       "GOOD    20381\n",
       "BAD     14395\n",
       "Name: investment, dtype: int64"
      ]
     },
     "metadata": {},
     "execution_count": 52
    }
   ],
   "source": [
    "transactions_ready.investment.value_counts()"
   ]
  },
  {
   "cell_type": "markdown",
   "metadata": {},
   "source": [
    "# Ratios"
   ]
  },
  {
   "cell_type": "code",
   "execution_count": 53,
   "metadata": {},
   "outputs": [],
   "source": [
    "l_PE_ratios=list()\n",
    "for index, row in transactions_ready.iterrows():\n",
    "    year=row['date_BUY_fix'].year\n",
    "    company=row['company']\n",
    "    try:\n",
    "        PE_ratio=PE_ratios.loc[year,company]\n",
    "    except:\n",
    "        PE_ratio=0\n",
    "    \n",
    "    l_PE_ratios.append(PE_ratio)\n",
    "    "
   ]
  },
  {
   "cell_type": "code",
   "execution_count": 54,
   "metadata": {},
   "outputs": [],
   "source": [
    "transactions_ready['PE_ratio']=l_PE_ratios"
   ]
  },
  {
   "cell_type": "code",
   "execution_count": 55,
   "metadata": {},
   "outputs": [
    {
     "output_type": "execute_result",
     "data": {
      "text/plain": [
       "      company  sector  horizon  amount date_BUY_fix date_SELL_fix   price_BUY  \\\n",
       "0        COST  RETAIL        6      50   2014-08-20    2014-08-26  102.729012   \n",
       "1        NVDA    TECH       20   50000   2017-07-13    2017-08-02  159.046402   \n",
       "2          SC    BANK        1    4000   2014-02-24    2014-02-25   22.392588   \n",
       "3         UBS    BANK       70     300   2018-07-17    2018-09-25   13.538271   \n",
       "4        COST  RETAIL      540   15000   2016-01-22    2017-07-14  136.678223   \n",
       "...       ...     ...      ...     ...          ...           ...         ...   \n",
       "39994     HOG    AUTO      330    2000   2015-07-30    2016-06-24   49.829926   \n",
       "39995      KO    FMCG        6     200   2018-04-09    2018-04-16   40.055370   \n",
       "39997      SC    BANK      720    4000   2018-06-01    2020-05-21   16.488749   \n",
       "39998     KSS  RETAIL       30   20000   2018-07-09    2018-08-08   64.041969   \n",
       "39999    AMZN    TECH      600     100   2014-12-31    2016-08-22  310.350006   \n",
       "\n",
       "       price_SELL  Volatility_Buy  Volatility_sell  Sharpe Ratio  \\\n",
       "0      102.881935        0.140189         0.139495      0.140189   \n",
       "1      162.769318        0.480400         0.480988      0.480400   \n",
       "2       22.197718             NaN              NaN           NaN   \n",
       "3       14.554310        0.183884         0.191189      0.183884   \n",
       "4      143.991989        0.189292         0.169758      0.189292   \n",
       "...           ...             ...              ...           ...   \n",
       "39994   38.145161        0.255892         0.323431      0.255892   \n",
       "39995   40.832153        0.118334         0.118675      0.118334   \n",
       "39997   15.403497        0.295024         0.681867      0.295024   \n",
       "39998   67.070129        0.343276         0.340844      0.343276   \n",
       "39999  759.479980        0.328237         0.326089      0.328237   \n",
       "\n",
       "       expected_return (yearly)  nominal_return investment  PE_ratio  \n",
       "0                      0.002752        0.001489       GOOD         0  \n",
       "1                      0.027020        0.023408       GOOD         0  \n",
       "2                      0.000031       -0.008702        BAD         0  \n",
       "3                     -0.007575        0.075049       GOOD         0  \n",
       "4                      0.247691        0.053511       GOOD         0  \n",
       "...                         ...             ...        ...       ...  \n",
       "39994                  0.040295       -0.234493        BAD         0  \n",
       "39995                  0.001059        0.019393       GOOD         0  \n",
       "39997                  0.022665       -0.065818        BAD         0  \n",
       "39998                  0.000563        0.047284       GOOD         0  \n",
       "39999                  0.540473        1.447172       GOOD         0  \n",
       "\n",
       "[34776 rows x 15 columns]"
      ],
      "text/html": "<div>\n<style scoped>\n    .dataframe tbody tr th:only-of-type {\n        vertical-align: middle;\n    }\n\n    .dataframe tbody tr th {\n        vertical-align: top;\n    }\n\n    .dataframe thead th {\n        text-align: right;\n    }\n</style>\n<table border=\"1\" class=\"dataframe\">\n  <thead>\n    <tr style=\"text-align: right;\">\n      <th></th>\n      <th>company</th>\n      <th>sector</th>\n      <th>horizon</th>\n      <th>amount</th>\n      <th>date_BUY_fix</th>\n      <th>date_SELL_fix</th>\n      <th>price_BUY</th>\n      <th>price_SELL</th>\n      <th>Volatility_Buy</th>\n      <th>Volatility_sell</th>\n      <th>Sharpe Ratio</th>\n      <th>expected_return (yearly)</th>\n      <th>nominal_return</th>\n      <th>investment</th>\n      <th>PE_ratio</th>\n    </tr>\n  </thead>\n  <tbody>\n    <tr>\n      <th>0</th>\n      <td>COST</td>\n      <td>RETAIL</td>\n      <td>6</td>\n      <td>50</td>\n      <td>2014-08-20</td>\n      <td>2014-08-26</td>\n      <td>102.729012</td>\n      <td>102.881935</td>\n      <td>0.140189</td>\n      <td>0.139495</td>\n      <td>0.140189</td>\n      <td>0.002752</td>\n      <td>0.001489</td>\n      <td>GOOD</td>\n      <td>0</td>\n    </tr>\n    <tr>\n      <th>1</th>\n      <td>NVDA</td>\n      <td>TECH</td>\n      <td>20</td>\n      <td>50000</td>\n      <td>2017-07-13</td>\n      <td>2017-08-02</td>\n      <td>159.046402</td>\n      <td>162.769318</td>\n      <td>0.480400</td>\n      <td>0.480988</td>\n      <td>0.480400</td>\n      <td>0.027020</td>\n      <td>0.023408</td>\n      <td>GOOD</td>\n      <td>0</td>\n    </tr>\n    <tr>\n      <th>2</th>\n      <td>SC</td>\n      <td>BANK</td>\n      <td>1</td>\n      <td>4000</td>\n      <td>2014-02-24</td>\n      <td>2014-02-25</td>\n      <td>22.392588</td>\n      <td>22.197718</td>\n      <td>NaN</td>\n      <td>NaN</td>\n      <td>NaN</td>\n      <td>0.000031</td>\n      <td>-0.008702</td>\n      <td>BAD</td>\n      <td>0</td>\n    </tr>\n    <tr>\n      <th>3</th>\n      <td>UBS</td>\n      <td>BANK</td>\n      <td>70</td>\n      <td>300</td>\n      <td>2018-07-17</td>\n      <td>2018-09-25</td>\n      <td>13.538271</td>\n      <td>14.554310</td>\n      <td>0.183884</td>\n      <td>0.191189</td>\n      <td>0.183884</td>\n      <td>-0.007575</td>\n      <td>0.075049</td>\n      <td>GOOD</td>\n      <td>0</td>\n    </tr>\n    <tr>\n      <th>4</th>\n      <td>COST</td>\n      <td>RETAIL</td>\n      <td>540</td>\n      <td>15000</td>\n      <td>2016-01-22</td>\n      <td>2017-07-14</td>\n      <td>136.678223</td>\n      <td>143.991989</td>\n      <td>0.189292</td>\n      <td>0.169758</td>\n      <td>0.189292</td>\n      <td>0.247691</td>\n      <td>0.053511</td>\n      <td>GOOD</td>\n      <td>0</td>\n    </tr>\n    <tr>\n      <th>...</th>\n      <td>...</td>\n      <td>...</td>\n      <td>...</td>\n      <td>...</td>\n      <td>...</td>\n      <td>...</td>\n      <td>...</td>\n      <td>...</td>\n      <td>...</td>\n      <td>...</td>\n      <td>...</td>\n      <td>...</td>\n      <td>...</td>\n      <td>...</td>\n      <td>...</td>\n    </tr>\n    <tr>\n      <th>39994</th>\n      <td>HOG</td>\n      <td>AUTO</td>\n      <td>330</td>\n      <td>2000</td>\n      <td>2015-07-30</td>\n      <td>2016-06-24</td>\n      <td>49.829926</td>\n      <td>38.145161</td>\n      <td>0.255892</td>\n      <td>0.323431</td>\n      <td>0.255892</td>\n      <td>0.040295</td>\n      <td>-0.234493</td>\n      <td>BAD</td>\n      <td>0</td>\n    </tr>\n    <tr>\n      <th>39995</th>\n      <td>KO</td>\n      <td>FMCG</td>\n      <td>6</td>\n      <td>200</td>\n      <td>2018-04-09</td>\n      <td>2018-04-16</td>\n      <td>40.055370</td>\n      <td>40.832153</td>\n      <td>0.118334</td>\n      <td>0.118675</td>\n      <td>0.118334</td>\n      <td>0.001059</td>\n      <td>0.019393</td>\n      <td>GOOD</td>\n      <td>0</td>\n    </tr>\n    <tr>\n      <th>39997</th>\n      <td>SC</td>\n      <td>BANK</td>\n      <td>720</td>\n      <td>4000</td>\n      <td>2018-06-01</td>\n      <td>2020-05-21</td>\n      <td>16.488749</td>\n      <td>15.403497</td>\n      <td>0.295024</td>\n      <td>0.681867</td>\n      <td>0.295024</td>\n      <td>0.022665</td>\n      <td>-0.065818</td>\n      <td>BAD</td>\n      <td>0</td>\n    </tr>\n    <tr>\n      <th>39998</th>\n      <td>KSS</td>\n      <td>RETAIL</td>\n      <td>30</td>\n      <td>20000</td>\n      <td>2018-07-09</td>\n      <td>2018-08-08</td>\n      <td>64.041969</td>\n      <td>67.070129</td>\n      <td>0.343276</td>\n      <td>0.340844</td>\n      <td>0.343276</td>\n      <td>0.000563</td>\n      <td>0.047284</td>\n      <td>GOOD</td>\n      <td>0</td>\n    </tr>\n    <tr>\n      <th>39999</th>\n      <td>AMZN</td>\n      <td>TECH</td>\n      <td>600</td>\n      <td>100</td>\n      <td>2014-12-31</td>\n      <td>2016-08-22</td>\n      <td>310.350006</td>\n      <td>759.479980</td>\n      <td>0.328237</td>\n      <td>0.326089</td>\n      <td>0.328237</td>\n      <td>0.540473</td>\n      <td>1.447172</td>\n      <td>GOOD</td>\n      <td>0</td>\n    </tr>\n  </tbody>\n</table>\n<p>34776 rows × 15 columns</p>\n</div>"
     },
     "metadata": {},
     "execution_count": 55
    }
   ],
   "source": [
    "transactions_ready"
   ]
  },
  {
   "cell_type": "markdown",
   "metadata": {},
   "source": [
    "## ESG Ratios"
   ]
  },
  {
   "cell_type": "code",
   "execution_count": 56,
   "metadata": {},
   "outputs": [
    {
     "output_type": "execute_result",
     "data": {
      "text/plain": [
       "28"
      ]
     },
     "metadata": {},
     "execution_count": 56
    }
   ],
   "source": [
    "len(ESG_ratios_fix)"
   ]
  },
  {
   "cell_type": "code",
   "execution_count": 57,
   "metadata": {},
   "outputs": [
    {
     "output_type": "execute_result",
     "data": {
      "text/plain": [
       "'GOOG'"
      ]
     },
     "metadata": {},
     "execution_count": 57
    }
   ],
   "source": [
    "companies[3]"
   ]
  },
  {
   "cell_type": "code",
   "execution_count": 58,
   "metadata": {},
   "outputs": [
    {
     "output_type": "execute_result",
     "data": {
      "text/plain": [
       "[16.5,\n",
       " 27.4,\n",
       " 14.7,\n",
       " 22.8,\n",
       " 31.6,\n",
       " 12.9,\n",
       " 29.7,\n",
       " 30.6,\n",
       " 28.5,\n",
       " 31.1,\n",
       " 30.3,\n",
       " 16.3,\n",
       " 27.3,\n",
       " 14.5,\n",
       " 14.8,\n",
       " 12.9,\n",
       " 22.3,\n",
       " 12.0,\n",
       " 25.1,\n",
       " 17.6,\n",
       " 25.1,\n",
       " 20.5,\n",
       " 19.8,\n",
       " 26.9,\n",
       " 30.0,\n",
       " 24.8,\n",
       " 26.3,\n",
       " 27.9]"
      ]
     },
     "metadata": {},
     "execution_count": 58
    }
   ],
   "source": [
    "ESG_ratios_fix"
   ]
  },
  {
   "cell_type": "code",
   "execution_count": 59,
   "metadata": {},
   "outputs": [],
   "source": [
    "transactions_ready['ESG_ranking']=0\n",
    "\n",
    "for index, row in transactions_ready.iterrows():\n",
    "    company=row['company']\n",
    "    ind_comp=companies.index(company)\n",
    "    ESG_ratio= ESG_ratios_fix[ind_comp]\n",
    "    transactions_ready.loc[index, 'ESG_ranking']=ESG_ratio\n",
    "            "
   ]
  },
  {
   "cell_type": "code",
   "execution_count": 60,
   "metadata": {},
   "outputs": [
    {
     "output_type": "execute_result",
     "data": {
      "text/plain": [
       "      company  sector  horizon  amount date_BUY_fix date_SELL_fix   price_BUY  \\\n",
       "0        COST  RETAIL        6      50   2014-08-20    2014-08-26  102.729012   \n",
       "1        NVDA    TECH       20   50000   2017-07-13    2017-08-02  159.046402   \n",
       "2          SC    BANK        1    4000   2014-02-24    2014-02-25   22.392588   \n",
       "3         UBS    BANK       70     300   2018-07-17    2018-09-25   13.538271   \n",
       "4        COST  RETAIL      540   15000   2016-01-22    2017-07-14  136.678223   \n",
       "...       ...     ...      ...     ...          ...           ...         ...   \n",
       "39994     HOG    AUTO      330    2000   2015-07-30    2016-06-24   49.829926   \n",
       "39995      KO    FMCG        6     200   2018-04-09    2018-04-16   40.055370   \n",
       "39997      SC    BANK      720    4000   2018-06-01    2020-05-21   16.488749   \n",
       "39998     KSS  RETAIL       30   20000   2018-07-09    2018-08-08   64.041969   \n",
       "39999    AMZN    TECH      600     100   2014-12-31    2016-08-22  310.350006   \n",
       "\n",
       "       price_SELL  Volatility_Buy  Volatility_sell  Sharpe Ratio  \\\n",
       "0      102.881935        0.140189         0.139495      0.140189   \n",
       "1      162.769318        0.480400         0.480988      0.480400   \n",
       "2       22.197718             NaN              NaN           NaN   \n",
       "3       14.554310        0.183884         0.191189      0.183884   \n",
       "4      143.991989        0.189292         0.169758      0.189292   \n",
       "...           ...             ...              ...           ...   \n",
       "39994   38.145161        0.255892         0.323431      0.255892   \n",
       "39995   40.832153        0.118334         0.118675      0.118334   \n",
       "39997   15.403497        0.295024         0.681867      0.295024   \n",
       "39998   67.070129        0.343276         0.340844      0.343276   \n",
       "39999  759.479980        0.328237         0.326089      0.328237   \n",
       "\n",
       "       expected_return (yearly)  nominal_return investment  PE_ratio  \\\n",
       "0                      0.002752        0.001489       GOOD         0   \n",
       "1                      0.027020        0.023408       GOOD         0   \n",
       "2                      0.000031       -0.008702        BAD         0   \n",
       "3                     -0.007575        0.075049       GOOD         0   \n",
       "4                      0.247691        0.053511       GOOD         0   \n",
       "...                         ...             ...        ...       ...   \n",
       "39994                  0.040295       -0.234493        BAD         0   \n",
       "39995                  0.001059        0.019393       GOOD         0   \n",
       "39997                  0.022665       -0.065818        BAD         0   \n",
       "39998                  0.000563        0.047284       GOOD         0   \n",
       "39999                  0.540473        1.447172       GOOD         0   \n",
       "\n",
       "       ESG_ranking  \n",
       "0             22.3  \n",
       "1             12.9  \n",
       "2             26.9  \n",
       "3             24.8  \n",
       "4             22.3  \n",
       "...            ...  \n",
       "39994         16.3  \n",
       "39995         25.1  \n",
       "39997         26.9  \n",
       "39998         12.9  \n",
       "39999         27.4  \n",
       "\n",
       "[34776 rows x 16 columns]"
      ],
      "text/html": "<div>\n<style scoped>\n    .dataframe tbody tr th:only-of-type {\n        vertical-align: middle;\n    }\n\n    .dataframe tbody tr th {\n        vertical-align: top;\n    }\n\n    .dataframe thead th {\n        text-align: right;\n    }\n</style>\n<table border=\"1\" class=\"dataframe\">\n  <thead>\n    <tr style=\"text-align: right;\">\n      <th></th>\n      <th>company</th>\n      <th>sector</th>\n      <th>horizon</th>\n      <th>amount</th>\n      <th>date_BUY_fix</th>\n      <th>date_SELL_fix</th>\n      <th>price_BUY</th>\n      <th>price_SELL</th>\n      <th>Volatility_Buy</th>\n      <th>Volatility_sell</th>\n      <th>Sharpe Ratio</th>\n      <th>expected_return (yearly)</th>\n      <th>nominal_return</th>\n      <th>investment</th>\n      <th>PE_ratio</th>\n      <th>ESG_ranking</th>\n    </tr>\n  </thead>\n  <tbody>\n    <tr>\n      <th>0</th>\n      <td>COST</td>\n      <td>RETAIL</td>\n      <td>6</td>\n      <td>50</td>\n      <td>2014-08-20</td>\n      <td>2014-08-26</td>\n      <td>102.729012</td>\n      <td>102.881935</td>\n      <td>0.140189</td>\n      <td>0.139495</td>\n      <td>0.140189</td>\n      <td>0.002752</td>\n      <td>0.001489</td>\n      <td>GOOD</td>\n      <td>0</td>\n      <td>22.3</td>\n    </tr>\n    <tr>\n      <th>1</th>\n      <td>NVDA</td>\n      <td>TECH</td>\n      <td>20</td>\n      <td>50000</td>\n      <td>2017-07-13</td>\n      <td>2017-08-02</td>\n      <td>159.046402</td>\n      <td>162.769318</td>\n      <td>0.480400</td>\n      <td>0.480988</td>\n      <td>0.480400</td>\n      <td>0.027020</td>\n      <td>0.023408</td>\n      <td>GOOD</td>\n      <td>0</td>\n      <td>12.9</td>\n    </tr>\n    <tr>\n      <th>2</th>\n      <td>SC</td>\n      <td>BANK</td>\n      <td>1</td>\n      <td>4000</td>\n      <td>2014-02-24</td>\n      <td>2014-02-25</td>\n      <td>22.392588</td>\n      <td>22.197718</td>\n      <td>NaN</td>\n      <td>NaN</td>\n      <td>NaN</td>\n      <td>0.000031</td>\n      <td>-0.008702</td>\n      <td>BAD</td>\n      <td>0</td>\n      <td>26.9</td>\n    </tr>\n    <tr>\n      <th>3</th>\n      <td>UBS</td>\n      <td>BANK</td>\n      <td>70</td>\n      <td>300</td>\n      <td>2018-07-17</td>\n      <td>2018-09-25</td>\n      <td>13.538271</td>\n      <td>14.554310</td>\n      <td>0.183884</td>\n      <td>0.191189</td>\n      <td>0.183884</td>\n      <td>-0.007575</td>\n      <td>0.075049</td>\n      <td>GOOD</td>\n      <td>0</td>\n      <td>24.8</td>\n    </tr>\n    <tr>\n      <th>4</th>\n      <td>COST</td>\n      <td>RETAIL</td>\n      <td>540</td>\n      <td>15000</td>\n      <td>2016-01-22</td>\n      <td>2017-07-14</td>\n      <td>136.678223</td>\n      <td>143.991989</td>\n      <td>0.189292</td>\n      <td>0.169758</td>\n      <td>0.189292</td>\n      <td>0.247691</td>\n      <td>0.053511</td>\n      <td>GOOD</td>\n      <td>0</td>\n      <td>22.3</td>\n    </tr>\n    <tr>\n      <th>...</th>\n      <td>...</td>\n      <td>...</td>\n      <td>...</td>\n      <td>...</td>\n      <td>...</td>\n      <td>...</td>\n      <td>...</td>\n      <td>...</td>\n      <td>...</td>\n      <td>...</td>\n      <td>...</td>\n      <td>...</td>\n      <td>...</td>\n      <td>...</td>\n      <td>...</td>\n      <td>...</td>\n    </tr>\n    <tr>\n      <th>39994</th>\n      <td>HOG</td>\n      <td>AUTO</td>\n      <td>330</td>\n      <td>2000</td>\n      <td>2015-07-30</td>\n      <td>2016-06-24</td>\n      <td>49.829926</td>\n      <td>38.145161</td>\n      <td>0.255892</td>\n      <td>0.323431</td>\n      <td>0.255892</td>\n      <td>0.040295</td>\n      <td>-0.234493</td>\n      <td>BAD</td>\n      <td>0</td>\n      <td>16.3</td>\n    </tr>\n    <tr>\n      <th>39995</th>\n      <td>KO</td>\n      <td>FMCG</td>\n      <td>6</td>\n      <td>200</td>\n      <td>2018-04-09</td>\n      <td>2018-04-16</td>\n      <td>40.055370</td>\n      <td>40.832153</td>\n      <td>0.118334</td>\n      <td>0.118675</td>\n      <td>0.118334</td>\n      <td>0.001059</td>\n      <td>0.019393</td>\n      <td>GOOD</td>\n      <td>0</td>\n      <td>25.1</td>\n    </tr>\n    <tr>\n      <th>39997</th>\n      <td>SC</td>\n      <td>BANK</td>\n      <td>720</td>\n      <td>4000</td>\n      <td>2018-06-01</td>\n      <td>2020-05-21</td>\n      <td>16.488749</td>\n      <td>15.403497</td>\n      <td>0.295024</td>\n      <td>0.681867</td>\n      <td>0.295024</td>\n      <td>0.022665</td>\n      <td>-0.065818</td>\n      <td>BAD</td>\n      <td>0</td>\n      <td>26.9</td>\n    </tr>\n    <tr>\n      <th>39998</th>\n      <td>KSS</td>\n      <td>RETAIL</td>\n      <td>30</td>\n      <td>20000</td>\n      <td>2018-07-09</td>\n      <td>2018-08-08</td>\n      <td>64.041969</td>\n      <td>67.070129</td>\n      <td>0.343276</td>\n      <td>0.340844</td>\n      <td>0.343276</td>\n      <td>0.000563</td>\n      <td>0.047284</td>\n      <td>GOOD</td>\n      <td>0</td>\n      <td>12.9</td>\n    </tr>\n    <tr>\n      <th>39999</th>\n      <td>AMZN</td>\n      <td>TECH</td>\n      <td>600</td>\n      <td>100</td>\n      <td>2014-12-31</td>\n      <td>2016-08-22</td>\n      <td>310.350006</td>\n      <td>759.479980</td>\n      <td>0.328237</td>\n      <td>0.326089</td>\n      <td>0.328237</td>\n      <td>0.540473</td>\n      <td>1.447172</td>\n      <td>GOOD</td>\n      <td>0</td>\n      <td>27.4</td>\n    </tr>\n  </tbody>\n</table>\n<p>34776 rows × 16 columns</p>\n</div>"
     },
     "metadata": {},
     "execution_count": 60
    }
   ],
   "source": [
    "transactions_ready"
   ]
  },
  {
   "cell_type": "code",
   "execution_count": 61,
   "metadata": {},
   "outputs": [
    {
     "output_type": "execute_result",
     "data": {
      "text/plain": [
       "Timestamp('2016-01-22 00:00:00')"
      ]
     },
     "metadata": {},
     "execution_count": 61
    }
   ],
   "source": [
    "transactions_ready.loc[4,'date_BUY_fix']"
   ]
  },
  {
   "cell_type": "code",
   "execution_count": 62,
   "metadata": {},
   "outputs": [],
   "source": [
    "ratios_collection= pickle.load(open('ratios_collection.p', \"rb\" ))"
   ]
  },
  {
   "cell_type": "code",
   "execution_count": 63,
   "metadata": {},
   "outputs": [
    {
     "output_type": "execute_result",
     "data": {
      "text/plain": [
       "35.46"
      ]
     },
     "metadata": {},
     "execution_count": 63
    }
   ],
   "source": [
    "valor=ratios_collection['AAPL'][ratios_collection['AAPL']['Date']=='2020-09'].PE_Ratio.values[0]\n",
    "float(valor)"
   ]
  },
  {
   "cell_type": "code",
   "execution_count": 64,
   "metadata": {},
   "outputs": [],
   "source": [
    "#getting nearest date before investment.\n",
    "def nearest(items, pivot):\n",
    "    return min([i for i in items if i < pivot], key=lambda x: abs(x - pivot))"
   ]
  },
  {
   "cell_type": "code",
   "execution_count": 77,
   "metadata": {},
   "outputs": [],
   "source": [
    "l_PE_ratios=list()\n",
    "for index, row in transactions_ready.iterrows():\n",
    "    year=row['date_BUY_fix']\n",
    "    company=row['company']\n",
    "    \n",
    "    try:\n",
    "        ratios_company=ratios_collection[company]\n",
    "        date=nearest(ratios_company['Date'].dropna(),row['date_BUY_fix'])\n",
    "    \n",
    "        try:\n",
    "            PE_ratio_str=ratios_collection[company][ratios_collection[company]['Date']==date].PE_Ratio.values[0]\n",
    "            PE_ratio=float(PE_ratio_str)\n",
    "        except:\n",
    "            #se puede asignar un cero si hace falta.\n",
    "            PE_ratio= 0\n",
    "            \n",
    "    except:\n",
    "        PE_ratio=0\n",
    "    \n",
    "    l_PE_ratios.append(PE_ratio)"
   ]
  },
  {
   "cell_type": "code",
   "execution_count": 71,
   "metadata": {},
   "outputs": [],
   "source": [
    "transactions_ready['PE_ratio']=l_PE_ratios"
   ]
  },
  {
   "cell_type": "code",
   "execution_count": 72,
   "metadata": {},
   "outputs": [
    {
     "output_type": "execute_result",
     "data": {
      "text/plain": [
       "      company  sector  horizon  amount date_BUY_fix date_SELL_fix   price_BUY  \\\n",
       "0          GM    AUTO       70   20000   2015-05-18    2015-07-27   28.277824   \n",
       "1         HMC    AUTO      150     400   2016-08-09    2017-01-06   29.219999   \n",
       "2          PG    FMCG       80      50   2015-11-13    2016-02-01   63.663868   \n",
       "3         KSS  RETAIL       30    4000   2018-03-08    2018-04-06   55.072594   \n",
       "4          SC    BANK      270    1000   2014-05-13    2015-02-06   19.326445   \n",
       "...       ...     ...      ...     ...          ...           ...         ...   \n",
       "39993       F    AUTO      180   25000   2017-07-31    2018-01-26    9.533318   \n",
       "39996    NVDA    TECH       70     400   2017-04-03    2017-06-12  107.198616   \n",
       "39997       F    AUTO      210    3000   2014-12-12    2015-07-10   10.969175   \n",
       "39998     TYO    AUTO       70    1500   2017-02-17    2017-04-28   14.813115   \n",
       "39999     PEP    FMCG      150    2000   2018-01-03    2018-06-01  107.547829   \n",
       "\n",
       "       price_SELL  Volatility_Buy  Volatility_sell  Sharpe Ratio  \\\n",
       "0       25.310125        0.229780         0.232071      0.229780   \n",
       "1       30.469999        0.270394         0.243365      0.270394   \n",
       "2       70.435738        0.156865         0.164046      0.156865   \n",
       "3       57.229309        0.348488         0.349887      0.348488   \n",
       "4       18.577284             NaN         0.299217           NaN   \n",
       "...           ...             ...              ...           ...   \n",
       "39993   10.021590        0.205644         0.183368      0.205644   \n",
       "39996  148.491501        0.440058         0.475060      0.440058   \n",
       "39997   10.805017        0.215025         0.213415      0.215025   \n",
       "39998   14.020080        0.191231         0.192017      0.191231   \n",
       "39999   93.089127        0.099460         0.138434      0.099460   \n",
       "\n",
       "       expected_return (yearly)  nominal_return investment  PE_ratio  \\\n",
       "0                      0.007840       -0.104948        BAD     14.14   \n",
       "1                     -0.003769        0.042779       GOOD     13.50   \n",
       "2                      0.016932        0.106369       GOOD     23.06   \n",
       "3                      0.000563        0.039161       GOOD     11.12   \n",
       "4                      0.008499       -0.038764        BAD      0.00   \n",
       "...                         ...             ...        ...       ...   \n",
       "39993                 -0.005906        0.051217       GOOD      9.88   \n",
       "39996                  0.094570        0.385200       GOOD     34.31   \n",
       "39997                 -0.006891       -0.014965        BAD     14.54   \n",
       "39998                 -0.020315       -0.053536        BAD      0.00   \n",
       "39999                  0.032632       -0.134440        BAD     32.49   \n",
       "\n",
       "       ESG_ranking  \n",
       "0             30.6  \n",
       "1             28.5  \n",
       "2             25.1  \n",
       "3             12.9  \n",
       "4             26.9  \n",
       "...            ...  \n",
       "39993         29.7  \n",
       "39996         12.9  \n",
       "39997         29.7  \n",
       "39998         30.3  \n",
       "39999         17.6  \n",
       "\n",
       "[34729 rows x 16 columns]"
      ],
      "text/html": "<div>\n<style scoped>\n    .dataframe tbody tr th:only-of-type {\n        vertical-align: middle;\n    }\n\n    .dataframe tbody tr th {\n        vertical-align: top;\n    }\n\n    .dataframe thead th {\n        text-align: right;\n    }\n</style>\n<table border=\"1\" class=\"dataframe\">\n  <thead>\n    <tr style=\"text-align: right;\">\n      <th></th>\n      <th>company</th>\n      <th>sector</th>\n      <th>horizon</th>\n      <th>amount</th>\n      <th>date_BUY_fix</th>\n      <th>date_SELL_fix</th>\n      <th>price_BUY</th>\n      <th>price_SELL</th>\n      <th>Volatility_Buy</th>\n      <th>Volatility_sell</th>\n      <th>Sharpe Ratio</th>\n      <th>expected_return (yearly)</th>\n      <th>nominal_return</th>\n      <th>investment</th>\n      <th>PE_ratio</th>\n      <th>ESG_ranking</th>\n    </tr>\n  </thead>\n  <tbody>\n    <tr>\n      <th>0</th>\n      <td>GM</td>\n      <td>AUTO</td>\n      <td>70</td>\n      <td>20000</td>\n      <td>2015-05-18</td>\n      <td>2015-07-27</td>\n      <td>28.277824</td>\n      <td>25.310125</td>\n      <td>0.229780</td>\n      <td>0.232071</td>\n      <td>0.229780</td>\n      <td>0.007840</td>\n      <td>-0.104948</td>\n      <td>BAD</td>\n      <td>14.14</td>\n      <td>30.6</td>\n    </tr>\n    <tr>\n      <th>1</th>\n      <td>HMC</td>\n      <td>AUTO</td>\n      <td>150</td>\n      <td>400</td>\n      <td>2016-08-09</td>\n      <td>2017-01-06</td>\n      <td>29.219999</td>\n      <td>30.469999</td>\n      <td>0.270394</td>\n      <td>0.243365</td>\n      <td>0.270394</td>\n      <td>-0.003769</td>\n      <td>0.042779</td>\n      <td>GOOD</td>\n      <td>13.50</td>\n      <td>28.5</td>\n    </tr>\n    <tr>\n      <th>2</th>\n      <td>PG</td>\n      <td>FMCG</td>\n      <td>80</td>\n      <td>50</td>\n      <td>2015-11-13</td>\n      <td>2016-02-01</td>\n      <td>63.663868</td>\n      <td>70.435738</td>\n      <td>0.156865</td>\n      <td>0.164046</td>\n      <td>0.156865</td>\n      <td>0.016932</td>\n      <td>0.106369</td>\n      <td>GOOD</td>\n      <td>23.06</td>\n      <td>25.1</td>\n    </tr>\n    <tr>\n      <th>3</th>\n      <td>KSS</td>\n      <td>RETAIL</td>\n      <td>30</td>\n      <td>4000</td>\n      <td>2018-03-08</td>\n      <td>2018-04-06</td>\n      <td>55.072594</td>\n      <td>57.229309</td>\n      <td>0.348488</td>\n      <td>0.349887</td>\n      <td>0.348488</td>\n      <td>0.000563</td>\n      <td>0.039161</td>\n      <td>GOOD</td>\n      <td>11.12</td>\n      <td>12.9</td>\n    </tr>\n    <tr>\n      <th>4</th>\n      <td>SC</td>\n      <td>BANK</td>\n      <td>270</td>\n      <td>1000</td>\n      <td>2014-05-13</td>\n      <td>2015-02-06</td>\n      <td>19.326445</td>\n      <td>18.577284</td>\n      <td>NaN</td>\n      <td>0.299217</td>\n      <td>NaN</td>\n      <td>0.008499</td>\n      <td>-0.038764</td>\n      <td>BAD</td>\n      <td>0.00</td>\n      <td>26.9</td>\n    </tr>\n    <tr>\n      <th>...</th>\n      <td>...</td>\n      <td>...</td>\n      <td>...</td>\n      <td>...</td>\n      <td>...</td>\n      <td>...</td>\n      <td>...</td>\n      <td>...</td>\n      <td>...</td>\n      <td>...</td>\n      <td>...</td>\n      <td>...</td>\n      <td>...</td>\n      <td>...</td>\n      <td>...</td>\n      <td>...</td>\n    </tr>\n    <tr>\n      <th>39993</th>\n      <td>F</td>\n      <td>AUTO</td>\n      <td>180</td>\n      <td>25000</td>\n      <td>2017-07-31</td>\n      <td>2018-01-26</td>\n      <td>9.533318</td>\n      <td>10.021590</td>\n      <td>0.205644</td>\n      <td>0.183368</td>\n      <td>0.205644</td>\n      <td>-0.005906</td>\n      <td>0.051217</td>\n      <td>GOOD</td>\n      <td>9.88</td>\n      <td>29.7</td>\n    </tr>\n    <tr>\n      <th>39996</th>\n      <td>NVDA</td>\n      <td>TECH</td>\n      <td>70</td>\n      <td>400</td>\n      <td>2017-04-03</td>\n      <td>2017-06-12</td>\n      <td>107.198616</td>\n      <td>148.491501</td>\n      <td>0.440058</td>\n      <td>0.475060</td>\n      <td>0.440058</td>\n      <td>0.094570</td>\n      <td>0.385200</td>\n      <td>GOOD</td>\n      <td>34.31</td>\n      <td>12.9</td>\n    </tr>\n    <tr>\n      <th>39997</th>\n      <td>F</td>\n      <td>AUTO</td>\n      <td>210</td>\n      <td>3000</td>\n      <td>2014-12-12</td>\n      <td>2015-07-10</td>\n      <td>10.969175</td>\n      <td>10.805017</td>\n      <td>0.215025</td>\n      <td>0.213415</td>\n      <td>0.215025</td>\n      <td>-0.006891</td>\n      <td>-0.014965</td>\n      <td>BAD</td>\n      <td>14.54</td>\n      <td>29.7</td>\n    </tr>\n    <tr>\n      <th>39998</th>\n      <td>TYO</td>\n      <td>AUTO</td>\n      <td>70</td>\n      <td>1500</td>\n      <td>2017-02-17</td>\n      <td>2017-04-28</td>\n      <td>14.813115</td>\n      <td>14.020080</td>\n      <td>0.191231</td>\n      <td>0.192017</td>\n      <td>0.191231</td>\n      <td>-0.020315</td>\n      <td>-0.053536</td>\n      <td>BAD</td>\n      <td>0.00</td>\n      <td>30.3</td>\n    </tr>\n    <tr>\n      <th>39999</th>\n      <td>PEP</td>\n      <td>FMCG</td>\n      <td>150</td>\n      <td>2000</td>\n      <td>2018-01-03</td>\n      <td>2018-06-01</td>\n      <td>107.547829</td>\n      <td>93.089127</td>\n      <td>0.099460</td>\n      <td>0.138434</td>\n      <td>0.099460</td>\n      <td>0.032632</td>\n      <td>-0.134440</td>\n      <td>BAD</td>\n      <td>32.49</td>\n      <td>17.6</td>\n    </tr>\n  </tbody>\n</table>\n<p>34729 rows × 16 columns</p>\n</div>"
     },
     "metadata": {},
     "execution_count": 72
    }
   ],
   "source": [
    "transactions_ready"
   ]
  },
  {
   "cell_type": "code",
   "execution_count": 88,
   "metadata": {},
   "outputs": [],
   "source": [
    "df_to_ml = transactions_ready[['investment','company','sector','horizon','amount','Volatility_Buy','Volatility_sell', 'Sharpe Ratio', 'expected_return (yearly)', 'PE_ratio', 'ESG_ranking']]"
   ]
  },
  {
   "cell_type": "code",
   "execution_count": 89,
   "metadata": {},
   "outputs": [
    {
     "output_type": "execute_result",
     "data": {
      "text/plain": [
       "      investment company  sector  horizon  amount  Volatility_Buy  \\\n",
       "0           GOOD    COST  RETAIL        6      50        0.140189   \n",
       "1           GOOD    NVDA    TECH       20   50000        0.480400   \n",
       "2            BAD      SC    BANK        1    4000             NaN   \n",
       "3           GOOD     UBS    BANK       70     300        0.183884   \n",
       "4           GOOD    COST  RETAIL      540   15000        0.189292   \n",
       "...          ...     ...     ...      ...     ...             ...   \n",
       "39994        BAD     HOG    AUTO      330    2000        0.255892   \n",
       "39995       GOOD      KO    FMCG        6     200        0.118334   \n",
       "39997        BAD      SC    BANK      720    4000        0.295024   \n",
       "39998       GOOD     KSS  RETAIL       30   20000        0.343276   \n",
       "39999       GOOD    AMZN    TECH      600     100        0.328237   \n",
       "\n",
       "       Volatility_sell  Sharpe Ratio  expected_return (yearly)  PE_ratio  \\\n",
       "0             0.139495      0.140189                  0.002752         0   \n",
       "1             0.480988      0.480400                  0.027020         0   \n",
       "2                  NaN           NaN                  0.000031         0   \n",
       "3             0.191189      0.183884                 -0.007575         0   \n",
       "4             0.169758      0.189292                  0.247691         0   \n",
       "...                ...           ...                       ...       ...   \n",
       "39994         0.323431      0.255892                  0.040295         0   \n",
       "39995         0.118675      0.118334                  0.001059         0   \n",
       "39997         0.681867      0.295024                  0.022665         0   \n",
       "39998         0.340844      0.343276                  0.000563         0   \n",
       "39999         0.326089      0.328237                  0.540473         0   \n",
       "\n",
       "       ESG_ranking  \n",
       "0             22.3  \n",
       "1             12.9  \n",
       "2             26.9  \n",
       "3             24.8  \n",
       "4             22.3  \n",
       "...            ...  \n",
       "39994         16.3  \n",
       "39995         25.1  \n",
       "39997         26.9  \n",
       "39998         12.9  \n",
       "39999         27.4  \n",
       "\n",
       "[34776 rows x 11 columns]"
      ],
      "text/html": "<div>\n<style scoped>\n    .dataframe tbody tr th:only-of-type {\n        vertical-align: middle;\n    }\n\n    .dataframe tbody tr th {\n        vertical-align: top;\n    }\n\n    .dataframe thead th {\n        text-align: right;\n    }\n</style>\n<table border=\"1\" class=\"dataframe\">\n  <thead>\n    <tr style=\"text-align: right;\">\n      <th></th>\n      <th>investment</th>\n      <th>company</th>\n      <th>sector</th>\n      <th>horizon</th>\n      <th>amount</th>\n      <th>Volatility_Buy</th>\n      <th>Volatility_sell</th>\n      <th>Sharpe Ratio</th>\n      <th>expected_return (yearly)</th>\n      <th>PE_ratio</th>\n      <th>ESG_ranking</th>\n    </tr>\n  </thead>\n  <tbody>\n    <tr>\n      <th>0</th>\n      <td>GOOD</td>\n      <td>COST</td>\n      <td>RETAIL</td>\n      <td>6</td>\n      <td>50</td>\n      <td>0.140189</td>\n      <td>0.139495</td>\n      <td>0.140189</td>\n      <td>0.002752</td>\n      <td>0</td>\n      <td>22.3</td>\n    </tr>\n    <tr>\n      <th>1</th>\n      <td>GOOD</td>\n      <td>NVDA</td>\n      <td>TECH</td>\n      <td>20</td>\n      <td>50000</td>\n      <td>0.480400</td>\n      <td>0.480988</td>\n      <td>0.480400</td>\n      <td>0.027020</td>\n      <td>0</td>\n      <td>12.9</td>\n    </tr>\n    <tr>\n      <th>2</th>\n      <td>BAD</td>\n      <td>SC</td>\n      <td>BANK</td>\n      <td>1</td>\n      <td>4000</td>\n      <td>NaN</td>\n      <td>NaN</td>\n      <td>NaN</td>\n      <td>0.000031</td>\n      <td>0</td>\n      <td>26.9</td>\n    </tr>\n    <tr>\n      <th>3</th>\n      <td>GOOD</td>\n      <td>UBS</td>\n      <td>BANK</td>\n      <td>70</td>\n      <td>300</td>\n      <td>0.183884</td>\n      <td>0.191189</td>\n      <td>0.183884</td>\n      <td>-0.007575</td>\n      <td>0</td>\n      <td>24.8</td>\n    </tr>\n    <tr>\n      <th>4</th>\n      <td>GOOD</td>\n      <td>COST</td>\n      <td>RETAIL</td>\n      <td>540</td>\n      <td>15000</td>\n      <td>0.189292</td>\n      <td>0.169758</td>\n      <td>0.189292</td>\n      <td>0.247691</td>\n      <td>0</td>\n      <td>22.3</td>\n    </tr>\n    <tr>\n      <th>...</th>\n      <td>...</td>\n      <td>...</td>\n      <td>...</td>\n      <td>...</td>\n      <td>...</td>\n      <td>...</td>\n      <td>...</td>\n      <td>...</td>\n      <td>...</td>\n      <td>...</td>\n      <td>...</td>\n    </tr>\n    <tr>\n      <th>39994</th>\n      <td>BAD</td>\n      <td>HOG</td>\n      <td>AUTO</td>\n      <td>330</td>\n      <td>2000</td>\n      <td>0.255892</td>\n      <td>0.323431</td>\n      <td>0.255892</td>\n      <td>0.040295</td>\n      <td>0</td>\n      <td>16.3</td>\n    </tr>\n    <tr>\n      <th>39995</th>\n      <td>GOOD</td>\n      <td>KO</td>\n      <td>FMCG</td>\n      <td>6</td>\n      <td>200</td>\n      <td>0.118334</td>\n      <td>0.118675</td>\n      <td>0.118334</td>\n      <td>0.001059</td>\n      <td>0</td>\n      <td>25.1</td>\n    </tr>\n    <tr>\n      <th>39997</th>\n      <td>BAD</td>\n      <td>SC</td>\n      <td>BANK</td>\n      <td>720</td>\n      <td>4000</td>\n      <td>0.295024</td>\n      <td>0.681867</td>\n      <td>0.295024</td>\n      <td>0.022665</td>\n      <td>0</td>\n      <td>26.9</td>\n    </tr>\n    <tr>\n      <th>39998</th>\n      <td>GOOD</td>\n      <td>KSS</td>\n      <td>RETAIL</td>\n      <td>30</td>\n      <td>20000</td>\n      <td>0.343276</td>\n      <td>0.340844</td>\n      <td>0.343276</td>\n      <td>0.000563</td>\n      <td>0</td>\n      <td>12.9</td>\n    </tr>\n    <tr>\n      <th>39999</th>\n      <td>GOOD</td>\n      <td>AMZN</td>\n      <td>TECH</td>\n      <td>600</td>\n      <td>100</td>\n      <td>0.328237</td>\n      <td>0.326089</td>\n      <td>0.328237</td>\n      <td>0.540473</td>\n      <td>0</td>\n      <td>27.4</td>\n    </tr>\n  </tbody>\n</table>\n<p>34776 rows × 11 columns</p>\n</div>"
     },
     "metadata": {},
     "execution_count": 89
    }
   ],
   "source": [
    "df_to_ml"
   ]
  },
  {
   "cell_type": "code",
   "execution_count": 90,
   "metadata": {},
   "outputs": [],
   "source": [
    "investment_map = {'GOOD':1, 'BAD':0} \n",
    "df_to_ml = df_to_ml.applymap(lambda s: investment_map.get(s) if s in investment_map else s)"
   ]
  },
  {
   "cell_type": "code",
   "execution_count": 91,
   "metadata": {},
   "outputs": [],
   "source": [
    "company_map = {'AAPL':0,\n",
    " 'AMZN':1,\n",
    " 'MSFT':2,\n",
    " 'GOOG':3,\n",
    " 'FB':4,\n",
    " 'NVDA':5,\n",
    " 'F':6,\n",
    " 'GM':7,\n",
    " 'HMC':8,\n",
    " 'TSLA':9,\n",
    " 'TYO':10,\n",
    " 'HOG':11,\n",
    " 'WMT':12,\n",
    " 'M':13,\n",
    " 'TGT':14,\n",
    " 'KSS':15,\n",
    " 'COST':16,\n",
    " 'BBY':17,\n",
    " 'KO':18,\n",
    " 'PEP':19,\n",
    " 'PG':20,\n",
    " 'OR':21,\n",
    " 'AXP':22,\n",
    " 'SC':23,\n",
    " 'DB':24,\n",
    " 'UBS':25,\n",
    " 'BAC':26,\n",
    " 'JPM':27}\n",
    "df_to_ml = df_to_ml.applymap(lambda s: company_map.get(s) if s in company_map else s)"
   ]
  },
  {
   "cell_type": "code",
   "execution_count": 92,
   "metadata": {},
   "outputs": [
    {
     "output_type": "execute_result",
     "data": {
      "text/plain": [
       "       investment  company  sector  horizon  amount  Volatility_Buy  \\\n",
       "0               1       16       2        6      50        0.140189   \n",
       "1               1        5       0       20   50000        0.480400   \n",
       "2               0       23       4        1    4000             NaN   \n",
       "3               1       25       4       70     300        0.183884   \n",
       "4               1       16       2      540   15000        0.189292   \n",
       "...           ...      ...     ...      ...     ...             ...   \n",
       "39994           0       11       1      330    2000        0.255892   \n",
       "39995           1       18       3        6     200        0.118334   \n",
       "39997           0       23       4      720    4000        0.295024   \n",
       "39998           1       15       2       30   20000        0.343276   \n",
       "39999           1        1       0      600     100        0.328237   \n",
       "\n",
       "       Volatility_sell  Sharpe Ratio  expected_return (yearly)  PE_ratio  \\\n",
       "0             0.139495      0.140189                  0.002752         0   \n",
       "1             0.480988      0.480400                  0.027020         0   \n",
       "2                  NaN           NaN                  0.000031         0   \n",
       "3             0.191189      0.183884                 -0.007575         0   \n",
       "4             0.169758      0.189292                  0.247691         0   \n",
       "...                ...           ...                       ...       ...   \n",
       "39994         0.323431      0.255892                  0.040295         0   \n",
       "39995         0.118675      0.118334                  0.001059         0   \n",
       "39997         0.681867      0.295024                  0.022665         0   \n",
       "39998         0.340844      0.343276                  0.000563         0   \n",
       "39999         0.326089      0.328237                  0.540473         0   \n",
       "\n",
       "       ESG_ranking  \n",
       "0             22.3  \n",
       "1             12.9  \n",
       "2             26.9  \n",
       "3             24.8  \n",
       "4             22.3  \n",
       "...            ...  \n",
       "39994         16.3  \n",
       "39995         25.1  \n",
       "39997         26.9  \n",
       "39998         12.9  \n",
       "39999         27.4  \n",
       "\n",
       "[34776 rows x 11 columns]"
      ],
      "text/html": "<div>\n<style scoped>\n    .dataframe tbody tr th:only-of-type {\n        vertical-align: middle;\n    }\n\n    .dataframe tbody tr th {\n        vertical-align: top;\n    }\n\n    .dataframe thead th {\n        text-align: right;\n    }\n</style>\n<table border=\"1\" class=\"dataframe\">\n  <thead>\n    <tr style=\"text-align: right;\">\n      <th></th>\n      <th>investment</th>\n      <th>company</th>\n      <th>sector</th>\n      <th>horizon</th>\n      <th>amount</th>\n      <th>Volatility_Buy</th>\n      <th>Volatility_sell</th>\n      <th>Sharpe Ratio</th>\n      <th>expected_return (yearly)</th>\n      <th>PE_ratio</th>\n      <th>ESG_ranking</th>\n    </tr>\n  </thead>\n  <tbody>\n    <tr>\n      <th>0</th>\n      <td>1</td>\n      <td>16</td>\n      <td>2</td>\n      <td>6</td>\n      <td>50</td>\n      <td>0.140189</td>\n      <td>0.139495</td>\n      <td>0.140189</td>\n      <td>0.002752</td>\n      <td>0</td>\n      <td>22.3</td>\n    </tr>\n    <tr>\n      <th>1</th>\n      <td>1</td>\n      <td>5</td>\n      <td>0</td>\n      <td>20</td>\n      <td>50000</td>\n      <td>0.480400</td>\n      <td>0.480988</td>\n      <td>0.480400</td>\n      <td>0.027020</td>\n      <td>0</td>\n      <td>12.9</td>\n    </tr>\n    <tr>\n      <th>2</th>\n      <td>0</td>\n      <td>23</td>\n      <td>4</td>\n      <td>1</td>\n      <td>4000</td>\n      <td>NaN</td>\n      <td>NaN</td>\n      <td>NaN</td>\n      <td>0.000031</td>\n      <td>0</td>\n      <td>26.9</td>\n    </tr>\n    <tr>\n      <th>3</th>\n      <td>1</td>\n      <td>25</td>\n      <td>4</td>\n      <td>70</td>\n      <td>300</td>\n      <td>0.183884</td>\n      <td>0.191189</td>\n      <td>0.183884</td>\n      <td>-0.007575</td>\n      <td>0</td>\n      <td>24.8</td>\n    </tr>\n    <tr>\n      <th>4</th>\n      <td>1</td>\n      <td>16</td>\n      <td>2</td>\n      <td>540</td>\n      <td>15000</td>\n      <td>0.189292</td>\n      <td>0.169758</td>\n      <td>0.189292</td>\n      <td>0.247691</td>\n      <td>0</td>\n      <td>22.3</td>\n    </tr>\n    <tr>\n      <th>...</th>\n      <td>...</td>\n      <td>...</td>\n      <td>...</td>\n      <td>...</td>\n      <td>...</td>\n      <td>...</td>\n      <td>...</td>\n      <td>...</td>\n      <td>...</td>\n      <td>...</td>\n      <td>...</td>\n    </tr>\n    <tr>\n      <th>39994</th>\n      <td>0</td>\n      <td>11</td>\n      <td>1</td>\n      <td>330</td>\n      <td>2000</td>\n      <td>0.255892</td>\n      <td>0.323431</td>\n      <td>0.255892</td>\n      <td>0.040295</td>\n      <td>0</td>\n      <td>16.3</td>\n    </tr>\n    <tr>\n      <th>39995</th>\n      <td>1</td>\n      <td>18</td>\n      <td>3</td>\n      <td>6</td>\n      <td>200</td>\n      <td>0.118334</td>\n      <td>0.118675</td>\n      <td>0.118334</td>\n      <td>0.001059</td>\n      <td>0</td>\n      <td>25.1</td>\n    </tr>\n    <tr>\n      <th>39997</th>\n      <td>0</td>\n      <td>23</td>\n      <td>4</td>\n      <td>720</td>\n      <td>4000</td>\n      <td>0.295024</td>\n      <td>0.681867</td>\n      <td>0.295024</td>\n      <td>0.022665</td>\n      <td>0</td>\n      <td>26.9</td>\n    </tr>\n    <tr>\n      <th>39998</th>\n      <td>1</td>\n      <td>15</td>\n      <td>2</td>\n      <td>30</td>\n      <td>20000</td>\n      <td>0.343276</td>\n      <td>0.340844</td>\n      <td>0.343276</td>\n      <td>0.000563</td>\n      <td>0</td>\n      <td>12.9</td>\n    </tr>\n    <tr>\n      <th>39999</th>\n      <td>1</td>\n      <td>1</td>\n      <td>0</td>\n      <td>600</td>\n      <td>100</td>\n      <td>0.328237</td>\n      <td>0.326089</td>\n      <td>0.328237</td>\n      <td>0.540473</td>\n      <td>0</td>\n      <td>27.4</td>\n    </tr>\n  </tbody>\n</table>\n<p>34776 rows × 11 columns</p>\n</div>"
     },
     "metadata": {},
     "execution_count": 92
    }
   ],
   "source": [
    "sector_map = {'TECH':0, 'AUTO':1, 'RETAIL': 2 , 'FMCG': 3, 'BANK':4}\n",
    "df_to_ml = df_to_ml.applymap(lambda s: sector_map.get(s) if s in sector_map else s)\n",
    "df_to_ml"
   ]
  },
  {
   "cell_type": "code",
   "execution_count": 93,
   "metadata": {},
   "outputs": [
    {
     "output_type": "execute_result",
     "data": {
      "text/plain": [
       "       investment  company  sector  horizon  amount  Volatility_Buy  \\\n",
       "0               1       16       2        6      50        0.140189   \n",
       "1               1        5       0       20   50000        0.480400   \n",
       "2               0       23       4        1    4000        0.000000   \n",
       "3               1       25       4       70     300        0.183884   \n",
       "4               1       16       2      540   15000        0.189292   \n",
       "...           ...      ...     ...      ...     ...             ...   \n",
       "39994           0       11       1      330    2000        0.255892   \n",
       "39995           1       18       3        6     200        0.118334   \n",
       "39997           0       23       4      720    4000        0.295024   \n",
       "39998           1       15       2       30   20000        0.343276   \n",
       "39999           1        1       0      600     100        0.328237   \n",
       "\n",
       "       Volatility_sell  Sharpe Ratio  expected_return (yearly)  PE_ratio  \\\n",
       "0             0.139495      0.140189                  0.002752     22.08   \n",
       "1             0.480988      0.480400                  0.027020     45.63   \n",
       "2             0.000000      0.000000                  0.000031      0.00   \n",
       "3             0.191189      0.183884                 -0.007575     36.50   \n",
       "4             0.169758      0.189292                  0.247691     26.89   \n",
       "...                ...           ...                       ...       ...   \n",
       "39994         0.323431      0.255892                  0.040295     12.78   \n",
       "39995         0.118675      0.118334                  0.001059    124.04   \n",
       "39997         0.681867      0.295024                  0.022665      4.16   \n",
       "39998         0.340844      0.343276                  0.000563     11.59   \n",
       "39999         0.326089      0.328237                  0.540473      0.00   \n",
       "\n",
       "       ESG_ranking  \n",
       "0             22.3  \n",
       "1             12.9  \n",
       "2             26.9  \n",
       "3             24.8  \n",
       "4             22.3  \n",
       "...            ...  \n",
       "39994         16.3  \n",
       "39995         25.1  \n",
       "39997         26.9  \n",
       "39998         12.9  \n",
       "39999         27.4  \n",
       "\n",
       "[34776 rows x 11 columns]"
      ],
      "text/html": "<div>\n<style scoped>\n    .dataframe tbody tr th:only-of-type {\n        vertical-align: middle;\n    }\n\n    .dataframe tbody tr th {\n        vertical-align: top;\n    }\n\n    .dataframe thead th {\n        text-align: right;\n    }\n</style>\n<table border=\"1\" class=\"dataframe\">\n  <thead>\n    <tr style=\"text-align: right;\">\n      <th></th>\n      <th>investment</th>\n      <th>company</th>\n      <th>sector</th>\n      <th>horizon</th>\n      <th>amount</th>\n      <th>Volatility_Buy</th>\n      <th>Volatility_sell</th>\n      <th>Sharpe Ratio</th>\n      <th>expected_return (yearly)</th>\n      <th>PE_ratio</th>\n      <th>ESG_ranking</th>\n    </tr>\n  </thead>\n  <tbody>\n    <tr>\n      <th>0</th>\n      <td>1</td>\n      <td>16</td>\n      <td>2</td>\n      <td>6</td>\n      <td>50</td>\n      <td>0.140189</td>\n      <td>0.139495</td>\n      <td>0.140189</td>\n      <td>0.002752</td>\n      <td>22.08</td>\n      <td>22.3</td>\n    </tr>\n    <tr>\n      <th>1</th>\n      <td>1</td>\n      <td>5</td>\n      <td>0</td>\n      <td>20</td>\n      <td>50000</td>\n      <td>0.480400</td>\n      <td>0.480988</td>\n      <td>0.480400</td>\n      <td>0.027020</td>\n      <td>45.63</td>\n      <td>12.9</td>\n    </tr>\n    <tr>\n      <th>2</th>\n      <td>0</td>\n      <td>23</td>\n      <td>4</td>\n      <td>1</td>\n      <td>4000</td>\n      <td>0.000000</td>\n      <td>0.000000</td>\n      <td>0.000000</td>\n      <td>0.000031</td>\n      <td>0.00</td>\n      <td>26.9</td>\n    </tr>\n    <tr>\n      <th>3</th>\n      <td>1</td>\n      <td>25</td>\n      <td>4</td>\n      <td>70</td>\n      <td>300</td>\n      <td>0.183884</td>\n      <td>0.191189</td>\n      <td>0.183884</td>\n      <td>-0.007575</td>\n      <td>36.50</td>\n      <td>24.8</td>\n    </tr>\n    <tr>\n      <th>4</th>\n      <td>1</td>\n      <td>16</td>\n      <td>2</td>\n      <td>540</td>\n      <td>15000</td>\n      <td>0.189292</td>\n      <td>0.169758</td>\n      <td>0.189292</td>\n      <td>0.247691</td>\n      <td>26.89</td>\n      <td>22.3</td>\n    </tr>\n    <tr>\n      <th>...</th>\n      <td>...</td>\n      <td>...</td>\n      <td>...</td>\n      <td>...</td>\n      <td>...</td>\n      <td>...</td>\n      <td>...</td>\n      <td>...</td>\n      <td>...</td>\n      <td>...</td>\n      <td>...</td>\n    </tr>\n    <tr>\n      <th>39994</th>\n      <td>0</td>\n      <td>11</td>\n      <td>1</td>\n      <td>330</td>\n      <td>2000</td>\n      <td>0.255892</td>\n      <td>0.323431</td>\n      <td>0.255892</td>\n      <td>0.040295</td>\n      <td>12.78</td>\n      <td>16.3</td>\n    </tr>\n    <tr>\n      <th>39995</th>\n      <td>1</td>\n      <td>18</td>\n      <td>3</td>\n      <td>6</td>\n      <td>200</td>\n      <td>0.118334</td>\n      <td>0.118675</td>\n      <td>0.118334</td>\n      <td>0.001059</td>\n      <td>124.04</td>\n      <td>25.1</td>\n    </tr>\n    <tr>\n      <th>39997</th>\n      <td>0</td>\n      <td>23</td>\n      <td>4</td>\n      <td>720</td>\n      <td>4000</td>\n      <td>0.295024</td>\n      <td>0.681867</td>\n      <td>0.295024</td>\n      <td>0.022665</td>\n      <td>4.16</td>\n      <td>26.9</td>\n    </tr>\n    <tr>\n      <th>39998</th>\n      <td>1</td>\n      <td>15</td>\n      <td>2</td>\n      <td>30</td>\n      <td>20000</td>\n      <td>0.343276</td>\n      <td>0.340844</td>\n      <td>0.343276</td>\n      <td>0.000563</td>\n      <td>11.59</td>\n      <td>12.9</td>\n    </tr>\n    <tr>\n      <th>39999</th>\n      <td>1</td>\n      <td>1</td>\n      <td>0</td>\n      <td>600</td>\n      <td>100</td>\n      <td>0.328237</td>\n      <td>0.326089</td>\n      <td>0.328237</td>\n      <td>0.540473</td>\n      <td>0.00</td>\n      <td>27.4</td>\n    </tr>\n  </tbody>\n</table>\n<p>34776 rows × 11 columns</p>\n</div>"
     },
     "metadata": {},
     "execution_count": 93
    }
   ],
   "source": [
    "df_to_ml = df_to_ml.fillna(0)\n",
    "df_to_ml['PE_ratio']=l_PE_ratios\n",
    "df_to_ml"
   ]
  },
  {
   "cell_type": "code",
   "execution_count": 94,
   "metadata": {},
   "outputs": [],
   "source": [
    "df_to_ml.to_csv('df_to_ml.csv')"
   ]
  },
  {
   "cell_type": "code",
   "execution_count": 95,
   "metadata": {},
   "outputs": [
    {
     "output_type": "execute_result",
     "data": {
      "text/plain": [
       "       investment  company  sector  horizon  amount  Volatility_Buy  \\\n",
       "0               1       16       2        6      50        0.140189   \n",
       "1               1        5       0       20   50000        0.480400   \n",
       "2               0       23       4        1    4000        0.000000   \n",
       "3               1       25       4       70     300        0.183884   \n",
       "4               1       16       2      540   15000        0.189292   \n",
       "...           ...      ...     ...      ...     ...             ...   \n",
       "39994           0       11       1      330    2000        0.255892   \n",
       "39995           1       18       3        6     200        0.118334   \n",
       "39997           0       23       4      720    4000        0.295024   \n",
       "39998           1       15       2       30   20000        0.343276   \n",
       "39999           1        1       0      600     100        0.328237   \n",
       "\n",
       "       Volatility_sell  Sharpe Ratio  expected_return (yearly)  PE_ratio  \\\n",
       "0             0.139495      0.140189                  0.002752     22.08   \n",
       "1             0.480988      0.480400                  0.027020     45.63   \n",
       "2             0.000000      0.000000                  0.000031      0.00   \n",
       "3             0.191189      0.183884                 -0.007575     36.50   \n",
       "4             0.169758      0.189292                  0.247691     26.89   \n",
       "...                ...           ...                       ...       ...   \n",
       "39994         0.323431      0.255892                  0.040295     12.78   \n",
       "39995         0.118675      0.118334                  0.001059    124.04   \n",
       "39997         0.681867      0.295024                  0.022665      4.16   \n",
       "39998         0.340844      0.343276                  0.000563     11.59   \n",
       "39999         0.326089      0.328237                  0.540473      0.00   \n",
       "\n",
       "       ESG_ranking  \n",
       "0             22.3  \n",
       "1             12.9  \n",
       "2             26.9  \n",
       "3             24.8  \n",
       "4             22.3  \n",
       "...            ...  \n",
       "39994         16.3  \n",
       "39995         25.1  \n",
       "39997         26.9  \n",
       "39998         12.9  \n",
       "39999         27.4  \n",
       "\n",
       "[34776 rows x 11 columns]"
      ],
      "text/html": "<div>\n<style scoped>\n    .dataframe tbody tr th:only-of-type {\n        vertical-align: middle;\n    }\n\n    .dataframe tbody tr th {\n        vertical-align: top;\n    }\n\n    .dataframe thead th {\n        text-align: right;\n    }\n</style>\n<table border=\"1\" class=\"dataframe\">\n  <thead>\n    <tr style=\"text-align: right;\">\n      <th></th>\n      <th>investment</th>\n      <th>company</th>\n      <th>sector</th>\n      <th>horizon</th>\n      <th>amount</th>\n      <th>Volatility_Buy</th>\n      <th>Volatility_sell</th>\n      <th>Sharpe Ratio</th>\n      <th>expected_return (yearly)</th>\n      <th>PE_ratio</th>\n      <th>ESG_ranking</th>\n    </tr>\n  </thead>\n  <tbody>\n    <tr>\n      <th>0</th>\n      <td>1</td>\n      <td>16</td>\n      <td>2</td>\n      <td>6</td>\n      <td>50</td>\n      <td>0.140189</td>\n      <td>0.139495</td>\n      <td>0.140189</td>\n      <td>0.002752</td>\n      <td>22.08</td>\n      <td>22.3</td>\n    </tr>\n    <tr>\n      <th>1</th>\n      <td>1</td>\n      <td>5</td>\n      <td>0</td>\n      <td>20</td>\n      <td>50000</td>\n      <td>0.480400</td>\n      <td>0.480988</td>\n      <td>0.480400</td>\n      <td>0.027020</td>\n      <td>45.63</td>\n      <td>12.9</td>\n    </tr>\n    <tr>\n      <th>2</th>\n      <td>0</td>\n      <td>23</td>\n      <td>4</td>\n      <td>1</td>\n      <td>4000</td>\n      <td>0.000000</td>\n      <td>0.000000</td>\n      <td>0.000000</td>\n      <td>0.000031</td>\n      <td>0.00</td>\n      <td>26.9</td>\n    </tr>\n    <tr>\n      <th>3</th>\n      <td>1</td>\n      <td>25</td>\n      <td>4</td>\n      <td>70</td>\n      <td>300</td>\n      <td>0.183884</td>\n      <td>0.191189</td>\n      <td>0.183884</td>\n      <td>-0.007575</td>\n      <td>36.50</td>\n      <td>24.8</td>\n    </tr>\n    <tr>\n      <th>4</th>\n      <td>1</td>\n      <td>16</td>\n      <td>2</td>\n      <td>540</td>\n      <td>15000</td>\n      <td>0.189292</td>\n      <td>0.169758</td>\n      <td>0.189292</td>\n      <td>0.247691</td>\n      <td>26.89</td>\n      <td>22.3</td>\n    </tr>\n    <tr>\n      <th>...</th>\n      <td>...</td>\n      <td>...</td>\n      <td>...</td>\n      <td>...</td>\n      <td>...</td>\n      <td>...</td>\n      <td>...</td>\n      <td>...</td>\n      <td>...</td>\n      <td>...</td>\n      <td>...</td>\n    </tr>\n    <tr>\n      <th>39994</th>\n      <td>0</td>\n      <td>11</td>\n      <td>1</td>\n      <td>330</td>\n      <td>2000</td>\n      <td>0.255892</td>\n      <td>0.323431</td>\n      <td>0.255892</td>\n      <td>0.040295</td>\n      <td>12.78</td>\n      <td>16.3</td>\n    </tr>\n    <tr>\n      <th>39995</th>\n      <td>1</td>\n      <td>18</td>\n      <td>3</td>\n      <td>6</td>\n      <td>200</td>\n      <td>0.118334</td>\n      <td>0.118675</td>\n      <td>0.118334</td>\n      <td>0.001059</td>\n      <td>124.04</td>\n      <td>25.1</td>\n    </tr>\n    <tr>\n      <th>39997</th>\n      <td>0</td>\n      <td>23</td>\n      <td>4</td>\n      <td>720</td>\n      <td>4000</td>\n      <td>0.295024</td>\n      <td>0.681867</td>\n      <td>0.295024</td>\n      <td>0.022665</td>\n      <td>4.16</td>\n      <td>26.9</td>\n    </tr>\n    <tr>\n      <th>39998</th>\n      <td>1</td>\n      <td>15</td>\n      <td>2</td>\n      <td>30</td>\n      <td>20000</td>\n      <td>0.343276</td>\n      <td>0.340844</td>\n      <td>0.343276</td>\n      <td>0.000563</td>\n      <td>11.59</td>\n      <td>12.9</td>\n    </tr>\n    <tr>\n      <th>39999</th>\n      <td>1</td>\n      <td>1</td>\n      <td>0</td>\n      <td>600</td>\n      <td>100</td>\n      <td>0.328237</td>\n      <td>0.326089</td>\n      <td>0.328237</td>\n      <td>0.540473</td>\n      <td>0.00</td>\n      <td>27.4</td>\n    </tr>\n  </tbody>\n</table>\n<p>34776 rows × 11 columns</p>\n</div>"
     },
     "metadata": {},
     "execution_count": 95
    }
   ],
   "source": [
    "df_to_ml"
   ]
  },
  {
   "source": [
    "## MACHINE LEARNING"
   ],
   "cell_type": "markdown",
   "metadata": {}
  },
  {
   "cell_type": "code",
   "execution_count": 2,
   "metadata": {
    "tags": [
     "outputPrepend"
    ]
   },
   "outputs": [
    {
     "output_type": "stream",
     "name": "stdout",
     "text": [
      "Requirement already satisfied: IPython in d:\\programdata\\anaconda3\\lib\\site-packages (from pycaret) (7.16.1)\n",
      "Requirement already satisfied: lightgbm>=2.3.1 in d:\\programdata\\anaconda3\\lib\\site-packages (from pycaret) (3.1.1)\n",
      "Requirement already satisfied: scikit-plot in d:\\programdata\\anaconda3\\lib\\site-packages (from pycaret) (0.3.7)\n",
      "Requirement already satisfied: cufflinks>=0.17.0 in d:\\programdata\\anaconda3\\lib\\site-packages (from pycaret) (0.17.3)\n",
      "Requirement already satisfied: scikit-learn==0.23.2 in d:\\programdata\\anaconda3\\lib\\site-packages (from pycaret) (0.23.2)\n",
      "Requirement already satisfied: yellowbrick>=1.0.1 in d:\\programdata\\anaconda3\\lib\\site-packages (from pycaret) (1.2)\n",
      "Requirement already satisfied: scipy>=0.19.1 in d:\\programdata\\anaconda3\\lib\\site-packages (from imbalanced-learn>=0.7.0->pycaret) (1.5.0)\n",
      "Requirement already satisfied: wheel>=0.23.0 in d:\\programdata\\anaconda3\\lib\\site-packages (from pyLDAvis->pycaret) (0.34.2)\n",
      "Requirement already satisfied: pytest in d:\\programdata\\anaconda3\\lib\\site-packages (from pyLDAvis->pycaret) (5.4.3)\n",
      "Requirement already satisfied: jinja2>=2.7.2 in d:\\programdata\\anaconda3\\lib\\site-packages (from pyLDAvis->pycaret) (2.11.2)\n",
      "Requirement already satisfied: numexpr in d:\\programdata\\anaconda3\\lib\\site-packages (from pyLDAvis->pycaret) (2.7.1)\n",
      "Requirement already satisfied: future in d:\\programdata\\anaconda3\\lib\\site-packages (from pyLDAvis->pycaret) (0.18.2)\n",
      "Requirement already satisfied: funcy in d:\\programdata\\anaconda3\\lib\\site-packages (from pyLDAvis->pycaret) (1.15)\n",
      "Requirement already satisfied: pytz>=2017.2 in d:\\programdata\\anaconda3\\lib\\site-packages (from pandas->pycaret) (2020.1)\n",
      "Requirement already satisfied: python-dateutil>=2.6.1 in d:\\programdata\\anaconda3\\lib\\site-packages (from pandas->pycaret) (2.8.1)\n",
      "Requirement already satisfied: prometheus-flask-exporter in d:\\programdata\\anaconda3\\lib\\site-packages (from mlflow->pycaret) (0.18.1)\n",
      "Requirement already satisfied: querystring-parser in d:\\programdata\\anaconda3\\lib\\site-packages (from mlflow->pycaret) (1.2.4)\n",
      "Requirement already satisfied: requests>=2.17.3 in d:\\programdata\\anaconda3\\lib\\site-packages (from mlflow->pycaret) (2.24.0)\n",
      "Requirement already satisfied: databricks-cli>=0.8.7 in d:\\programdata\\anaconda3\\lib\\site-packages (from mlflow->pycaret) (0.14.1)\n",
      "Requirement already satisfied: sqlparse>=0.3.1 in d:\\programdata\\anaconda3\\lib\\site-packages (from mlflow->pycaret) (0.4.1)\n",
      "Requirement already satisfied: azure-storage-blob>=12.0.0 in d:\\programdata\\anaconda3\\lib\\site-packages (from mlflow->pycaret) (12.7.0)\n",
      "Requirement already satisfied: alembic<=1.4.1 in d:\\programdata\\anaconda3\\lib\\site-packages (from mlflow->pycaret) (1.4.1)\n",
      "Requirement already satisfied: six>=1.10.0 in c:\\users\\imanr\\appdata\\roaming\\python\\python38\\site-packages (from mlflow->pycaret) (1.15.0)\n",
      "Requirement already satisfied: sqlalchemy in d:\\programdata\\anaconda3\\lib\\site-packages (from mlflow->pycaret) (1.3.18)\n",
      "Requirement already satisfied: cloudpickle in d:\\programdata\\anaconda3\\lib\\site-packages (from mlflow->pycaret) (1.5.0)\n",
      "Requirement already satisfied: entrypoints in d:\\programdata\\anaconda3\\lib\\site-packages (from mlflow->pycaret) (0.3)\n",
      "Requirement already satisfied: protobuf>=3.6.0 in d:\\programdata\\anaconda3\\lib\\site-packages (from mlflow->pycaret) (3.14.0)\n",
      "Requirement already satisfied: Flask in d:\\programdata\\anaconda3\\lib\\site-packages (from mlflow->pycaret) (1.1.2)\n",
      "Requirement already satisfied: docker>=4.0.0 in d:\\programdata\\anaconda3\\lib\\site-packages (from mlflow->pycaret) (4.4.1)\n",
      "Requirement already satisfied: gitpython>=2.1.0 in d:\\programdata\\anaconda3\\lib\\site-packages (from mlflow->pycaret) (3.1.12)\n",
      "Requirement already satisfied: pyyaml in d:\\programdata\\anaconda3\\lib\\site-packages (from mlflow->pycaret) (5.3.1)\n",
      "Requirement already satisfied: waitress; platform_system == \"Windows\" in d:\\programdata\\anaconda3\\lib\\site-packages (from mlflow->pycaret) (1.4.4)\n",
      "Requirement already satisfied: click>=7.0 in d:\\programdata\\anaconda3\\lib\\site-packages (from mlflow->pycaret) (7.1.2)\n",
      "Requirement already satisfied: statsmodels in d:\\programdata\\anaconda3\\lib\\site-packages (from pyod->pycaret) (0.11.1)\n",
      "Requirement already satisfied: combo in d:\\programdata\\anaconda3\\lib\\site-packages (from pyod->pycaret) (0.1.2)\n",
      "Requirement already satisfied: numba>=0.35 in d:\\programdata\\anaconda3\\lib\\site-packages (from pyod->pycaret) (0.50.1)\n",
      "Requirement already satisfied: suod in d:\\programdata\\anaconda3\\lib\\site-packages (from pyod->pycaret) (0.0.6)\n",
      "Requirement already satisfied: tqdm in d:\\programdata\\anaconda3\\lib\\site-packages (from nltk->pycaret) (4.56.0)\n",
      "Requirement already satisfied: regex in d:\\programdata\\anaconda3\\lib\\site-packages (from nltk->pycaret) (2020.6.8)\n",
      "Requirement already satisfied: htmlmin>=0.1.12 in d:\\programdata\\anaconda3\\lib\\site-packages (from pandas-profiling>=2.8.0->pycaret) (0.1.12)\n",
      "Requirement already satisfied: phik>=0.10.0 in d:\\programdata\\anaconda3\\lib\\site-packages (from pandas-profiling>=2.8.0->pycaret) (0.11.0)\n",
      "Requirement already satisfied: confuse>=1.0.0 in d:\\programdata\\anaconda3\\lib\\site-packages (from pandas-profiling>=2.8.0->pycaret) (1.4.0)\n",
      "Requirement already satisfied: visions[type_image_path]==0.6.0 in d:\\programdata\\anaconda3\\lib\\site-packages (from pandas-profiling>=2.8.0->pycaret) (0.6.0)\n",
      "Requirement already satisfied: tangled-up-in-unicode>=0.0.6 in d:\\programdata\\anaconda3\\lib\\site-packages (from pandas-profiling>=2.8.0->pycaret) (0.0.6)\n",
      "Requirement already satisfied: missingno>=0.4.2 in d:\\programdata\\anaconda3\\lib\\site-packages (from pandas-profiling>=2.8.0->pycaret) (0.4.2)\n",
      "Requirement already satisfied: attrs>=19.3.0 in d:\\programdata\\anaconda3\\lib\\site-packages (from pandas-profiling>=2.8.0->pycaret) (19.3.0)\n",
      "Requirement already satisfied: ipykernel>=4.5.1 in d:\\programdata\\anaconda3\\lib\\site-packages (from ipywidgets->pycaret) (5.3.2)\n",
      "Requirement already satisfied: traitlets>=4.3.1 in d:\\programdata\\anaconda3\\lib\\site-packages (from ipywidgets->pycaret) (4.3.3)\n",
      "Requirement already satisfied: widgetsnbextension~=3.5.0 in d:\\programdata\\anaconda3\\lib\\site-packages (from ipywidgets->pycaret) (3.5.1)\n",
      "Requirement already satisfied: nbformat>=4.2.0 in d:\\programdata\\anaconda3\\lib\\site-packages (from ipywidgets->pycaret) (5.0.7)\n",
      "Requirement already satisfied: pillow in d:\\programdata\\anaconda3\\lib\\site-packages (from wordcloud->pycaret) (7.2.0)\n",
      "Requirement already satisfied: setuptools in d:\\programdata\\anaconda3\\lib\\site-packages (from mlxtend->pycaret) (49.2.0.post20200714)\n",
      "Requirement already satisfied: graphviz in d:\\programdata\\anaconda3\\lib\\site-packages (from catboost>=0.23.2->pycaret) (0.16)\n",
      "Requirement already satisfied: pyparsing!=2.0.4,!=2.1.2,!=2.1.6,>=2.0.1 in d:\\programdata\\anaconda3\\lib\\site-packages (from matplotlib->pycaret) (2.4.7)\n",
      "Requirement already satisfied: kiwisolver>=1.0.1 in d:\\programdata\\anaconda3\\lib\\site-packages (from matplotlib->pycaret) (1.2.0)\n",
      "Requirement already satisfied: cycler>=0.10 in d:\\programdata\\anaconda3\\lib\\site-packages (from matplotlib->pycaret) (0.10.0)\n",
      "Requirement already satisfied: smart-open>=1.8.1 in d:\\programdata\\anaconda3\\lib\\site-packages (from gensim->pycaret) (4.1.0)\n",
      "Requirement already satisfied: Cython==0.29.14 in d:\\programdata\\anaconda3\\lib\\site-packages (from gensim->pycaret) (0.29.14)\n",
      "Requirement already satisfied: pynndescent>=0.5 in d:\\programdata\\anaconda3\\lib\\site-packages (from umap-learn->pycaret) (0.5.1)\n",
      "Requirement already satisfied: cymem<2.1.0,>=2.0.2 in d:\\programdata\\anaconda3\\lib\\site-packages (from spacy->pycaret) (2.0.5)\n",
      "Requirement already satisfied: wasabi<1.1.0,>=0.4.0 in d:\\programdata\\anaconda3\\lib\\site-packages (from spacy->pycaret) (0.8.0)\n",
      "Requirement already satisfied: plac<1.2.0,>=0.9.6 in d:\\programdata\\anaconda3\\lib\\site-packages (from spacy->pycaret) (1.1.3)\n",
      "Requirement already satisfied: srsly<1.1.0,>=1.0.2 in d:\\programdata\\anaconda3\\lib\\site-packages (from spacy->pycaret) (1.0.5)\n",
      "Requirement already satisfied: thinc<7.5.0,>=7.4.1 in d:\\programdata\\anaconda3\\lib\\site-packages (from spacy->pycaret) (7.4.5)\n",
      "Requirement already satisfied: preshed<3.1.0,>=3.0.2 in d:\\programdata\\anaconda3\\lib\\site-packages (from spacy->pycaret) (3.0.5)\n",
      "Requirement already satisfied: blis<0.8.0,>=0.4.0 in d:\\programdata\\anaconda3\\lib\\site-packages (from spacy->pycaret) (0.7.4)\n",
      "Requirement already satisfied: murmurhash<1.1.0,>=0.28.0 in d:\\programdata\\anaconda3\\lib\\site-packages (from spacy->pycaret) (1.0.5)\n",
      "Requirement already satisfied: catalogue<1.1.0,>=0.0.7 in d:\\programdata\\anaconda3\\lib\\site-packages (from spacy->pycaret) (1.0.0)\n",
      "Requirement already satisfied: retrying>=1.3.3 in d:\\programdata\\anaconda3\\lib\\site-packages (from plotly>=4.4.1->pycaret) (1.3.3)\n",
      "Requirement already satisfied: backcall in d:\\programdata\\anaconda3\\lib\\site-packages (from IPython->pycaret) (0.2.0)\n",
      "Requirement already satisfied: prompt-toolkit!=3.0.0,!=3.0.1,<3.1.0,>=2.0.0 in d:\\programdata\\anaconda3\\lib\\site-packages (from IPython->pycaret) (3.0.5)\n",
      "Requirement already satisfied: pygments in d:\\programdata\\anaconda3\\lib\\site-packages (from IPython->pycaret) (2.6.1)\n",
      "Requirement already satisfied: colorama; sys_platform == \"win32\" in c:\\users\\imanr\\appdata\\roaming\\python\\python38\\site-packages (from IPython->pycaret) (0.4.4)\n",
      "Requirement already satisfied: pickleshare in d:\\programdata\\anaconda3\\lib\\site-packages (from IPython->pycaret) (0.7.5)\n",
      "Requirement already satisfied: jedi>=0.10 in d:\\programdata\\anaconda3\\lib\\site-packages (from IPython->pycaret) (0.17.1)\n",
      "Requirement already satisfied: decorator in d:\\programdata\\anaconda3\\lib\\site-packages (from IPython->pycaret) (4.4.2)\n",
      "Requirement already satisfied: colorlover>=0.2.1 in d:\\programdata\\anaconda3\\lib\\site-packages (from cufflinks>=0.17.0->pycaret) (0.3.0)\n",
      "Requirement already satisfied: threadpoolctl>=2.0.0 in d:\\programdata\\anaconda3\\lib\\site-packages (from scikit-learn==0.23.2->pycaret) (2.1.0)\n",
      "Requirement already satisfied: py>=1.5.0 in d:\\programdata\\anaconda3\\lib\\site-packages (from pytest->pyLDAvis->pycaret) (1.9.0)\n",
      "Requirement already satisfied: packaging in d:\\programdata\\anaconda3\\lib\\site-packages (from pytest->pyLDAvis->pycaret) (20.4)\n",
      "Requirement already satisfied: more-itertools>=4.0.0 in d:\\programdata\\anaconda3\\lib\\site-packages (from pytest->pyLDAvis->pycaret) (8.4.0)\n",
      "Requirement already satisfied: pluggy<1.0,>=0.12 in d:\\programdata\\anaconda3\\lib\\site-packages (from pytest->pyLDAvis->pycaret) (0.13.1)\n",
      "Requirement already satisfied: wcwidth in d:\\programdata\\anaconda3\\lib\\site-packages (from pytest->pyLDAvis->pycaret) (0.2.5)\n",
      "Requirement already satisfied: atomicwrites>=1.0 in d:\\programdata\\anaconda3\\lib\\site-packages (from pytest->pyLDAvis->pycaret) (1.4.0)\n",
      "Requirement already satisfied: MarkupSafe>=0.23 in d:\\programdata\\anaconda3\\lib\\site-packages (from jinja2>=2.7.2->pyLDAvis->pycaret) (1.1.1)\n",
      "Requirement already satisfied: prometheus-client in d:\\programdata\\anaconda3\\lib\\site-packages (from prometheus-flask-exporter->mlflow->pycaret) (0.8.0)\n",
      "Requirement already satisfied: idna<3,>=2.5 in d:\\programdata\\anaconda3\\lib\\site-packages (from requests>=2.17.3->mlflow->pycaret) (2.10)\n",
      "Requirement already satisfied: chardet<4,>=3.0.2 in d:\\programdata\\anaconda3\\lib\\site-packages (from requests>=2.17.3->mlflow->pycaret) (3.0.4)\n",
      "Requirement already satisfied: certifi>=2017.4.17 in d:\\programdata\\anaconda3\\lib\\site-packages (from requests>=2.17.3->mlflow->pycaret) (2020.6.20)\n",
      "Requirement already satisfied: urllib3!=1.25.0,!=1.25.1,<1.26,>=1.21.1 in d:\\programdata\\anaconda3\\lib\\site-packages (from requests>=2.17.3->mlflow->pycaret) (1.25.9)\n",
      "Requirement already satisfied: tabulate>=0.7.7 in d:\\programdata\\anaconda3\\lib\\site-packages (from databricks-cli>=0.8.7->mlflow->pycaret) (0.8.7)\n",
      "Requirement already satisfied: azure-core<2.0.0,>=1.10.0 in d:\\programdata\\anaconda3\\lib\\site-packages (from azure-storage-blob>=12.0.0->mlflow->pycaret) (1.10.0)\n",
      "Requirement already satisfied: msrest>=0.6.10 in d:\\programdata\\anaconda3\\lib\\site-packages (from azure-storage-blob>=12.0.0->mlflow->pycaret) (0.6.19)\n",
      "Requirement already satisfied: cryptography>=2.1.4 in d:\\programdata\\anaconda3\\lib\\site-packages (from azure-storage-blob>=12.0.0->mlflow->pycaret) (2.9.2)\n",
      "Requirement already satisfied: Mako in d:\\programdata\\anaconda3\\lib\\site-packages (from alembic<=1.4.1->mlflow->pycaret) (1.1.4)\n",
      "Requirement already satisfied: python-editor>=0.3 in d:\\programdata\\anaconda3\\lib\\site-packages (from alembic<=1.4.1->mlflow->pycaret) (1.0.4)\n",
      "Requirement already satisfied: itsdangerous>=0.24 in d:\\programdata\\anaconda3\\lib\\site-packages (from Flask->mlflow->pycaret) (1.1.0)\n",
      "Requirement already satisfied: Werkzeug>=0.15 in d:\\programdata\\anaconda3\\lib\\site-packages (from Flask->mlflow->pycaret) (1.0.1)\n",
      "Requirement already satisfied: pywin32==227; sys_platform == \"win32\" in d:\\programdata\\anaconda3\\lib\\site-packages (from docker>=4.0.0->mlflow->pycaret) (227)\n",
      "Requirement already satisfied: websocket-client>=0.32.0 in d:\\programdata\\anaconda3\\lib\\site-packages (from docker>=4.0.0->mlflow->pycaret) (0.57.0)\n",
      "Requirement already satisfied: gitdb<5,>=4.0.1 in d:\\programdata\\anaconda3\\lib\\site-packages (from gitpython>=2.1.0->mlflow->pycaret) (4.0.5)\n",
      "Requirement already satisfied: patsy>=0.5 in d:\\programdata\\anaconda3\\lib\\site-packages (from statsmodels->pyod->pycaret) (0.5.1)\n",
      "Requirement already satisfied: llvmlite<0.34,>=0.33.0.dev0 in d:\\programdata\\anaconda3\\lib\\site-packages (from numba>=0.35->pyod->pycaret) (0.33.0+1.g022ab0f)\n",
      "Requirement already satisfied: psutil in d:\\programdata\\anaconda3\\lib\\site-packages (from suod->pyod->pycaret) (5.7.0)\n",
      "Requirement already satisfied: networkx>=2.4 in d:\\programdata\\anaconda3\\lib\\site-packages (from visions[type_image_path]==0.6.0->pandas-profiling>=2.8.0->pycaret) (2.4)\n",
      "Requirement already satisfied: imagehash; extra == \"type_image_path\" in d:\\programdata\\anaconda3\\lib\\site-packages (from visions[type_image_path]==0.6.0->pandas-profiling>=2.8.0->pycaret) (4.2.0)\n",
      "Requirement already satisfied: jupyter-client in d:\\programdata\\anaconda3\\lib\\site-packages (from ipykernel>=4.5.1->ipywidgets->pycaret) (6.1.6)\n",
      "Requirement already satisfied: tornado>=4.2 in d:\\programdata\\anaconda3\\lib\\site-packages (from ipykernel>=4.5.1->ipywidgets->pycaret) (6.0.4)\n",
      "Requirement already satisfied: ipython-genutils in d:\\programdata\\anaconda3\\lib\\site-packages (from traitlets>=4.3.1->ipywidgets->pycaret) (0.2.0)\n",
      "Requirement already satisfied: notebook>=4.4.1 in d:\\programdata\\anaconda3\\lib\\site-packages (from widgetsnbextension~=3.5.0->ipywidgets->pycaret) (6.0.3)\n",
      "Requirement already satisfied: jupyter-core in d:\\programdata\\anaconda3\\lib\\site-packages (from nbformat>=4.2.0->ipywidgets->pycaret) (4.6.3)\n",
      "Requirement already satisfied: jsonschema!=2.5.0,>=2.4 in d:\\programdata\\anaconda3\\lib\\site-packages (from nbformat>=4.2.0->ipywidgets->pycaret) (3.2.0)\n",
      "Requirement already satisfied: parso<0.8.0,>=0.7.0 in d:\\programdata\\anaconda3\\lib\\site-packages (from jedi>=0.10->IPython->pycaret) (0.7.0)\n",
      "Requirement already satisfied: isodate>=0.6.0 in d:\\programdata\\anaconda3\\lib\\site-packages (from msrest>=0.6.10->azure-storage-blob>=12.0.0->mlflow->pycaret) (0.6.0)\n",
      "Requirement already satisfied: requests-oauthlib>=0.5.0 in d:\\programdata\\anaconda3\\lib\\site-packages (from msrest>=0.6.10->azure-storage-blob>=12.0.0->mlflow->pycaret) (1.3.0)\n",
      "Requirement already satisfied: cffi!=1.11.3,>=1.8 in d:\\programdata\\anaconda3\\lib\\site-packages (from cryptography>=2.1.4->azure-storage-blob>=12.0.0->mlflow->pycaret) (1.14.0)\n",
      "Requirement already satisfied: smmap<4,>=3.0.1 in d:\\programdata\\anaconda3\\lib\\site-packages (from gitdb<5,>=4.0.1->gitpython>=2.1.0->mlflow->pycaret) (3.0.4)\n",
      "Requirement already satisfied: PyWavelets in d:\\programdata\\anaconda3\\lib\\site-packages (from imagehash; extra == \"type_image_path\"->visions[type_image_path]==0.6.0->pandas-profiling>=2.8.0->pycaret) (1.1.1)\n",
      "Requirement already satisfied: pyzmq>=13 in d:\\programdata\\anaconda3\\lib\\site-packages (from jupyter-client->ipykernel>=4.5.1->ipywidgets->pycaret) (19.0.1)\n",
      "Requirement already satisfied: Send2Trash in d:\\programdata\\anaconda3\\lib\\site-packages (from notebook>=4.4.1->widgetsnbextension~=3.5.0->ipywidgets->pycaret) (1.5.0)\n",
      "Requirement already satisfied: terminado>=0.8.1 in d:\\programdata\\anaconda3\\lib\\site-packages (from notebook>=4.4.1->widgetsnbextension~=3.5.0->ipywidgets->pycaret) (0.8.3)\n",
      "Requirement already satisfied: nbconvert in d:\\programdata\\anaconda3\\lib\\site-packages (from notebook>=4.4.1->widgetsnbextension~=3.5.0->ipywidgets->pycaret) (5.6.1)\n",
      "Requirement already satisfied: pyrsistent>=0.14.0 in d:\\programdata\\anaconda3\\lib\\site-packages (from jsonschema!=2.5.0,>=2.4->nbformat>=4.2.0->ipywidgets->pycaret) (0.16.0)\n",
      "Requirement already satisfied: oauthlib>=3.0.0 in d:\\programdata\\anaconda3\\lib\\site-packages (from requests-oauthlib>=0.5.0->msrest>=0.6.10->azure-storage-blob>=12.0.0->mlflow->pycaret) (3.1.0)\n",
      "Requirement already satisfied: pycparser in d:\\programdata\\anaconda3\\lib\\site-packages (from cffi!=1.11.3,>=1.8->cryptography>=2.1.4->azure-storage-blob>=12.0.0->mlflow->pycaret) (2.20)\n",
      "Requirement already satisfied: testpath in d:\\programdata\\anaconda3\\lib\\site-packages (from nbconvert->notebook>=4.4.1->widgetsnbextension~=3.5.0->ipywidgets->pycaret) (0.4.4)\n",
      "Requirement already satisfied: bleach in d:\\programdata\\anaconda3\\lib\\site-packages (from nbconvert->notebook>=4.4.1->widgetsnbextension~=3.5.0->ipywidgets->pycaret) (3.1.5)\n",
      "Requirement already satisfied: pandocfilters>=1.4.1 in d:\\programdata\\anaconda3\\lib\\site-packages (from nbconvert->notebook>=4.4.1->widgetsnbextension~=3.5.0->ipywidgets->pycaret) (1.4.2)\n",
      "Requirement already satisfied: defusedxml in d:\\programdata\\anaconda3\\lib\\site-packages (from nbconvert->notebook>=4.4.1->widgetsnbextension~=3.5.0->ipywidgets->pycaret) (0.6.0)\n",
      "Requirement already satisfied: mistune<2,>=0.8.1 in d:\\programdata\\anaconda3\\lib\\site-packages (from nbconvert->notebook>=4.4.1->widgetsnbextension~=3.5.0->ipywidgets->pycaret) (0.8.4)\n",
      "Requirement already satisfied: webencodings in d:\\programdata\\anaconda3\\lib\\site-packages (from bleach->nbconvert->notebook>=4.4.1->widgetsnbextension~=3.5.0->ipywidgets->pycaret) (0.5.1)\n",
      "Requirement already satisfied: shap in d:\\programdata\\anaconda3\\lib\\site-packages (0.37.0)\n",
      "Requirement already satisfied: pandas in d:\\programdata\\anaconda3\\lib\\site-packages (from shap) (1.0.5)\n",
      "Requirement already satisfied: scipy in d:\\programdata\\anaconda3\\lib\\site-packages (from shap) (1.5.0)\n",
      "Requirement already satisfied: scikit-learn in d:\\programdata\\anaconda3\\lib\\site-packages (from shap) (0.23.2)\n",
      "Requirement already satisfied: numpy in d:\\programdata\\anaconda3\\lib\\site-packages (from shap) (1.18.5)\n",
      "Requirement already satisfied: slicer==0.0.3 in d:\\programdata\\anaconda3\\lib\\site-packages (from shap) (0.0.3)\n",
      "Requirement already satisfied: numba in d:\\programdata\\anaconda3\\lib\\site-packages (from shap) (0.50.1)\n",
      "Requirement already satisfied: tqdm>4.25.0 in d:\\programdata\\anaconda3\\lib\\site-packages (from shap) (4.56.0)\n",
      "Requirement already satisfied: pytz>=2017.2 in d:\\programdata\\anaconda3\\lib\\site-packages (from pandas->shap) (2020.1)\n",
      "Requirement already satisfied: python-dateutil>=2.6.1 in d:\\programdata\\anaconda3\\lib\\site-packages (from pandas->shap) (2.8.1)\n",
      "Requirement already satisfied: joblib>=0.11 in d:\\programdata\\anaconda3\\lib\\site-packages (from scikit-learn->shap) (0.16.0)\n",
      "Requirement already satisfied: threadpoolctl>=2.0.0 in d:\\programdata\\anaconda3\\lib\\site-packages (from scikit-learn->shap) (2.1.0)\n",
      "Requirement already satisfied: llvmlite<0.34,>=0.33.0.dev0 in d:\\programdata\\anaconda3\\lib\\site-packages (from numba->shap) (0.33.0+1.g022ab0f)\n",
      "Requirement already satisfied: setuptools in d:\\programdata\\anaconda3\\lib\\site-packages (from numba->shap) (49.2.0.post20200714)\n",
      "Requirement already satisfied: six>=1.5 in c:\\users\\imanr\\appdata\\roaming\\python\\python38\\site-packages (from python-dateutil>=2.6.1->pandas->shap) (1.15.0)\n"
     ]
    }
   ],
   "source": [
    "!pip install pycaret\n",
    "!pip install shap"
   ]
  },
  {
   "cell_type": "code",
   "execution_count": 3,
   "metadata": {},
   "outputs": [
    {
     "output_type": "execute_result",
     "data": {
      "text/plain": [
       "       investment  company  sector  horizon  amount  Volatility_Buy  \\\n",
       "0               1       16       2        6      50        0.140189   \n",
       "1               1        5       0       20   50000        0.480400   \n",
       "2               0       23       4        1    4000        0.000000   \n",
       "3               1       25       4       70     300        0.183884   \n",
       "4               1       16       2      540   15000        0.189292   \n",
       "...           ...      ...     ...      ...     ...             ...   \n",
       "34771           0       11       1      330    2000        0.255892   \n",
       "34772           1       18       3        6     200        0.118334   \n",
       "34773           0       23       4      720    4000        0.295024   \n",
       "34774           1       15       2       30   20000        0.343276   \n",
       "34775           1        1       0      600     100        0.328237   \n",
       "\n",
       "       Volatility_sell  Sharpe Ratio  expected_return (yearly)  PE_ratio  \\\n",
       "0             0.139495      0.140189                  0.002752     22.08   \n",
       "1             0.480988      0.480400                  0.027020     45.63   \n",
       "2             0.000000      0.000000                  0.000031      0.00   \n",
       "3             0.191189      0.183884                 -0.007575     36.50   \n",
       "4             0.169758      0.189292                  0.247691     26.89   \n",
       "...                ...           ...                       ...       ...   \n",
       "34771         0.323431      0.255892                  0.040295     12.78   \n",
       "34772         0.118675      0.118334                  0.001059    124.04   \n",
       "34773         0.681867      0.295024                  0.022665      4.16   \n",
       "34774         0.340844      0.343276                  0.000563     11.59   \n",
       "34775         0.326089      0.328237                  0.540473      0.00   \n",
       "\n",
       "       ESG_ranking  \n",
       "0             22.3  \n",
       "1             12.9  \n",
       "2             26.9  \n",
       "3             24.8  \n",
       "4             22.3  \n",
       "...            ...  \n",
       "34771         16.3  \n",
       "34772         25.1  \n",
       "34773         26.9  \n",
       "34774         12.9  \n",
       "34775         27.4  \n",
       "\n",
       "[34776 rows x 11 columns]"
      ],
      "text/html": "<div>\n<style scoped>\n    .dataframe tbody tr th:only-of-type {\n        vertical-align: middle;\n    }\n\n    .dataframe tbody tr th {\n        vertical-align: top;\n    }\n\n    .dataframe thead th {\n        text-align: right;\n    }\n</style>\n<table border=\"1\" class=\"dataframe\">\n  <thead>\n    <tr style=\"text-align: right;\">\n      <th></th>\n      <th>investment</th>\n      <th>company</th>\n      <th>sector</th>\n      <th>horizon</th>\n      <th>amount</th>\n      <th>Volatility_Buy</th>\n      <th>Volatility_sell</th>\n      <th>Sharpe Ratio</th>\n      <th>expected_return (yearly)</th>\n      <th>PE_ratio</th>\n      <th>ESG_ranking</th>\n    </tr>\n  </thead>\n  <tbody>\n    <tr>\n      <th>0</th>\n      <td>1</td>\n      <td>16</td>\n      <td>2</td>\n      <td>6</td>\n      <td>50</td>\n      <td>0.140189</td>\n      <td>0.139495</td>\n      <td>0.140189</td>\n      <td>0.002752</td>\n      <td>22.08</td>\n      <td>22.3</td>\n    </tr>\n    <tr>\n      <th>1</th>\n      <td>1</td>\n      <td>5</td>\n      <td>0</td>\n      <td>20</td>\n      <td>50000</td>\n      <td>0.480400</td>\n      <td>0.480988</td>\n      <td>0.480400</td>\n      <td>0.027020</td>\n      <td>45.63</td>\n      <td>12.9</td>\n    </tr>\n    <tr>\n      <th>2</th>\n      <td>0</td>\n      <td>23</td>\n      <td>4</td>\n      <td>1</td>\n      <td>4000</td>\n      <td>0.000000</td>\n      <td>0.000000</td>\n      <td>0.000000</td>\n      <td>0.000031</td>\n      <td>0.00</td>\n      <td>26.9</td>\n    </tr>\n    <tr>\n      <th>3</th>\n      <td>1</td>\n      <td>25</td>\n      <td>4</td>\n      <td>70</td>\n      <td>300</td>\n      <td>0.183884</td>\n      <td>0.191189</td>\n      <td>0.183884</td>\n      <td>-0.007575</td>\n      <td>36.50</td>\n      <td>24.8</td>\n    </tr>\n    <tr>\n      <th>4</th>\n      <td>1</td>\n      <td>16</td>\n      <td>2</td>\n      <td>540</td>\n      <td>15000</td>\n      <td>0.189292</td>\n      <td>0.169758</td>\n      <td>0.189292</td>\n      <td>0.247691</td>\n      <td>26.89</td>\n      <td>22.3</td>\n    </tr>\n    <tr>\n      <th>...</th>\n      <td>...</td>\n      <td>...</td>\n      <td>...</td>\n      <td>...</td>\n      <td>...</td>\n      <td>...</td>\n      <td>...</td>\n      <td>...</td>\n      <td>...</td>\n      <td>...</td>\n      <td>...</td>\n    </tr>\n    <tr>\n      <th>34771</th>\n      <td>0</td>\n      <td>11</td>\n      <td>1</td>\n      <td>330</td>\n      <td>2000</td>\n      <td>0.255892</td>\n      <td>0.323431</td>\n      <td>0.255892</td>\n      <td>0.040295</td>\n      <td>12.78</td>\n      <td>16.3</td>\n    </tr>\n    <tr>\n      <th>34772</th>\n      <td>1</td>\n      <td>18</td>\n      <td>3</td>\n      <td>6</td>\n      <td>200</td>\n      <td>0.118334</td>\n      <td>0.118675</td>\n      <td>0.118334</td>\n      <td>0.001059</td>\n      <td>124.04</td>\n      <td>25.1</td>\n    </tr>\n    <tr>\n      <th>34773</th>\n      <td>0</td>\n      <td>23</td>\n      <td>4</td>\n      <td>720</td>\n      <td>4000</td>\n      <td>0.295024</td>\n      <td>0.681867</td>\n      <td>0.295024</td>\n      <td>0.022665</td>\n      <td>4.16</td>\n      <td>26.9</td>\n    </tr>\n    <tr>\n      <th>34774</th>\n      <td>1</td>\n      <td>15</td>\n      <td>2</td>\n      <td>30</td>\n      <td>20000</td>\n      <td>0.343276</td>\n      <td>0.340844</td>\n      <td>0.343276</td>\n      <td>0.000563</td>\n      <td>11.59</td>\n      <td>12.9</td>\n    </tr>\n    <tr>\n      <th>34775</th>\n      <td>1</td>\n      <td>1</td>\n      <td>0</td>\n      <td>600</td>\n      <td>100</td>\n      <td>0.328237</td>\n      <td>0.326089</td>\n      <td>0.328237</td>\n      <td>0.540473</td>\n      <td>0.00</td>\n      <td>27.4</td>\n    </tr>\n  </tbody>\n</table>\n<p>34776 rows × 11 columns</p>\n</div>"
     },
     "metadata": {},
     "execution_count": 3
    }
   ],
   "source": [
    "df_to_ml = pd.read_csv('df_to_ml.csv')\n",
    "df_to_ml.pop(\"Unnamed: 0\")\n",
    "df_to_ml"
   ]
  },
  {
   "cell_type": "code",
   "execution_count": 4,
   "metadata": {},
   "outputs": [
    {
     "output_type": "display_data",
     "data": {
      "text/plain": "<pandas.io.formats.style.Styler at 0x1d0c1a994c0>",
      "text/html": "<style  type=\"text/css\" >\n</style><table id=\"T_f858dcac_5766_11eb_864d_0433c2bc65e6\" ><thead>    <tr>        <th class=\"blank level0\" ></th>        <th class=\"col_heading level0 col0\" >Description</th>        <th class=\"col_heading level0 col1\" >Value</th>    </tr></thead><tbody>\n                <tr>\n                        <th id=\"T_f858dcac_5766_11eb_864d_0433c2bc65e6level0_row0\" class=\"row_heading level0 row0\" >0</th>\n                        <td id=\"T_f858dcac_5766_11eb_864d_0433c2bc65e6row0_col0\" class=\"data row0 col0\" >session_id</td>\n                        <td id=\"T_f858dcac_5766_11eb_864d_0433c2bc65e6row0_col1\" class=\"data row0 col1\" >2044</td>\n            </tr>\n            <tr>\n                        <th id=\"T_f858dcac_5766_11eb_864d_0433c2bc65e6level0_row1\" class=\"row_heading level0 row1\" >1</th>\n                        <td id=\"T_f858dcac_5766_11eb_864d_0433c2bc65e6row1_col0\" class=\"data row1 col0\" >Target</td>\n                        <td id=\"T_f858dcac_5766_11eb_864d_0433c2bc65e6row1_col1\" class=\"data row1 col1\" >investment</td>\n            </tr>\n            <tr>\n                        <th id=\"T_f858dcac_5766_11eb_864d_0433c2bc65e6level0_row2\" class=\"row_heading level0 row2\" >2</th>\n                        <td id=\"T_f858dcac_5766_11eb_864d_0433c2bc65e6row2_col0\" class=\"data row2 col0\" >Target Type</td>\n                        <td id=\"T_f858dcac_5766_11eb_864d_0433c2bc65e6row2_col1\" class=\"data row2 col1\" >Binary</td>\n            </tr>\n            <tr>\n                        <th id=\"T_f858dcac_5766_11eb_864d_0433c2bc65e6level0_row3\" class=\"row_heading level0 row3\" >3</th>\n                        <td id=\"T_f858dcac_5766_11eb_864d_0433c2bc65e6row3_col0\" class=\"data row3 col0\" >Label Encoded</td>\n                        <td id=\"T_f858dcac_5766_11eb_864d_0433c2bc65e6row3_col1\" class=\"data row3 col1\" >0: 0, 1: 1</td>\n            </tr>\n            <tr>\n                        <th id=\"T_f858dcac_5766_11eb_864d_0433c2bc65e6level0_row4\" class=\"row_heading level0 row4\" >4</th>\n                        <td id=\"T_f858dcac_5766_11eb_864d_0433c2bc65e6row4_col0\" class=\"data row4 col0\" >Original Data</td>\n                        <td id=\"T_f858dcac_5766_11eb_864d_0433c2bc65e6row4_col1\" class=\"data row4 col1\" >(34776, 11)</td>\n            </tr>\n            <tr>\n                        <th id=\"T_f858dcac_5766_11eb_864d_0433c2bc65e6level0_row5\" class=\"row_heading level0 row5\" >5</th>\n                        <td id=\"T_f858dcac_5766_11eb_864d_0433c2bc65e6row5_col0\" class=\"data row5 col0\" >Missing Values</td>\n                        <td id=\"T_f858dcac_5766_11eb_864d_0433c2bc65e6row5_col1\" class=\"data row5 col1\" >False</td>\n            </tr>\n            <tr>\n                        <th id=\"T_f858dcac_5766_11eb_864d_0433c2bc65e6level0_row6\" class=\"row_heading level0 row6\" >6</th>\n                        <td id=\"T_f858dcac_5766_11eb_864d_0433c2bc65e6row6_col0\" class=\"data row6 col0\" >Numeric Features</td>\n                        <td id=\"T_f858dcac_5766_11eb_864d_0433c2bc65e6row6_col1\" class=\"data row6 col1\" >8</td>\n            </tr>\n            <tr>\n                        <th id=\"T_f858dcac_5766_11eb_864d_0433c2bc65e6level0_row7\" class=\"row_heading level0 row7\" >7</th>\n                        <td id=\"T_f858dcac_5766_11eb_864d_0433c2bc65e6row7_col0\" class=\"data row7 col0\" >Categorical Features</td>\n                        <td id=\"T_f858dcac_5766_11eb_864d_0433c2bc65e6row7_col1\" class=\"data row7 col1\" >2</td>\n            </tr>\n            <tr>\n                        <th id=\"T_f858dcac_5766_11eb_864d_0433c2bc65e6level0_row8\" class=\"row_heading level0 row8\" >8</th>\n                        <td id=\"T_f858dcac_5766_11eb_864d_0433c2bc65e6row8_col0\" class=\"data row8 col0\" >Ordinal Features</td>\n                        <td id=\"T_f858dcac_5766_11eb_864d_0433c2bc65e6row8_col1\" class=\"data row8 col1\" >False</td>\n            </tr>\n            <tr>\n                        <th id=\"T_f858dcac_5766_11eb_864d_0433c2bc65e6level0_row9\" class=\"row_heading level0 row9\" >9</th>\n                        <td id=\"T_f858dcac_5766_11eb_864d_0433c2bc65e6row9_col0\" class=\"data row9 col0\" >High Cardinality Features</td>\n                        <td id=\"T_f858dcac_5766_11eb_864d_0433c2bc65e6row9_col1\" class=\"data row9 col1\" >False</td>\n            </tr>\n            <tr>\n                        <th id=\"T_f858dcac_5766_11eb_864d_0433c2bc65e6level0_row10\" class=\"row_heading level0 row10\" >10</th>\n                        <td id=\"T_f858dcac_5766_11eb_864d_0433c2bc65e6row10_col0\" class=\"data row10 col0\" >High Cardinality Method</td>\n                        <td id=\"T_f858dcac_5766_11eb_864d_0433c2bc65e6row10_col1\" class=\"data row10 col1\" >None</td>\n            </tr>\n            <tr>\n                        <th id=\"T_f858dcac_5766_11eb_864d_0433c2bc65e6level0_row11\" class=\"row_heading level0 row11\" >11</th>\n                        <td id=\"T_f858dcac_5766_11eb_864d_0433c2bc65e6row11_col0\" class=\"data row11 col0\" >Transformed Train Set</td>\n                        <td id=\"T_f858dcac_5766_11eb_864d_0433c2bc65e6row11_col1\" class=\"data row11 col1\" >(24343, 29)</td>\n            </tr>\n            <tr>\n                        <th id=\"T_f858dcac_5766_11eb_864d_0433c2bc65e6level0_row12\" class=\"row_heading level0 row12\" >12</th>\n                        <td id=\"T_f858dcac_5766_11eb_864d_0433c2bc65e6row12_col0\" class=\"data row12 col0\" >Transformed Test Set</td>\n                        <td id=\"T_f858dcac_5766_11eb_864d_0433c2bc65e6row12_col1\" class=\"data row12 col1\" >(10433, 29)</td>\n            </tr>\n            <tr>\n                        <th id=\"T_f858dcac_5766_11eb_864d_0433c2bc65e6level0_row13\" class=\"row_heading level0 row13\" >13</th>\n                        <td id=\"T_f858dcac_5766_11eb_864d_0433c2bc65e6row13_col0\" class=\"data row13 col0\" >Shuffle Train-Test</td>\n                        <td id=\"T_f858dcac_5766_11eb_864d_0433c2bc65e6row13_col1\" class=\"data row13 col1\" >True</td>\n            </tr>\n            <tr>\n                        <th id=\"T_f858dcac_5766_11eb_864d_0433c2bc65e6level0_row14\" class=\"row_heading level0 row14\" >14</th>\n                        <td id=\"T_f858dcac_5766_11eb_864d_0433c2bc65e6row14_col0\" class=\"data row14 col0\" >Stratify Train-Test</td>\n                        <td id=\"T_f858dcac_5766_11eb_864d_0433c2bc65e6row14_col1\" class=\"data row14 col1\" >False</td>\n            </tr>\n            <tr>\n                        <th id=\"T_f858dcac_5766_11eb_864d_0433c2bc65e6level0_row15\" class=\"row_heading level0 row15\" >15</th>\n                        <td id=\"T_f858dcac_5766_11eb_864d_0433c2bc65e6row15_col0\" class=\"data row15 col0\" >Fold Generator</td>\n                        <td id=\"T_f858dcac_5766_11eb_864d_0433c2bc65e6row15_col1\" class=\"data row15 col1\" >StratifiedKFold</td>\n            </tr>\n            <tr>\n                        <th id=\"T_f858dcac_5766_11eb_864d_0433c2bc65e6level0_row16\" class=\"row_heading level0 row16\" >16</th>\n                        <td id=\"T_f858dcac_5766_11eb_864d_0433c2bc65e6row16_col0\" class=\"data row16 col0\" >Fold Number</td>\n                        <td id=\"T_f858dcac_5766_11eb_864d_0433c2bc65e6row16_col1\" class=\"data row16 col1\" >10</td>\n            </tr>\n            <tr>\n                        <th id=\"T_f858dcac_5766_11eb_864d_0433c2bc65e6level0_row17\" class=\"row_heading level0 row17\" >17</th>\n                        <td id=\"T_f858dcac_5766_11eb_864d_0433c2bc65e6row17_col0\" class=\"data row17 col0\" >CPU Jobs</td>\n                        <td id=\"T_f858dcac_5766_11eb_864d_0433c2bc65e6row17_col1\" class=\"data row17 col1\" >-1</td>\n            </tr>\n            <tr>\n                        <th id=\"T_f858dcac_5766_11eb_864d_0433c2bc65e6level0_row18\" class=\"row_heading level0 row18\" >18</th>\n                        <td id=\"T_f858dcac_5766_11eb_864d_0433c2bc65e6row18_col0\" class=\"data row18 col0\" >Use GPU</td>\n                        <td id=\"T_f858dcac_5766_11eb_864d_0433c2bc65e6row18_col1\" class=\"data row18 col1\" >False</td>\n            </tr>\n            <tr>\n                        <th id=\"T_f858dcac_5766_11eb_864d_0433c2bc65e6level0_row19\" class=\"row_heading level0 row19\" >19</th>\n                        <td id=\"T_f858dcac_5766_11eb_864d_0433c2bc65e6row19_col0\" class=\"data row19 col0\" >Log Experiment</td>\n                        <td id=\"T_f858dcac_5766_11eb_864d_0433c2bc65e6row19_col1\" class=\"data row19 col1\" >False</td>\n            </tr>\n            <tr>\n                        <th id=\"T_f858dcac_5766_11eb_864d_0433c2bc65e6level0_row20\" class=\"row_heading level0 row20\" >20</th>\n                        <td id=\"T_f858dcac_5766_11eb_864d_0433c2bc65e6row20_col0\" class=\"data row20 col0\" >Experiment Name</td>\n                        <td id=\"T_f858dcac_5766_11eb_864d_0433c2bc65e6row20_col1\" class=\"data row20 col1\" >clf-default-name</td>\n            </tr>\n            <tr>\n                        <th id=\"T_f858dcac_5766_11eb_864d_0433c2bc65e6level0_row21\" class=\"row_heading level0 row21\" >21</th>\n                        <td id=\"T_f858dcac_5766_11eb_864d_0433c2bc65e6row21_col0\" class=\"data row21 col0\" >USI</td>\n                        <td id=\"T_f858dcac_5766_11eb_864d_0433c2bc65e6row21_col1\" class=\"data row21 col1\" >301f</td>\n            </tr>\n            <tr>\n                        <th id=\"T_f858dcac_5766_11eb_864d_0433c2bc65e6level0_row22\" class=\"row_heading level0 row22\" >22</th>\n                        <td id=\"T_f858dcac_5766_11eb_864d_0433c2bc65e6row22_col0\" class=\"data row22 col0\" >Imputation Type</td>\n                        <td id=\"T_f858dcac_5766_11eb_864d_0433c2bc65e6row22_col1\" class=\"data row22 col1\" >simple</td>\n            </tr>\n            <tr>\n                        <th id=\"T_f858dcac_5766_11eb_864d_0433c2bc65e6level0_row23\" class=\"row_heading level0 row23\" >23</th>\n                        <td id=\"T_f858dcac_5766_11eb_864d_0433c2bc65e6row23_col0\" class=\"data row23 col0\" >Iterative Imputation Iteration</td>\n                        <td id=\"T_f858dcac_5766_11eb_864d_0433c2bc65e6row23_col1\" class=\"data row23 col1\" >None</td>\n            </tr>\n            <tr>\n                        <th id=\"T_f858dcac_5766_11eb_864d_0433c2bc65e6level0_row24\" class=\"row_heading level0 row24\" >24</th>\n                        <td id=\"T_f858dcac_5766_11eb_864d_0433c2bc65e6row24_col0\" class=\"data row24 col0\" >Numeric Imputer</td>\n                        <td id=\"T_f858dcac_5766_11eb_864d_0433c2bc65e6row24_col1\" class=\"data row24 col1\" >mean</td>\n            </tr>\n            <tr>\n                        <th id=\"T_f858dcac_5766_11eb_864d_0433c2bc65e6level0_row25\" class=\"row_heading level0 row25\" >25</th>\n                        <td id=\"T_f858dcac_5766_11eb_864d_0433c2bc65e6row25_col0\" class=\"data row25 col0\" >Iterative Imputation Numeric Model</td>\n                        <td id=\"T_f858dcac_5766_11eb_864d_0433c2bc65e6row25_col1\" class=\"data row25 col1\" >None</td>\n            </tr>\n            <tr>\n                        <th id=\"T_f858dcac_5766_11eb_864d_0433c2bc65e6level0_row26\" class=\"row_heading level0 row26\" >26</th>\n                        <td id=\"T_f858dcac_5766_11eb_864d_0433c2bc65e6row26_col0\" class=\"data row26 col0\" >Categorical Imputer</td>\n                        <td id=\"T_f858dcac_5766_11eb_864d_0433c2bc65e6row26_col1\" class=\"data row26 col1\" >constant</td>\n            </tr>\n            <tr>\n                        <th id=\"T_f858dcac_5766_11eb_864d_0433c2bc65e6level0_row27\" class=\"row_heading level0 row27\" >27</th>\n                        <td id=\"T_f858dcac_5766_11eb_864d_0433c2bc65e6row27_col0\" class=\"data row27 col0\" >Iterative Imputation Categorical Model</td>\n                        <td id=\"T_f858dcac_5766_11eb_864d_0433c2bc65e6row27_col1\" class=\"data row27 col1\" >None</td>\n            </tr>\n            <tr>\n                        <th id=\"T_f858dcac_5766_11eb_864d_0433c2bc65e6level0_row28\" class=\"row_heading level0 row28\" >28</th>\n                        <td id=\"T_f858dcac_5766_11eb_864d_0433c2bc65e6row28_col0\" class=\"data row28 col0\" >Unknown Categoricals Handling</td>\n                        <td id=\"T_f858dcac_5766_11eb_864d_0433c2bc65e6row28_col1\" class=\"data row28 col1\" >least_frequent</td>\n            </tr>\n            <tr>\n                        <th id=\"T_f858dcac_5766_11eb_864d_0433c2bc65e6level0_row29\" class=\"row_heading level0 row29\" >29</th>\n                        <td id=\"T_f858dcac_5766_11eb_864d_0433c2bc65e6row29_col0\" class=\"data row29 col0\" >Normalize</td>\n                        <td id=\"T_f858dcac_5766_11eb_864d_0433c2bc65e6row29_col1\" class=\"data row29 col1\" >False</td>\n            </tr>\n            <tr>\n                        <th id=\"T_f858dcac_5766_11eb_864d_0433c2bc65e6level0_row30\" class=\"row_heading level0 row30\" >30</th>\n                        <td id=\"T_f858dcac_5766_11eb_864d_0433c2bc65e6row30_col0\" class=\"data row30 col0\" >Normalize Method</td>\n                        <td id=\"T_f858dcac_5766_11eb_864d_0433c2bc65e6row30_col1\" class=\"data row30 col1\" >None</td>\n            </tr>\n            <tr>\n                        <th id=\"T_f858dcac_5766_11eb_864d_0433c2bc65e6level0_row31\" class=\"row_heading level0 row31\" >31</th>\n                        <td id=\"T_f858dcac_5766_11eb_864d_0433c2bc65e6row31_col0\" class=\"data row31 col0\" >Transformation</td>\n                        <td id=\"T_f858dcac_5766_11eb_864d_0433c2bc65e6row31_col1\" class=\"data row31 col1\" >False</td>\n            </tr>\n            <tr>\n                        <th id=\"T_f858dcac_5766_11eb_864d_0433c2bc65e6level0_row32\" class=\"row_heading level0 row32\" >32</th>\n                        <td id=\"T_f858dcac_5766_11eb_864d_0433c2bc65e6row32_col0\" class=\"data row32 col0\" >Transformation Method</td>\n                        <td id=\"T_f858dcac_5766_11eb_864d_0433c2bc65e6row32_col1\" class=\"data row32 col1\" >None</td>\n            </tr>\n            <tr>\n                        <th id=\"T_f858dcac_5766_11eb_864d_0433c2bc65e6level0_row33\" class=\"row_heading level0 row33\" >33</th>\n                        <td id=\"T_f858dcac_5766_11eb_864d_0433c2bc65e6row33_col0\" class=\"data row33 col0\" >PCA</td>\n                        <td id=\"T_f858dcac_5766_11eb_864d_0433c2bc65e6row33_col1\" class=\"data row33 col1\" >False</td>\n            </tr>\n            <tr>\n                        <th id=\"T_f858dcac_5766_11eb_864d_0433c2bc65e6level0_row34\" class=\"row_heading level0 row34\" >34</th>\n                        <td id=\"T_f858dcac_5766_11eb_864d_0433c2bc65e6row34_col0\" class=\"data row34 col0\" >PCA Method</td>\n                        <td id=\"T_f858dcac_5766_11eb_864d_0433c2bc65e6row34_col1\" class=\"data row34 col1\" >None</td>\n            </tr>\n            <tr>\n                        <th id=\"T_f858dcac_5766_11eb_864d_0433c2bc65e6level0_row35\" class=\"row_heading level0 row35\" >35</th>\n                        <td id=\"T_f858dcac_5766_11eb_864d_0433c2bc65e6row35_col0\" class=\"data row35 col0\" >PCA Components</td>\n                        <td id=\"T_f858dcac_5766_11eb_864d_0433c2bc65e6row35_col1\" class=\"data row35 col1\" >None</td>\n            </tr>\n            <tr>\n                        <th id=\"T_f858dcac_5766_11eb_864d_0433c2bc65e6level0_row36\" class=\"row_heading level0 row36\" >36</th>\n                        <td id=\"T_f858dcac_5766_11eb_864d_0433c2bc65e6row36_col0\" class=\"data row36 col0\" >Ignore Low Variance</td>\n                        <td id=\"T_f858dcac_5766_11eb_864d_0433c2bc65e6row36_col1\" class=\"data row36 col1\" >False</td>\n            </tr>\n            <tr>\n                        <th id=\"T_f858dcac_5766_11eb_864d_0433c2bc65e6level0_row37\" class=\"row_heading level0 row37\" >37</th>\n                        <td id=\"T_f858dcac_5766_11eb_864d_0433c2bc65e6row37_col0\" class=\"data row37 col0\" >Combine Rare Levels</td>\n                        <td id=\"T_f858dcac_5766_11eb_864d_0433c2bc65e6row37_col1\" class=\"data row37 col1\" >False</td>\n            </tr>\n            <tr>\n                        <th id=\"T_f858dcac_5766_11eb_864d_0433c2bc65e6level0_row38\" class=\"row_heading level0 row38\" >38</th>\n                        <td id=\"T_f858dcac_5766_11eb_864d_0433c2bc65e6row38_col0\" class=\"data row38 col0\" >Rare Level Threshold</td>\n                        <td id=\"T_f858dcac_5766_11eb_864d_0433c2bc65e6row38_col1\" class=\"data row38 col1\" >None</td>\n            </tr>\n            <tr>\n                        <th id=\"T_f858dcac_5766_11eb_864d_0433c2bc65e6level0_row39\" class=\"row_heading level0 row39\" >39</th>\n                        <td id=\"T_f858dcac_5766_11eb_864d_0433c2bc65e6row39_col0\" class=\"data row39 col0\" >Numeric Binning</td>\n                        <td id=\"T_f858dcac_5766_11eb_864d_0433c2bc65e6row39_col1\" class=\"data row39 col1\" >False</td>\n            </tr>\n            <tr>\n                        <th id=\"T_f858dcac_5766_11eb_864d_0433c2bc65e6level0_row40\" class=\"row_heading level0 row40\" >40</th>\n                        <td id=\"T_f858dcac_5766_11eb_864d_0433c2bc65e6row40_col0\" class=\"data row40 col0\" >Remove Outliers</td>\n                        <td id=\"T_f858dcac_5766_11eb_864d_0433c2bc65e6row40_col1\" class=\"data row40 col1\" >False</td>\n            </tr>\n            <tr>\n                        <th id=\"T_f858dcac_5766_11eb_864d_0433c2bc65e6level0_row41\" class=\"row_heading level0 row41\" >41</th>\n                        <td id=\"T_f858dcac_5766_11eb_864d_0433c2bc65e6row41_col0\" class=\"data row41 col0\" >Outliers Threshold</td>\n                        <td id=\"T_f858dcac_5766_11eb_864d_0433c2bc65e6row41_col1\" class=\"data row41 col1\" >None</td>\n            </tr>\n            <tr>\n                        <th id=\"T_f858dcac_5766_11eb_864d_0433c2bc65e6level0_row42\" class=\"row_heading level0 row42\" >42</th>\n                        <td id=\"T_f858dcac_5766_11eb_864d_0433c2bc65e6row42_col0\" class=\"data row42 col0\" >Remove Multicollinearity</td>\n                        <td id=\"T_f858dcac_5766_11eb_864d_0433c2bc65e6row42_col1\" class=\"data row42 col1\" >False</td>\n            </tr>\n            <tr>\n                        <th id=\"T_f858dcac_5766_11eb_864d_0433c2bc65e6level0_row43\" class=\"row_heading level0 row43\" >43</th>\n                        <td id=\"T_f858dcac_5766_11eb_864d_0433c2bc65e6row43_col0\" class=\"data row43 col0\" >Multicollinearity Threshold</td>\n                        <td id=\"T_f858dcac_5766_11eb_864d_0433c2bc65e6row43_col1\" class=\"data row43 col1\" >None</td>\n            </tr>\n            <tr>\n                        <th id=\"T_f858dcac_5766_11eb_864d_0433c2bc65e6level0_row44\" class=\"row_heading level0 row44\" >44</th>\n                        <td id=\"T_f858dcac_5766_11eb_864d_0433c2bc65e6row44_col0\" class=\"data row44 col0\" >Clustering</td>\n                        <td id=\"T_f858dcac_5766_11eb_864d_0433c2bc65e6row44_col1\" class=\"data row44 col1\" >False</td>\n            </tr>\n            <tr>\n                        <th id=\"T_f858dcac_5766_11eb_864d_0433c2bc65e6level0_row45\" class=\"row_heading level0 row45\" >45</th>\n                        <td id=\"T_f858dcac_5766_11eb_864d_0433c2bc65e6row45_col0\" class=\"data row45 col0\" >Clustering Iteration</td>\n                        <td id=\"T_f858dcac_5766_11eb_864d_0433c2bc65e6row45_col1\" class=\"data row45 col1\" >None</td>\n            </tr>\n            <tr>\n                        <th id=\"T_f858dcac_5766_11eb_864d_0433c2bc65e6level0_row46\" class=\"row_heading level0 row46\" >46</th>\n                        <td id=\"T_f858dcac_5766_11eb_864d_0433c2bc65e6row46_col0\" class=\"data row46 col0\" >Polynomial Features</td>\n                        <td id=\"T_f858dcac_5766_11eb_864d_0433c2bc65e6row46_col1\" class=\"data row46 col1\" >False</td>\n            </tr>\n            <tr>\n                        <th id=\"T_f858dcac_5766_11eb_864d_0433c2bc65e6level0_row47\" class=\"row_heading level0 row47\" >47</th>\n                        <td id=\"T_f858dcac_5766_11eb_864d_0433c2bc65e6row47_col0\" class=\"data row47 col0\" >Polynomial Degree</td>\n                        <td id=\"T_f858dcac_5766_11eb_864d_0433c2bc65e6row47_col1\" class=\"data row47 col1\" >None</td>\n            </tr>\n            <tr>\n                        <th id=\"T_f858dcac_5766_11eb_864d_0433c2bc65e6level0_row48\" class=\"row_heading level0 row48\" >48</th>\n                        <td id=\"T_f858dcac_5766_11eb_864d_0433c2bc65e6row48_col0\" class=\"data row48 col0\" >Trignometry Features</td>\n                        <td id=\"T_f858dcac_5766_11eb_864d_0433c2bc65e6row48_col1\" class=\"data row48 col1\" >False</td>\n            </tr>\n            <tr>\n                        <th id=\"T_f858dcac_5766_11eb_864d_0433c2bc65e6level0_row49\" class=\"row_heading level0 row49\" >49</th>\n                        <td id=\"T_f858dcac_5766_11eb_864d_0433c2bc65e6row49_col0\" class=\"data row49 col0\" >Polynomial Threshold</td>\n                        <td id=\"T_f858dcac_5766_11eb_864d_0433c2bc65e6row49_col1\" class=\"data row49 col1\" >None</td>\n            </tr>\n            <tr>\n                        <th id=\"T_f858dcac_5766_11eb_864d_0433c2bc65e6level0_row50\" class=\"row_heading level0 row50\" >50</th>\n                        <td id=\"T_f858dcac_5766_11eb_864d_0433c2bc65e6row50_col0\" class=\"data row50 col0\" >Group Features</td>\n                        <td id=\"T_f858dcac_5766_11eb_864d_0433c2bc65e6row50_col1\" class=\"data row50 col1\" >False</td>\n            </tr>\n            <tr>\n                        <th id=\"T_f858dcac_5766_11eb_864d_0433c2bc65e6level0_row51\" class=\"row_heading level0 row51\" >51</th>\n                        <td id=\"T_f858dcac_5766_11eb_864d_0433c2bc65e6row51_col0\" class=\"data row51 col0\" >Feature Selection</td>\n                        <td id=\"T_f858dcac_5766_11eb_864d_0433c2bc65e6row51_col1\" class=\"data row51 col1\" >False</td>\n            </tr>\n            <tr>\n                        <th id=\"T_f858dcac_5766_11eb_864d_0433c2bc65e6level0_row52\" class=\"row_heading level0 row52\" >52</th>\n                        <td id=\"T_f858dcac_5766_11eb_864d_0433c2bc65e6row52_col0\" class=\"data row52 col0\" >Features Selection Threshold</td>\n                        <td id=\"T_f858dcac_5766_11eb_864d_0433c2bc65e6row52_col1\" class=\"data row52 col1\" >None</td>\n            </tr>\n            <tr>\n                        <th id=\"T_f858dcac_5766_11eb_864d_0433c2bc65e6level0_row53\" class=\"row_heading level0 row53\" >53</th>\n                        <td id=\"T_f858dcac_5766_11eb_864d_0433c2bc65e6row53_col0\" class=\"data row53 col0\" >Feature Interaction</td>\n                        <td id=\"T_f858dcac_5766_11eb_864d_0433c2bc65e6row53_col1\" class=\"data row53 col1\" >False</td>\n            </tr>\n            <tr>\n                        <th id=\"T_f858dcac_5766_11eb_864d_0433c2bc65e6level0_row54\" class=\"row_heading level0 row54\" >54</th>\n                        <td id=\"T_f858dcac_5766_11eb_864d_0433c2bc65e6row54_col0\" class=\"data row54 col0\" >Feature Ratio</td>\n                        <td id=\"T_f858dcac_5766_11eb_864d_0433c2bc65e6row54_col1\" class=\"data row54 col1\" >False</td>\n            </tr>\n            <tr>\n                        <th id=\"T_f858dcac_5766_11eb_864d_0433c2bc65e6level0_row55\" class=\"row_heading level0 row55\" >55</th>\n                        <td id=\"T_f858dcac_5766_11eb_864d_0433c2bc65e6row55_col0\" class=\"data row55 col0\" >Interaction Threshold</td>\n                        <td id=\"T_f858dcac_5766_11eb_864d_0433c2bc65e6row55_col1\" class=\"data row55 col1\" >None</td>\n            </tr>\n            <tr>\n                        <th id=\"T_f858dcac_5766_11eb_864d_0433c2bc65e6level0_row56\" class=\"row_heading level0 row56\" >56</th>\n                        <td id=\"T_f858dcac_5766_11eb_864d_0433c2bc65e6row56_col0\" class=\"data row56 col0\" >Fix Imbalance</td>\n                        <td id=\"T_f858dcac_5766_11eb_864d_0433c2bc65e6row56_col1\" class=\"data row56 col1\" >False</td>\n            </tr>\n            <tr>\n                        <th id=\"T_f858dcac_5766_11eb_864d_0433c2bc65e6level0_row57\" class=\"row_heading level0 row57\" >57</th>\n                        <td id=\"T_f858dcac_5766_11eb_864d_0433c2bc65e6row57_col0\" class=\"data row57 col0\" >Fix Imbalance Method</td>\n                        <td id=\"T_f858dcac_5766_11eb_864d_0433c2bc65e6row57_col1\" class=\"data row57 col1\" >SMOTE</td>\n            </tr>\n    </tbody></table>"
     },
     "metadata": {}
    }
   ],
   "source": [
    "from pycaret.classification import *\n",
    "ml_model = setup(df_to_ml, target = 'investment')"
   ]
  },
  {
   "cell_type": "code",
   "execution_count": 5,
   "metadata": {},
   "outputs": [
    {
     "output_type": "display_data",
     "data": {
      "text/plain": "<pandas.io.formats.style.Styler at 0x1d0bfda3730>",
      "text/html": "<style  type=\"text/css\" >\n</style><table id=\"T_0b5ad594_5767_11eb_b411_0433c2bc65e6\" ><thead></thead><tbody>\n        </tbody></table>"
     },
     "metadata": {}
    }
   ],
   "source": [
    "best_models = compare_models(exclude=['catboost'] ,n_select=10)"
   ]
  },
  {
   "cell_type": "code",
   "execution_count": 17,
   "metadata": {},
   "outputs": [
    {
     "output_type": "stream",
     "name": "stdout",
     "text": [
      "[]\n"
     ]
    }
   ],
   "source": [
    "print(best_models)\n"
   ]
  },
  {
   "cell_type": "code",
   "execution_count": 27,
   "metadata": {},
   "outputs": [
    {
     "output_type": "display_data",
     "data": {
      "text/plain": "IntProgress(value=0, description='Processing: ', max=4)",
      "application/vnd.jupyter.widget-view+json": {
       "version_major": 2,
       "version_minor": 0,
       "model_id": "67ea44938f42427da7d3e8455d2b86ad"
      }
     },
     "metadata": {}
    },
    {
     "output_type": "display_data",
     "data": {
      "text/plain": "                                                                        \n                                                                        \nInitiated  . . . . . . . . . . . . . . . . . .                  20:18:09\nStatus     . . . . . . . . . . . . . . . . . .          Fitting 10 Folds\nEstimator  . . . . . . . . . . . . . . . . . .  Decision Tree Classifier",
      "text/html": "<div>\n<style scoped>\n    .dataframe tbody tr th:only-of-type {\n        vertical-align: middle;\n    }\n\n    .dataframe tbody tr th {\n        vertical-align: top;\n    }\n\n    .dataframe thead th {\n        text-align: right;\n    }\n</style>\n<table border=\"1\" class=\"dataframe\">\n  <thead>\n    <tr style=\"text-align: right;\">\n      <th></th>\n      <th></th>\n      <th></th>\n    </tr>\n    <tr>\n      <th></th>\n      <th></th>\n      <th></th>\n    </tr>\n  </thead>\n  <tbody>\n    <tr>\n      <th>Initiated</th>\n      <td>. . . . . . . . . . . . . . . . . .</td>\n      <td>20:18:09</td>\n    </tr>\n    <tr>\n      <th>Status</th>\n      <td>. . . . . . . . . . . . . . . . . .</td>\n      <td>Fitting 10 Folds</td>\n    </tr>\n    <tr>\n      <th>Estimator</th>\n      <td>. . . . . . . . . . . . . . . . . .</td>\n      <td>Decision Tree Classifier</td>\n    </tr>\n  </tbody>\n</table>\n</div>"
     },
     "metadata": {}
    },
    {
     "output_type": "display_data",
     "data": {
      "text/plain": "Empty DataFrame\nColumns: [Accuracy, AUC, Recall, Prec., F1, Kappa, MCC]\nIndex: []",
      "text/html": "<div>\n<style scoped>\n    .dataframe tbody tr th:only-of-type {\n        vertical-align: middle;\n    }\n\n    .dataframe tbody tr th {\n        vertical-align: top;\n    }\n\n    .dataframe thead th {\n        text-align: right;\n    }\n</style>\n<table border=\"1\" class=\"dataframe\">\n  <thead>\n    <tr style=\"text-align: right;\">\n      <th></th>\n      <th>Accuracy</th>\n      <th>AUC</th>\n      <th>Recall</th>\n      <th>Prec.</th>\n      <th>F1</th>\n      <th>Kappa</th>\n      <th>MCC</th>\n    </tr>\n  </thead>\n  <tbody>\n  </tbody>\n</table>\n</div>"
     },
     "metadata": {}
    }
   ],
   "source": [
    "dt = create_model('dt')"
   ]
  },
  {
   "cell_type": "code",
   "execution_count": 22,
   "metadata": {},
   "outputs": [
    {
     "output_type": "display_data",
     "data": {
      "text/plain": "IntProgress(value=0, description='Processing: ', max=4)",
      "application/vnd.jupyter.widget-view+json": {
       "version_major": 2,
       "version_minor": 0,
       "model_id": "89dbfcbebc90447e880aaa678263950f"
      }
     },
     "metadata": {}
    },
    {
     "output_type": "display_data",
     "data": {
      "text/plain": "                                                                        \n                                                                        \nInitiated  . . . . . . . . . . . . . . . . . .                  20:18:09\nStatus     . . . . . . . . . . . . . . . . . .          Fitting 10 Folds\nEstimator  . . . . . . . . . . . . . . . . . .  Decision Tree Classifier",
      "text/html": "<div>\n<style scoped>\n    .dataframe tbody tr th:only-of-type {\n        vertical-align: middle;\n    }\n\n    .dataframe tbody tr th {\n        vertical-align: top;\n    }\n\n    .dataframe thead th {\n        text-align: right;\n    }\n</style>\n<table border=\"1\" class=\"dataframe\">\n  <thead>\n    <tr style=\"text-align: right;\">\n      <th></th>\n      <th></th>\n      <th></th>\n    </tr>\n    <tr>\n      <th></th>\n      <th></th>\n      <th></th>\n    </tr>\n  </thead>\n  <tbody>\n    <tr>\n      <th>Initiated</th>\n      <td>. . . . . . . . . . . . . . . . . .</td>\n      <td>20:18:09</td>\n    </tr>\n    <tr>\n      <th>Status</th>\n      <td>. . . . . . . . . . . . . . . . . .</td>\n      <td>Fitting 10 Folds</td>\n    </tr>\n    <tr>\n      <th>Estimator</th>\n      <td>. . . . . . . . . . . . . . . . . .</td>\n      <td>Decision Tree Classifier</td>\n    </tr>\n  </tbody>\n</table>\n</div>"
     },
     "metadata": {}
    },
    {
     "output_type": "display_data",
     "data": {
      "text/plain": "Empty DataFrame\nColumns: [Accuracy, AUC, Recall, Prec., F1, Kappa, MCC]\nIndex: []",
      "text/html": "<div>\n<style scoped>\n    .dataframe tbody tr th:only-of-type {\n        vertical-align: middle;\n    }\n\n    .dataframe tbody tr th {\n        vertical-align: top;\n    }\n\n    .dataframe thead th {\n        text-align: right;\n    }\n</style>\n<table border=\"1\" class=\"dataframe\">\n  <thead>\n    <tr style=\"text-align: right;\">\n      <th></th>\n      <th>Accuracy</th>\n      <th>AUC</th>\n      <th>Recall</th>\n      <th>Prec.</th>\n      <th>F1</th>\n      <th>Kappa</th>\n      <th>MCC</th>\n    </tr>\n  </thead>\n  <tbody>\n  </tbody>\n</table>\n</div>"
     },
     "metadata": {}
    },
    {
     "output_type": "error",
     "ename": "TerminatedWorkerError",
     "evalue": "A worker process managed by the executor was unexpectedly terminated. This could be caused by a segmentation fault while calling the function or by an excessive memory usage causing the Operating System to kill the worker.\n",
     "traceback": [
      "\u001b[1;31m---------------------------------------------------------------------------\u001b[0m",
      "\u001b[1;31mTerminatedWorkerError\u001b[0m                     Traceback (most recent call last)",
      "\u001b[1;32m<ipython-input-22-f57dbe738252>\u001b[0m in \u001b[0;36m<module>\u001b[1;34m\u001b[0m\n\u001b[1;32m----> 1\u001b[1;33m \u001b[0mknn\u001b[0m \u001b[1;33m=\u001b[0m \u001b[0mcreate_model\u001b[0m\u001b[1;33m(\u001b[0m\u001b[1;34m'knn'\u001b[0m\u001b[1;33m)\u001b[0m\u001b[1;33m\u001b[0m\u001b[1;33m\u001b[0m\u001b[0m\n\u001b[0m",
      "\u001b[1;32mD:\\ProgramData\\Anaconda3\\lib\\site-packages\\pycaret\\classification.py\u001b[0m in \u001b[0;36mcreate_model\u001b[1;34m(estimator, fold, round, cross_validation, fit_kwargs, groups, verbose, **kwargs)\u001b[0m\n\u001b[0;32m    887\u001b[0m     \"\"\"\n\u001b[0;32m    888\u001b[0m \u001b[1;33m\u001b[0m\u001b[0m\n\u001b[1;32m--> 889\u001b[1;33m     return pycaret.internal.tabular.create_model_supervised(\n\u001b[0m\u001b[0;32m    890\u001b[0m         \u001b[0mestimator\u001b[0m\u001b[1;33m=\u001b[0m\u001b[0mestimator\u001b[0m\u001b[1;33m,\u001b[0m\u001b[1;33m\u001b[0m\u001b[1;33m\u001b[0m\u001b[0m\n\u001b[0;32m    891\u001b[0m         \u001b[0mfold\u001b[0m\u001b[1;33m=\u001b[0m\u001b[0mfold\u001b[0m\u001b[1;33m,\u001b[0m\u001b[1;33m\u001b[0m\u001b[1;33m\u001b[0m\u001b[0m\n",
      "\u001b[1;32mD:\\ProgramData\\Anaconda3\\lib\\site-packages\\pycaret\\internal\\tabular.py\u001b[0m in \u001b[0;36mcreate_model_supervised\u001b[1;34m(estimator, fold, round, cross_validation, predict, fit_kwargs, groups, refit, verbose, system, X_train_data, y_train_data, metrics, display, **kwargs)\u001b[0m\n\u001b[0;32m   3088\u001b[0m \u001b[1;33m\u001b[0m\u001b[0m\n\u001b[0;32m   3089\u001b[0m         \u001b[0mmodel_fit_start\u001b[0m \u001b[1;33m=\u001b[0m \u001b[0mtime\u001b[0m\u001b[1;33m.\u001b[0m\u001b[0mtime\u001b[0m\u001b[1;33m(\u001b[0m\u001b[1;33m)\u001b[0m\u001b[1;33m\u001b[0m\u001b[1;33m\u001b[0m\u001b[0m\n\u001b[1;32m-> 3090\u001b[1;33m         scores = cross_validate(\n\u001b[0m\u001b[0;32m   3091\u001b[0m             \u001b[0mpipeline_with_model\u001b[0m\u001b[1;33m,\u001b[0m\u001b[1;33m\u001b[0m\u001b[1;33m\u001b[0m\u001b[0m\n\u001b[0;32m   3092\u001b[0m             \u001b[0mdata_X\u001b[0m\u001b[1;33m,\u001b[0m\u001b[1;33m\u001b[0m\u001b[1;33m\u001b[0m\u001b[0m\n",
      "\u001b[1;32mD:\\ProgramData\\Anaconda3\\lib\\site-packages\\sklearn\\utils\\validation.py\u001b[0m in \u001b[0;36minner_f\u001b[1;34m(*args, **kwargs)\u001b[0m\n\u001b[0;32m     70\u001b[0m                           FutureWarning)\n\u001b[0;32m     71\u001b[0m         \u001b[0mkwargs\u001b[0m\u001b[1;33m.\u001b[0m\u001b[0mupdate\u001b[0m\u001b[1;33m(\u001b[0m\u001b[1;33m{\u001b[0m\u001b[0mk\u001b[0m\u001b[1;33m:\u001b[0m \u001b[0marg\u001b[0m \u001b[1;32mfor\u001b[0m \u001b[0mk\u001b[0m\u001b[1;33m,\u001b[0m \u001b[0marg\u001b[0m \u001b[1;32min\u001b[0m \u001b[0mzip\u001b[0m\u001b[1;33m(\u001b[0m\u001b[0msig\u001b[0m\u001b[1;33m.\u001b[0m\u001b[0mparameters\u001b[0m\u001b[1;33m,\u001b[0m \u001b[0margs\u001b[0m\u001b[1;33m)\u001b[0m\u001b[1;33m}\u001b[0m\u001b[1;33m)\u001b[0m\u001b[1;33m\u001b[0m\u001b[1;33m\u001b[0m\u001b[0m\n\u001b[1;32m---> 72\u001b[1;33m         \u001b[1;32mreturn\u001b[0m \u001b[0mf\u001b[0m\u001b[1;33m(\u001b[0m\u001b[1;33m**\u001b[0m\u001b[0mkwargs\u001b[0m\u001b[1;33m)\u001b[0m\u001b[1;33m\u001b[0m\u001b[1;33m\u001b[0m\u001b[0m\n\u001b[0m\u001b[0;32m     73\u001b[0m     \u001b[1;32mreturn\u001b[0m \u001b[0minner_f\u001b[0m\u001b[1;33m\u001b[0m\u001b[1;33m\u001b[0m\u001b[0m\n\u001b[0;32m     74\u001b[0m \u001b[1;33m\u001b[0m\u001b[0m\n",
      "\u001b[1;32mD:\\ProgramData\\Anaconda3\\lib\\site-packages\\sklearn\\model_selection\\_validation.py\u001b[0m in \u001b[0;36mcross_validate\u001b[1;34m(estimator, X, y, groups, scoring, cv, n_jobs, verbose, fit_params, pre_dispatch, return_train_score, return_estimator, error_score)\u001b[0m\n\u001b[0;32m    240\u001b[0m     parallel = Parallel(n_jobs=n_jobs, verbose=verbose,\n\u001b[0;32m    241\u001b[0m                         pre_dispatch=pre_dispatch)\n\u001b[1;32m--> 242\u001b[1;33m     scores = parallel(\n\u001b[0m\u001b[0;32m    243\u001b[0m         delayed(_fit_and_score)(\n\u001b[0;32m    244\u001b[0m             \u001b[0mclone\u001b[0m\u001b[1;33m(\u001b[0m\u001b[0mestimator\u001b[0m\u001b[1;33m)\u001b[0m\u001b[1;33m,\u001b[0m \u001b[0mX\u001b[0m\u001b[1;33m,\u001b[0m \u001b[0my\u001b[0m\u001b[1;33m,\u001b[0m \u001b[0mscorers\u001b[0m\u001b[1;33m,\u001b[0m \u001b[0mtrain\u001b[0m\u001b[1;33m,\u001b[0m \u001b[0mtest\u001b[0m\u001b[1;33m,\u001b[0m \u001b[0mverbose\u001b[0m\u001b[1;33m,\u001b[0m \u001b[1;32mNone\u001b[0m\u001b[1;33m,\u001b[0m\u001b[1;33m\u001b[0m\u001b[1;33m\u001b[0m\u001b[0m\n",
      "\u001b[1;32mD:\\ProgramData\\Anaconda3\\lib\\site-packages\\joblib\\parallel.py\u001b[0m in \u001b[0;36m__call__\u001b[1;34m(self, iterable)\u001b[0m\n\u001b[0;32m   1040\u001b[0m \u001b[1;33m\u001b[0m\u001b[0m\n\u001b[0;32m   1041\u001b[0m             \u001b[1;32mwith\u001b[0m \u001b[0mself\u001b[0m\u001b[1;33m.\u001b[0m\u001b[0m_backend\u001b[0m\u001b[1;33m.\u001b[0m\u001b[0mretrieval_context\u001b[0m\u001b[1;33m(\u001b[0m\u001b[1;33m)\u001b[0m\u001b[1;33m:\u001b[0m\u001b[1;33m\u001b[0m\u001b[1;33m\u001b[0m\u001b[0m\n\u001b[1;32m-> 1042\u001b[1;33m                 \u001b[0mself\u001b[0m\u001b[1;33m.\u001b[0m\u001b[0mretrieve\u001b[0m\u001b[1;33m(\u001b[0m\u001b[1;33m)\u001b[0m\u001b[1;33m\u001b[0m\u001b[1;33m\u001b[0m\u001b[0m\n\u001b[0m\u001b[0;32m   1043\u001b[0m             \u001b[1;31m# Make sure that we get a last message telling us we are done\u001b[0m\u001b[1;33m\u001b[0m\u001b[1;33m\u001b[0m\u001b[1;33m\u001b[0m\u001b[0m\n\u001b[0;32m   1044\u001b[0m             \u001b[0melapsed_time\u001b[0m \u001b[1;33m=\u001b[0m \u001b[0mtime\u001b[0m\u001b[1;33m.\u001b[0m\u001b[0mtime\u001b[0m\u001b[1;33m(\u001b[0m\u001b[1;33m)\u001b[0m \u001b[1;33m-\u001b[0m \u001b[0mself\u001b[0m\u001b[1;33m.\u001b[0m\u001b[0m_start_time\u001b[0m\u001b[1;33m\u001b[0m\u001b[1;33m\u001b[0m\u001b[0m\n",
      "\u001b[1;32mD:\\ProgramData\\Anaconda3\\lib\\site-packages\\joblib\\parallel.py\u001b[0m in \u001b[0;36mretrieve\u001b[1;34m(self)\u001b[0m\n\u001b[0;32m    919\u001b[0m             \u001b[1;32mtry\u001b[0m\u001b[1;33m:\u001b[0m\u001b[1;33m\u001b[0m\u001b[1;33m\u001b[0m\u001b[0m\n\u001b[0;32m    920\u001b[0m                 \u001b[1;32mif\u001b[0m \u001b[0mgetattr\u001b[0m\u001b[1;33m(\u001b[0m\u001b[0mself\u001b[0m\u001b[1;33m.\u001b[0m\u001b[0m_backend\u001b[0m\u001b[1;33m,\u001b[0m \u001b[1;34m'supports_timeout'\u001b[0m\u001b[1;33m,\u001b[0m \u001b[1;32mFalse\u001b[0m\u001b[1;33m)\u001b[0m\u001b[1;33m:\u001b[0m\u001b[1;33m\u001b[0m\u001b[1;33m\u001b[0m\u001b[0m\n\u001b[1;32m--> 921\u001b[1;33m                     \u001b[0mself\u001b[0m\u001b[1;33m.\u001b[0m\u001b[0m_output\u001b[0m\u001b[1;33m.\u001b[0m\u001b[0mextend\u001b[0m\u001b[1;33m(\u001b[0m\u001b[0mjob\u001b[0m\u001b[1;33m.\u001b[0m\u001b[0mget\u001b[0m\u001b[1;33m(\u001b[0m\u001b[0mtimeout\u001b[0m\u001b[1;33m=\u001b[0m\u001b[0mself\u001b[0m\u001b[1;33m.\u001b[0m\u001b[0mtimeout\u001b[0m\u001b[1;33m)\u001b[0m\u001b[1;33m)\u001b[0m\u001b[1;33m\u001b[0m\u001b[1;33m\u001b[0m\u001b[0m\n\u001b[0m\u001b[0;32m    922\u001b[0m                 \u001b[1;32melse\u001b[0m\u001b[1;33m:\u001b[0m\u001b[1;33m\u001b[0m\u001b[1;33m\u001b[0m\u001b[0m\n\u001b[0;32m    923\u001b[0m                     \u001b[0mself\u001b[0m\u001b[1;33m.\u001b[0m\u001b[0m_output\u001b[0m\u001b[1;33m.\u001b[0m\u001b[0mextend\u001b[0m\u001b[1;33m(\u001b[0m\u001b[0mjob\u001b[0m\u001b[1;33m.\u001b[0m\u001b[0mget\u001b[0m\u001b[1;33m(\u001b[0m\u001b[1;33m)\u001b[0m\u001b[1;33m)\u001b[0m\u001b[1;33m\u001b[0m\u001b[1;33m\u001b[0m\u001b[0m\n",
      "\u001b[1;32mD:\\ProgramData\\Anaconda3\\lib\\site-packages\\joblib\\_parallel_backends.py\u001b[0m in \u001b[0;36mwrap_future_result\u001b[1;34m(future, timeout)\u001b[0m\n\u001b[0;32m    540\u001b[0m         AsyncResults.get from multiprocessing.\"\"\"\n\u001b[0;32m    541\u001b[0m         \u001b[1;32mtry\u001b[0m\u001b[1;33m:\u001b[0m\u001b[1;33m\u001b[0m\u001b[1;33m\u001b[0m\u001b[0m\n\u001b[1;32m--> 542\u001b[1;33m             \u001b[1;32mreturn\u001b[0m \u001b[0mfuture\u001b[0m\u001b[1;33m.\u001b[0m\u001b[0mresult\u001b[0m\u001b[1;33m(\u001b[0m\u001b[0mtimeout\u001b[0m\u001b[1;33m=\u001b[0m\u001b[0mtimeout\u001b[0m\u001b[1;33m)\u001b[0m\u001b[1;33m\u001b[0m\u001b[1;33m\u001b[0m\u001b[0m\n\u001b[0m\u001b[0;32m    543\u001b[0m         \u001b[1;32mexcept\u001b[0m \u001b[0mCfTimeoutError\u001b[0m \u001b[1;32mas\u001b[0m \u001b[0me\u001b[0m\u001b[1;33m:\u001b[0m\u001b[1;33m\u001b[0m\u001b[1;33m\u001b[0m\u001b[0m\n\u001b[0;32m    544\u001b[0m             \u001b[1;32mraise\u001b[0m \u001b[0mTimeoutError\u001b[0m \u001b[1;32mfrom\u001b[0m \u001b[0me\u001b[0m\u001b[1;33m\u001b[0m\u001b[1;33m\u001b[0m\u001b[0m\n",
      "\u001b[1;32mD:\\ProgramData\\Anaconda3\\lib\\concurrent\\futures\\_base.py\u001b[0m in \u001b[0;36mresult\u001b[1;34m(self, timeout)\u001b[0m\n\u001b[0;32m    437\u001b[0m                 \u001b[1;32mraise\u001b[0m \u001b[0mCancelledError\u001b[0m\u001b[1;33m(\u001b[0m\u001b[1;33m)\u001b[0m\u001b[1;33m\u001b[0m\u001b[1;33m\u001b[0m\u001b[0m\n\u001b[0;32m    438\u001b[0m             \u001b[1;32melif\u001b[0m \u001b[0mself\u001b[0m\u001b[1;33m.\u001b[0m\u001b[0m_state\u001b[0m \u001b[1;33m==\u001b[0m \u001b[0mFINISHED\u001b[0m\u001b[1;33m:\u001b[0m\u001b[1;33m\u001b[0m\u001b[1;33m\u001b[0m\u001b[0m\n\u001b[1;32m--> 439\u001b[1;33m                 \u001b[1;32mreturn\u001b[0m \u001b[0mself\u001b[0m\u001b[1;33m.\u001b[0m\u001b[0m__get_result\u001b[0m\u001b[1;33m(\u001b[0m\u001b[1;33m)\u001b[0m\u001b[1;33m\u001b[0m\u001b[1;33m\u001b[0m\u001b[0m\n\u001b[0m\u001b[0;32m    440\u001b[0m             \u001b[1;32melse\u001b[0m\u001b[1;33m:\u001b[0m\u001b[1;33m\u001b[0m\u001b[1;33m\u001b[0m\u001b[0m\n\u001b[0;32m    441\u001b[0m                 \u001b[1;32mraise\u001b[0m \u001b[0mTimeoutError\u001b[0m\u001b[1;33m(\u001b[0m\u001b[1;33m)\u001b[0m\u001b[1;33m\u001b[0m\u001b[1;33m\u001b[0m\u001b[0m\n",
      "\u001b[1;32mD:\\ProgramData\\Anaconda3\\lib\\concurrent\\futures\\_base.py\u001b[0m in \u001b[0;36m__get_result\u001b[1;34m(self)\u001b[0m\n\u001b[0;32m    386\u001b[0m     \u001b[1;32mdef\u001b[0m \u001b[0m__get_result\u001b[0m\u001b[1;33m(\u001b[0m\u001b[0mself\u001b[0m\u001b[1;33m)\u001b[0m\u001b[1;33m:\u001b[0m\u001b[1;33m\u001b[0m\u001b[1;33m\u001b[0m\u001b[0m\n\u001b[0;32m    387\u001b[0m         \u001b[1;32mif\u001b[0m \u001b[0mself\u001b[0m\u001b[1;33m.\u001b[0m\u001b[0m_exception\u001b[0m\u001b[1;33m:\u001b[0m\u001b[1;33m\u001b[0m\u001b[1;33m\u001b[0m\u001b[0m\n\u001b[1;32m--> 388\u001b[1;33m             \u001b[1;32mraise\u001b[0m \u001b[0mself\u001b[0m\u001b[1;33m.\u001b[0m\u001b[0m_exception\u001b[0m\u001b[1;33m\u001b[0m\u001b[1;33m\u001b[0m\u001b[0m\n\u001b[0m\u001b[0;32m    389\u001b[0m         \u001b[1;32melse\u001b[0m\u001b[1;33m:\u001b[0m\u001b[1;33m\u001b[0m\u001b[1;33m\u001b[0m\u001b[0m\n\u001b[0;32m    390\u001b[0m             \u001b[1;32mreturn\u001b[0m \u001b[0mself\u001b[0m\u001b[1;33m.\u001b[0m\u001b[0m_result\u001b[0m\u001b[1;33m\u001b[0m\u001b[1;33m\u001b[0m\u001b[0m\n",
      "\u001b[1;31mTerminatedWorkerError\u001b[0m: A worker process managed by the executor was unexpectedly terminated. This could be caused by a segmentation fault while calling the function or by an excessive memory usage causing the Operating System to kill the worker.\n"
     ]
    }
   ],
   "source": [
    "knn = create_model('knn')"
   ]
  },
  {
   "cell_type": "code",
   "execution_count": null,
   "metadata": {},
   "outputs": [],
   "source": []
  }
 ],
 "metadata": {
  "colab": {
   "collapsed_sections": [],
   "name": "Dataset_Transacciones.ipynb",
   "provenance": []
  },
  "kernelspec": {
   "name": "python3",
   "display_name": "Python 3",
   "language": "python"
  },
  "language_info": {
   "codemirror_mode": {
    "name": "ipython",
    "version": 3
   },
   "file_extension": ".py",
   "mimetype": "text/x-python",
   "name": "python",
   "nbconvert_exporter": "python",
   "pygments_lexer": "ipython3",
   "version": "3.8.3-final"
  }
 },
 "nbformat": 4,
 "nbformat_minor": 1
}