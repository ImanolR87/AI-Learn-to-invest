{
 "cells": [
  {
   "cell_type": "markdown",
   "metadata": {
    "id": "83Xb7oH8HWwz"
   },
   "source": [
    "# 0.   Packages and Functions"
   ]
  },
  {
   "cell_type": "code",
   "execution_count": 1,
   "metadata": {
    "scrolled": true
   },
   "outputs": [],
   "source": [
    "# !pip install jupyter_nbextensions_configurator"
   ]
  },
  {
   "cell_type": "code",
   "execution_count": 2,
   "metadata": {},
   "outputs": [],
   "source": [
    "# !jupyter nbextensions_configurator enable --user"
   ]
  },
  {
   "cell_type": "code",
   "execution_count": 3,
   "metadata": {},
   "outputs": [
    {
     "name": "stderr",
     "output_type": "stream",
     "text": [
      "Enabling notebook extension nbextensions_configurator/config_menu/main...\n",
      "      - Validating: problems found:\n",
      "        - require?  X nbextensions_configurator/config_menu/main\n"
     ]
    }
   ],
   "source": [
    " !jupyter nbextension enable nbextensions_configurator/config_menu/main"
   ]
  },
  {
   "cell_type": "code",
   "execution_count": 4,
   "metadata": {
    "colab": {
     "base_uri": "https://localhost:8080/"
    },
    "executionInfo": {
     "elapsed": 2951,
     "status": "ok",
     "timestamp": 1609188894652,
     "user": {
      "displayName": "Daniel Dabdub",
      "photoUrl": "https://lh6.googleusercontent.com/-qKoV5H3Fw5M/AAAAAAAAAAI/AAAAAAAAZro/jARb9IjBWek/s64/photo.jpg",
      "userId": "06642504652143825936"
     },
     "user_tz": 360
    },
    "id": "0vFVdOUuHWw9",
    "outputId": "1bbddc3b-1bde-4bbe-f587-111640ff716b"
   },
   "outputs": [
    {
     "name": "stdout",
     "output_type": "stream",
     "text": [
      "Requirement already satisfied: pandas_datareader in c:\\users\\danieldabdub\\anaconda3\\lib\\site-packages (0.9.0)\n",
      "Requirement already satisfied: lxml in c:\\users\\danieldabdub\\anaconda3\\lib\\site-packages (from pandas_datareader) (4.5.2)\n",
      "Requirement already satisfied: requests>=2.19.0 in c:\\users\\danieldabdub\\anaconda3\\lib\\site-packages (from pandas_datareader) (2.24.0)\n",
      "Requirement already satisfied: pandas>=0.23 in c:\\users\\danieldabdub\\anaconda3\\lib\\site-packages (from pandas_datareader) (1.0.5)\n",
      "Requirement already satisfied: idna<3,>=2.5 in c:\\users\\danieldabdub\\anaconda3\\lib\\site-packages (from requests>=2.19.0->pandas_datareader) (2.10)\n",
      "Requirement already satisfied: chardet<4,>=3.0.2 in c:\\users\\danieldabdub\\anaconda3\\lib\\site-packages (from requests>=2.19.0->pandas_datareader) (3.0.4)\n",
      "Requirement already satisfied: urllib3!=1.25.0,!=1.25.1,<1.26,>=1.21.1 in c:\\users\\danieldabdub\\anaconda3\\lib\\site-packages (from requests>=2.19.0->pandas_datareader) (1.25.9)\n",
      "Requirement already satisfied: certifi>=2017.4.17 in c:\\users\\danieldabdub\\anaconda3\\lib\\site-packages (from requests>=2.19.0->pandas_datareader) (2020.6.20)\n",
      "Requirement already satisfied: pytz>=2017.2 in c:\\users\\danieldabdub\\anaconda3\\lib\\site-packages (from pandas>=0.23->pandas_datareader) (2020.1)\n",
      "Requirement already satisfied: python-dateutil>=2.6.1 in c:\\users\\danieldabdub\\anaconda3\\lib\\site-packages (from pandas>=0.23->pandas_datareader) (2.8.1)\n",
      "Requirement already satisfied: numpy>=1.13.3 in c:\\users\\danieldabdub\\anaconda3\\lib\\site-packages (from pandas>=0.23->pandas_datareader) (1.18.5)\n",
      "Requirement already satisfied: six>=1.5 in c:\\users\\danieldabdub\\anaconda3\\lib\\site-packages (from python-dateutil>=2.6.1->pandas>=0.23->pandas_datareader) (1.15.0)\n"
     ]
    }
   ],
   "source": [
    "!pip install pandas_datareader"
   ]
  },
  {
   "cell_type": "code",
   "execution_count": 5,
   "metadata": {
    "executionInfo": {
     "elapsed": 2941,
     "status": "ok",
     "timestamp": 1609188894655,
     "user": {
      "displayName": "Daniel Dabdub",
      "photoUrl": "https://lh6.googleusercontent.com/-qKoV5H3Fw5M/AAAAAAAAAAI/AAAAAAAAZro/jARb9IjBWek/s64/photo.jpg",
      "userId": "06642504652143825936"
     },
     "user_tz": 360
    },
    "id": "XBk9WVJUHWw_"
   },
   "outputs": [],
   "source": [
    "\n",
    "#general\n",
    "import pandas as pd\n",
    "import numpy as np\n",
    "import pickle \n",
    "from decimal import Decimal\n",
    "import re\n",
    "\n",
    "\n",
    "#for dates and times\n",
    "import random\n",
    "import time\n",
    "import datetime\n",
    "from pandas.tseries.holiday import USFederalHolidayCalendar\n",
    "\n",
    "#prices\n",
    "import pandas_datareader as web\n"
   ]
  },
  {
   "cell_type": "code",
   "execution_count": 6,
   "metadata": {
    "executionInfo": {
     "elapsed": 2935,
     "status": "ok",
     "timestamp": 1609188894656,
     "user": {
      "displayName": "Daniel Dabdub",
      "photoUrl": "https://lh6.googleusercontent.com/-qKoV5H3Fw5M/AAAAAAAAAAI/AAAAAAAAZro/jARb9IjBWek/s64/photo.jpg",
      "userId": "06642504652143825936"
     },
     "user_tz": 360
    },
    "id": "Q_FfFBRPHWxA"
   },
   "outputs": [],
   "source": [
    "\n",
    "\n",
    "def str_time_prop(start, end, format, prop):\n",
    "    \"\"\"Get a time at a proportion of a range of two formatted times.\n",
    "\n",
    "    start and end should be strings specifying times formated in the\n",
    "    given format (strftime-style), giving an interval [start, end].\n",
    "    prop specifies how a proportion of the interval to be taken after\n",
    "    start.  The returned time will be in the specified format.\n",
    "    \"\"\"\n",
    "\n",
    "    stime = time.mktime(time.strptime(start, format))\n",
    "    etime = time.mktime(time.strptime(end, format))\n",
    "\n",
    "    ptime = stime + prop * (etime - stime)\n",
    "\n",
    "    return time.strftime(format, time.localtime(ptime))\n",
    "\n",
    "\n",
    "def random_date(start, end, prop):\n",
    "    return str_time_prop(start, end, '%Y-%m-%d', prop)"
   ]
  },
  {
   "cell_type": "code",
   "execution_count": 7,
   "metadata": {
    "code_folding": [],
    "executionInfo": {
     "elapsed": 2931,
     "status": "ok",
     "timestamp": 1609188894656,
     "user": {
      "displayName": "Daniel Dabdub",
      "photoUrl": "https://lh6.googleusercontent.com/-qKoV5H3Fw5M/AAAAAAAAAAI/AAAAAAAAZro/jARb9IjBWek/s64/photo.jpg",
      "userId": "06642504652143825936"
     },
     "user_tz": 360
    },
    "id": "LWzVUjCMuqtA"
   },
   "outputs": [],
   "source": [
    "def weekend2weekday (transactions, col_date, col_day):\n",
    "\n",
    "\n",
    "  dates2_BUY=list()\n",
    "  days2_BUY=list()\n",
    "\n",
    "  for index,row in transactions.iterrows():\n",
    "    buy_date = datetime.datetime.strptime(row[col_date], \"%Y-%m-%d\")\n",
    "    if row[col_day]=='Sat':\n",
    "      buy_date2 = buy_date - datetime.timedelta(1)\n",
    "      dates2_BUY.append(buy_date2)\n",
    "\n",
    "      buy_day2='Fri'\n",
    "      days2_BUY.append(buy_day2)\n",
    "    elif row[col_day]=='Sun':\n",
    "      buy_date = datetime.datetime.strptime(row[col_day], \"%Y-%m-%d\")\n",
    "      buy_date2 = buy_date + datetime.timedelta(1)\n",
    "      dates2_BUY.append(buy_date2)\n",
    "\n",
    "      buy_day2='Mon'\n",
    "      days2_BUY.append(buy_day2)\n",
    "    else:\n",
    "      buy_date2=row[col_date]\n",
    "      dates2_BUY.append(buy_date2)\n",
    "      buy_day2=row[col_day]\n",
    "      days2_BUY.append(buy_day2)\n",
    "\n",
    "    transactions['date_BUY_fix']=dates2_BUY\n",
    "    transactions['day_BUY_fix']=days2_BUY\n",
    "\n",
    "\n",
    "  return transactions"
   ]
  },
  {
   "cell_type": "markdown",
   "metadata": {
    "id": "Pvb9migKHWxB"
   },
   "source": [
    "# 1. Setting investment parameters"
   ]
  },
  {
   "cell_type": "markdown",
   "metadata": {
    "id": "eUVjdqFBHWxC"
   },
   "source": [
    "## Temporal horizons\n",
    " In number of days\n",
    " - 1 day to 2 years"
   ]
  },
  {
   "cell_type": "code",
   "execution_count": 8,
   "metadata": {
    "executionInfo": {
     "elapsed": 2926,
     "status": "ok",
     "timestamp": 1609188894657,
     "user": {
      "displayName": "Daniel Dabdub",
      "photoUrl": "https://lh6.googleusercontent.com/-qKoV5H3Fw5M/AAAAAAAAAAI/AAAAAAAAZro/jARb9IjBWek/s64/photo.jpg",
      "userId": "06642504652143825936"
     },
     "user_tz": 360
    },
    "id": "tq4RiMLqHWxF"
   },
   "outputs": [],
   "source": [
    "horizons=[1,2,3,4,5,6,7,10,15,20,30,40,50,60,70,80,90,100,120,150,180,210,240,270,300,330,360,420,480,540,600,660,720]\n"
   ]
  },
  {
   "cell_type": "markdown",
   "metadata": {
    "id": "u14ARLWFHWxG"
   },
   "source": [
    "## Amounts in dollars\n",
    " - 50 to 50,000 dollars"
   ]
  },
  {
   "cell_type": "code",
   "execution_count": 9,
   "metadata": {
    "executionInfo": {
     "elapsed": 2920,
     "status": "ok",
     "timestamp": 1609188894657,
     "user": {
      "displayName": "Daniel Dabdub",
      "photoUrl": "https://lh6.googleusercontent.com/-qKoV5H3Fw5M/AAAAAAAAAAI/AAAAAAAAZro/jARb9IjBWek/s64/photo.jpg",
      "userId": "06642504652143825936"
     },
     "user_tz": 360
    },
    "id": "JO64rZAfHWxI"
   },
   "outputs": [],
   "source": [
    "amounts=[50,100,200,300,400,500,1000,1500,2000,3000,4000,5000,10000,15000,20000,25000,50000]"
   ]
  },
  {
   "cell_type": "markdown",
   "metadata": {
    "id": "PRO9Gv5XHWxJ"
   },
   "source": [
    "# 2. Data extraction"
   ]
  },
  {
   "cell_type": "markdown",
   "metadata": {
    "id": "OizEc3VRHWxK"
   },
   "source": [
    "## Companies' stock prices"
   ]
  },
  {
   "cell_type": "code",
   "execution_count": 10,
   "metadata": {
    "executionInfo": {
     "elapsed": 2915,
     "status": "ok",
     "timestamp": 1609188894658,
     "user": {
      "displayName": "Daniel Dabdub",
      "photoUrl": "https://lh6.googleusercontent.com/-qKoV5H3Fw5M/AAAAAAAAAAI/AAAAAAAAZro/jARb9IjBWek/s64/photo.jpg",
      "userId": "06642504652143825936"
     },
     "user_tz": 360
    },
    "id": "BKv-SEm-HWxN"
   },
   "outputs": [],
   "source": [
    "#Selecting a list of companies we are interested in analyzing:\n",
    "companies = ['AAPL',\n",
    "            'AMZN',\n",
    "            'MSFT',\n",
    "            'GOOG',\n",
    "            'FB',\n",
    "            'NVDA',\n",
    "             #automobiles\n",
    "            'F',\n",
    "            'GM',\n",
    "            'HMC',\n",
    "            'TSLA',\n",
    "            'TYO',\n",
    "             'HOG',\n",
    "             #retail\n",
    "             'WMT',\n",
    "             'M',\n",
    "             'TGT',\n",
    "             'KSS',\n",
    "             'COST',\n",
    "             'BBY',\n",
    "             #FastMovingConsumerGoods(FMCG)\n",
    "             'NESN',\n",
    "             'KO',\n",
    "             'PEP',\n",
    "             'ULVR',\n",
    "             'PG',\n",
    "             'OR',\n",
    "            #bank\n",
    "            'AXP',\n",
    "            'VISA',\n",
    "            'SC',\n",
    "            'DB',\n",
    "            'UBS',\n",
    "            'BAC',\n",
    "            'JPM']"
   ]
  },
  {
   "cell_type": "code",
   "execution_count": 11,
   "metadata": {},
   "outputs": [],
   "source": [
    "tech_c=['AAPL','AMZN','MSFT','GOOG','FB','VISA','NVDA']\n",
    "auto_c=['F','GM','HMC','TSLA','TYO','HOG']\n",
    "retail_c=[ 'WMT', 'M','TGT','KSS','COST','BBY']\n",
    "fmcg_c=['NESN','KO','PEP','ULVR','PG', 'OR']\n",
    "bank_c=['AXP','VISA','SC', 'DB', 'UBS','BAC','JPM']"
   ]
  },
  {
   "cell_type": "code",
   "execution_count": 12,
   "metadata": {},
   "outputs": [],
   "source": [
    "#ESG ratios\n",
    "ESG_ratios=[16.5, 27.4, 14.7, 22.8, 31.6, 12.9, 29.7, 30.6, 28.5, 31.1, 30.3, 16.3, 27.3, 14.5, 14.8, 12.9, 22.3, 12.0, 28.3, 25.1, 17.6, 23.4, 25.1, 20.5, 19.8, 17.4, 26.9, 30.0, 24.8, 26.3, 27.9]"
   ]
  },
  {
   "cell_type": "markdown",
   "metadata": {
    "id": "avte3T6hHWxO"
   },
   "source": [
    "We are going to extract info from 10 years from the companies selected"
   ]
  },
  {
   "cell_type": "code",
   "execution_count": 13,
   "metadata": {
    "colab": {
     "base_uri": "https://localhost:8080/"
    },
    "executionInfo": {
     "elapsed": 7984,
     "status": "ok",
     "timestamp": 1609188899736,
     "user": {
      "displayName": "Daniel Dabdub",
      "photoUrl": "https://lh6.googleusercontent.com/-qKoV5H3Fw5M/AAAAAAAAAAI/AAAAAAAAZro/jARb9IjBWek/s64/photo.jpg",
      "userId": "06642504652143825936"
     },
     "user_tz": 360
    },
    "id": "QjIPhDKXHWxO",
    "outputId": "6976a38b-befa-4db3-b589-6df7a493c043"
   },
   "outputs": [
    {
     "name": "stdout",
     "output_type": "stream",
     "text": [
      "AAPL\n",
      "AMZN\n",
      "MSFT\n",
      "GOOG\n",
      "FB\n",
      "NVDA\n",
      "F\n",
      "GM\n",
      "HMC\n",
      "TSLA\n",
      "TYO\n",
      "HOG\n",
      "WMT\n",
      "M\n",
      "TGT\n",
      "KSS\n",
      "COST\n",
      "BBY\n",
      "There were  errors when extracting data of   NESN\n",
      "KO\n",
      "PEP\n",
      "There were  errors when extracting data of   ULVR\n",
      "PG\n",
      "OR\n",
      "AXP\n",
      "There were  errors when extracting data of   VISA\n",
      "SC\n",
      "DB\n",
      "UBS\n",
      "BAC\n",
      "JPM\n"
     ]
    }
   ],
   "source": [
    "#Collecting the data of each company in a list\n",
    "l_companies_prices=list()\n",
    "error_companies=list()\n",
    "error_indexes=list()\n",
    "\n",
    "for company in companies:\n",
    "    try:\n",
    "        prices= web.DataReader(company, data_source='yahoo', start='2010-10-10', end='2020-10-10')\n",
    "        l_companies_prices.append(prices)\n",
    "        print(company)\n",
    "    \n",
    "    except :\n",
    "        print('There were  errors when extracting data of  ', company)\n",
    "        #elimino de la lista esa empresa que no se consiguieron datos.\n",
    "        error_companies.append(company)\n",
    "        \n",
    "        error_company_index=companies.index(company)\n",
    "        error_indexes.append(error_company_index)\n",
    "\n",
    "\n",
    "for c in error_companies:\n",
    "  companies.remove(c)\n",
    "\n",
    "ESG_ratios_fix=list()\n",
    "\n",
    "for index in range(0, len(ESG_ratios)):\n",
    "    if index not in error_indexes:\n",
    "        ESG_ratios_fix.append(ESG_ratios[index])"
   ]
  },
  {
   "cell_type": "code",
   "execution_count": 14,
   "metadata": {
    "colab": {
     "base_uri": "https://localhost:8080/"
    },
    "executionInfo": {
     "elapsed": 7978,
     "status": "ok",
     "timestamp": 1609188899739,
     "user": {
      "displayName": "Daniel Dabdub",
      "photoUrl": "https://lh6.googleusercontent.com/-qKoV5H3Fw5M/AAAAAAAAAAI/AAAAAAAAZro/jARb9IjBWek/s64/photo.jpg",
      "userId": "06642504652143825936"
     },
     "user_tz": 360
    },
    "id": "xFMTSlZWHWxP",
    "outputId": "269f9899-0726-48c4-d4c7-bfdd9aeed622"
   },
   "outputs": [
    {
     "data": {
      "text/plain": [
       "['AAPL',\n",
       " 'AMZN',\n",
       " 'MSFT',\n",
       " 'GOOG',\n",
       " 'FB',\n",
       " 'NVDA',\n",
       " 'F',\n",
       " 'GM',\n",
       " 'HMC',\n",
       " 'TSLA',\n",
       " 'TYO',\n",
       " 'HOG',\n",
       " 'WMT',\n",
       " 'M',\n",
       " 'TGT',\n",
       " 'KSS',\n",
       " 'COST',\n",
       " 'BBY',\n",
       " 'KO',\n",
       " 'PEP',\n",
       " 'PG',\n",
       " 'OR',\n",
       " 'AXP',\n",
       " 'SC',\n",
       " 'DB',\n",
       " 'UBS',\n",
       " 'BAC',\n",
       " 'JPM']"
      ]
     },
     "execution_count": 14,
     "metadata": {},
     "output_type": "execute_result"
    }
   ],
   "source": [
    "companies"
   ]
  },
  {
   "cell_type": "code",
   "execution_count": 15,
   "metadata": {
    "colab": {
     "base_uri": "https://localhost:8080/"
    },
    "executionInfo": {
     "elapsed": 7967,
     "status": "ok",
     "timestamp": 1609188899740,
     "user": {
      "displayName": "Daniel Dabdub",
      "photoUrl": "https://lh6.googleusercontent.com/-qKoV5H3Fw5M/AAAAAAAAAAI/AAAAAAAAZro/jARb9IjBWek/s64/photo.jpg",
      "userId": "06642504652143825936"
     },
     "user_tz": 360
    },
    "id": "iUYZrKXLmbF5",
    "outputId": "ae0e562e-ede0-4b88-9cde-8b44ec3036dc"
   },
   "outputs": [
    {
     "data": {
      "text/plain": [
       "28"
      ]
     },
     "execution_count": 15,
     "metadata": {},
     "output_type": "execute_result"
    }
   ],
   "source": [
    "len(ESG_ratios_fix)"
   ]
  },
  {
   "cell_type": "code",
   "execution_count": 16,
   "metadata": {
    "colab": {
     "base_uri": "https://localhost:8080/"
    },
    "executionInfo": {
     "elapsed": 7958,
     "status": "ok",
     "timestamp": 1609188899741,
     "user": {
      "displayName": "Daniel Dabdub",
      "photoUrl": "https://lh6.googleusercontent.com/-qKoV5H3Fw5M/AAAAAAAAAAI/AAAAAAAAZro/jARb9IjBWek/s64/photo.jpg",
      "userId": "06642504652143825936"
     },
     "user_tz": 360
    },
    "id": "sbDmjtWSmpmX",
    "outputId": "1de4229f-0e8d-4b5b-ba9d-a8f0ccd77586"
   },
   "outputs": [
    {
     "data": {
      "text/plain": [
       "28"
      ]
     },
     "execution_count": 16,
     "metadata": {},
     "output_type": "execute_result"
    }
   ],
   "source": [
    "len(companies)"
   ]
  },
  {
   "cell_type": "code",
   "execution_count": 17,
   "metadata": {
    "colab": {
     "base_uri": "https://localhost:8080/"
    },
    "executionInfo": {
     "elapsed": 7945,
     "status": "ok",
     "timestamp": 1609188899741,
     "user": {
      "displayName": "Daniel Dabdub",
      "photoUrl": "https://lh6.googleusercontent.com/-qKoV5H3Fw5M/AAAAAAAAAAI/AAAAAAAAZro/jARb9IjBWek/s64/photo.jpg",
      "userId": "06642504652143825936"
     },
     "user_tz": 360
    },
    "id": "53lX5l0UHWxR",
    "outputId": "79d68dc5-603e-4741-a4bb-bd617fe8256f"
   },
   "outputs": [
    {
     "name": "stdout",
     "output_type": "stream",
     "text": [
      "AAPL\n"
     ]
    },
    {
     "data": {
      "text/plain": [
       "Index(['High', 'Low', 'Open', 'Close', 'Volume', 'Adj Close'], dtype='object')"
      ]
     },
     "execution_count": 17,
     "metadata": {},
     "output_type": "execute_result"
    }
   ],
   "source": [
    "print(companies[0])\n",
    "l_companies_prices[0].columns"
   ]
  },
  {
   "cell_type": "code",
   "execution_count": 18,
   "metadata": {
    "colab": {
     "base_uri": "https://localhost:8080/"
    },
    "executionInfo": {
     "elapsed": 7935,
     "status": "ok",
     "timestamp": 1609188899742,
     "user": {
      "displayName": "Daniel Dabdub",
      "photoUrl": "https://lh6.googleusercontent.com/-qKoV5H3Fw5M/AAAAAAAAAAI/AAAAAAAAZro/jARb9IjBWek/s64/photo.jpg",
      "userId": "06642504652143825936"
     },
     "user_tz": 360
    },
    "id": "oaXmsayOOdmD",
    "outputId": "819b4b7b-52ba-4d3d-f602-d46b112d751f"
   },
   "outputs": [
    {
     "data": {
      "text/plain": [
       "10.54857063293457"
      ]
     },
     "execution_count": 18,
     "metadata": {},
     "output_type": "execute_result"
    }
   ],
   "source": [
    "company_pos=companies.index(\"AAPL\")\n",
    "l_companies_prices[company_pos].loc['2010-10-11','Close']"
   ]
  },
  {
   "cell_type": "markdown",
   "metadata": {
    "id": "QXM6dTYrHWxS"
   },
   "source": [
    "# 3. Random transactions"
   ]
  },
  {
   "cell_type": "code",
   "execution_count": 19,
   "metadata": {
    "executionInfo": {
     "elapsed": 7921,
     "status": "ok",
     "timestamp": 1609188899743,
     "user": {
      "displayName": "Daniel Dabdub",
      "photoUrl": "https://lh6.googleusercontent.com/-qKoV5H3Fw5M/AAAAAAAAAAI/AAAAAAAAZro/jARb9IjBWek/s64/photo.jpg",
      "userId": "06642504652143825936"
     },
     "user_tz": 360
    },
    "id": "FbTbstE2HWxS"
   },
   "outputs": [],
   "source": [
    "transactions=pd.DataFrame()\n",
    "#we do 500.000 initial transactions\n",
    "\n",
    "#id\n",
    "transactions['id']=range(1,500001)"
   ]
  },
  {
   "cell_type": "markdown",
   "metadata": {
    "id": "CGxBin49ynt1"
   },
   "source": [
    "## Companies"
   ]
  },
  {
   "cell_type": "code",
   "execution_count": 20,
   "metadata": {
    "executionInfo": {
     "elapsed": 7916,
     "status": "ok",
     "timestamp": 1609188899743,
     "user": {
      "displayName": "Daniel Dabdub",
      "photoUrl": "https://lh6.googleusercontent.com/-qKoV5H3Fw5M/AAAAAAAAAAI/AAAAAAAAZro/jARb9IjBWek/s64/photo.jpg",
      "userId": "06642504652143825936"
     },
     "user_tz": 360
    },
    "id": "gO_r1eihN4N3"
   },
   "outputs": [],
   "source": [
    "#random company\n",
    "transactions[\"company\"]=np.random.choice(companies, size=len(transactions))"
   ]
  },
  {
   "cell_type": "markdown",
   "metadata": {},
   "source": [
    "## Sector"
   ]
  },
  {
   "cell_type": "code",
   "execution_count": 21,
   "metadata": {},
   "outputs": [],
   "source": [
    "#sector of the company\n",
    "\n",
    "random_companies=transactions['company'].tolist()\n",
    "random_sectors=list()\n",
    "for comp in random_companies:\n",
    "    if comp in tech_c:\n",
    "        sector='TECH'\n",
    "    elif comp in auto_c:\n",
    "        sector='AUTO'\n",
    "    elif comp in retail_c:\n",
    "        sector='RETAIL'\n",
    "    elif comp in fmcg_c:\n",
    "        sector='FMCG'\n",
    "    elif comp in bank_c:\n",
    "        sector='BANK'\n",
    "    \n",
    "    random_sectors.append(sector)\n",
    "\n",
    "transactions['sector']=random_sectors\n"
   ]
  },
  {
   "cell_type": "markdown",
   "metadata": {
    "id": "f6D5TbzNyrCA"
   },
   "source": [
    "## Horizons"
   ]
  },
  {
   "cell_type": "code",
   "execution_count": 22,
   "metadata": {
    "executionInfo": {
     "elapsed": 7910,
     "status": "ok",
     "timestamp": 1609188899744,
     "user": {
      "displayName": "Daniel Dabdub",
      "photoUrl": "https://lh6.googleusercontent.com/-qKoV5H3Fw5M/AAAAAAAAAAI/AAAAAAAAZro/jARb9IjBWek/s64/photo.jpg",
      "userId": "06642504652143825936"
     },
     "user_tz": 360
    },
    "id": "3DbTtrTOHWxS"
   },
   "outputs": [],
   "source": [
    "#random horizon\n",
    "transactions[\"horizon (days)\"] = np.random.choice(horizons, size=len(transactions))\n"
   ]
  },
  {
   "cell_type": "markdown",
   "metadata": {
    "id": "7CXrQ57wys5U"
   },
   "source": [
    "## Investment Amounts"
   ]
  },
  {
   "cell_type": "code",
   "execution_count": 23,
   "metadata": {
    "executionInfo": {
     "elapsed": 7905,
     "status": "ok",
     "timestamp": 1609188899744,
     "user": {
      "displayName": "Daniel Dabdub",
      "photoUrl": "https://lh6.googleusercontent.com/-qKoV5H3Fw5M/AAAAAAAAAAI/AAAAAAAAZro/jARb9IjBWek/s64/photo.jpg",
      "userId": "06642504652143825936"
     },
     "user_tz": 360
    },
    "id": "MqIDjNcSHWxT"
   },
   "outputs": [],
   "source": [
    "#random investment amount\n",
    "transactions[\"amount\"] = np.random.choice(amounts, size=len(transactions))\n"
   ]
  },
  {
   "cell_type": "markdown",
   "metadata": {
    "id": "yDG5pNzSywY2"
   },
   "source": [
    "## Dates - BUY"
   ]
  },
  {
   "cell_type": "code",
   "execution_count": 24,
   "metadata": {
    "colab": {
     "base_uri": "https://localhost:8080/"
    },
    "executionInfo": {
     "elapsed": 9142,
     "status": "ok",
     "timestamp": 1609188900988,
     "user": {
      "displayName": "Daniel Dabdub",
      "photoUrl": "https://lh6.googleusercontent.com/-qKoV5H3Fw5M/AAAAAAAAAAI/AAAAAAAAZro/jARb9IjBWek/s64/photo.jpg",
      "userId": "06642504652143825936"
     },
     "user_tz": 360
    },
    "id": "BeY0oDYhHWxU",
    "outputId": "a7ef2eee-0ddd-402a-a699-65a7bc91ae16"
   },
   "outputs": [
    {
     "name": "stdout",
     "output_type": "stream",
     "text": [
      "500000\n"
     ]
    }
   ],
   "source": [
    "#random buy date\n",
    "start='2013-10-10'\n",
    "end='2018-10-10'\n",
    "\n",
    "dates_buy=list()\n",
    "\n",
    "for i in range(0, transactions.shape[0]):\n",
    "    r_date=random_date(start,end,random.random())\n",
    "    dates_buy.append(r_date)\n",
    "\n",
    "\n",
    "print(len(dates_buy))\n",
    "transactions['date_BUY']=dates_buy"
   ]
  },
  {
   "cell_type": "markdown",
   "metadata": {
    "id": "MF9tblAlsNBo"
   },
   "source": [
    "### Fixing dates (BUY)"
   ]
  },
  {
   "cell_type": "code",
   "execution_count": 25,
   "metadata": {
    "executionInfo": {
     "elapsed": 9631,
     "status": "ok",
     "timestamp": 1609188901489,
     "user": {
      "displayName": "Daniel Dabdub",
      "photoUrl": "https://lh6.googleusercontent.com/-qKoV5H3Fw5M/AAAAAAAAAAI/AAAAAAAAZro/jARb9IjBWek/s64/photo.jpg",
      "userId": "06642504652143825936"
     },
     "user_tz": 360
    },
    "id": "MOlu1a8keq2i"
   },
   "outputs": [],
   "source": [
    "day_names=list()\n",
    "\n",
    "for d in dates_buy:\n",
    "\n",
    "  dt = datetime.datetime.strptime(d, '%Y-%m-%d')\n",
    "  weekno=dt.weekday()\n",
    "\n",
    "  if weekno == 0:\n",
    "    dia='Mon'\n",
    "    day_names.append(dia)\n",
    "  elif weekno==1:\n",
    "    dia='Tue'\n",
    "    day_names.append(dia)\n",
    "  elif weekno==2:\n",
    "    dia='Wed'\n",
    "    day_names.append(dia)\n",
    "  elif weekno==3:\n",
    "    dia='Thu'\n",
    "    day_names.append(dia)\n",
    "  elif weekno==4:\n",
    "    dia='Fri'\n",
    "    day_names.append(dia)\n",
    "  elif weekno==5:\n",
    "    dia='Sat'\n",
    "    day_names.append(dia)\n",
    "  elif weekno==6:\n",
    "    dia='Sun'\n",
    "    day_names.append(dia)\n",
    "\n",
    "transactions['day_BUY']=day_names\n"
   ]
  },
  {
   "cell_type": "code",
   "execution_count": 26,
   "metadata": {
    "executionInfo": {
     "elapsed": 14271,
     "status": "ok",
     "timestamp": 1609188906134,
     "user": {
      "displayName": "Daniel Dabdub",
      "photoUrl": "https://lh6.googleusercontent.com/-qKoV5H3Fw5M/AAAAAAAAAAI/AAAAAAAAZro/jARb9IjBWek/s64/photo.jpg",
      "userId": "06642504652143825936"
     },
     "user_tz": 360
    },
    "id": "AHJh4vQagUyg"
   },
   "outputs": [],
   "source": [
    "dates2_BUY=list()\n",
    "days2_BUY=list()\n",
    "\n",
    "#if date is saturday, we are going to push it to friday\n",
    "#if date is sunday, we are going to push it to monday\n",
    "\n",
    "for index,row in transactions.iterrows():\n",
    "  buy_date = datetime.datetime.strptime(row['date_BUY'], \"%Y-%m-%d\")\n",
    "  if row['day_BUY']=='Sat':\n",
    "    buy_date2 = buy_date - datetime.timedelta(1)\n",
    "    dates2_BUY.append(buy_date2)\n",
    "\n",
    "    buy_day2='Fri'\n",
    "    days2_BUY.append(buy_day2)\n",
    "  elif row['day_BUY']=='Sun':\n",
    "    buy_date = datetime.datetime.strptime(row['date_BUY'], \"%Y-%m-%d\")\n",
    "    buy_date2 = buy_date + datetime.timedelta(1)\n",
    "    dates2_BUY.append(buy_date2)\n",
    "\n",
    "    buy_day2='Mon'\n",
    "    days2_BUY.append(buy_day2)\n",
    "  else:\n",
    "    buy_date2=buy_date\n",
    "    dates2_BUY.append(buy_date2)\n",
    "    buy_day2=row['day_BUY']\n",
    "    days2_BUY.append(buy_day2)\n",
    "\n",
    "\n",
    "transactions['date_BUY_fix']=dates2_BUY\n",
    "transactions['day_BUY_fix']=days2_BUY\n"
   ]
  },
  {
   "cell_type": "code",
   "execution_count": null,
   "metadata": {
    "executionInfo": {
     "elapsed": 14467,
     "status": "ok",
     "timestamp": 1609188906337,
     "user": {
      "displayName": "Daniel Dabdub",
      "photoUrl": "https://lh6.googleusercontent.com/-qKoV5H3Fw5M/AAAAAAAAAAI/AAAAAAAAZro/jARb9IjBWek/s64/photo.jpg",
      "userId": "06642504652143825936"
     },
     "user_tz": 360
    },
    "id": "qHx_n2n2kHjz"
   },
   "outputs": [],
   "source": [
    "#checking for holidays (NYSE is closed)\n",
    "\n",
    "cal = USFederalHolidayCalendar()\n",
    "holidays = cal.holidays(start='2010-10-10', end='2020-10-10').to_pydatetime()\n",
    "# if datetime.datetime(2014,01,01) in holidays:\n",
    "#     print True \n",
    "\n",
    "l_holidays=list()\n",
    "for d in dates2_BUY:\n",
    "  if d in holidays:\n",
    "    holiday='Holiday'\n",
    "    l_holidays.append(holiday)\n",
    "\n",
    "  else:\n",
    "    holiday=''\n",
    "    l_holidays.append(holiday)\n",
    "\n",
    "transactions['holiday_BUY']=l_holidays"
   ]
  },
  {
   "cell_type": "code",
   "execution_count": null,
   "metadata": {
    "executionInfo": {
     "elapsed": 14463,
     "status": "ok",
     "timestamp": 1609188906338,
     "user": {
      "displayName": "Daniel Dabdub",
      "photoUrl": "https://lh6.googleusercontent.com/-qKoV5H3Fw5M/AAAAAAAAAAI/AAAAAAAAZro/jARb9IjBWek/s64/photo.jpg",
      "userId": "06642504652143825936"
     },
     "user_tz": 360
    },
    "id": "haV7AfcMitbi"
   },
   "outputs": [],
   "source": [
    "transactions_h=transactions[transactions.holiday_BUY=='Holiday']\n",
    "\n",
    "transactions=transactions[transactions.holiday_BUY!='Holiday']"
   ]
  },
  {
   "cell_type": "markdown",
   "metadata": {},
   "source": [
    "## Expected return and volatility"
   ]
  },
  {
   "cell_type": "markdown",
   "metadata": {},
   "source": [
    "### Expected volatilities"
   ]
  },
  {
   "cell_type": "code",
   "execution_count": null,
   "metadata": {
    "tags": [
     "outputPrepend"
    ]
   },
   "outputs": [],
   "source": [
    "\n",
    "l_volatilities = []\n",
    "for company in companies:\n",
    "    company_pos=companies.index(company)\n",
    "    df_company_prices = pd.DataFrame(l_companies_prices[company_pos])\n",
    "    log_ret = np.log(df_company_prices['Close'] / df_company_prices['Close'].shift(1))\n",
    "    volatility = log_ret.rolling(window=252).std() * np.sqrt(252)\n",
    "    df_company_prices.insert(2, \"Volatility\", volatility, True)\n",
    "    l_volatilities.append(df_company_prices)\n",
    "\n",
    "print(l_volatilities)"
   ]
  },
  {
   "cell_type": "markdown",
   "metadata": {},
   "source": [
    "### Expected returns"
   ]
  },
  {
   "cell_type": "code",
   "execution_count": null,
   "metadata": {},
   "outputs": [],
   "source": [
    "l_returns = []\n",
    "for company in companies:\n",
    "    company_pos=companies.index(company)\n",
    "    df_company_prices = pd.DataFrame(l_companies_prices[company_pos])\n",
    "    returns = (df_company_prices['Close'] - df_company_prices['Close'].shift(1)) / df_company_prices['Close'].shift(1)\n",
    "    df_company_prices.insert(2, \"returns\", returns, True)\n",
    "    l_returns.append(df_company_prices)"
   ]
  },
  {
   "cell_type": "code",
   "execution_count": null,
   "metadata": {},
   "outputs": [],
   "source": [
    "l_returns"
   ]
  },
  {
   "cell_type": "code",
   "execution_count": null,
   "metadata": {},
   "outputs": [],
   "source": [
    "l_yearly_returns = []\n",
    "for company in companies:\n",
    "    company_pos=companies.index(company)\n",
    "    df_company_prices = pd.DataFrame(l_companies_prices[company_pos])\n",
    "    try:\n",
    "        df_yearly = df_company_prices[\"Close\"].resample('Y').first().pct_change()\n",
    "        \n",
    "        yearly_mean = df_yearly.mean()\n",
    "    except:\n",
    "        print( company)\n",
    "        print(df_company_prices)\n",
    "        yearly_mean = 0\n",
    "    l_yearly_returns.append([company,yearly_mean])\n",
    "print(l_yearly_returns)"
   ]
  },
  {
   "cell_type": "markdown",
   "metadata": {
    "id": "9EVjuyTwybFN"
   },
   "source": [
    "## Prices - BUY"
   ]
  },
  {
   "cell_type": "code",
   "execution_count": null,
   "metadata": {
    "executionInfo": {
     "elapsed": 18975,
     "status": "ok",
     "timestamp": 1609188910857,
     "user": {
      "displayName": "Daniel Dabdub",
      "photoUrl": "https://lh6.googleusercontent.com/-qKoV5H3Fw5M/AAAAAAAAAAI/AAAAAAAAZro/jARb9IjBWek/s64/photo.jpg",
      "userId": "06642504652143825936"
     },
     "user_tz": 360
    },
    "id": "kyz9eVdWOHiz"
   },
   "outputs": [],
   "source": [
    "#price when bought\n",
    "\n",
    "l_buy_prices=list()\n",
    "l_volatility=list()\n",
    "for index,row in transactions.iterrows():\n",
    "    comp=row['company']\n",
    "    buy_date=row['date_BUY_fix']\n",
    "    company_pos=companies.index(comp)\n",
    "    try:\n",
    "        price=l_companies_prices[company_pos].loc[buy_date,'Adj Close']\n",
    "        volatility= l_volatilities[company_pos].loc[buy_date, 'Volatility']\n",
    "    except :\n",
    "        price=np.NaN\n",
    "\n",
    "    l_buy_prices.append(price)\n",
    "\n",
    "transactions['price_BUY']=l_buy_prices\n"
   ]
  },
  {
   "cell_type": "code",
   "execution_count": null,
   "metadata": {},
   "outputs": [],
   "source": [
    "l_volatility_buy=list()\n",
    "for index,row in transactions.iterrows():\n",
    "    comp=row['company']\n",
    "    buy_date=row['date_BUY_fix']\n",
    "    company_pos=companies.index(comp)\n",
    "    try:\n",
    "        volatility= l_volatilities[company_pos].loc[buy_date, 'Volatility']\n",
    "    except :\n",
    "        volatility=np.NaN\n",
    "    \n",
    "    l_volatility_buy.append(volatility)\n",
    "    \n",
    "print(len(l_volatility_buy))\n",
    "\n",
    "\n",
    "transactions['Volatility_Buy'] = l_volatility_buy"
   ]
  },
  {
   "cell_type": "markdown",
   "metadata": {
    "id": "SN8AKEpjzWON"
   },
   "source": [
    "## Dates - SELL"
   ]
  },
  {
   "cell_type": "code",
   "execution_count": null,
   "metadata": {
    "executionInfo": {
     "elapsed": 22996,
     "status": "ok",
     "timestamp": 1609188914886,
     "user": {
      "displayName": "Daniel Dabdub",
      "photoUrl": "https://lh6.googleusercontent.com/-qKoV5H3Fw5M/AAAAAAAAAAI/AAAAAAAAZro/jARb9IjBWek/s64/photo.jpg",
      "userId": "06642504652143825936"
     },
     "user_tz": 360
    },
    "id": "q7tjX_-KHWxc"
   },
   "outputs": [],
   "source": [
    "#random sell date\n",
    "dates_SELL=list()\n",
    "expected_return = list()\n",
    "\n",
    "for index,row in transactions.iterrows():\n",
    "    comp=row['company']\n",
    "    company_pos=companies.index(comp)\n",
    "    buy_date = row['date_BUY_fix']\n",
    "    sell_date = buy_date + datetime.timedelta(row['horizon (days)'])\n",
    "    expected_return.append(row['horizon (days)']/365 * l_yearly_returns[company_pos][1])\n",
    "\n",
    "    dates_SELL.append(sell_date)\n",
    "\n",
    "transactions['expected_return (yearly)'] = expected_return\n",
    "transactions['date_SELL']=dates_SELL"
   ]
  },
  {
   "cell_type": "markdown",
   "metadata": {
    "id": "tBEde7euzZOO"
   },
   "source": [
    "### Fixing dates (SELL)"
   ]
  },
  {
   "cell_type": "code",
   "execution_count": null,
   "metadata": {
    "executionInfo": {
     "elapsed": 22991,
     "status": "ok",
     "timestamp": 1609188914889,
     "user": {
      "displayName": "Daniel Dabdub",
      "photoUrl": "https://lh6.googleusercontent.com/-qKoV5H3Fw5M/AAAAAAAAAAI/AAAAAAAAZro/jARb9IjBWek/s64/photo.jpg",
      "userId": "06642504652143825936"
     },
     "user_tz": 360
    },
    "id": "8xQv21va0AGb"
   },
   "outputs": [],
   "source": [
    "day_names=list()\n",
    "\n",
    "\n",
    "\n",
    "for d in dates_SELL:\n",
    "\n",
    "  # dt = datetime.datetime.strptime(d, '%Y-%m-%d')\n",
    "  weekno=d.weekday()\n",
    "\n",
    "  if weekno == 0:\n",
    "    dia='Mon'\n",
    "    day_names.append(dia)\n",
    "  elif weekno==1:\n",
    "    dia='Tue'\n",
    "    day_names.append(dia)\n",
    "  elif weekno==2:\n",
    "    dia='Wed'\n",
    "    day_names.append(dia)\n",
    "  elif weekno==3:\n",
    "    dia='Thu'\n",
    "    day_names.append(dia)\n",
    "  elif weekno==4:\n",
    "    dia='Fri'\n",
    "    day_names.append(dia)\n",
    "  elif weekno==5:\n",
    "    dia='Sat'\n",
    "    day_names.append(dia)\n",
    "  elif weekno==6:\n",
    "    dia='Sun'\n",
    "    day_names.append(dia)\n",
    "\n",
    "transactions['day_SELL']=day_names\n"
   ]
  },
  {
   "cell_type": "code",
   "execution_count": null,
   "metadata": {
    "executionInfo": {
     "elapsed": 27213,
     "status": "ok",
     "timestamp": 1609188919119,
     "user": {
      "displayName": "Daniel Dabdub",
      "photoUrl": "https://lh6.googleusercontent.com/-qKoV5H3Fw5M/AAAAAAAAAAI/AAAAAAAAZro/jARb9IjBWek/s64/photo.jpg",
      "userId": "06642504652143825936"
     },
     "user_tz": 360
    },
    "id": "rKB4tani0AGc"
   },
   "outputs": [],
   "source": [
    "dates2_SELL=list()\n",
    "days2_SELL=list()\n",
    "\n",
    "#if date is saturday, we are going to push it to friday\n",
    "#if date is sunday, we are going to push it to monday\n",
    "\n",
    "for index,row in transactions.iterrows():\n",
    "  SELL_date = row['date_SELL']\n",
    "  if row['day_SELL']=='Sat':\n",
    "    SELL_date2 = SELL_date - datetime.timedelta(1)\n",
    "    dates2_SELL.append(SELL_date2)\n",
    "\n",
    "    SELL_day2='Fri'\n",
    "    days2_SELL.append(SELL_day2)\n",
    "  elif row['day_SELL']=='Sun':\n",
    "    SELL_date = row['date_SELL']\n",
    "    SELL_date2 = SELL_date + datetime.timedelta(1)\n",
    "    dates2_SELL.append(SELL_date2)\n",
    "\n",
    "    SELL_day2='Mon'\n",
    "    days2_SELL.append(SELL_day2)\n",
    "  else:\n",
    "    SELL_date2=SELL_date\n",
    "    dates2_SELL.append(SELL_date2)\n",
    "    SELL_day2=row['day_SELL']\n",
    "    days2_SELL.append(SELL_day2)\n",
    "\n",
    "\n",
    "transactions['date_SELL_fix']=dates2_SELL\n",
    "transactions['day_SELL_fix']=days2_SELL\n",
    "\n",
    "# transactions=weekend2weekday(transactions,'date_BUY','day_BUY' )"
   ]
  },
  {
   "cell_type": "markdown",
   "metadata": {},
   "source": [
    "### Sharpe Ratio "
   ]
  },
  {
   "cell_type": "code",
   "execution_count": null,
   "metadata": {},
   "outputs": [],
   "source": [
    "l_sharpe=list()\n",
    "for index,row in transactions.iterrows():\n",
    "    comp=row['company']\n",
    "    buy_date=row['date_BUY_fix']\n",
    "    company_pos=companies.index(comp)\n",
    "    r = l_returns\n",
    "    try:\n",
    "        df_company_returns = pd.DataFrame(l_returns[company_pos])\n",
    "        r=df_company_returns[\"returns\"]\n",
    "        sr = r.mean()/r.std() * np.sqrt(252)\n",
    "        sr= l_volatilities[company_pos].loc[buy_date, 'Volatility']\n",
    "    except :\n",
    "        sr=np.NaN\n",
    "        \n",
    "    l_sharpe.append(sr)\n",
    "    \n",
    "print(len(l_sharpe))\n",
    "\n",
    "\n",
    "transactions['Sharpe Ratio'] = l_sharpe"
   ]
  },
  {
   "cell_type": "code",
   "execution_count": null,
   "metadata": {
    "code_folding": [],
    "executionInfo": {
     "elapsed": 29566,
     "status": "ok",
     "timestamp": 1609188921500,
     "user": {
      "displayName": "Daniel Dabdub",
      "photoUrl": "https://lh6.googleusercontent.com/-qKoV5H3Fw5M/AAAAAAAAAAI/AAAAAAAAZro/jARb9IjBWek/s64/photo.jpg",
      "userId": "06642504652143825936"
     },
     "user_tz": 360
    },
    "id": "eeaj5M8p0AGd"
   },
   "outputs": [],
   "source": [
    "#checking for holidays (NYSE, NASDAQ is closed)\n",
    "cal = USFederalHolidayCalendar()\n",
    "holidays = cal.holidays(start='2010-10-10', end='2020-10-10').to_pydatetime()\n",
    "# if datetime.datetime(2014,01,01) in holidays:\n",
    "#     print True \n",
    "\n",
    "l_holidays=list()\n",
    "for d in dates2_SELL:\n",
    "  if d in holidays:\n",
    "    holiday='Holiday'\n",
    "    l_holidays.append(holiday)\n",
    "\n",
    "  else:\n",
    "    holiday=''\n",
    "    l_holidays.append(holiday)\n",
    "\n",
    "transactions['holiday_SELL']=l_holidays"
   ]
  },
  {
   "cell_type": "markdown",
   "metadata": {
    "id": "dPCAZSku2UZv"
   },
   "source": [
    "## Prices - SELL"
   ]
  },
  {
   "cell_type": "code",
   "execution_count": null,
   "metadata": {
    "code_folding": [],
    "executionInfo": {
     "elapsed": 34374,
     "status": "ok",
     "timestamp": 1609188926315,
     "user": {
      "displayName": "Daniel Dabdub",
      "photoUrl": "https://lh6.googleusercontent.com/-qKoV5H3Fw5M/AAAAAAAAAAI/AAAAAAAAZro/jARb9IjBWek/s64/photo.jpg",
      "userId": "06642504652143825936"
     },
     "user_tz": 360
    },
    "id": "aiHO2dB-2UZy"
   },
   "outputs": [],
   "source": [
    "#price when sold\n",
    "\n",
    "l_sell_prices=list()\n",
    "for index,row in transactions.iterrows():\n",
    "  comp=row['company']\n",
    "  sell_date=row['date_SELL_fix']\n",
    "  company_pos=companies.index(comp)\n",
    "  try:\n",
    "    price=l_companies_prices[company_pos].loc[sell_date,'Adj Close']\n",
    "  except :\n",
    "    price=np.NaN\n",
    "\n",
    "  l_sell_prices.append(price)\n",
    "\n",
    "transactions['price_SELL']=l_sell_prices\n"
   ]
  },
  {
   "cell_type": "code",
   "execution_count": null,
   "metadata": {},
   "outputs": [],
   "source": [
    "l_volatility_sell=list()\n",
    "for index,row in transactions.iterrows():\n",
    "    comp=row['company']\n",
    "    sell_date=row['date_SELL_fix']\n",
    "    company_pos=companies.index(comp)\n",
    "    try:\n",
    "        volatility=l_volatilities[company_pos].loc[sell_date,'Volatility']\n",
    "    except :\n",
    "        volatility=np.NaN\n",
    "\n",
    "        \n",
    "    l_volatility_sell.append(volatility)\n",
    "\n",
    "transactions['Volatility_sell']=l_volatility_sell"
   ]
  },
  {
   "cell_type": "code",
   "execution_count": null,
   "metadata": {
    "executionInfo": {
     "elapsed": 34374,
     "status": "ok",
     "timestamp": 1609188926324,
     "user": {
      "displayName": "Daniel Dabdub",
      "photoUrl": "https://lh6.googleusercontent.com/-qKoV5H3Fw5M/AAAAAAAAAAI/AAAAAAAAZro/jARb9IjBWek/s64/photo.jpg",
      "userId": "06642504652143825936"
     },
     "user_tz": 360
    },
    "id": "ris0TnWH0AGf"
   },
   "outputs": [],
   "source": [
    "transactions_h=transactions[transactions.holiday_SELL=='Holiday']\n",
    "transactions=transactions[transactions.holiday_SELL!='Holiday']"
   ]
  },
  {
   "cell_type": "markdown",
   "metadata": {},
   "source": [
    "# Dataset transactions - review missing values"
   ]
  },
  {
   "cell_type": "code",
   "execution_count": null,
   "metadata": {
    "colab": {
     "base_uri": "https://localhost:8080/",
     "height": 593
    },
    "executionInfo": {
     "elapsed": 34363,
     "status": "ok",
     "timestamp": 1609188926326,
     "user": {
      "displayName": "Daniel Dabdub",
      "photoUrl": "https://lh6.googleusercontent.com/-qKoV5H3Fw5M/AAAAAAAAAAI/AAAAAAAAZro/jARb9IjBWek/s64/photo.jpg",
      "userId": "06642504652143825936"
     },
     "user_tz": 360
    },
    "id": "NGLjROHC1p0r",
    "outputId": "ecaa5c8a-6142-445a-83d2-7647546f4f0a"
   },
   "outputs": [],
   "source": [
    "transactions"
   ]
  },
  {
   "cell_type": "code",
   "execution_count": null,
   "metadata": {},
   "outputs": [],
   "source": [
    "print(transactions.isnull().values.sum())\n",
    "transactions.isnull().sum()\n"
   ]
  },
  {
   "cell_type": "code",
   "execution_count": null,
   "metadata": {},
   "outputs": [],
   "source": [
    "df_review=transactions.copy()\n",
    "print('original    :',df_review.shape[0])\n",
    "print('without NAN :',df_review.dropna().shape[0])\n",
    "print('rows with NAN: ',df_review.shape[0]-df_review.dropna().shape[0])"
   ]
  },
  {
   "cell_type": "code",
   "execution_count": null,
   "metadata": {},
   "outputs": [],
   "source": [
    "transactions=transactions.dropna()"
   ]
  },
  {
   "cell_type": "code",
   "execution_count": null,
   "metadata": {},
   "outputs": [],
   "source": [
    "transactions.shape"
   ]
  },
  {
   "cell_type": "markdown",
   "metadata": {},
   "source": [
    "Now, getting only relevant columns"
   ]
  },
  {
   "cell_type": "code",
   "execution_count": null,
   "metadata": {
    "executionInfo": {
     "elapsed": 34353,
     "status": "ok",
     "timestamp": 1609188926328,
     "user": {
      "displayName": "Daniel Dabdub",
      "photoUrl": "https://lh6.googleusercontent.com/-qKoV5H3Fw5M/AAAAAAAAAAI/AAAAAAAAZro/jARb9IjBWek/s64/photo.jpg",
      "userId": "06642504652143825936"
     },
     "user_tz": 360
    },
    "id": "b4g2aZUK1s10"
   },
   "outputs": [],
   "source": [
    "transactions_ready=transactions[['company','sector','horizon (days)','amount','date_BUY_fix','date_SELL_fix','price_BUY','price_SELL','Volatility_Buy','Volatility_sell', 'Sharpe Ratio', 'expected_return (yearly)']]"
   ]
  },
  {
   "cell_type": "code",
   "execution_count": null,
   "metadata": {
    "colab": {
     "base_uri": "https://localhost:8080/",
     "height": 406
    },
    "executionInfo": {
     "elapsed": 34339,
     "status": "ok",
     "timestamp": 1609188926329,
     "user": {
      "displayName": "Daniel Dabdub",
      "photoUrl": "https://lh6.googleusercontent.com/-qKoV5H3Fw5M/AAAAAAAAAAI/AAAAAAAAZro/jARb9IjBWek/s64/photo.jpg",
      "userId": "06642504652143825936"
     },
     "user_tz": 360
    },
    "id": "SUxoiReY2iyP",
    "outputId": "b5cada1c-a704-48cb-d012-dc7967105e65"
   },
   "outputs": [],
   "source": [
    "transactions_ready"
   ]
  },
  {
   "cell_type": "markdown",
   "metadata": {},
   "source": [
    "# Evaluating investment performance "
   ]
  },
  {
   "cell_type": "markdown",
   "metadata": {},
   "source": [
    "## Inflation\n",
    "As investors, we seek to at least beat the rate of inflation. "
   ]
  },
  {
   "cell_type": "code",
   "execution_count": null,
   "metadata": {},
   "outputs": [],
   "source": [
    "inflation_ratios=pd.read_csv('ratios_inflation.csv', index_col=False)\n",
    "# inflation_ratios['Year'] = pd.to_datetime(inflation_ratios['Year'], format='%Y')\n",
    "\n",
    "inflation_ratios=inflation_ratios.set_index('Year')\n",
    "\n",
    "# inflation.info()"
   ]
  },
  {
   "cell_type": "code",
   "execution_count": null,
   "metadata": {},
   "outputs": [],
   "source": [
    "inflation_ratios.loc[2017,'Tasa_inflacion']"
   ]
  },
  {
   "cell_type": "code",
   "execution_count": null,
   "metadata": {
    "scrolled": true
   },
   "outputs": [],
   "source": [
    "l_inflation=list()\n",
    "for index,row in transactions_ready.iterrows():\n",
    "    buy_date=row['date_BUY_fix']\n",
    "    buy_date_str=str(buy_date)\n",
    "    year=int(buy_date_str[:4])\n",
    "    try:\n",
    "        inflation=inflation_ratios.loc[year,'Tasa_inflacion']\n",
    "    except :\n",
    "        inflation=np.NaN\n",
    "\n",
    "    l_inflation.append(inflation)\n",
    "\n",
    "transactions_ready['inflation']=l_inflation\n"
   ]
  },
  {
   "cell_type": "code",
   "execution_count": null,
   "metadata": {},
   "outputs": [],
   "source": [
    "transactions_ready.isnull().sum"
   ]
  },
  {
   "cell_type": "code",
   "execution_count": null,
   "metadata": {},
   "outputs": [],
   "source": [
    "transactions_ready"
   ]
  },
  {
   "cell_type": "markdown",
   "metadata": {
    "id": "TCtM8tNYNmYm"
   },
   "source": [
    "## Real Profit/Loss (Rentabilidad Real)"
   ]
  },
  {
   "cell_type": "code",
   "execution_count": null,
   "metadata": {
    "executionInfo": {
     "elapsed": 34319,
     "status": "ok",
     "timestamp": 1609188926331,
     "user": {
      "displayName": "Daniel Dabdub",
      "photoUrl": "https://lh6.googleusercontent.com/-qKoV5H3Fw5M/AAAAAAAAAAI/AAAAAAAAZro/jARb9IjBWek/s64/photo.jpg",
      "userId": "06642504652143825936"
     },
     "user_tz": 360
    },
    "id": "pI9ZvEawJOzF"
   },
   "outputs": [],
   "source": [
    "    transactions_ready['nominal_return']=(transactions_ready['price_SELL']-transactions_ready['price_BUY'])/transactions_ready['price_BUY']\n"
   ]
  },
  {
   "cell_type": "code",
   "execution_count": null,
   "metadata": {
    "colab": {
     "base_uri": "https://localhost:8080/",
     "height": 406
    },
    "executionInfo": {
     "elapsed": 34576,
     "status": "ok",
     "timestamp": 1609188926600,
     "user": {
      "displayName": "Daniel Dabdub",
      "photoUrl": "https://lh6.googleusercontent.com/-qKoV5H3Fw5M/AAAAAAAAAAI/AAAAAAAAZro/jARb9IjBWek/s64/photo.jpg",
      "userId": "06642504652143825936"
     },
     "user_tz": 360
    },
    "id": "HfBIf6V73S-r",
    "outputId": "fd9882ac-b239-4b3f-95c0-d15c8271e882"
   },
   "outputs": [],
   "source": [
    "transactions_ready"
   ]
  },
  {
   "cell_type": "code",
   "execution_count": null,
   "metadata": {},
   "outputs": [],
   "source": [
    "transactions_ready.isnull().sum()"
   ]
  },
  {
   "cell_type": "code",
   "execution_count": null,
   "metadata": {
    "executionInfo": {
     "elapsed": 37970,
     "status": "ok",
     "timestamp": 1609188930005,
     "user": {
      "displayName": "Daniel Dabdub",
      "photoUrl": "https://lh6.googleusercontent.com/-qKoV5H3Fw5M/AAAAAAAAAAI/AAAAAAAAZro/jARb9IjBWek/s64/photo.jpg",
      "userId": "06642504652143825936"
     },
     "user_tz": 360
    },
    "id": "oMPPkBF43WS6"
   },
   "outputs": [],
   "source": [
    "transactions_ready['investment']=''\n",
    "investments=list()\n",
    "for index, row in transactions_ready.iterrows():\n",
    "    inflation=row['inflation']\n",
    "    if inflation <0:\n",
    "        if row['nominal_return']>0:\n",
    "            inv='GOOD'\n",
    "            investments.append(inv)\n",
    "        elif row['nominal_return']<0:\n",
    "            inv='BAD'\n",
    "            investments.append(inv)\n",
    "        else:\n",
    "            inv='BAD'\n",
    "            investments.append(inv)\n",
    "    else:\n",
    "        if row['nominal_return']>inflation:\n",
    "            inv='GOOD'\n",
    "            investments.append(inv)\n",
    "        elif row['nominal_return']<inflation:\n",
    "            inv='BAD'\n",
    "            investments.append(inv)\n",
    "        else:\n",
    "            inv='BAD'\n",
    "            investments.append(inv)\n",
    "        \n",
    "\n",
    "transactions_ready['investment']=investments"
   ]
  },
  {
   "cell_type": "code",
   "execution_count": null,
   "metadata": {
    "colab": {
     "base_uri": "https://localhost:8080/"
    },
    "executionInfo": {
     "elapsed": 37970,
     "status": "ok",
     "timestamp": 1609188930010,
     "user": {
      "displayName": "Daniel Dabdub",
      "photoUrl": "https://lh6.googleusercontent.com/-qKoV5H3Fw5M/AAAAAAAAAAI/AAAAAAAAZro/jARb9IjBWek/s64/photo.jpg",
      "userId": "06642504652143825936"
     },
     "user_tz": 360
    },
    "id": "HLxLIHoC7hdq",
    "outputId": "12a5a09a-6740-431c-bd45-1102248559df"
   },
   "outputs": [],
   "source": [
    "transactions_ready.shape"
   ]
  },
  {
   "cell_type": "code",
   "execution_count": null,
   "metadata": {
    "colab": {
     "base_uri": "https://localhost:8080/",
     "height": 406
    },
    "executionInfo": {
     "elapsed": 37962,
     "status": "ok",
     "timestamp": 1609188930012,
     "user": {
      "displayName": "Daniel Dabdub",
      "photoUrl": "https://lh6.googleusercontent.com/-qKoV5H3Fw5M/AAAAAAAAAAI/AAAAAAAAZro/jARb9IjBWek/s64/photo.jpg",
      "userId": "06642504652143825936"
     },
     "user_tz": 360
    },
    "id": "KuB-l84A5UBj",
    "outputId": "c10c22e3-1d19-4cfb-f88a-339746337716",
    "scrolled": true
   },
   "outputs": [],
   "source": [
    "transactions_ready"
   ]
  },
  {
   "cell_type": "code",
   "execution_count": null,
   "metadata": {
    "colab": {
     "base_uri": "https://localhost:8080/"
    },
    "executionInfo": {
     "elapsed": 37954,
     "status": "ok",
     "timestamp": 1609188930014,
     "user": {
      "displayName": "Daniel Dabdub",
      "photoUrl": "https://lh6.googleusercontent.com/-qKoV5H3Fw5M/AAAAAAAAAAI/AAAAAAAAZro/jARb9IjBWek/s64/photo.jpg",
      "userId": "06642504652143825936"
     },
     "user_tz": 360
    },
    "id": "LRm2-G1j5vDK",
    "outputId": "9a0958f9-29a5-425f-937c-f682b59a0b56"
   },
   "outputs": [],
   "source": [
    "transactions_ready.investment.value_counts()"
   ]
  },
  {
   "cell_type": "markdown",
   "metadata": {},
   "source": [
    "# Ratios"
   ]
  },
  {
   "cell_type": "markdown",
   "metadata": {},
   "source": [
    "## ESG Ratios"
   ]
  },
  {
   "cell_type": "code",
   "execution_count": null,
   "metadata": {},
   "outputs": [],
   "source": [
    "len(ESG_ratios_fix)"
   ]
  },
  {
   "cell_type": "code",
   "execution_count": null,
   "metadata": {},
   "outputs": [],
   "source": [
    "companies[3]"
   ]
  },
  {
   "cell_type": "code",
   "execution_count": null,
   "metadata": {},
   "outputs": [],
   "source": [
    "ESG_ratios_fix"
   ]
  },
  {
   "cell_type": "code",
   "execution_count": null,
   "metadata": {},
   "outputs": [],
   "source": [
    "transactions_ready['ESG_ranking']=0\n",
    "\n",
    "for index, row in transactions_ready.iterrows():\n",
    "    company=row['company']\n",
    "    ind_comp=companies.index(company)\n",
    "    ESG_ratio= ESG_ratios_fix[ind_comp]\n",
    "    transactions_ready.loc[index, 'ESG_ranking']=ESG_ratio\n",
    "            "
   ]
  },
  {
   "cell_type": "code",
   "execution_count": null,
   "metadata": {},
   "outputs": [],
   "source": [
    "transactions_ready"
   ]
  },
  {
   "cell_type": "code",
   "execution_count": null,
   "metadata": {},
   "outputs": [],
   "source": [
    "transactions_ready.loc[4,'date_BUY_fix']"
   ]
  },
  {
   "cell_type": "code",
   "execution_count": null,
   "metadata": {},
   "outputs": [],
   "source": [
    "pe_ratios_collection= pickle.load(open('pe_ratios_collection.p', \"rb\" ))"
   ]
  },
  {
   "cell_type": "code",
   "execution_count": null,
   "metadata": {},
   "outputs": [],
   "source": [
    "valor=pe_ratios_collection['AAPL'][pe_ratios_collection['AAPL']['Date']=='2020-09'].PE_Ratio.values[0]\n",
    "float(valor)"
   ]
  },
  {
   "cell_type": "code",
   "execution_count": null,
   "metadata": {},
   "outputs": [],
   "source": [
    "#getting nearest date before investment.\n",
    "def nearest(items, pivot):\n",
    "    return min([i for i in items if i < pivot], key=lambda x: abs(x - pivot))"
   ]
  },
  {
   "cell_type": "code",
   "execution_count": null,
   "metadata": {},
   "outputs": [],
   "source": [
    "l_PE_ratios=list()\n",
    "for index, row in transactions_ready.iterrows():\n",
    "    year=row['date_BUY_fix']\n",
    "    company=row['company']\n",
    "    \n",
    "    try:\n",
    "        ratios_company=pe_ratios_collection[company]\n",
    "        date=nearest(ratios_company['Date'].dropna(),year)\n",
    "    \n",
    "        try:\n",
    "            PE_ratio_str=pe_ratios_collection[company][pe_ratios_collection[company]['Date']==date].PE_Ratio.values[0]\n",
    "            PE_ratio=float(PE_ratio_str)\n",
    "        except:\n",
    "            #se puede asignar un cero si hace falta.\n",
    "            PE_ratio=np.NaN\n",
    "            \n",
    "    except:\n",
    "        PE_ratio=Decimal('nan')\n",
    "    \n",
    "    l_PE_ratios.append(PE_ratio)"
   ]
  },
  {
   "cell_type": "code",
   "execution_count": null,
   "metadata": {},
   "outputs": [],
   "source": [
    "transactions_ready['PE_ratio']=l_PE_ratios"
   ]
  },
  {
   "cell_type": "code",
   "execution_count": null,
   "metadata": {},
   "outputs": [],
   "source": [
    "transactions_ready"
   ]
  },
  {
   "cell_type": "markdown",
   "metadata": {},
   "source": [
    "## EPS Ratio"
   ]
  },
  {
   "cell_type": "code",
   "execution_count": null,
   "metadata": {},
   "outputs": [],
   "source": [
    "import re"
   ]
  },
  {
   "cell_type": "code",
   "execution_count": null,
   "metadata": {},
   "outputs": [],
   "source": [
    "l_EPS_ratios=list()\n",
    "for index, row in transactions_ready.iterrows():\n",
    "    year=row['date_BUY_fix']\n",
    "    company=row['company']\n",
    "\n",
    "    try:\n",
    "        ratios_company=pe_ratios_collection[company]\n",
    "        date=nearest(ratios_company['Date'].dropna(),row['date_BUY_fix'])\n",
    "    \n",
    "        try:\n",
    "            EPS_ratio_str=pe_ratios_collection[company][pe_ratios_collection[company]['Date']==date].TTM_Net_EPS.values[0]\n",
    "            EPS_ratio_str=re.sub('[%$B]', '',EPS_ratio_str)\n",
    "        \n",
    "            EPS_ratio=float(EPS_ratio_str)\n",
    "        except:\n",
    "            #se puede asignar un cero si hace falta.\n",
    "            EPS_ratio=np.NaN\n",
    "            \n",
    "    except:\n",
    "        EPS_ratio=np.NaN\n",
    "    \n",
    "    l_EPS_ratios.append(EPS_ratio)"
   ]
  },
  {
   "cell_type": "code",
   "execution_count": null,
   "metadata": {},
   "outputs": [],
   "source": [
    "transactions_ready['EPS_ratio']=l_EPS_ratios"
   ]
  },
  {
   "cell_type": "markdown",
   "metadata": {},
   "source": [
    "## PS Ratio"
   ]
  },
  {
   "cell_type": "code",
   "execution_count": null,
   "metadata": {},
   "outputs": [],
   "source": [
    "ps_ratios_collection= pickle.load(open('ps_ratios_collection.p', \"rb\" ))\n"
   ]
  },
  {
   "cell_type": "code",
   "execution_count": null,
   "metadata": {},
   "outputs": [],
   "source": [
    "l_PS_ratios=list()\n",
    "for index, row in transactions_ready.iterrows():\n",
    "    year=row['date_BUY_fix']\n",
    "    company=row['company']\n",
    "    \n",
    "    try:\n",
    "        ratios_company=ps_ratios_collection[company]\n",
    "        date=nearest(ratios_company['Date'].dropna(),year)\n",
    "    \n",
    "        try:\n",
    "            PS_ratio_str=ps_ratios_collection[company][ps_ratios_collection[company]['Date']==date].Price_to_Sales_Ratio.values[0]\n",
    "            PS_ratio=float(PS_ratio_str)\n",
    "        except:\n",
    "            #se puede asignar un cero si hace falta.\n",
    "            PS_ratio= np.NaN\n",
    "            \n",
    "    except:\n",
    "        PS_ratio=np.NaN\n",
    "    \n",
    "    l_PS_ratios.append(PS_ratio)\n",
    "\n",
    "    \n",
    "transactions_ready['PS_ratio']=l_PS_ratios"
   ]
  },
  {
   "cell_type": "markdown",
   "metadata": {},
   "source": [
    "## PB Ratio"
   ]
  },
  {
   "cell_type": "code",
   "execution_count": null,
   "metadata": {},
   "outputs": [],
   "source": [
    "pb_ratios_collection= pickle.load(open('pb_ratios_collection.p', \"rb\" ))"
   ]
  },
  {
   "cell_type": "code",
   "execution_count": null,
   "metadata": {},
   "outputs": [],
   "source": [
    "l_PB_ratios=list()\n",
    "for index, row in transactions_ready.iterrows():\n",
    "    year=row['date_BUY_fix']\n",
    "    company=row['company']\n",
    "    \n",
    "    try:\n",
    "        ratios_company=pb_ratios_collection[company]\n",
    "        date=nearest(ratios_company['Date'].dropna(),year)\n",
    "    \n",
    "        try:\n",
    "            PB_ratio_str=pb_ratios_collection[company][pb_ratios_collection[company]['Date']==date].Price_to_Book_Ratio.values[0]\n",
    "            PB_ratio=float(PB_ratio_str)\n",
    "        except:\n",
    "            #se puede asignar un cero si hace falta.\n",
    "            PB_ratio= np.NaN\n",
    "            \n",
    "    except:\n",
    "        PB_ratio=np.NaN\n",
    "    \n",
    "    l_PB_ratios.append(PB_ratio)\n",
    "\n",
    "    \n",
    "transactions_ready['PB_ratio']=l_PB_ratios"
   ]
  },
  {
   "cell_type": "markdown",
   "metadata": {},
   "source": [
    "## NetProfitMargin ratio "
   ]
  },
  {
   "cell_type": "code",
   "execution_count": null,
   "metadata": {},
   "outputs": [],
   "source": [
    "NetProfitMargin_ratios_collection= pickle.load(open('NetProfitMargin_ratios_collection.p', \"rb\" ))"
   ]
  },
  {
   "cell_type": "code",
   "execution_count": null,
   "metadata": {
    "tags": [
     "outputPrepend"
    ]
   },
   "outputs": [],
   "source": [
    "l_NetProfitMargin_ratios=list()\n",
    "for index, row in transactions_ready.iterrows():\n",
    "    year=row['date_BUY_fix']\n",
    "    company=row['company']\n",
    "    \n",
    "    try:\n",
    "        ratios_company=NetProfitMargin_ratios_collection[company]\n",
    "        date=nearest(ratios_company['Date'].dropna(),year)\n",
    "        try:                       \n",
    "            NetProfitMargin_ratio_str=NetProfitMargin_ratios_collection[company][NetProfitMargin_ratios_collection[company]['Date']==date].Net_Margin.values[0]\n",
    "            NetProfitMargin_ratio_str=re.sub('[%$B]', '',NetProfitMargin_ratio_str)\n",
    "            NetProfitMargin_ratio=float(NetProfitMargin_ratio_str)\n",
    "        except:\n",
    "            #se puede asignar un cero si hace falta.\n",
    "            NetProfitMargin_ratio= np.NaN        \n",
    "    except:\n",
    "        NetProfitMargin_ratio=np.NaN\n",
    "    \n",
    "    l_NetProfitMargin_ratios.append(NetProfitMargin_ratio)\n",
    "transactions_ready['NetProfitMargin_ratio']=l_NetProfitMargin_ratios"
   ]
  },
  {
   "cell_type": "markdown",
   "metadata": {},
   "source": [
    "## Current Ratio\n"
   ]
  },
  {
   "cell_type": "code",
   "execution_count": null,
   "metadata": {},
   "outputs": [],
   "source": [
    "current_ratios_collection= pickle.load(open('current_ratios_collection.p', \"rb\" ))\n",
    "current_ratios_collection['AAPL'].head()"
   ]
  },
  {
   "cell_type": "code",
   "execution_count": null,
   "metadata": {},
   "outputs": [],
   "source": [
    "l_current_ratios=list()\n",
    "for index, row in transactions_ready.iterrows():\n",
    "    year=row['date_BUY_fix']\n",
    "    company=row['company']\n",
    "    \n",
    "    try:\n",
    "        ratios_company=current_ratios_collection[company]\n",
    "        date=nearest(ratios_company['Date'].dropna(),year)\n",
    "    \n",
    "        try:\n",
    "            current_ratio_str=current_ratios_collection[company][current_ratios_collection[company]['Date']==date].Current_Ratio.values[0]\n",
    "            current_ratio=float(current_ratio_str)\n",
    "        except:\n",
    "            #se puede asignar un cero si hace falta.\n",
    "            current_ratio= np.NaN\n",
    "            \n",
    "    except:\n",
    "        current_ratio=np.NaN\n",
    "    \n",
    "    l_current_ratios.append(current_ratio)\n",
    "\n",
    "    \n",
    "transactions_ready['current_ratio']=l_current_ratios"
   ]
  },
  {
   "cell_type": "markdown",
   "metadata": {},
   "source": [
    "## ROA Ratio"
   ]
  },
  {
   "cell_type": "code",
   "execution_count": null,
   "metadata": {},
   "outputs": [],
   "source": [
    "roa_ratios_collection= pickle.load(open('roa_ratios_collection.p', \"rb\" ))\n",
    "roa_ratios_collection['AAPL'].head()"
   ]
  },
  {
   "cell_type": "code",
   "execution_count": null,
   "metadata": {},
   "outputs": [],
   "source": [
    "l_roa_ratios=list()\n",
    "for index, row in transactions_ready.iterrows():\n",
    "    year=row['date_BUY_fix']\n",
    "    company=row['company']\n",
    "    \n",
    "    try:\n",
    "        ratios_company=roa_ratios_collection[company]\n",
    "        date=nearest(ratios_company['Date'].dropna(),year)\n",
    "    \n",
    "        try:\n",
    "            roa_ratio_str=roa_ratios_collection[company][roa_ratios_collection[company]['Date']==date].Return_on_Assets.values[0]\n",
    "            roa_ratio_str=re.sub('[%$B]','',roa_ratio_str)\n",
    "            roa_ratio=float(roa_ratio_str)\n",
    "        except:\n",
    "            #se puede asignar un cero si hace falta.\n",
    "            roa_ratio= np.NaN\n",
    "            \n",
    "    except:\n",
    "        roa_ratio=np.NaN\n",
    "    \n",
    "    l_roa_ratios.append(roa_ratio)\n",
    "\n",
    "    \n",
    "transactions_ready['roa_ratio']=l_roa_ratios"
   ]
  },
  {
   "cell_type": "markdown",
   "metadata": {},
   "source": [
    "## ROE Ratio"
   ]
  },
  {
   "cell_type": "code",
   "execution_count": null,
   "metadata": {},
   "outputs": [],
   "source": [
    "roe_ratios_collection= pickle.load(open('roe_ratios_collection.p', \"rb\" ))\n",
    "roe_ratios_collection['AAPL'].head()"
   ]
  },
  {
   "cell_type": "code",
   "execution_count": null,
   "metadata": {},
   "outputs": [],
   "source": [
    "l_roe_ratios=list()\n",
    "for index, row in transactions_ready.iterrows():\n",
    "    year=row['date_BUY_fix']\n",
    "    company=row['company']\n",
    "    \n",
    "    try:\n",
    "        ratios_company=roe_ratios_collection[company]\n",
    "        date=nearest(ratios_company['Date'].dropna(),year)\n",
    "    \n",
    "        try:\n",
    "            roe_ratio_str=roe_ratios_collection[company][roe_ratios_collection[company]['Date']==date].Return_on_Equity.values[0]\n",
    "            roe_ratio_str=re.sub('[%$B]','',roe_ratio_str)\n",
    "            roe_ratio=float(roe_ratio_str)\n",
    "        except:\n",
    "            #se puede asignar un cero si hace falta.\n",
    "            roe_ratio= np.NaN\n",
    "            \n",
    "    except:\n",
    "        roe_ratio=np.NaN\n",
    "    \n",
    "    l_roe_ratios.append(roe_ratio)\n",
    "\n",
    "    \n",
    "transactions_ready['roe_ratio']=l_roe_ratios"
   ]
  },
  {
   "cell_type": "markdown",
   "metadata": {},
   "source": [
    "# Final dataset review "
   ]
  },
  {
   "cell_type": "code",
   "execution_count": null,
   "metadata": {},
   "outputs": [],
   "source": [
    "transactions_ready"
   ]
  },
  {
   "cell_type": "code",
   "execution_count": null,
   "metadata": {},
   "outputs": [],
   "source": [
    "print(transactions_ready.isnull().values.sum())\n",
    "transactions_ready.isnull().sum()\n"
   ]
  },
  {
   "cell_type": "code",
   "execution_count": null,
   "metadata": {},
   "outputs": [],
   "source": [
    "df_review=transactions_ready.copy()\n",
    "print('original    :',df_review.shape[0])\n",
    "print('without NAN :',df_review.dropna().shape[0])\n",
    "print('rows with NAN: ',df_review.shape[0]-df_review.dropna().shape[0])"
   ]
  },
  {
   "cell_type": "code",
   "execution_count": null,
   "metadata": {},
   "outputs": [],
   "source": [
    "transactions_ready=transactions_ready.dropna()\n",
    "transactions_ready.shape"
   ]
  },
  {
   "cell_type": "code",
   "execution_count": null,
   "metadata": {},
   "outputs": [],
   "source": [
    "transactions_ready.to_csv('transactions_variables.csv')"
   ]
  },
  {
   "cell_type": "code",
   "execution_count": null,
   "metadata": {},
   "outputs": [],
   "source": []
  }
 ],
 "metadata": {
  "colab": {
   "collapsed_sections": [],
   "name": "Dataset_Transacciones.ipynb",
   "provenance": []
  },
  "kernelspec": {
   "display_name": "Python 3",
   "language": "python",
   "name": "python3"
  },
  "language_info": {
   "codemirror_mode": {
    "name": "ipython",
    "version": 3
   },
   "file_extension": ".py",
   "mimetype": "text/x-python",
   "name": "python",
   "nbconvert_exporter": "python",
   "pygments_lexer": "ipython3",
   "version": "3.8.3"
  }
 },
 "nbformat": 4,
 "nbformat_minor": 1
}
